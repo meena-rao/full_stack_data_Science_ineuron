{
 "cells": [
  {
   "cell_type": "markdown",
   "id": "5aacde08",
   "metadata": {},
   "source": [
    "### SOLUTION to Qn1."
   ]
  },
  {
   "cell_type": "code",
   "execution_count": 3,
   "id": "34c16766",
   "metadata": {},
   "outputs": [
    {
     "name": "stdout",
     "output_type": "stream",
     "text": [
      "check_score([['X'], ['!']]) ---> 0\n"
     ]
    }
   ],
   "source": [
    "\"\"\"1. Write a function that takes a list of lists and returns the value of all of the symbols in it, where each symbol adds or takes something from the total score. Symbol values:\n",
    "# = 5    O = 3   X = 1   ! = -1      !! = -3         !!! = -5\n",
    "A list of lists containing 2 #s, a O, and a !!! would equal (0 + 5 + 5 + 3 - 5) 8.\n",
    "If the final score is negative, return 0 (e.g. 3 #s, 3 !!s, 2 !!!s and a X would be (0 + 5 + 5 + 5 - 3 - 3 - 3 - 5 - 5 + 1) -3, so return 0.\n",
    "\n",
    "Examples\n",
    "check_score([  [\"#\", \"!\"],  [\"!!\", \"X\"]]) ➞ 2 (because 5-1-3+1)\"\"\"\n",
    "\n",
    "#SOLUTION\n",
    "dic = {\"#\" : 5, \"O\" : 3, \"X\" : 1, '!' : -1, \"!!\" : -3, \"!!!\" : -5}\n",
    "       \n",
    "def add_f(l):\n",
    "    \"\"\"add symbolic values of list of lists \"\"\"\n",
    "    res = 0\n",
    "    for el in l:\n",
    "        for sub_el in range(len(el)):\n",
    "            res =res + dic[el[sub_el]]\n",
    "    return res\n",
    "\n",
    "l = [['X'], [\"!\"]]\n",
    "r = add_f(l)\n",
    "\n",
    "if r <0 :\n",
    "    print(f\"check_score({l}) ---> 0\")\n",
    "else:\n",
    "    print(f\"check_score({l}) ---> {r}\")"
   ]
  },
  {
   "cell_type": "code",
   "execution_count": 1,
   "id": "a4f3b05d",
   "metadata": {},
   "outputs": [
    {
     "data": {
      "text/plain": [
       "6"
      ]
     },
     "execution_count": 1,
     "metadata": {},
     "output_type": "execute_result"
    }
   ],
   "source": [
    "'''#2. Create a function that takes a variable number of arguments, each argument representing the number of items in a group, \n",
    "and returns the number of permutations (combinations) of items that you could get by taking one item from each group.\n",
    "Examples\n",
    "combinations(2, 3) ➞ 6\n",
    "combinations(3, 7, 4) ➞ 84\n",
    "combinations(2, 3, 4, 5) ➞ 120 '''\n",
    "def comb(*argc):\n",
    "    r =1;\n",
    "    for i in argc:\n",
    "        r =r*i\n",
    "    return r\n",
    "comb(2,3)"
   ]
  },
  {
   "cell_type": "code",
   "execution_count": 6,
   "id": "e40fcb84",
   "metadata": {},
   "outputs": [
    {
     "data": {
      "text/plain": [
       "'.--...-.-.'"
      ]
     },
     "execution_count": 6,
     "metadata": {},
     "output_type": "execute_result"
    }
   ],
   "source": [
    "\"\"\"#3. Create a function that takes a string as an argument and returns the Morse code equivalent.\"\"\"\n",
    "char_to_dots = {\n",
    "  'A': '.-', 'B': '-...', 'C': '-.-.', 'D': '-..', 'E': '.', 'F': '..-.',   'G': '--.', 'H': '....', 'I': '..', 'J': '.---', 'K': '-.-', 'L': '.-..',\n",
    "  'M': '--', 'N': '-.', 'O': '---', 'P': '.--.', 'Q': '--.-', 'R': '.-.', 'S': '...', 'T': '-', 'U': '..-', 'V': '...-', 'W': '.--', 'X': '-..-',\n",
    "  'Y': '-.--', 'Z': '--..', ' ': ' ', '0': '-----',   '1': '.----', '2': '..---', '3': '...--', '4': '....-', '5': '.....',\n",
    "  '6': '-....', '7': '--...', '8': '---..', '9': '----.',   '&': '.-...', \"'\": '.----.', '@': '.--.-.', ')': '-.--.-', '(': '-.--.',\n",
    "  ':': '---...', ',': '--..--', '=': '-...-', '!': '-.-.--', '.': '.-.-.-',   '-': '-....-', '+': '.-.-.', '\"': '.-..-.', '?': '..--..', '/': '-..-.' }\n",
    "\n",
    "def con(s):\n",
    "    l = ''\n",
    "    for i in s:\n",
    "        l= l+char_to_dots[i]\n",
    "    return l\n",
    "\n",
    "con(\"ABC\")"
   ]
  },
  {
   "cell_type": "code",
   "execution_count": 1,
   "id": "25fa9e53",
   "metadata": {},
   "outputs": [
    {
     "name": "stdout",
     "output_type": "stream",
     "text": [
      "enter number17\n",
      "True --->17 is PRIME \n"
     ]
    }
   ],
   "source": [
    "\"\"\" #4. Write a function that takes a number and returns True if it's a prime; False otherwise \"\"\"\n",
    "def prime(n):\n",
    "    for i in range(2, n//2):\n",
    "        if( n%i == 0):\n",
    "            flag = False\n",
    "            break;\n",
    "    else:\n",
    "        flag = True\n",
    "    return flag      \n",
    "\n",
    "try:\n",
    "    a = int(input(\"enter number\"))\n",
    "    if a <=1:\n",
    "        print(f'{a} is not prime')\n",
    "    else:\n",
    "        print(f'{prime(a)} --->{a} is PRIME ')        \n",
    "except Exception as V:\n",
    "    print(V)"
   ]
  },
  {
   "cell_type": "code",
   "execution_count": 19,
   "id": "b32c0496",
   "metadata": {
    "scrolled": true
   },
   "outputs": [
    {
     "name": "stdout",
     "output_type": "stream",
     "text": [
      "boolean(\"ineuron\") = [True, False, True, True, False, True, False] = [1, 0, 1, 1, 0, 1, 0] = position[9, 14, 5, 21, 18, 15, 14]\n",
      "boolean(\"abc\") = [True, False, True] = [1, 0, 1] = position[1, 2, 3]\n"
     ]
    }
   ],
   "source": [
    "'''#5. Create a function that converts a word to a bitstring and then to a boolean list based on the following criteria:\n",
    "1. Locate the position of the letter in the English alphabet (from 1 to 26).\n",
    "2. Odd positions will be represented as 1 and 0 otherwise.\n",
    "3. Convert the represented positions to boolean values, 1 for True and 0 for False.'''\n",
    "alphabet = \"abcdefghijklmnopqrstuvwxyz\"\n",
    "def boolean(s):\n",
    "    lis = []\n",
    "    for letter in s:\n",
    "        lis.append(bool((alphabet.index(letter)+1)%2))\n",
    "    return lis\n",
    "\n",
    "re = boolean(\"abc\")\n",
    "\n",
    "def ozero(l):\n",
    "    onezero =[]\n",
    "    for i in l:\n",
    "        if i ==True:\n",
    "            onezero.append(1)\n",
    "        else:\n",
    "            onezero.append(0)\n",
    "    return onezero\n",
    "\n",
    "def place(s):\n",
    "    pl =[]\n",
    "    for i in s:\n",
    "        pl.append((alphabet.index(i)+1)%26)\n",
    "    return pl\n",
    "\n",
    "print(f'boolean(\"ineuron\") = {boolean(\"ineuron\")} = {ozero(boolean(\"ineuron\"))} = position{place(\"ineuron\")}')\n",
    "print(f'boolean(\"abc\") = {boolean(\"abc\")} = {ozero(boolean(\"abc\"))} = position{place(\"abc\")}')"
   ]
  }
 ],
 "metadata": {
  "kernelspec": {
   "display_name": "Python 3",
   "language": "python",
   "name": "python3"
  },
  "language_info": {
   "codemirror_mode": {
    "name": "ipython",
    "version": 3
   },
   "file_extension": ".py",
   "mimetype": "text/x-python",
   "name": "python",
   "nbconvert_exporter": "python",
   "pygments_lexer": "ipython3",
   "version": "3.8.10"
  }
 },
 "nbformat": 4,
 "nbformat_minor": 5
}
