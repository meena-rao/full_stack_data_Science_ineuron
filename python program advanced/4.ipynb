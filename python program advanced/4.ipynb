{
 "cells": [
  {
   "cell_type": "code",
   "execution_count": 11,
   "id": "f5512b24",
   "metadata": {},
   "outputs": [
    {
     "name": "stdout",
     "output_type": "stream",
     "text": [
      "fib_fast(5) = 5\n",
      "fib_fast(10) = 55\n",
      "fib_fast(50 = 12586269025\n"
     ]
    }
   ],
   "source": [
    "'''1. In mathematics, the Fibonacci numbers, commonly denoted Fn, form a sequence, called the Fibonacci sequence, \n",
    "such that each number is the sum of the two preceding ones, starting from 0 and 1:\n",
    "The beginning of the sequence is this:\n",
    "0, 1, 1, 2, 3, 5, 8, 13, 21, 34, 55, 89, 144, ...\n",
    "The function fastFib(num) returns the fibonacci number Fn, of the given num as an argument.\n",
    "Examples\n",
    "fib_fast(5) ➞ 5\n",
    "fib_fast(10) ➞ 55\n",
    "fib_fast(20) ➞ 6765\n",
    "fib_fast(50) ➞ 12586269025'''\n",
    "\n",
    "def fib_fast(n):\n",
    "    f1,f2=0,1\n",
    "    li = []\n",
    "    li.append(0)\n",
    "    li.append(1)\n",
    "    for i in range(2,n):\n",
    "        f1,f2=f2,f1+f2\n",
    "        li.append(f1+f2)\n",
    "    return li[-1]\n",
    "\n",
    "print('fib_fast(5) = {}'.format(fib_fast(5)))\n",
    "print('fib_fast(10) = {}'.format(fib_fast(10)))\n",
    "print('fib_fast(50 = {}'.format(fib_fast(50)))"
   ]
  },
  {
   "cell_type": "code",
   "execution_count": 18,
   "id": "59ff1ac3",
   "metadata": {},
   "outputs": [
    {
     "name": "stdout",
     "output_type": "stream",
     "text": [
      "convert_to_hex(\"hello world\") = 68 65 6c 6c 6f 20 77 6f 72 6c 64\n",
      "convert_to_hex(\"Big Boi\") = 42 69 67 20 42 6f 69\n",
      "convert_to_hex(\"Marty Poppinson\") = 4d 61 72 74 79 20 50 6f 70 70 69 6e 73 6f 6e\n"
     ]
    }
   ],
   "source": [
    "'''2. Create a function that takes a strings characters as ASCII and returns each characters hexadecimal value as a string.\n",
    "\n",
    "Examples\n",
    "\n",
    "convert_to_hex(\"hello world\") ➞ \"68 65 6c 6c 6f 20 77 6f 72 6c 64\"\n",
    "convert_to_hex(\"Big Boi\") ➞ \"42 69 67 20 42 6f 69\"\n",
    "convert_to_hex(\"Marty Poppinson\") ➞ \"4d 61 72 74 79 20 50 6f 70 70 69 6e 73 6f 6e\"'''\n",
    "\n",
    "def convert_to_hex(s):\n",
    "    s_hex = []\n",
    "    for i in s:\n",
    "        s_hex.append(i.encode(\"utf-8\").hex())\n",
    "\n",
    "    return ' '.join(s_hex)    \n",
    "\n",
    "print('convert_to_hex(\"hello world\") = {}'.format(convert_to_hex(\"hello world\")))\n",
    "print('convert_to_hex(\"Big Boi\") = {}'.format(convert_to_hex(\"Big Boi\")))\n",
    "print('convert_to_hex(\"Marty Poppinson\") = {}'.format(convert_to_hex(\"Marty Poppinson\")))"
   ]
  },
  {
   "cell_type": "code",
   "execution_count": 38,
   "id": "6e55cf56",
   "metadata": {},
   "outputs": [
    {
     "name": "stdout",
     "output_type": "stream",
     "text": [
      "uncensor(\"Wh*r* d*d my v*w*ls g*?\", \"eeioeo\") = Where did my vowels go?\n",
      "uncensor(\"abcd\", \"\") = abcd\n",
      "uncensor(\"*PP*RC*S*\", \"UEAE\") = UPPERCASE\n"
     ]
    }
   ],
   "source": [
    "'''3. Someone has attempted to censor my strings by replacing every vowel with a *, l*k* th*s. Luckily, \n",
    "I've been able to find the vowels that were removed.\n",
    "Given a censored string and a string of the censored vowels, return the original uncensored string.\n",
    "\n",
    "Example\n",
    "uncensor(\"Wh*r* d*d my v*w*ls g*?\", \"eeioeo\") ➞ \"Where did my vowels go?\"\n",
    "uncensor(\"abcd\", \"\") ➞ \"abcd\"\n",
    "uncensor(\"*PP*RC*S*\", \"UEAE\") ➞ \"UPPERCASE\"'''\n",
    "\n",
    "def uncensor(s, t):\n",
    "    j = 0\n",
    "    for i in s:\n",
    "        if i == '*':\n",
    "            s = s.replace(i,t[j], 1)            \n",
    "            j+=1\n",
    "    \n",
    "    return s\n",
    "\n",
    "print('uncensor(\"Wh*r* d*d my v*w*ls g*?\", \"eeioeo\") = {}'.format(uncensor(\"Wh*r* d*d my v*w*ls g*?\", \"eeioeo\")))\n",
    "print('uncensor(\"abcd\", \"\") = {}'.format(uncensor(\"abcd\", \"\")))\n",
    "print('uncensor(\"*PP*RC*S*\", \"UEAE\") = {}'.format(uncensor(\"*PP*RC*S*\", \"UEAE\")))"
   ]
  },
  {
   "cell_type": "code",
   "execution_count": 43,
   "id": "15d6e689",
   "metadata": {},
   "outputs": [
    {
     "name": "stdout",
     "output_type": "stream",
     "text": [
      "get_domain(\"8.8.8.8\") = dns.google\n",
      "get_domain(\"8.8.4.4\") = dns.google\n",
      "get_domain(\"13.251.106.90\") = ec2-13-251-106-90.ap-southeast-1.compute.amazonaws.com\n",
      "get_domain(\"23.23.212.126\") = ec2-23-23-212-126.compute-1.amazonaws.com\n"
     ]
    }
   ],
   "source": [
    "'''4. Write a function that takes an IP address and returns the domain name using PTR DNS records.\n",
    "Example\n",
    "get_domain(\"8.8.8.8\") ➞ \"dns.google\"\n",
    "get_domain(\"8.8.4.4\") ➞ \"dns.google\"'''\n",
    "import socket\n",
    "def get_domain(ip_address):\n",
    "    return socket.gethostbyaddr(ip_address)[0]\n",
    "\n",
    "print('get_domain(\"8.8.8.8\") = {}'.format(get_domain(\"8.8.8.8\")))\n",
    "print('get_domain(\"8.8.4.4\") = {}'.format(get_domain(\"8.8.4.4\")))\n",
    "print('get_domain(\"13.251.106.90\") = {}'.format(get_domain(\"13.251.106.90\")))\n",
    "print('get_domain(\"23.23.212.126\") = {}'.format(get_domain(\"23.23.212.126\")))"
   ]
  },
  {
   "cell_type": "code",
   "execution_count": 6,
   "id": "6955d1e2",
   "metadata": {},
   "outputs": [
    {
     "name": "stdout",
     "output_type": "stream",
     "text": [
      "fact_of_fact(4)= 288\n",
      "fact_of_fact(5)= 34560\n",
      "fact_of_fact(6)= 24883200\n"
     ]
    }
   ],
   "source": [
    "'''5. Create a function that takes an integer n and returns the factorial of factorials. \n",
    "See below examples for a better understanding:\n",
    "\n",
    "Examples\n",
    "fact_of_fact(4) ➞ 288\n",
    "# 4! * 3! * 2! * 1! = 288\n",
    "fact_of_fact(5) ➞ 34560\n",
    "fact_of_fact(6) ➞ 24883200'''\n",
    "\n",
    "def fact(temp):    \n",
    "    if temp==1:\n",
    "        return 1\n",
    "    else:\n",
    "        return temp * fact(temp-1)\n",
    "    \n",
    "def fact_of_fact(n):    \n",
    "    res = 1\n",
    "    for i in range(n,0,-1):\n",
    "        res = res * fact(i)\n",
    "    return res\n",
    "\n",
    "print('fact_of_fact(4)= {}'.format(fact_of_fact(4)))\n",
    "print('fact_of_fact(5)= {}'.format(fact_of_fact(5)))\n",
    "print('fact_of_fact(6)= {}'.format(fact_of_fact(6)))"
   ]
  }
 ],
 "metadata": {
  "kernelspec": {
   "display_name": "Python 3 (ipykernel)",
   "language": "python",
   "name": "python3"
  },
  "language_info": {
   "codemirror_mode": {
    "name": "ipython",
    "version": 3
   },
   "file_extension": ".py",
   "mimetype": "text/x-python",
   "name": "python",
   "nbconvert_exporter": "python",
   "pygments_lexer": "ipython3",
   "version": "3.9.7"
  }
 },
 "nbformat": 4,
 "nbformat_minor": 5
}
