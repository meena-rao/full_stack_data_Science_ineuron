{
 "cells": [
  {
   "cell_type": "code",
   "execution_count": 7,
   "id": "40d29cb4",
   "metadata": {},
   "outputs": [
    {
     "name": "stdout",
     "output_type": "stream",
     "text": [
      "enter interation number8\n",
      "141\n"
     ]
    }
   ],
   "source": [
    "\"\"\"#1. Write a function that takes a positive integer num and calculates how many dots exist in a pentagonal shape around the center dot on the Nth iteration. In the image below you can see the first iteration is only a single dot. On the second, there are 6 dots. On the third, there are 16 dots, and on the fourth there are 31 dots.\n",
    "Return the number of dots that exist in the whole pentagon on the Nth iteration.\n",
    "Examples\n",
    "pentagonal(1) ➞ 1\n",
    "pentagonal(2) ➞ 6\n",
    "pentagonal(3) ➞ 16\n",
    "pentagonal(8) ➞ 141\"\"\"\n",
    "\n",
    "def how_many_dots(n):\n",
    "    dots = 1\n",
    "    for i in range(n):\n",
    "        dots += 5*i\n",
    "    return dots\n",
    "n = int(input(\"enter interation number\"))\n",
    "if n>= 1:\n",
    "    print(how_many_dots(n))"
   ]
  },
  {
   "cell_type": "code",
   "execution_count": 6,
   "id": "c8e93212",
   "metadata": {},
   "outputs": [
    {
     "data": {
      "text/plain": [
       "'n3r41n2aca'"
      ]
     },
     "execution_count": 6,
     "metadata": {},
     "output_type": "execute_result"
    }
   ],
   "source": [
    "'''2.  Make a function that encrypts a given input with these steps:\n",
    "Input: \"apple\"\n",
    "Step 1: Reverse the input: \"elppa\"\n",
    "Step 2: Replace all vowels using the following chart:\n",
    "a => 0\n",
    "e => 1\n",
    "i => 2\n",
    "o => 2\n",
    "u => 3\n",
    "Step 3: Add \"aca\" to the end of the word: \"1lpp0aca\"\n",
    "Output: \"1lpp0aca\"\n",
    "Examples\n",
    "encrypt(\"banana\") ➞ \"0n0n0baca\"\n",
    "encrypt(\"karaca\") ➞ \"0c0r0kaca\"\n",
    "encrypt(\"burak\") ➞ \"k0r3baca\"\n",
    "encrypt(\"alpaca\") ➞ \"0c0pl0aca\"   '''\n",
    "def crypt(s):\n",
    "    v ={'a':'0', \"e\": \"1\", 'i':'2', 'o':'3', 'u':\"4\"}\n",
    "    o =''\n",
    "    for i in s[::-1]:\n",
    "        if i in v.keys():\n",
    "            o += v[i]\n",
    "        else:\n",
    "            o += i\n",
    "    o += 'aca'\n",
    "    return o\n",
    "\n",
    "crypt(\"ineuron\")"
   ]
  },
  {
   "cell_type": "code",
   "execution_count": 7,
   "id": "f51f9d7a",
   "metadata": {},
   "outputs": [
    {
     "name": "stdout",
     "output_type": "stream",
     "text": [
      "has_friday_13(3, 2020) ➞ True\n",
      "has_friday_13(10, 2017) ➞ True\n",
      "has_friday_13(1, 1985) ➞ False\n"
     ]
    }
   ],
   "source": [
    "'''3. Given the month and year as numbers, return whether that month contains a Friday 13th.(i.e You can check Python's datetime module)\n",
    "Examples\n",
    "has_friday_13(3, 2020) ➞ True\n",
    "has_friday_13(10, 2017) ➞ True\n",
    "has_friday_13(1, 1985) ➞ False'''\n",
    "                                                                                          \n",
    "import datetime\n",
    "def has_friday_13(month,year):\n",
    "    output = False\n",
    "    if datetime.datetime(year,month,13).strftime('%A') == 'Friday':\n",
    "        output = True\n",
    "    print(f'has_friday_13{month,year} ➞ {output}')\n",
    "\n",
    "has_friday_13(3, 2020)\n",
    "has_friday_13(10, 2017)\n",
    "has_friday_13(1, 1985)"
   ]
  },
  {
   "cell_type": "code",
   "execution_count": 22,
   "id": "a21b5790",
   "metadata": {},
   "outputs": [
    {
     "data": {
      "text/plain": [
       "2"
      ]
     },
     "execution_count": 22,
     "metadata": {},
     "output_type": "execute_result"
    }
   ],
   "source": [
    "'''4. Write a regular expression that will help us count how many bad cookies are produced every day. You must use RegEx negative lookbehind.\n",
    "Example\n",
    "lst = [\"bad cookie\", \"good cookie\", \"bad cookie\", \"good cookie\", \"good cookie\"]\n",
    "pattern = \"yourregularexpressionhere\"\n",
    "len(re.findall(pattern, \", \".join(lst))) ➞ 2'''\n",
    "\n",
    "import re\n",
    "lst = [\"bad cookie\", \"good cookie\", \"bad cookie\", \"good cookie\", \"good cookie\"]\n",
    "pattern = \"bad cookie\"\n",
    "len(re.findall(pattern, \", \".join(lst)))"
   ]
  },
  {
   "cell_type": "code",
   "execution_count": 23,
   "id": "bea9bd64",
   "metadata": {},
   "outputs": [
    {
     "name": "stdout",
     "output_type": "stream",
     "text": [
      "pluralize([\"cow\", \"pig\", \"cow\", \"cow\"])->{'cows', 'pig'}\n",
      "pluralize([\"table\", \"table\", \"table\"])->{'tables'}\n"
     ]
    }
   ],
   "source": [
    "'''5. Given a list of words in the singular form, return a set of those words in the plural form if they appear more than once in the list.\n",
    "Examples\n",
    "pluralize([\"cow\", \"pig\", \"cow\", \"cow\"]) ➞ { \"cows\", \"pig\" }\n",
    "pluralize([\"table\", \"table\", \"table\"]) ➞ { \"tables\" }\n",
    "pluralize([\"chair\", \"pencil\", \"arm\"]) ➞ { \"chair\", \"pencil\", \"arm\" }'''\n",
    "\n",
    "def pluralize(li):\n",
    "    d = dict()\n",
    "    res = set()\n",
    "    for i in li:\n",
    "        if i in d.keys():\n",
    "            d[i]= d[i]+1\n",
    "        else:\n",
    "            d[i] = 1\n",
    "    for i in d.keys():\n",
    "        if d[i]>1:\n",
    "            res.add(i+'s')\n",
    "        else:\n",
    "            res.add(i)\n",
    "    return res\n",
    "\n",
    "print('pluralize([\"cow\", \"pig\", \"cow\", \"cow\"])->{}'.format(pluralize([\"cow\", \"pig\", \"cow\", \"cow\"])))  \n",
    "print('pluralize([\"table\", \"table\", \"table\"])->{}'.format(pluralize([\"table\", \"table\", \"table\"])))    \n",
    "        "
   ]
  }
 ],
 "metadata": {
  "kernelspec": {
   "display_name": "Python 3 (ipykernel)",
   "language": "python",
   "name": "python3"
  },
  "language_info": {
   "codemirror_mode": {
    "name": "ipython",
    "version": 3
   },
   "file_extension": ".py",
   "mimetype": "text/x-python",
   "name": "python",
   "nbconvert_exporter": "python",
   "pygments_lexer": "ipython3",
   "version": "3.9.7"
  }
 },
 "nbformat": 4,
 "nbformat_minor": 5
}
