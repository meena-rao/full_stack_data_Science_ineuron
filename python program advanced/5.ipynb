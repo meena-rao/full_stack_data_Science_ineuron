{
 "cells": [
  {
   "cell_type": "code",
   "execution_count": 18,
   "id": "51254edf",
   "metadata": {},
   "outputs": [
    {
     "name": "stdout",
     "output_type": "stream",
     "text": [
      "f(1)= 2\n",
      "f(2)= 8\n",
      "f(3)= 2\n"
     ]
    }
   ],
   "source": [
    "'''1. Create a function that takes a number n (integer greater than zero) as an argument, and returns 2 if n is odd and 8 \n",
    "if n is even.You can only use the following arithmetic operators: addition of numbers +, subtraction of numbers -, \n",
    "    multiplication of number *, division of number /, and exponentiation **.You are not allowed to use any other methods \n",
    "    in this challenge (i.e. no if statements, comparison operators, etc).\n",
    "Examples\n",
    "f(1) ➞ 2\n",
    "f(2) ➞ 8\n",
    "f(3) ➞ 2'''\n",
    "\n",
    "def f(n):\n",
    "    arr = [8, 2]\n",
    "    return arr[n-2*(n//2)]\n",
    "\n",
    "print('f(1)= {}'.format(f(1)))\n",
    "print('f(2)= {}'.format(f(2)))\n",
    "print('f(3)= {}'.format(f(3)))"
   ]
  },
  {
   "cell_type": "code",
   "execution_count": 23,
   "id": "94e9e791",
   "metadata": {},
   "outputs": [
    {
     "name": "stdout",
     "output_type": "stream",
     "text": [
      "majority_vote([\"A\", \"A\", \"B\"]) = A\n",
      "majority_vote([\"A\", \"A\", \"A\", \"B\", \"C\", \"A\"]) = A\n",
      "majority_vote([\"A\", \"B\", \"B\", \"A\", \"C\", \"C\"]) = None\n"
     ]
    }
   ],
   "source": [
    "'''2. Create a function that returns the majority vote in a list. A majority vote is an element that occurs > N/2 times in\n",
    "a list (where N is the length of the list).\n",
    "\n",
    "Examples\n",
    "majority_vote([\"A\", \"A\", \"B\"]) ➞ \"A\"\n",
    "majority_vote([\"A\", \"A\", \"A\", \"B\", \"C\", \"A\"]) ➞ \"A\"\n",
    "majority_vote([\"A\", \"B\", \"B\", \"A\", \"C\", \"C\"]) ➞ None'''\n",
    "\n",
    "def majority_vote(li):\n",
    "    d ={}\n",
    "    for i in li:\n",
    "        if i in d.keys():\n",
    "            d[i] = d[i]+1\n",
    "        else:\n",
    "            d[i] = 1\n",
    "    for i in d.keys():\n",
    "        if d[i] >= len(li)/2:\n",
    "            return i\n",
    "    return \"None\"\n",
    "    \n",
    "\n",
    "print('majority_vote([\"A\", \"A\", \"B\"]) = {}'.format(majority_vote([\"A\", \"A\", \"B\"])))\n",
    "print('majority_vote([\"A\", \"A\", \"A\", \"B\", \"C\", \"A\"]) = {}'.format(majority_vote([\"A\", \"A\", \"A\", \"B\", \"C\", \"A\"])))\n",
    "print('majority_vote([\"A\", \"B\", \"B\", \"A\", \"C\", \"C\"]) = {}'. format(majority_vote([\"A\", \"B\", \"B\", \"A\", \"C\", \"C\"])))"
   ]
  },
  {
   "cell_type": "code",
   "execution_count": 32,
   "id": "fe4a2be5",
   "metadata": {},
   "outputs": [
    {
     "name": "stdout",
     "output_type": "stream",
     "text": [
      "censor_string(\"Today is a Wednesday!\", [\"Today\", \"a\"], \"-\") = ----- is - Wednesday!\n",
      "censor_string(\"The cow jumped over the moon.\", [\"cow\", \"over\"], \"*\")= The *** jumped **** the moon.\n",
      "censor_string(\"Why did the chicken cross the road?\", [\"Did\", \"chicken\", \"road\"], \"*\")= Why did the ******* cross the road?\n"
     ]
    }
   ],
   "source": [
    "'''3. Create a function that takes a string txt and censors any word from a given list lst. \n",
    "The text removed must be replaced by the given character char.\n",
    "\n",
    "Examples\n",
    "censor_string(\"Today is a Wednesday!\", [\"Today\", \"a\"], \"-\") ➞ \"----- is - Wednesday!\"\n",
    "censor_string(\"The cow jumped over the moon.\", [\"cow\", \"over\"], \"*\")-> \"The *** jumped **** the moon.\")\n",
    "censor_string(\"Why did the chicken cross the road?\", [\"Did\", \"chicken\", \"road\"], \"*\") ➞ \"Why *** the ******* cross the ****?\"\n",
    "'''\n",
    "def censor_string(s, li, t):\n",
    "    temp_l = s.split(' ')\n",
    "    for i in temp_l:\n",
    "        for j in li:\n",
    "            if(i == j):\n",
    "                to_replace = len(i)*t\n",
    "                temp_l[temp_l.index(i)] = to_replace\n",
    "    res = ' '.join(temp_l)\n",
    "    return res\n",
    "\n",
    "print('censor_string(\"Today is a Wednesday!\", [\"Today\", \"a\"], \"-\") = {}'.format(censor_string(\"Today is a Wednesday!\", [\"Today\", \"a\"], \"-\")))\n",
    "print('censor_string(\"The cow jumped over the moon.\", [\"cow\", \"over\"], \"*\")= {}'.format(censor_string(\"The cow jumped over the moon.\", [\"cow\", \"over\"], \"*\")))\n",
    "print('censor_string(\"Why did the chicken cross the road?\", [\"Did\", \"chicken\", \"road\"], \"*\")= {}'.format(censor_string(\"Why did the chicken cross the road?\", [\"Did\", \"chicken\", \"road\"], \"*\")))"
   ]
  },
  {
   "cell_type": "code",
   "execution_count": 61,
   "id": "c05e2dab",
   "metadata": {},
   "outputs": [
    {
     "name": "stdout",
     "output_type": "stream",
     "text": [
      "1232 is Polydivisible number.\n",
      "\n",
      "is_polydivisible(1232)= True\n",
      "\n",
      "12322 is Not Polydivisible number.\n",
      "\n",
      "is_polydivisible(123220 ) = False\n"
     ]
    }
   ],
   "source": [
    "'''4. In mathematics a Polydivisible Number (or magic number) is a number in a given number base with digits abcde... \n",
    "that has the following properties:\n",
    "\n",
    "-  Its first digit a is not 0.\n",
    "- The number formed by its first two digits ab is a multiple of 2.\n",
    "- The number formed by its first three digits abc is a multiple of 3.\n",
    "- The number formed by its first four digits abcd is a multiple of 4.\n",
    "\n",
    "Create a function which takes an integer n and returns True if the given number is a Polydivisible Number & False otherwise.\n",
    "\n",
    "Examples\n",
    "is_polydivisible(1232) ➞ True\n",
    "# 1     / 1 = 1\n",
    "# 12    / 2 = 6\n",
    "# 123   / 3 = 41\n",
    "# 1232  / 4 = 308\n",
    "\n",
    "is_polydivisible(123220 ) ➞ False\n",
    "# 1   / 1 = 1\n",
    "# 12   / 2 = 6\n",
    "# 123   / 3 = 41\n",
    "# 1232   / 4 = 308\n",
    "# 12322   / 5 = 2464.4         # Not a Whole Number\n",
    "# 123220   /6 = 220536.333...  # Not a Whole Number'''\n",
    "def is_polydivisible(n):\n",
    "    digit = []\n",
    "    while(n):\n",
    "        digit.append(n%10)\n",
    "        n=n//10\n",
    "    digit = digit[::-1]\n",
    "    \n",
    "    flag = True\n",
    "    n = digit[0]\n",
    "    for i in range(1, len(digit)):          \n",
    "        # n contains first i digits\n",
    "        n = n * 10 + digit[i]  \n",
    "        # n should be divisible by i\n",
    "        if (n % (i + 1) != 0):\n",
    "            flag = False\n",
    "            break\n",
    "      \n",
    "    if (flag):\n",
    "        print(n, \"is Polydivisible number.\\n\")\n",
    "        return True\n",
    "    else:\n",
    "        print(n, \"is Not Polydivisible number.\\n\") \n",
    "        return False\n",
    "        \n",
    "print('is_polydivisible(1232)= {}\\n'.format(is_polydivisible(1232)))\n",
    "print('is_polydivisible(123220 ) = {}'.format(is_polydivisible(123220 )))"
   ]
  },
  {
   "cell_type": "code",
   "execution_count": 39,
   "id": "dbe5f073",
   "metadata": {},
   "outputs": [
    {
     "name": "stdout",
     "output_type": "stream",
     "text": [
      "sum_primes([1, 2, 3, 4, 5, 6, 7, 8, 9, 10]) = 18\n",
      "sum_primes([2, 3, 4, 11, 20, 50, 71]) = 87\n",
      "sum_primes([]) = None\n"
     ]
    }
   ],
   "source": [
    "'''5. Create a function that takes a list of numbers and returns the sum of all prime numbers in the list.\n",
    "\n",
    "Examples\n",
    "sum_primes([1, 2, 3, 4, 5, 6, 7, 8, 9, 10]) ➞ 18\n",
    "sum_primes([2, 3, 4, 11, 20, 50, 71]) ➞ 87\n",
    "sum_primes([]) ➞ None'''\n",
    "\n",
    "def prime(n):\n",
    "    for i in range(2,n):\n",
    "        if n%i == 0:\n",
    "            return False\n",
    "    return True\n",
    "        \n",
    "def sum_primes(li):\n",
    "    su,f = 0,0\n",
    "    for i in li:\n",
    "        if i == 1:\n",
    "            su+=1\n",
    "        elif(prime(i)):\n",
    "            su+=i\n",
    "            f = 1\n",
    "    if f ==1:\n",
    "        return su\n",
    "    else:\n",
    "        return \"None\"\n",
    "\n",
    "print('sum_primes([1, 2, 3, 4, 5, 6, 7, 8, 9, 10]) = {}'.format(sum_primes([1, 2, 3, 4, 5, 6, 7, 8, 9, 10])))\n",
    "print('sum_primes([2, 3, 4, 11, 20, 50, 71]) = {}'.format(sum_primes([2, 3, 4, 11, 20, 50, 71]) ))\n",
    "print('sum_primes([]) = {}'.format(sum_primes([])))"
   ]
  }
 ],
 "metadata": {
  "kernelspec": {
   "display_name": "Python 3 (ipykernel)",
   "language": "python",
   "name": "python3"
  },
  "language_info": {
   "codemirror_mode": {
    "name": "ipython",
    "version": 3
   },
   "file_extension": ".py",
   "mimetype": "text/x-python",
   "name": "python",
   "nbconvert_exporter": "python",
   "pygments_lexer": "ipython3",
   "version": "3.9.7"
  }
 },
 "nbformat": 4,
 "nbformat_minor": 5
}
