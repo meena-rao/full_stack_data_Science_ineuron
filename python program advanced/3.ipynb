{
 "cells": [
  {
   "cell_type": "code",
   "execution_count": 8,
   "id": "39f1ed7b",
   "metadata": {},
   "outputs": [
    {
     "name": "stdout",
     "output_type": "stream",
     "text": [
      "arithmetic_operation(\"12 + 12\") = 24\n",
      "arithmetic_operation(\"12 - 12\") = 0\n",
      "arithmetic_operation(\"12 * 12\") = 144\n",
      "arithmetic_operation(\"12 / 12\") = 1.0\n",
      "arithmetic_operation(\"12 / 0\") = -1\n"
     ]
    }
   ],
   "source": [
    "'''1. Create a function to perform basic arithmetic operations that includes addition, subtraction, multiplication and division\n",
    "on a string number (e.g. \"12 + 24\" or \"23 - 21\" or \"12 // 12\" or \"12 * 21\").\n",
    "Here, we have 1 followed by a space, operator followed by another space and 2. \n",
    "For the challenge, we are going to have only two numbers between 1 valid operator. The return value should be a number.\n",
    "eval() is not allowed. In case of division, whenever the second number equals \"0\" return -1.\n",
    "\n",
    "For example:\n",
    "\"15 // 0\"  ➞ -1\n",
    "\n",
    "Examples\n",
    "arithmetic_operation(\"12 + 12\") ➞ 24 // 12 + 12 = 24\n",
    "arithmetic_operation(\"12 - 12\") ➞ 24 // 12 - 12 = 0\n",
    "arithmetic_operation(\"12 * 12\") ➞ 144 // 12 * 12 = 144\n",
    "arithmetic_operation(\"12 // 0\") ➞ -1 // 12 / 0 = -1'''\n",
    "\n",
    "def arithmetic_operation(st):\n",
    "    li = list()\n",
    "    li = st.split(' ')\n",
    "    a , b = int(li[0]), int(li[2]) \n",
    "    \n",
    "    if li[1]=='/':\n",
    "        if b ==0:\n",
    "            return -1\n",
    "        return a/b\n",
    "    if li[1]=='+':\n",
    "        return a+b\n",
    "    if li[1]=='-':\n",
    "        return a-b\n",
    "    if li[1]=='*':\n",
    "        return a*b\n",
    "\n",
    "print('arithmetic_operation(\"12 + 12\") = {}'.format(arithmetic_operation(\"12 + 12\")))\n",
    "print('arithmetic_operation(\"12 - 12\") = {}'.format(arithmetic_operation(\"12 - 12\")))\n",
    "print('arithmetic_operation(\"12 * 12\") = {}'.format(arithmetic_operation(\"12 * 12\")))\n",
    "print('arithmetic_operation(\"12 / 12\") = {}'.format(arithmetic_operation(\"12 / 12\")))\n",
    "print('arithmetic_operation(\"12 / 0\") = {}'.format(arithmetic_operation(\"12 / 0\")))   \n",
    "      "
   ]
  },
  {
   "cell_type": "code",
   "execution_count": 18,
   "id": "44332d4e",
   "metadata": {},
   "outputs": [
    {
     "name": "stdout",
     "output_type": "stream",
     "text": [
      "perimeter( [ [15, 7], [5, 22], [11, 1] ] ) = 47.08\n",
      "perimeter( [ [0, 0], [0, 1], [1, 0] ] )  = 3.41\n",
      "perimeter( [ [-10, -10], [10, 10 ], [-10, 10] ] ) = 68.28\n"
     ]
    }
   ],
   "source": [
    "'''2. Write a function that takes the coordinates of three points in the form of a 2d array and \n",
    "returns the perimeter of the triangle. The given points are the vertices of a triangle on a two-dimensional plane.\n",
    "\n",
    "Examples\n",
    "perimeter( [ [15, 7], [5, 22], [11, 1] ] ) ➞ 47.08\n",
    "perimeter( [ [0, 0], [0, 1], [1, 0] ] ) ➞ 3.42\n",
    "perimeter( [ [-10, -10], [10, 10 ], [-10, 10] ] ) ➞ 68.28'''\n",
    "import math as m\n",
    "def perimeter(a):\n",
    "    AB = m.sqrt(pow((a[0][0]-a[1][0]),2) + pow((a[0][1]-a[1][1]),2))\n",
    "    BC = m.sqrt(pow((a[1][0]-a[2][0]),2) + pow((a[1][1]-a[2][1]),2))\n",
    "    CA = m.sqrt(pow((a[0][0]-a[2][0]),2) + pow((a[0][1]-a[2][1]),2))\n",
    "    peri = AB+BC+CA\n",
    "    return peri\n",
    "print('perimeter( [ [15, 7], [5, 22], [11, 1] ] ) = {:.2f}'. format(perimeter( [ [15, 7], [5, 22], [11, 1] ] )))\n",
    "print('perimeter( [ [0, 0], [0, 1], [1, 0] ] )  = {:.2f}'. format(perimeter( [ [0, 0], [0, 1], [1, 0] ] ) ))\n",
    "print('perimeter( [ [-10, -10], [10, 10 ], [-10, 10] ] ) = {:.2f}'.format(perimeter( [ [-10, -10], [10, 10 ], [-10, 10] ] )))   "
   ]
  },
  {
   "cell_type": "code",
   "execution_count": 62,
   "id": "958cd91e",
   "metadata": {
    "scrolled": true
   },
   "outputs": [
    {
     "name": "stdout",
     "output_type": "stream",
     "text": [
      "tallest_skyscraper([[0, 0, 0, 0],[0, 1, 0, 0],[0, 1, 1, 0],[1, 1, 1, 1]]) = 3\n",
      "tallest_skyscraper([[0, 1, 0, 0],[0, 1, 0, 0],[0, 1, 1, 0],[1, 1, 1, 1]]) = 4\n",
      "tallest_skyscraper([[0, 0, 0, 0],[0, 0, 0, 0],[1, 1, 1, 0],[1, 1, 1, 1]]) = 2\n"
     ]
    }
   ],
   "source": [
    "'''3. A city skyline can be represented as a 2-D list with 1s representing buildings. In the example below, \n",
    "the height of the tallest building is 4 (second-most right column).\n",
    "\n",
    "[[0, 0, 0, 0, 0, 0],\n",
    "[0, 0, 0, 0, 1, 0],\n",
    "[0, 0, 1, 0, 1, 0],\n",
    "[0, 1, 1, 1, 1, 0],\n",
    "[1, 1, 1, 1, 1, 1]]\n",
    "\n",
    "Create a function that takes a skyline (2-D list of 0's and 1's) and returns the height of the tallest skyscraper.\n",
    "\n",
    "Examples\n",
    "\n",
    "tallest_skyscraper([\n",
    "  [0, 0, 0, 0],\n",
    "  [0, 1, 0, 0],\n",
    "  [0, 1, 1, 0],\n",
    "  [1, 1, 1, 1]\n",
    "]) ➞ 3\n",
    "\n",
    "tallest_skyscraper([\n",
    "  [0, 1, 0, 0],\n",
    "  [0, 1, 0, 0],\n",
    "  [0, 1, 1, 0],\n",
    "  [1, 1, 1, 1]\n",
    "]) ➞ 4\n",
    "\n",
    "tallest_skyscraper([\n",
    "  [0, 0, 0, 0],\n",
    "  [0, 0, 0, 0],\n",
    "  [1, 1, 1, 0],\n",
    "  [1, 1, 1, 1]\n",
    "]) ➞ 2'''\n",
    "def tallest_skyscraper(m):\n",
    "    li = []\n",
    "\n",
    "    for c in range(len(m[0])):\n",
    "        t=0\n",
    "        for r in range(len(m)):\n",
    "            t+= m[r][c]\n",
    "        li.append(t)\n",
    "    li.sort()    \n",
    "    return li[-1]\n",
    "\n",
    "print('tallest_skyscraper([[0, 0, 0, 0],[0, 1, 0, 0],[0, 1, 1, 0],[1, 1, 1, 1]]) = {}'.format(tallest_skyscraper([\n",
    "  [0, 0, 0, 0], [0, 1, 0, 0], [0, 1, 1, 0], [1, 1, 1, 1]])))\n",
    "\n",
    "print('tallest_skyscraper([[0, 1, 0, 0],[0, 1, 0, 0],[0, 1, 1, 0],[1, 1, 1, 1]]) = {}'. format(tallest_skyscraper([\n",
    "  [0, 1, 0, 0],  [0, 1, 0, 0],  [0, 1, 1, 0],  [1, 1, 1, 1]])))\n",
    "\n",
    "print('tallest_skyscraper([[0, 0, 0, 0],[0, 0, 0, 0],[1, 1, 1, 0],[1, 1, 1, 1]]) = {}'.format(tallest_skyscraper([\n",
    "  [0, 0, 0, 0],  [0, 0, 0, 0],  [1, 1, 1, 0],  [1, 1, 1, 1]])))"
   ]
  },
  {
   "cell_type": "code",
   "execution_count": 59,
   "id": "195c88bd",
   "metadata": {},
   "outputs": [
    {
     "data": {
      "text/plain": [
       "[0, 1, 2, 4, 45]"
      ]
     },
     "execution_count": 59,
     "metadata": {},
     "output_type": "execute_result"
    }
   ],
   "source": [
    "l =[1,4,0,45,2]\n",
    "l.sort()\n",
    "l"
   ]
  },
  {
   "cell_type": "code",
   "execution_count": 43,
   "id": "2fc0af53",
   "metadata": {},
   "outputs": [
    {
     "data": {
      "text/plain": [
       "[[0, 0, 0, 0], [0, 1, 0, 0], [0, 1, 1, 0], [1, 1, 1, 1]]"
      ]
     },
     "execution_count": 43,
     "metadata": {},
     "output_type": "execute_result"
    }
   ],
   "source": [
    "m = [ [0, 0, 0, 0], [0, 1, 0, 0], [0, 1, 1, 0], [1, 1, 1, 1]]\n",
    "m"
   ]
  },
  {
   "cell_type": "code",
   "execution_count": 37,
   "id": "0fea7045",
   "metadata": {},
   "outputs": [
    {
     "name": "stdout",
     "output_type": "stream",
     "text": [
      "bonus(15) = 0\n",
      "bonus(37) = 1625\n",
      "bonus(50) = 8200\n"
     ]
    }
   ],
   "source": [
    "'''4. A financial institution provides professional services to banks and claims charges from the customers based on the number\n",
    "of man-days provided. Internally, it has set a scheme to motivate and reward staff to meet and exceed targeted billable\n",
    "utilization and revenues by paying a bonus for each day claimed from customers in excess of a threshold target.\n",
    "\n",
    "This quarterly scheme is calculated with a threshold target of 32 days per quarter, and the incentive payment \n",
    "for each billable day in excess of such threshold target is shown as follows:\n",
    "\n",
    "Days\t                             Bonus\n",
    "0 to 32 days\t                   Zero\n",
    "33 to 40 days\t         SGD$325 per billable day\n",
    "41 to 48 days\t         SGD$550 per billable day\n",
    "Greater than 48 days      SGD$600 per billable day\n",
    "\n",
    "Please note that incentive payment is calculated progressively. As an example, if an employee reached total billable days \n",
    "of 45 in a quarter, his/her incentive payment is computed as follows:\n",
    "32*0 + 8*325 + 5*550 = 5350\n",
    "Write a function to read the billable days of an employee and return the bonus he/she has obtained in that quarter.\n",
    "\n",
    "Examples\n",
    "bonus(15) ➞ 0\n",
    "bonus(37) ➞ 1625\n",
    "bonus(50) ➞ 8200'''\n",
    "\n",
    "def bonus(d):\n",
    "    if d<=32:\n",
    "        return 0\n",
    "    d = d - 32\n",
    "    if d < 8:\n",
    "        bonus = d*325\n",
    "    else:\n",
    "        temp = d-8\n",
    "        if temp < 8:\n",
    "            bonus = 8*325 + temp*550\n",
    "        else:\n",
    "            bonus = 8*325 + 8*550 + (temp-8)*600\n",
    "    return bonus\n",
    "\n",
    "print('bonus(15) = {}'.format(bonus(15)))\n",
    "print('bonus(37) = {}'.format(bonus(37)))\n",
    "print('bonus(50) = {}'.format(bonus(50)))"
   ]
  },
  {
   "cell_type": "code",
   "execution_count": 32,
   "id": "4094bf0e",
   "metadata": {},
   "outputs": [
    {
     "name": "stdout",
     "output_type": "stream",
     "text": [
      "is_disarium(544) = False\n",
      "is_disarium(518) = True\n",
      "is_disarium(466) = False\n",
      "is_disarium(8) = True\n"
     ]
    }
   ],
   "source": [
    "'''5. A number is said to be Disarium if the sum of its digits raised to their respective positions is the number itself.\n",
    "Create a function that determines whether a number is a Disarium or not.\n",
    "\n",
    "Examples\n",
    "is_disarium(75) ➞ False\n",
    "# 7^1 + 5^2 = 7 + 25 = 32\n",
    "is_disarium(135) ➞ True\n",
    "# 1^1 + 3^2 + 5^3 = 1 + 9 + 125 = 135\n",
    "is_disarium(544) ➞ False\n",
    "is_disarium(518) ➞ True\n",
    "is_disarium(466) ➞ False\n",
    "is_disarium(8) ➞ True'''\n",
    "\n",
    "def is_disarium(n):\n",
    "    s = 0\n",
    "    temp = n\n",
    "    le = len(str(n))\n",
    "    for i in range(le,0,-1):\n",
    "        d=n%10\n",
    "        s+= pow(d,i)\n",
    "        n=n//10\n",
    "    if temp == s:\n",
    "        return True\n",
    "    return False\n",
    "\n",
    "print(\"is_disarium(544) = {}\".format(is_disarium(544)))\n",
    "print(\"is_disarium(518) = {}\".format(is_disarium(518)))\n",
    "print(\"is_disarium(466) = {}\".format(is_disarium(466)))\n",
    "print(\"is_disarium(8) = {}\".format(is_disarium(8)))\n"
   ]
  }
 ],
 "metadata": {
  "kernelspec": {
   "display_name": "Python 3 (ipykernel)",
   "language": "python",
   "name": "python3"
  },
  "language_info": {
   "codemirror_mode": {
    "name": "ipython",
    "version": 3
   },
   "file_extension": ".py",
   "mimetype": "text/x-python",
   "name": "python",
   "nbconvert_exporter": "python",
   "pygments_lexer": "ipython3",
   "version": "3.9.7"
  }
 },
 "nbformat": 4,
 "nbformat_minor": 5
}
