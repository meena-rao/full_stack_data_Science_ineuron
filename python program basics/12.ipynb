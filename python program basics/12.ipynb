{
 "cells": [
  {
   "cell_type": "code",
   "execution_count": 16,
   "id": "23649884",
   "metadata": {},
   "outputs": [
    {
     "name": "stdout",
     "output_type": "stream",
     "text": [
      "dict_values(['fsds', 'unix', 'os', 'ml', 'dl', 'dl'])\n",
      "Unique values\n",
      " {'os', 'ml', 'unix', 'fsds', 'dl'}\n"
     ]
    }
   ],
   "source": [
    "#1.Write a Python program to Extract Unique values dictionary values?\n",
    "key = [1,2,3,4,5,6]\n",
    "val = ['fsds', 'unix','os','ml','dl','dl']\n",
    "dic = dict(zip(key,val))\n",
    "print(dic.values())\n",
    "print(\"Unique values\\n\", set(dic.values()))"
   ]
  },
  {
   "cell_type": "code",
   "execution_count": 23,
   "id": "43931438",
   "metadata": {},
   "outputs": [
    {
     "data": {
      "text/plain": [
       "80"
      ]
     },
     "execution_count": 23,
     "metadata": {},
     "output_type": "execute_result"
    }
   ],
   "source": [
    "#2. Write a Python program to find the sum of all items in a dictionary?\n",
    "d = dict(sub1 = 10, sub2 = 20,sub3 = 50)\n",
    "sum = 0\n",
    "for i in d.values():\n",
    "    sum = sum+i\n",
    "sum"
   ]
  },
  {
   "cell_type": "code",
   "execution_count": 2,
   "id": "3361ce1e",
   "metadata": {},
   "outputs": [
    {
     "name": "stdout",
     "output_type": "stream",
     "text": [
      "{1: 20, 2: 30, 3: 90}\n",
      "{5: 10, 10: 100, 1: 20}\n",
      "method1 {1: 20, 2: 30, 3: 90, 5: 10, 10: 100}\n",
      "method2 {1: 20, 2: 30, 3: 90, 5: 10, 10: 100}\n",
      "method3 {1: 20, 2: 30, 3: 90, 5: 10, 10: 100}\n"
     ]
    }
   ],
   "source": [
    "#3. Write a Python program to Merging two Dictionaries?\n",
    "d1 = {1:20,2:30,3:90}\n",
    "d2 = dict([(5,10), (10,100), (1,20)])\n",
    "print(d1)\n",
    "print(d2)\n",
    "print(\"method1\", d1|d2)\n",
    "print(\"method2\", {**d1,**d2})\n",
    "d3 = d1.copy()\n",
    "d3.update(d2)\n",
    "print(\"method3\", d3)\n"
   ]
  },
  {
   "cell_type": "code",
   "execution_count": 23,
   "id": "b243c076",
   "metadata": {},
   "outputs": [
    {
     "name": "stdout",
     "output_type": "stream",
     "text": [
      "before flattening\n",
      " {'name': ['ddwd', 'qwwq', 'asd'], 'age': [23, 45, 12]}\n",
      "after  flattening\n",
      " {'ddwd': 23, 'qwwq': 45, 'asd': 12}\n"
     ]
    }
   ],
   "source": [
    "#4. Write a Python program to convert key-values list to flat dictionary?\n",
    "d = {'name':['ddwd', 'qwwq', 'asd'], \n",
    "    'age': [23,45,12]}\n",
    "print(\"before flattening\\n\", d)\n",
    "\n",
    "d2 = dict(zip(d['name'],d['age']))\n",
    "print(\"after  flattening\\n\", d2)\n"
   ]
  },
  {
   "cell_type": "code",
   "execution_count": 17,
   "id": "9bf5c025",
   "metadata": {},
   "outputs": [
    {
     "name": "stdout",
     "output_type": "stream",
     "text": [
      "initially\n",
      "OrderedDict([('sub1', 20), ('sub3', 100), ('sub2', 10)])\n",
      "after adding\n",
      " OrderedDict([('sub1', 20), ('sub3', 100), ('sub2', 10), ('sub4', 25)])\n",
      "after shifting\n",
      " OrderedDict([('sub4', 25), ('sub1', 20), ('sub3', 100), ('sub2', 10)])\n"
     ]
    }
   ],
   "source": [
    "#5. Write a Python program to insertion at the beginning in OrderedDict?\n",
    "from collections import OrderedDict\n",
    "d = OrderedDict()\n",
    "print('initially')\n",
    "d['sub1'] = 20\n",
    "d['sub3'] = 100\n",
    "d['sub2'] = 10\n",
    "print(d)\n",
    "\n",
    "d['sub4'] = 25\n",
    "print(\"after adding\\n\",d)\n",
    "d.move_to_end('sub4', last = False)\n",
    "print(\"after shifting\\n\",d)"
   ]
  },
  {
   "cell_type": "code",
   "execution_count": 19,
   "id": "fe14fa7c",
   "metadata": {},
   "outputs": [
    {
     "name": "stdout",
     "output_type": "stream",
     "text": [
      "enter string\n",
      "fsds at ineuron\n",
      "enter pattern\n",
      "ar\n",
      "The order of pattern is correct\n"
     ]
    }
   ],
   "source": [
    "#6. Write a Python program to check order of character in string using OrderedDict()?\n",
    "from collections import OrderedDict\n",
    "def check(stri, pat):\n",
    "    d = OrderedDict.fromkeys(stri)\n",
    "    le = 0\n",
    "    for key,value in d.items():\n",
    "        if (key == pat[le]):\n",
    "            le = le + 1\n",
    "        if (le == (len(pat))):\n",
    "            return 'The order of pattern is correct'\n",
    "    return 'The order of pattern is incorrect'\n",
    "stri = input(\"enter string\\n\")\n",
    "pat = input(\"enter pattern\\n\")\n",
    "\n",
    "print(check(stri,pat))"
   ]
  },
  {
   "cell_type": "code",
   "execution_count": 17,
   "id": "3a2665cb",
   "metadata": {},
   "outputs": [
    {
     "name": "stdout",
     "output_type": "stream",
     "text": [
      "before\n",
      "(1, 20) (12, 30) (3, 90) (15, 10) (11, 100) \n",
      "Sorting on keys\n",
      "(1, 20) (3, 90) (11, 100) (12, 30) (15, 10) \n",
      "Sorting on values\n",
      "[(15, 10), (1, 20), (12, 30), (3, 90), (11, 100)]\n"
     ]
    }
   ],
   "source": [
    "#7. Write a Python program to sort Python Dictionaries by Key or Value?\n",
    "d = {1: 20, 12: 30, 3: 90, 15: 10, 11: 100}\n",
    "print(\"before\")\n",
    "for i in (d):\n",
    "    print ((i, d[i]), end =\" \")\n",
    "print(\"\\nSorting on keys\")\n",
    "d2 = {}\n",
    "for i in sorted(d):\n",
    "    print ((i, d[i]), end =\" \")\n",
    "    \n",
    "print(\"\\nSorting on values\")\n",
    "#print(sorted(d.items(), key = lambda kv:(kv[1], kv[0])))\n",
    "print(sorted(d.items(), key = lambda kv:kv[1]))"
   ]
  }
 ],
 "metadata": {
  "kernelspec": {
   "display_name": "Python 3 (ipykernel)",
   "language": "python",
   "name": "python3"
  },
  "language_info": {
   "codemirror_mode": {
    "name": "ipython",
    "version": 3
   },
   "file_extension": ".py",
   "mimetype": "text/x-python",
   "name": "python",
   "nbconvert_exporter": "python",
   "pygments_lexer": "ipython3",
   "version": "3.9.7"
  }
 },
 "nbformat": 4,
 "nbformat_minor": 5
}
