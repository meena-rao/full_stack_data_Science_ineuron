{
 "cells": [
  {
   "cell_type": "code",
   "execution_count": 8,
   "id": "19dd2752",
   "metadata": {},
   "outputs": [
    {
     "name": "stdout",
     "output_type": "stream",
     "text": [
      "how many numbers?2\n",
      "enter integer10\n",
      "enter integer20\n",
      "[10, 20]\n",
      "30\n"
     ]
    }
   ],
   "source": [
    "#1. Write a Python Program to find sum of array?\n",
    "def sum(a):\n",
    "    s =0\n",
    "    for i in range(len(a)):\n",
    "        s= s+a[i]\n",
    "    return s\n",
    "\n",
    "def main():\n",
    "    n =int(input(\"how many numbers?\"))\n",
    "    li =[]\n",
    "    for i in range(n):\n",
    "        li.append(int(input(\"enter integer\")))\n",
    "    print(li)\n",
    "    print(sum(li))\n",
    "    \n",
    "main()"
   ]
  },
  {
   "cell_type": "code",
   "execution_count": 13,
   "id": "d25c41f8",
   "metadata": {},
   "outputs": [
    {
     "name": "stdout",
     "output_type": "stream",
     "text": [
      "how many numbers?3\n",
      "enter integer45\n",
      "enter integer64\n",
      "enter integer23\n",
      "64\n"
     ]
    }
   ],
   "source": [
    "### 2. Write a Python Program to find largest element in an array?\n",
    "def large(a):\n",
    "    l =a[0]\n",
    "    for i in range(1,len(a)):\n",
    "        if(a[i]>l):\n",
    "            l=a[i]\n",
    "    return l\n",
    "\n",
    "def main():\n",
    "    n =int(input(\"how many numbers?\"))\n",
    "    li =[]\n",
    "    for i in range(n):\n",
    "        li.append(int(input(\"enter integer\")))\n",
    "    print(large(li))\n",
    "    \n",
    "main()"
   ]
  },
  {
   "cell_type": "code",
   "execution_count": 11,
   "id": "d64b5a08",
   "metadata": {},
   "outputs": [
    {
     "data": {
      "text/plain": [
       "[6, 1, 2, 3, 4, 5]"
      ]
     },
     "execution_count": 11,
     "metadata": {},
     "output_type": "execute_result"
    }
   ],
   "source": [
    "#3. Write a Python Program for array rotation?\n",
    "class arr:\n",
    "    def __init__(self, li):\n",
    "        self.l = li\n",
    "    def rotate(self,d):\n",
    "        \"\"\"Array rotation\"\"\"\n",
    "        n = len(self.l)\n",
    "        r =[]\n",
    "        r[:] = self.l[d:n] + self.l[0:d]\n",
    "        return r\n",
    "ob =arr([1,2,3,4,5,6])\n",
    "ob.rotate(5)"
   ]
  },
  {
   "cell_type": "code",
   "execution_count": 14,
   "id": "d85e6b63",
   "metadata": {},
   "outputs": [
    {
     "data": {
      "text/plain": [
       "[4, 5, 6, 7, 1, 2, 3]"
      ]
     },
     "execution_count": 14,
     "metadata": {},
     "output_type": "execute_result"
    }
   ],
   "source": [
    "#4. Write a Python Program to Split the array and add the first part to the end?\n",
    "def arr_split(a,d):\n",
    "    \"\"\" array split and add first part to end\"\"\"\n",
    "    i = len(a)\n",
    "    te =[]\n",
    "    for j in range(i):\n",
    "        te[:] = a[d:i] +a[0:d]\n",
    "    return te\n",
    "\n",
    "arr_split([1,2,3,4,5,6,7], 3)"
   ]
  },
  {
   "cell_type": "code",
   "execution_count": 21,
   "id": "029c1398",
   "metadata": {},
   "outputs": [
    {
     "name": "stdout",
     "output_type": "stream",
     "text": [
      "monotonic\n"
     ]
    }
   ],
   "source": [
    "#5. Write a Python Program to check if given array is Monotonic?\n",
    "def monotonic(a):\n",
    "    \"\"\"check for monotonic\"\"\"\n",
    "    return( all(a[i]<=a[i+1]  for i in range(len(a)-1))or all(a[i]>=a[i+1] for i in range(len(a)-1)))\n",
    "                    \n",
    "F = monotonic([4,3,1,0])\n",
    "if(F):\n",
    "    print(\"monotonic\")\n",
    "else: \n",
    "    print(\"NO\")                                                   "
   ]
  }
 ],
 "metadata": {
  "kernelspec": {
   "display_name": "Python 3",
   "language": "python",
   "name": "python3"
  },
  "language_info": {
   "codemirror_mode": {
    "name": "ipython",
    "version": 3
   },
   "file_extension": ".py",
   "mimetype": "text/x-python",
   "name": "python",
   "nbconvert_exporter": "python",
   "pygments_lexer": "ipython3",
   "version": "3.8.10"
  }
 },
 "nbformat": 4,
 "nbformat_minor": 5
}
