{
 "cells": [
  {
   "cell_type": "code",
   "execution_count": 2,
   "id": "e181d577",
   "metadata": {},
   "outputs": [
    {
     "name": "stdout",
     "output_type": "stream",
     "text": [
      "hello python\n"
     ]
    }
   ],
   "source": [
    "#1.\tWrite a Python program to print \"Hello Python\"?\n",
    "\n",
    "print(\"hello python\")"
   ]
  },
  {
   "cell_type": "code",
   "execution_count": 10,
   "id": "50935fcb",
   "metadata": {},
   "outputs": [
    {
     "name": "stdout",
     "output_type": "stream",
     "text": [
      "4\n",
      "7\n",
      "4 + 7 = 11\n",
      "4 / 7 = 0.5714285714285714\n",
      "next\n"
     ]
    }
   ],
   "source": [
    "#2.\tWrite a Python program to do arithmetical operations addition and division.?\n",
    "\n",
    "a = int(input())\n",
    "b = int(input())\n",
    "\n",
    "try:\n",
    "    print(a, \"+\", b , \"=\", a+b)\n",
    "    print(a, \"/\", b , \"=\",  a/b)\n",
    "except Exception as e:\n",
    "    print(e)\n",
    "print(\"next\")"
   ]
  },
  {
   "cell_type": "code",
   "execution_count": 11,
   "id": "94fb1004",
   "metadata": {
    "scrolled": true
   },
   "outputs": [
    {
     "name": "stdout",
     "output_type": "stream",
     "text": [
      "Enter bredth of triangle4\n",
      "Enter height of triangle6\n",
      "12.0\n"
     ]
    }
   ],
   "source": [
    "#3.\tWrite a Python program to find the area of a triangle?\n",
    "\n",
    "b= int(input(\"Enter bredth of triangle\"))\n",
    "h = int(input(\"Enter height of triangle\"))\n",
    "\n",
    "area = 1/2*b*h\n",
    "\n",
    "print(area)"
   ]
  },
  {
   "cell_type": "code",
   "execution_count": 13,
   "id": "f80488b5",
   "metadata": {},
   "outputs": [
    {
     "name": "stdout",
     "output_type": "stream",
     "text": [
      "enter variable178 \n",
      "enter one morejkfdj\n",
      "jkfdj     78 \n"
     ]
    }
   ],
   "source": [
    "#4.\tWrite a Python program to swap two variables?\n",
    "\n",
    "a = input(\"enter variable1\")\n",
    "b =input(\"enter one more\")\n",
    "\n",
    "a,b=b,a\n",
    "\n",
    "print(a, \"   \", b)"
   ]
  },
  {
   "cell_type": "code",
   "execution_count": 14,
   "id": "1af2999f",
   "metadata": {
    "scrolled": true
   },
   "outputs": [
    {
     "name": "stdout",
     "output_type": "stream",
     "text": [
      "enter upper limit30\n"
     ]
    },
    {
     "data": {
      "text/plain": [
       "25"
      ]
     },
     "execution_count": 14,
     "metadata": {},
     "output_type": "execute_result"
    }
   ],
   "source": [
    "#5.\tWrite a Python program to generate a random number?\n",
    "import random\n",
    "limit = int(input(\"enter upper limit\"))\n",
    "random.randint(0,limit)"
   ]
  },
  {
   "cell_type": "code",
   "execution_count": 16,
   "id": "e18860bf",
   "metadata": {},
   "outputs": [
    {
     "data": {
      "text/plain": [
       "5"
      ]
     },
     "execution_count": 16,
     "metadata": {},
     "output_type": "execute_result"
    }
   ],
   "source": [
    "#5 another approach\n",
    "list =[3,4,5,6]\n",
    "random.choice(list)"
   ]
  }
 ],
 "metadata": {
  "kernelspec": {
   "display_name": "Python 3",
   "language": "python",
   "name": "python3"
  },
  "language_info": {
   "codemirror_mode": {
    "name": "ipython",
    "version": 3
   },
   "file_extension": ".py",
   "mimetype": "text/x-python",
   "name": "python",
   "nbconvert_exporter": "python",
   "pygments_lexer": "ipython3",
   "version": "3.8.10"
  }
 },
 "nbformat": 4,
 "nbformat_minor": 5
}
