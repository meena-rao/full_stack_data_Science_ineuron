{
 "cells": [
  {
   "cell_type": "code",
   "execution_count": 12,
   "id": "0f38f50d",
   "metadata": {},
   "outputs": [
    {
     "name": "stdout",
     "output_type": "stream",
     "text": [
      "Enter a  4\n",
      "Enter b  10\n",
      "20\n"
     ]
    }
   ],
   "source": [
    "#1.\tWrite a Python Program to Find LCM ( lease common multiple)?\n",
    "\n",
    "def gcd(x,y):\n",
    "    while(y):\n",
    "        x,y = y, x%y\n",
    "    return x\n",
    "\n",
    "def lcm(a,b):\n",
    "    l = int((a*b)//gcd(a,b))\n",
    "    return l\n",
    "\n",
    "try:\n",
    "    a = int(input(\"Enter a  \"))\n",
    "    b = int(input(\"Enter b  \"))\n",
    "    print(lcm(a,b) )\n",
    "    \n",
    "except Exception as E:\n",
    "    print(E)"
   ]
  },
  {
   "cell_type": "code",
   "execution_count": 15,
   "id": "5efe670e",
   "metadata": {},
   "outputs": [
    {
     "name": "stdout",
     "output_type": "stream",
     "text": [
      "enter a  40\n",
      "enter b  10\n"
     ]
    },
    {
     "data": {
      "text/plain": [
       "10"
      ]
     },
     "execution_count": 15,
     "metadata": {},
     "output_type": "execute_result"
    }
   ],
   "source": [
    "#2.\tWrite a Python Program to Find HCF ?\n",
    "def hcf(a,b):\n",
    "    \"\"\" compute greatest common factor \"\"\"\n",
    "    if a>b:\n",
    "        small = b\n",
    "    else:\n",
    "        small = a\n",
    "    for i in range(1, small+1):\n",
    "        if(( a%i== 0) and (b%i == 0)):\n",
    "            HCF = i\n",
    "    return HCF\n",
    "\n",
    "a =int(input(\"enter a  \"))\n",
    "b = int(input(\"enter b  \"))\n",
    "hcf(a,b)"
   ]
  },
  {
   "cell_type": "code",
   "execution_count": 29,
   "id": "11563569",
   "metadata": {
    "scrolled": false
   },
   "outputs": [
    {
     "name": "stdout",
     "output_type": "stream",
     "text": [
      "enter decimal number10\n",
      "1: decimal to binary \n",
      "2: to Octal \n",
      " 3: Hexadecimal 3\n",
      " to hexadecimal\n",
      "0xa\n"
     ]
    }
   ],
   "source": [
    "#3.\tWrite a Python Program to Convert Decimal to Binary, Octal and Hexadecimal?\n",
    "\n",
    "def conversion(a, c):\n",
    "    \"\"\"to convert decimal to binary, octal, hexadecimal\"\"\"\n",
    "    if c ==1:\n",
    "        print(\" to binary\")\n",
    "        return bin(a)\n",
    "    \n",
    "    elif c ==2:\n",
    "        print(\"  to octal    \")\n",
    "        return oct(a)\n",
    "    elif c ==3:\n",
    "        print(\" to hexadecimal\")\n",
    "        return hex(a)\n",
    "    else:\n",
    "        print(\"Wrong input\")\n",
    "try:\n",
    "    a = int(input(\"enter decimal number\"))\n",
    "    c =int(input(\"1: decimal to binary \\n2: to Octal \\n 3: Hexadecimal \"))\n",
    "    print(conversion(a,c))\n",
    "except ValueError as E:\n",
    "    print(E)"
   ]
  },
  {
   "cell_type": "code",
   "execution_count": 26,
   "id": "ab70ac9d",
   "metadata": {},
   "outputs": [
    {
     "name": "stdout",
     "output_type": "stream",
     "text": [
      "enter decimal number10\n",
      "1010\n",
      "12\n",
      "10\n"
     ]
    }
   ],
   "source": [
    "##### same as above with out built-in\n",
    "\n",
    "def to_bin(a):\n",
    "    r1 =[]\n",
    "    while(a):\n",
    "        r1.append(a%2)\n",
    "        a = int(a/2)\n",
    "    return r1\n",
    "\n",
    "def to_oct(a):\n",
    "    r1 =[]\n",
    "    while(a):\n",
    "        r1.append(a%8)\n",
    "        a = int(a/8)\n",
    "    return r1\n",
    "\n",
    "def to_hex(a):\n",
    "    r1 =[]\n",
    "    while(a):\n",
    "        r1.append(a%16)\n",
    "        a = int(a/16)\n",
    "    return r1\n",
    "    \n",
    "def display(l):\n",
    "    i = len(l)-1\n",
    "    while(i>=0):\n",
    "        print(end =str(l[i]))\n",
    "        i -=1\n",
    "    print()\n",
    "try:\n",
    "    a = int(input(\"enter decimal number\"))\n",
    "    \n",
    "    display(to_bin(a))\n",
    "    display(to_oct(a))\n",
    "    display(to_hex(a))\n",
    "except ValueError as E:\n",
    "    print(E)"
   ]
  },
  {
   "cell_type": "code",
   "execution_count": 17,
   "id": "4281ce88",
   "metadata": {},
   "outputs": [
    {
     "name": "stdout",
     "output_type": "stream",
     "text": [
      "1010"
     ]
    }
   ],
   "source": [
    "a =10\n",
    "r1 =[]\n",
    "while(a):\n",
    "    r1.append(a%2)\n",
    "    a = int(a/2)\n",
    "\n",
    "i = len(r1)-1\n",
    "while i>=0:\n",
    "    print(end=str(r1[i]))\n",
    "    i = i-1    \n"
   ]
  },
  {
   "cell_type": "code",
   "execution_count": 30,
   "id": "659c3c62",
   "metadata": {},
   "outputs": [
    {
     "name": "stdout",
     "output_type": "stream",
     "text": [
      "Enter charactera\n",
      "Ascii value 97\n"
     ]
    }
   ],
   "source": [
    "#4.\tWrite a Python Program To Find ASCII value of a character?\n",
    "try:\n",
    "    print(\"Ascii value\", ord(input(\"Enter character\")))\n",
    "except Exception as E:\n",
    "    print(E)"
   ]
  },
  {
   "cell_type": "code",
   "execution_count": 13,
   "id": "970abdcb",
   "metadata": {},
   "outputs": [
    {
     "name": "stdout",
     "output_type": "stream",
     "text": [
      "Enter 1: add 2:  sub 3: multiplication  4: division4\n",
      "enter a 30\n",
      "enter b 4\n",
      "7.5\n"
     ]
    }
   ],
   "source": [
    "#5.\tWrite a Python Program to Make a Simple Calculator with 4 basic mathematical operations?\n",
    "def cal(a,b, c):\n",
    "    \"\"\"simple calculator\"\"\"\n",
    "    try:\n",
    "        if c == 1:\n",
    "            return a+b\n",
    "        elif c ==2:\n",
    "            return a-b\n",
    "        elif c== 3:\n",
    "            return a*b\n",
    "        else:\n",
    "            return a/b\n",
    "    except Exception as E:\n",
    "        print(E)\n",
    "try:\n",
    "    ch = int(input(\"Enter 1: add 2:  sub 3: multiplication  4: division\"))\n",
    "    a = int(input(\"enter a \"))\n",
    "    b = int(input(\"enter b \"))\n",
    "    print(cal(a,b,ch))\n",
    "except Exception as E:\n",
    "    print(E)"
   ]
  }
 ],
 "metadata": {
  "kernelspec": {
   "display_name": "Python 3",
   "language": "python",
   "name": "python3"
  }
 },
 "nbformat": 4,
 "nbformat_minor": 5
}
