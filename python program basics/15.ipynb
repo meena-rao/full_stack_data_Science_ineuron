{
 "cells": [
  {
   "cell_type": "code",
   "execution_count": 40,
   "id": "2af29a82",
   "metadata": {},
   "outputs": [
    {
     "name": "stdout",
     "output_type": "stream",
     "text": [
      "enter a number100\n"
     ]
    },
    {
     "data": {
      "text/plain": [
       "[0, 35, 70]"
      ]
     },
     "execution_count": 40,
     "metadata": {},
     "output_type": "execute_result"
    }
   ],
   "source": [
    "'''Question 1:\n",
    " write a program using generator to print the numbers which can be divisible by 5 and 7\n",
    " between 0 and n in comma separated form while n is input by console.\n",
    "Example:\n",
    "If the following n is given as input to the program: 100 Then, the output of the program should be:  0,35,70 '''\n",
    "def f(n):   \n",
    "    for i in range(0, n+1):\n",
    "        if i%5 == 0 and i%7 == 0:\n",
    "            yield i\n",
    "            \n",
    "n = int(input('enter a number'))\n",
    "l = list()\n",
    "for i in f(n):\n",
    "    l.append(i)\n",
    "l"
   ]
  },
  {
   "cell_type": "code",
   "execution_count": 38,
   "id": "d44e3c98",
   "metadata": {},
   "outputs": [
    {
     "name": "stdout",
     "output_type": "stream",
     "text": [
      "enter a number20\n"
     ]
    },
    {
     "data": {
      "text/plain": [
       "[0, 2, 4, 6, 8, 10, 12, 14, 16, 18, 20]"
      ]
     },
     "execution_count": 38,
     "metadata": {},
     "output_type": "execute_result"
    }
   ],
   "source": [
    "'''Question 2:\n",
    " write a program using generator to print the even numbers between 0 and n in comma separated form \n",
    " while n is input by console.\n",
    "Example:\n",
    "If the following n is given as input to the program:\n",
    "10\n",
    "Then, the output of the program should be:\n",
    "0,2,4,6,8,10'''\n",
    "def f(n):    \n",
    "    for i in range(0, n+1):\n",
    "        if i%2== 0 :\n",
    "            yield i\n",
    "    \n",
    "n = int(input('enter a number'))\n",
    "l = list()\n",
    "for i in f(n):\n",
    "    l.append(i)\n",
    "l"
   ]
  },
  {
   "cell_type": "code",
   "execution_count": 32,
   "id": "93a04966",
   "metadata": {},
   "outputs": [
    {
     "data": {
      "text/plain": [
       "[0, 1, 1, 2, 3, 5, 8, 13, 21, 34]"
      ]
     },
     "execution_count": 32,
     "metadata": {},
     "output_type": "execute_result"
    }
   ],
   "source": [
    "'''Question 3:\n",
    "The Fibonacci Sequence is computed based on the following formula:\n",
    "f(n)=0 if n=0\n",
    "f(n)=1 if n=1\n",
    "f(n)=f(n-1)+f(n-2) if n>1\n",
    "write a program using list comprehension to print the Fibonacci Sequence in comma separated form with a given \n",
    "n input by console.\n",
    "Example:  If the following n is given as input to the program:\n",
    "7  Then, the output of the program should be:\n",
    "0,1,1,2,3,5,8,13'''\n",
    "def f(n):\n",
    "    \n",
    "    f1 , f2 = 0,1  \n",
    "    if n ==0 :\n",
    "        return 0\n",
    "    elif n ==1 :\n",
    "        return 1\n",
    "    else:                \n",
    "        l2 = [0,1]\n",
    "        [l2.append(l2[-2] + l2[-1]) for i in range(3,n+1)]\n",
    "        return l2\n",
    "f(10)"
   ]
  },
  {
   "cell_type": "code",
   "execution_count": 1,
   "id": "95cf3f8b",
   "metadata": {},
   "outputs": [
    {
     "data": {
      "text/plain": [
       "['name1', 'name2', 'name3']"
      ]
     },
     "execution_count": 1,
     "metadata": {},
     "output_type": "execute_result"
    }
   ],
   "source": [
    "'''Question 4:\n",
    "Assuming that we have some email addresses in the \"username@companyname.com\" format, \n",
    "write program to print the user name of a given email address. Both user names and company names are composed of letters only.\n",
    "Example:\n",
    "If the following email address is given as input to the program: john@google.com Then, the output of the program should be: \n",
    "john'''\n",
    "l1  = ['name1@ddd', 'name2@aa', 'name3@ddd']\n",
    "l2 = []\n",
    "for i in l1:\n",
    "    l2.append(i.split('@')[0])\n",
    "l2"
   ]
  },
  {
   "cell_type": "code",
   "execution_count": 22,
   "id": "e32d3346",
   "metadata": {},
   "outputs": [
    {
     "name": "stdout",
     "output_type": "stream",
     "text": [
      "at base class: area=  0\n",
      "at sub class: area =   25\n"
     ]
    }
   ],
   "source": [
    "'''Question 5:\n",
    "Define a class named Shape and its subclass Square. \n",
    "The Square class has an init function which takes a length as argument.\n",
    "Both classes have a area function which can print the area of the shape where Shape's area is 0 by default.'''\n",
    "class shape:\n",
    "    pass\n",
    "    def area(self):\n",
    "        return 0\n",
    "        \n",
    "class square(shape):\n",
    "    def __init__(self, l):\n",
    "        self.l = l\n",
    "    def area(self):\n",
    "        return self.l*self.l\n",
    "sh = shape()\n",
    "print('at base class: area= ', sh.area())\n",
    "\n",
    "sq = square(5)\n",
    "print('at sub class: area =  ', sq.area())"
   ]
  }
 ],
 "metadata": {
  "kernelspec": {
   "display_name": "Python 3 (ipykernel)",
   "language": "python",
   "name": "python3"
  },
  "language_info": {
   "codemirror_mode": {
    "name": "ipython",
    "version": 3
   },
   "file_extension": ".py",
   "mimetype": "text/x-python",
   "name": "python",
   "nbconvert_exporter": "python",
   "pygments_lexer": "ipython3",
   "version": "3.9.7"
  }
 },
 "nbformat": 4,
 "nbformat_minor": 5
}
