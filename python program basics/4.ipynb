{
 "cells": [
  {
   "cell_type": "code",
   "execution_count": 8,
   "id": "75ad7405",
   "metadata": {},
   "outputs": [
    {
     "name": "stdout",
     "output_type": "stream",
     "text": [
      "Enter integer to find factorial3\n"
     ]
    },
    {
     "data": {
      "text/plain": [
       "6"
      ]
     },
     "execution_count": 8,
     "metadata": {},
     "output_type": "execute_result"
    }
   ],
   "source": [
    "#1.\tWrite a Python Program to Find the Factorial of a Number?\n",
    "def fact_f(n):\n",
    "    fact = 1\n",
    "    for i in range(1,n+1):\n",
    "        fact =  fact*i\n",
    "    return fact\n",
    "\n",
    "n = int(input(\"Enter integer to find factorial\"))\n",
    "fact_f(n)"
   ]
  },
  {
   "cell_type": "code",
   "execution_count": 2,
   "id": "75f18147",
   "metadata": {},
   "outputs": [
    {
     "name": "stdout",
     "output_type": "stream",
     "text": [
      "Enter number to generate multiplication table4\n",
      "4 * 1 = 4\n",
      "4 * 2 = 8\n",
      "4 * 3 = 12\n",
      "4 * 4 = 16\n"
     ]
    }
   ],
   "source": [
    "#2.\tWrite a Python Program to Display the multiplication Table?\n",
    "def table(n):\n",
    "    \"\"\"Function to generate multiplication table\"\"\"\n",
    "    for i in range(1,n+1):\n",
    "        print(n,\"*\",i, \"=\", n*i)\n",
    "        \n",
    "num = int(input(\"Enter number to generate multiplication table\"))\n",
    "table(num)"
   ]
  },
  {
   "cell_type": "code",
   "execution_count": 19,
   "id": "53b6e407",
   "metadata": {},
   "outputs": [
    {
     "name": "stdout",
     "output_type": "stream",
     "text": [
      "Enter number to generate fibanacci sequence10\n",
      "0 1 1 2 3 5 8 13 21 34 "
     ]
    }
   ],
   "source": [
    "#3.\tWrite a Python Program to Print the Fibonacci sequence?\n",
    "def fib(n):\n",
    "    \"\"\" Fibonacci sequence\"\"\"\n",
    "    n1,n2 = 0,1\n",
    "    print(n1,n2, end = \" \")\n",
    "    for i in range(3, n+1):\n",
    "        n1 ,n2 = n2, n1+n2\n",
    "        print(n2, end = \" \")\n",
    "        \n",
    "num = int(input(\"Enter number to generate fibanacci sequence\"))\n",
    "fib(num)"
   ]
  },
  {
   "cell_type": "code",
   "execution_count": 33,
   "id": "52143740",
   "metadata": {},
   "outputs": [
    {
     "name": "stdout",
     "output_type": "stream",
     "text": [
      "Enter number to Check Armstrong Number153\n",
      "sum =  153\n",
      "It is armstrong number\n"
     ]
    }
   ],
   "source": [
    "#4.\tWrite a Python Program to Check Armstrong Number?\n",
    "#In case of an Armstrong number of 3 digits, the sum of cubes of each digit is equal to the number itself\n",
    "\n",
    "def armstrong_n(n):\n",
    "    \"\"\"to Check Armstrong Number\"\"\"\n",
    "    order = len(str(n))\n",
    "    temp = n\n",
    "    sum = 0\n",
    "    \n",
    "    while(temp) :\n",
    "        digit = temp %10\n",
    "        sum = sum + digit ** order\n",
    "        temp  = int(temp/10)\n",
    "    print(\"sum = \", sum)\n",
    "    if(sum == n):\n",
    "        print( \"It is armstrong number\")\n",
    "    else:\n",
    "        print(\"NOT\")\n",
    "        \n",
    "num = int(input(\"Enter number to Check Armstrong Number\"))\n",
    "armstrong_n(num)"
   ]
  },
  {
   "cell_type": "code",
   "execution_count": 35,
   "id": "2a16aa0d",
   "metadata": {},
   "outputs": [
    {
     "name": "stdout",
     "output_type": "stream",
     "text": [
      "Enter interval1  1\n",
      "Enter interval2  1000\n"
     ]
    },
    {
     "data": {
      "text/plain": [
       "[1, 2, 3, 4, 5, 6, 7, 8, 9, 153, 370, 371, 407]"
      ]
     },
     "execution_count": 35,
     "metadata": {},
     "output_type": "execute_result"
    }
   ],
   "source": [
    "#5.\tWrite a Python Program to Find Armstrong Number in an Interval?\n",
    "def armstrong(r1, r2):\n",
    "    \"\"\"to find  Armstrong Number in intervals\"\"\"\n",
    "    l =[]\n",
    "    for i in range(r1,r2+1):\n",
    "        order = len(str(i))\n",
    "        temp = i\n",
    "        sum = 0\n",
    "        while(temp) :\n",
    "            digit = temp %10\n",
    "            sum = sum + digit ** order\n",
    "            temp  = int(temp/10)\n",
    "        if(sum == i):\n",
    "            l.append(i)\n",
    "    return l\n",
    "        \n",
    "        \n",
    "r1 = int(input(\"Enter interval1  \"))\n",
    "r2 = int(input(\"Enter interval2  \"))\n",
    "\n",
    "armstrong(r1,r2)"
   ]
  },
  {
   "cell_type": "code",
   "execution_count": 15,
   "id": "dc30ffe6",
   "metadata": {
    "scrolled": true
   },
   "outputs": [
    {
     "name": "stdout",
     "output_type": "stream",
     "text": [
      "Enter number 4\n",
      "1 + 2 + 3 + 4 + \n",
      "10\n"
     ]
    }
   ],
   "source": [
    "#6.\tWrite a Python Program to Find the Sum of Natural Numbers?\n",
    "def sum(n):\n",
    "    s = 0\n",
    "    for i in range(1,n+1):\n",
    "        s = s+i\n",
    "        print(i,\"+\", end = \" \")\n",
    "    print()\n",
    "    return s\n",
    "\n",
    "try:\n",
    "    num = int(input(\"Enter number \"))\n",
    "    if(num<0):\n",
    "        print(\"enter positive value \")\n",
    "    print(sum(num))\n",
    "except Exception as E:\n",
    "    print(E)\n",
    "\n",
    "        "
   ]
  }
 ],
 "metadata": {
  "kernelspec": {
   "display_name": "Python 3",
   "language": "python",
   "name": "python3"
  },
  "language_info": {
   "codemirror_mode": {
    "name": "ipython",
    "version": 3
   },
   "file_extension": ".py",
   "mimetype": "text/x-python",
   "name": "python",
   "nbconvert_exporter": "python",
   "pygments_lexer": "ipython3",
   "version": "3.8.10"
  }
 },
 "nbformat": 4,
 "nbformat_minor": 5
}
