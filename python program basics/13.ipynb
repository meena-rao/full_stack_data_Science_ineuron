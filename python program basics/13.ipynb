{
 "cells": [
  {
   "cell_type": "code",
   "execution_count": 12,
   "id": "40737b00",
   "metadata": {},
   "outputs": [
    {
     "name": "stdout",
     "output_type": "stream",
     "text": [
      "Enter the Input: 100,150,180\n"
     ]
    },
    {
     "data": {
      "text/plain": [
       "[18, 22, 24]"
      ]
     },
     "execution_count": 12,
     "metadata": {},
     "output_type": "execute_result"
    }
   ],
   "source": [
    "'''Question 1:Write a program that calculates and prints the value according to the given formula:\n",
    "\n",
    "Q = Square root of [(2 * C * D)/H]\n",
    "Following are the fixed values of C and H:\n",
    "C is 50. H is 30.\n",
    "D is the variable whose values should be input to your program in a comma-separated sequence.\n",
    "Example\n",
    "Let us assume the following comma separated input sequence is given to the program:\n",
    "100,150,180\n",
    "The output of the program should be:\n",
    "18,22,24'''\n",
    "from math import sqrt\n",
    "def f(l):\n",
    "    l2 = list()\n",
    "    c= 50\n",
    "    h=30\n",
    "    for d in l:\n",
    "        l2.append(int((sqrt((2*c*d)//h))))\n",
    "    return l2\n",
    "num = eval(input(\"Enter the Input: \"))\n",
    "f(num)\n"
   ]
  },
  {
   "cell_type": "code",
   "execution_count": 17,
   "id": "ae27db21",
   "metadata": {},
   "outputs": [
    {
     "name": "stdout",
     "output_type": "stream",
     "text": [
      "Row:3\n",
      "Column:5\n",
      "[[0, 0, 0, 0, 0], [0, 1, 2, 3, 4], [0, 2, 4, 6, 8]]\n"
     ]
    }
   ],
   "source": [
    "'''#2Write a program which takes 2 digits, X,Y as input and generates a 2-dimensional array. \n",
    "#The element value in the i-th row and j-th column of the array should be i*j.\n",
    "\n",
    "Note: i=0,1.., X-1; j=0,1,¡¬Y-1.\n",
    "Example\n",
    "Suppose the following inputs are given to the program:\n",
    "3,5\n",
    "Then, the output of the program should be:\n",
    "x[0, 0, 0, 0, 0], [0, 1, 2, 3, 4], [0, 2, 4, 6, 8]] '''\n",
    "import numpy as np\n",
    "m=int(input(\"Row:\"))\n",
    "n=int(input(\"Column:\"))\n",
    "matrix=[[0 for col in range(n)] for row in range(m)]\n",
    "#d_array = np.zeros((m,n))\n",
    "for row in range(m):\n",
    "    for col in range(n):\n",
    "        matrix[row][col]=row*col\n",
    "print(matrix)\n"
   ]
  },
  {
   "cell_type": "code",
   "execution_count": 62,
   "id": "78c8b286",
   "metadata": {},
   "outputs": [
    {
     "name": "stdout",
     "output_type": "stream",
     "text": [
      "enter comma separated wordswithout,hello,bag,world\n",
      "afte sorting\n"
     ]
    },
    {
     "data": {
      "text/plain": [
       "'bag,hello,without,world'"
      ]
     },
     "execution_count": 62,
     "metadata": {},
     "output_type": "execute_result"
    }
   ],
   "source": [
    "'''#3Write a program that accepts a comma separated sequence of words as input and \n",
    "#prints the words in a comma-separated sequence after sorting them alphabetically.\n",
    "\n",
    "Suppose the following input is supplied to the program:\n",
    "without,hello,bag,world\n",
    "Then, the output should be:\n",
    "bag,hello,without,world'''\n",
    "def sortf(l):\n",
    "    l.sort()\n",
    "    return l\n",
    "    \n",
    "l =input(\"enter comma separated words\").split(',')\n",
    "l2 = sortf(l)\n",
    "res = ','.join(l2)\n",
    "print('afte sorting')\n",
    "res"
   ]
  },
  {
   "cell_type": "code",
   "execution_count": 67,
   "id": "f3f8ada5",
   "metadata": {},
   "outputs": [
    {
     "name": "stdout",
     "output_type": "stream",
     "text": [
      "\n",
      "enter comma separated wordshello world and practice makes perfect and hello world again\n",
      "input was\n",
      " {'again', 'and', 'makes', 'world', 'hello', 'perfect', 'practice'}\n",
      "\n",
      "after removing all duplicate words and sorting them alphanumerically\n"
     ]
    },
    {
     "data": {
      "text/plain": [
       "'again and hello makes perfect practice world'"
      ]
     },
     "execution_count": 67,
     "metadata": {},
     "output_type": "execute_result"
    }
   ],
   "source": [
    "'''#4Write a program that accepts a sequence of whitespace separated words as input and \n",
    "#prints the words after removing all duplicate words and sorting them alphanumerically.\n",
    "\n",
    "Suppose the following input is supplied to the program:\n",
    "hello world and practice makes perfect and hello world again\n",
    "Then, the output should be:\n",
    "again and hello makes perfect practice world'''\n",
    "\n",
    "s =input(\"\\nenter comma separated words\")\n",
    "l = s.split(' ')\n",
    "s = set(l)\n",
    "l = list(s)\n",
    "l.sort()\n",
    "\n",
    "res = ' '.join(l)\n",
    "\n",
    "print(\"input was\\n\", s)\n",
    "print('\\nafter removing all duplicate words and sorting them alphanumerically')\n",
    "res"
   ]
  },
  {
   "cell_type": "code",
   "execution_count": 55,
   "id": "87e5c7c8",
   "metadata": {},
   "outputs": [
    {
     "name": "stdout",
     "output_type": "stream",
     "text": [
      "entr stringhello world! 123\n",
      "LETTERS  10\n",
      "DIGITS  3\n"
     ]
    }
   ],
   "source": [
    "'''#5 Write a program that accepts a sentence and calculate the number of letters and digits.\n",
    "\n",
    "Suppose the following input is supplied to the program:\n",
    "hello world! 123\n",
    "Then, the output should be:\n",
    "LETTERS 10\n",
    "DIGITS 3'''\n",
    "\n",
    "def count(s):\n",
    "    c1 =c2 = 0\n",
    "    for i in s:\n",
    "        if(i.isalpha()):\n",
    "            c1 = c1 +1\n",
    "        elif(i.isdigit()):\n",
    "            c2 = c2 + 1\n",
    "    return c1,c2\n",
    "c1 , c2 = count(input(\"entr string\"))\n",
    "print(\"LETTERS \", c1)\n",
    "print(\"DIGITS \", c2)\n"
   ]
  },
  {
   "cell_type": "code",
   "execution_count": 72,
   "id": "7e9a55f1",
   "metadata": {},
   "outputs": [
    {
     "name": "stdout",
     "output_type": "stream",
     "text": [
      "enter  comma separated passwordsABd1234@1,a F1#,2w3E*,2We3345\n"
     ]
    },
    {
     "data": {
      "text/plain": [
       "'ABd1234@1'"
      ]
     },
     "execution_count": 72,
     "metadata": {},
     "output_type": "execute_result"
    }
   ],
   "source": [
    "'''#6 A website requires the users to input username and password to register. \n",
    "#Write a program to check the validity of password input by users.\n",
    "Following are the criteria for checking the password:\n",
    "1. At least 1 letter between [a-z]\n",
    "2. At least 1 number between [0-9]\n",
    "1. At least 1 letter between [A-Z]\n",
    "3. At least 1 character from [$#@]\n",
    "4. Minimum length of transaction password: 6\n",
    "5. Maximum length of transaction password: 12\n",
    "Your program should accept a sequence of comma separated passwords and will check them according to the above criteria. \n",
    "                        Passwords that match the criteria are to be printed, each separated by a comma.\n",
    "Example\n",
    "If the following passwords are given as input to the program:\n",
    "ABd1234@1,a F1#,2w3E*,2We3345\n",
    "Then, the output of the program should be:\n",
    "ABd1234@1'''\n",
    "import re\n",
    "def check(l):\n",
    "    l2 = list()\n",
    "    for i in l:\n",
    "        while(True):\n",
    "            if len(i)< 6 or len(i)>12:\n",
    "                break\n",
    "            elif not re.search(\"[a-z]\", i):\n",
    "                break\n",
    "            elif not re.search(\"[A-Z]\", i):\n",
    "                break\n",
    "            elif not re.search('[$#@]',i):\n",
    "                break\n",
    "            else:\n",
    "                l2.append(i)\n",
    "                break\n",
    "    return l2   \n",
    "    \n",
    "p = input(\"enter  comma separated passwords\").split(',')\n",
    "' '.join(check(p))\n",
    "\n",
    "\n"
   ]
  },
  {
   "cell_type": "code",
   "execution_count": null,
   "id": "46bb61d8",
   "metadata": {},
   "outputs": [],
   "source": []
  }
 ],
 "metadata": {
  "kernelspec": {
   "display_name": "Python 3 (ipykernel)",
   "language": "python",
   "name": "python3"
  },
  "language_info": {
   "codemirror_mode": {
    "name": "ipython",
    "version": 3
   },
   "file_extension": ".py",
   "mimetype": "text/x-python",
   "name": "python",
   "nbconvert_exporter": "python",
   "pygments_lexer": "ipython3",
   "version": "3.9.7"
  }
 },
 "nbformat": 4,
 "nbformat_minor": 5
}
