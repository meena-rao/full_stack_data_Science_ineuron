{
 "cells": [
  {
   "cell_type": "code",
   "execution_count": 13,
   "id": "c3826378",
   "metadata": {},
   "outputs": [
    {
     "name": "stdout",
     "output_type": "stream",
     "text": [
      "enter kilometer15\n"
     ]
    },
    {
     "data": {
      "text/plain": [
       "9.320549999999999"
      ]
     },
     "execution_count": 13,
     "metadata": {},
     "output_type": "execute_result"
    }
   ],
   "source": [
    "#1.\tWrite a Python program to convert kilometers to miles?\n",
    "#1 kilometer (km) = 0.62137 miles (mi)\n",
    "k = int(input(\"enter kilometer\"))\n",
    "m = 0.62137 * k\n",
    "m"
   ]
  },
  {
   "cell_type": "code",
   "execution_count": 12,
   "id": "109ec4d1",
   "metadata": {},
   "outputs": [
    {
     "name": "stdout",
     "output_type": "stream",
     "text": [
      "enter temperature in celsius37\n"
     ]
    },
    {
     "data": {
      "text/plain": [
       "98.60000000000001"
      ]
     },
     "execution_count": 12,
     "metadata": {},
     "output_type": "execute_result"
    }
   ],
   "source": [
    "#2.\tWrite a Python program to convert Celsius to Fahrenheit?\n",
    "cel =int(input(\"enter temperature in celsius\"))\n",
    "far = 9/5*(cel)+32\n",
    "far"
   ]
  },
  {
   "cell_type": "code",
   "execution_count": 6,
   "id": "e602e244",
   "metadata": {},
   "outputs": [
    {
     "name": "stdout",
     "output_type": "stream",
     "text": [
      "Enter year1983\n",
      "Enter month1\n",
      "    January 1983\n",
      "Mo Tu We Th Fr Sa Su\n",
      "                1  2\n",
      " 3  4  5  6  7  8  9\n",
      "10 11 12 13 14 15 16\n",
      "17 18 19 20 21 22 23\n",
      "24 25 26 27 28 29 30\n",
      "31\n",
      "\n"
     ]
    }
   ],
   "source": [
    "#3.\tWrite a Python program to display calendar?\n",
    "import calendar\n",
    "y = int(input(\"Enter year\"))\n",
    "m = int(input(\"Enter month\"))\n",
    "        \n",
    "print(calendar.month(y,m))"
   ]
  },
  {
   "cell_type": "code",
   "execution_count": 19,
   "id": "ba1bcab7",
   "metadata": {},
   "outputs": [
    {
     "name": "stdout",
     "output_type": "stream",
     "text": [
      "(-2+0j)\n",
      "(-3+0j)\n"
     ]
    }
   ],
   "source": [
    "#4.\tWrite a Python program to solve quadratic equation?\n",
    "import cmath\n",
    "a,b,c =1,5,6\n",
    "d = b*b-(4*a*c)\n",
    "d = cmath.sqrt(d)\n",
    "\n",
    "r1 =(-b+d)/(2*a)\n",
    "r2 =(-b-d)/(2*a)\n",
    "print(r1)\n",
    "print(r2)"
   ]
  },
  {
   "cell_type": "code",
   "execution_count": 1,
   "id": "6e282392",
   "metadata": {},
   "outputs": [
    {
     "name": "stdout",
     "output_type": "stream",
     "text": [
      "enter variable134\n",
      "enter one more67\n",
      "67     34\n"
     ]
    }
   ],
   "source": [
    "#5.\tWrite a Python program to swap two variables without temp variable?\n",
    "a = input(\"enter variable1\")\n",
    "b =input(\"enter one more\")\n",
    "\n",
    "a,b=b,a\n",
    "\n",
    "print(a, \"   \", b)"
   ]
  }
 ],
 "metadata": {
  "kernelspec": {
   "display_name": "Python 3",
   "language": "python",
   "name": "python3"
  },
  "language_info": {
   "codemirror_mode": {
    "name": "ipython",
    "version": 3
   },
   "file_extension": ".py",
   "mimetype": "text/x-python",
   "name": "python",
   "nbconvert_exporter": "python",
   "pygments_lexer": "ipython3",
   "version": "3.8.10"
  }
 },
 "nbformat": 4,
 "nbformat_minor": 5
}
