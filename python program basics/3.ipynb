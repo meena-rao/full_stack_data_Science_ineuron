{
 "cells": [
  {
   "cell_type": "code",
   "execution_count": 3,
   "id": "ba534bbf",
   "metadata": {},
   "outputs": [
    {
     "name": "stdout",
     "output_type": "stream",
     "text": [
      "enter a number0\n",
      "zero\n"
     ]
    }
   ],
   "source": [
    "#1.\tWrite a Python Program to Check if a Number is Positive, Negative or Zero?\n",
    "n = int(input(\"enter a number\"))\n",
    "if(n>0):\n",
    "    print(\"positive\")\n",
    "elif(n==0):\n",
    "    print(\"zero\")\n",
    "else:\n",
    "    print(\"negative\")\n",
    "    "
   ]
  },
  {
   "cell_type": "code",
   "execution_count": 7,
   "id": "25dd1568",
   "metadata": {},
   "outputs": [
    {
     "name": "stdout",
     "output_type": "stream",
     "text": [
      "enter a number23\n",
      "odd\n"
     ]
    }
   ],
   "source": [
    "#2.\tWrite a Python Program to Check if a Number is Odd or Even?\n",
    "n = int(input(\"enter a number\"))\n",
    "if(n%2==0):\n",
    "    print(\"even\")\n",
    "else:\n",
    "    print(\"odd\")"
   ]
  },
  {
   "cell_type": "code",
   "execution_count": 6,
   "id": "d71c7aaf",
   "metadata": {},
   "outputs": [
    {
     "name": "stdout",
     "output_type": "stream",
     "text": [
      "enter year1990\n",
      "not\n"
     ]
    }
   ],
   "source": [
    "#3.\tWrite a Python Program to Check Leap Year?\n",
    "#A leap year is exactly divisible by 4 except for century years (years ending with 00). \n",
    "#The century year is a leap year only if it is perfectly divisible by 400\n",
    "\n",
    "y =int(input(\"enter year\"))\n",
    "if(y%400==0)  and (y%100==0):\n",
    "    print(\"leap year\")\n",
    "elif(y%4==0):\n",
    "    print(\"leap\")\n",
    "else:\n",
    "    print(\"not\")\n",
    "    "
   ]
  },
  {
   "cell_type": "code",
   "execution_count": 44,
   "id": "7a26082c",
   "metadata": {},
   "outputs": [
    {
     "name": "stdout",
     "output_type": "stream",
     "text": [
      "enter number38\n",
      "38 is not prime\n"
     ]
    }
   ],
   "source": [
    "#4.\tWrite a Python Program to Check Prime Number?\n",
    "\n",
    "num = int(input(\"enter number\"))\n",
    "\n",
    "for i in range(2,num):\n",
    "    if(num%i==0):\n",
    "        print(num,\"is not prime\")\n",
    "        break\n",
    "else:\n",
    "    print(num,\"is prime\")"
   ]
  },
  {
   "cell_type": "code",
   "execution_count": 37,
   "id": "26180b59",
   "metadata": {},
   "outputs": [
    {
     "name": "stdout",
     "output_type": "stream",
     "text": [
      "enter range1 and 2\n",
      "1\n",
      "100\n",
      "Prime numbers are\n",
      "[2, 3, 5, 7, 11, 13, 17, 19, 23, 29, 31, 37, 41, 43, 47, 53, 59, 61, 67, 71, 73, 79, 83, 89, 97]\n"
     ]
    }
   ],
   "source": [
    "#5.\tWrite a Python Program to Print all Prime Numbers in an Interval of 1-10000?\n",
    "def prime(r1,r2):\n",
    "    l=[]\n",
    "    for i in range(r1, r2+1):\n",
    "        if i > 1:\n",
    "            for j in range(2,i):\n",
    "                if(i%j)==0:\n",
    "                     break\n",
    "            else:\n",
    "                l.append(i)\n",
    "                #print(i, end = \"  \")\n",
    "    return l\n",
    "\n",
    "def main():\n",
    "    l=[]\n",
    "    print(\"enter range1 and 2\")\n",
    "    r1 = int(input())\n",
    "    r2 = int(input())\n",
    "    l = prime(r1,r2)\n",
    "    print(\"Prime numbers are\")   \n",
    "    print(l)\n",
    "main()\n"
   ]
  }
 ],
 "metadata": {
  "kernelspec": {
   "display_name": "Python 3",
   "language": "python",
   "name": "python3"
  },
  "language_info": {
   "codemirror_mode": {
    "name": "ipython",
    "version": 3
   },
   "file_extension": ".py",
   "mimetype": "text/x-python",
   "name": "python",
   "nbconvert_exporter": "python",
   "pygments_lexer": "ipython3",
   "version": "3.8.10"
  }
 },
 "nbformat": 4,
 "nbformat_minor": 5
}
