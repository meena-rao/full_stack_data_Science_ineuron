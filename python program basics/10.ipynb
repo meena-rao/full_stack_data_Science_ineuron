{
 "cells": [
  {
   "cell_type": "code",
   "execution_count": 6,
   "id": "07b9c40b",
   "metadata": {
    "scrolled": true
   },
   "outputs": [
    {
     "name": "stdout",
     "output_type": "stream",
     "text": [
      "say how many list elements?5\n",
      "enter an integer2\n",
      "enter an integer5\n",
      "enter an integer1\n",
      "enter an integer10\n",
      "enter an integer3\n",
      "given list is  [2, 5, 1, 10, 3]\n",
      "sum 21\n"
     ]
    }
   ],
   "source": [
    "#1. Write a Python program to find sum of elements in list?\n",
    "def su(l):\n",
    "    s = 0\n",
    "    for i in l:\n",
    "        s = s+i\n",
    "    return s\n",
    "\n",
    "size = int(input(\"say how many list elements?\"))\n",
    "l = []\n",
    "for i in range(1, size+1):\n",
    "    l.append(int(input(\"enter an integer\")))\n",
    "print(\"given list is \", l)\n",
    "s = su(l)\n",
    "print(\"sum\",s)"
   ]
  },
  {
   "cell_type": "code",
   "execution_count": 13,
   "id": "1a72c07d",
   "metadata": {},
   "outputs": [
    {
     "name": "stdout",
     "output_type": "stream",
     "text": [
      "say how many list elements?3\n",
      "enter an integer12\n",
      "enter an integer2\n",
      "enter an integer3\n",
      "\n",
      "given list is  [12, 2, 3]\n",
      "result =  72\n"
     ]
    }
   ],
   "source": [
    "#2. Write a Python program to Multiply all numbers in the list?\n",
    "def createlist():\n",
    "    size = int(input(\"say how many list elements?\"))\n",
    "    l = []\n",
    "    for i in range(1, size+1):\n",
    "        l.append(int(input(\"enter an integer\")))\n",
    "    print(\"\\ngiven list is \", l)\n",
    "    return l\n",
    "    \n",
    "def mul(l):\n",
    "    res = 1\n",
    "    for i in l:\n",
    "        res = res * i\n",
    "    return res\n",
    "\n",
    "l = createlist()\n",
    "res = mul(l)\n",
    "print(\"result = \", res)"
   ]
  },
  {
   "cell_type": "code",
   "execution_count": 15,
   "id": "769503c2",
   "metadata": {},
   "outputs": [
    {
     "name": "stdout",
     "output_type": "stream",
     "text": [
      "smallest in [10, 112, 4, 5, 12] is:  4\n"
     ]
    }
   ],
   "source": [
    "#3. Write a Python program to find smallest number in a list?\n",
    "l = [10,112,4,5,12]\n",
    "small = l[0]\n",
    "for i in l:\n",
    "    if i < small:\n",
    "        small = i\n",
    "print(\"smallest in\", l, \"is: \", small)"
   ]
  },
  {
   "cell_type": "code",
   "execution_count": 16,
   "id": "fe74d4a5",
   "metadata": {},
   "outputs": [
    {
     "name": "stdout",
     "output_type": "stream",
     "text": [
      "biggest in [10, 112, 4, 5, 12] is:  112\n"
     ]
    }
   ],
   "source": [
    "#4. Write a Python program to find largest number in a list?\n",
    "l = [10,112,4,5,12]\n",
    "big = l[0]\n",
    "for i in l:\n",
    "    if i > big:\n",
    "        big = i\n",
    "print(\"biggest in\", l, \"is: \", big)"
   ]
  },
  {
   "cell_type": "code",
   "execution_count": 24,
   "id": "4a128b74",
   "metadata": {},
   "outputs": [
    {
     "name": "stdout",
     "output_type": "stream",
     "text": [
      "2nd biggest in [10, 112, 4, 5, 120] is:  112\n"
     ]
    }
   ],
   "source": [
    "#5. Write a Python program to find second largest number in a list?\n",
    "# we could sort also\n",
    "l = [10,112,4,5,120]\n",
    "l2 = l.copy()\n",
    "def bi(l):\n",
    "    big = l[0]\n",
    "    for i in l:\n",
    "        if i > big:\n",
    "            big = i\n",
    "    return big\n",
    "\n",
    "big = bi(l)\n",
    "l.remove(big)\n",
    "b = bi(l)\n",
    "print(\"2nd biggest in\", l2, \"is: \", b)"
   ]
  },
  {
   "cell_type": "code",
   "execution_count": 30,
   "id": "f6d0595c",
   "metadata": {},
   "outputs": [
    {
     "name": "stdout",
     "output_type": "stream",
     "text": [
      "enter value for N3\n",
      "given [10, 112, 4, 5, 120]\n",
      "3 largest numbers are\n",
      "120\n",
      "112\n",
      "10\n"
     ]
    }
   ],
   "source": [
    "#6. Write a Python program to find N largest elements from a list?\n",
    "#we could sort also\n",
    "l = [10,112,4,5,120]\n",
    "l2 = l.copy()\n",
    "\n",
    "def bi(l):\n",
    "    big = l[0]\n",
    "    for i in l:\n",
    "        if i > big:\n",
    "            big = i\n",
    "    return big\n",
    "\n",
    "def drop(big, l):    \n",
    "    l.remove(big)\n",
    "    return l\n",
    "    \n",
    "n = int(input(\"enter value for N\"))\n",
    "print(\"given\", l2)\n",
    "print(n , \"largest numbers are\")\n",
    "for i in range(1,n+1):\n",
    "    big = bi(l)\n",
    "    print(big)\n",
    "    drop(big, l)\n",
    "    "
   ]
  },
  {
   "cell_type": "code",
   "execution_count": 36,
   "id": "48a42530",
   "metadata": {},
   "outputs": [
    {
     "name": "stdout",
     "output_type": "stream",
     "text": [
      "even numbers are\n",
      "2\n",
      "4\n",
      "6\n"
     ]
    }
   ],
   "source": [
    "#7. Write a Python program to print even numbers in a list?\n",
    "l = [1,2,3,4,5,6,7]\n",
    "print(\"even numbers are\")\n",
    "for i in l:\n",
    "    if(i%2==0):\n",
    "        print(i)"
   ]
  },
  {
   "cell_type": "code",
   "execution_count": 37,
   "id": "334169f4",
   "metadata": {},
   "outputs": [
    {
     "name": "stdout",
     "output_type": "stream",
     "text": [
      "odd numbers are\n",
      "1\n",
      "3\n",
      "5\n",
      "7\n"
     ]
    }
   ],
   "source": [
    "#8. Write a Python program to print odd numbers in a List?\n",
    "l = [1,2,3,4,5,6,7]\n",
    "print(\"odd numbers are\")\n",
    "for i in l:\n",
    "    if(i%2!=0):\n",
    "        print(i)"
   ]
  },
  {
   "cell_type": "code",
   "execution_count": 61,
   "id": "556f9476",
   "metadata": {},
   "outputs": [
    {
     "name": "stdout",
     "output_type": "stream",
     "text": [
      "given : [10, [], 20, 30, [], 40, 50, [], [], 90]\n",
      "after removal : [10, 20, 30, 40, 50, 90]\n"
     ]
    }
   ],
   "source": [
    "#9. Write a Python program to Remove empty List from List?\n",
    "# Initializing list\n",
    "l = [10, [], 20, 30, [], 40, 50, [], [], 90]\n",
    "\n",
    "print(\"given : \" + str(l))\n",
    "result = list(filter(None, l))\n",
    "print (\"after removal : \" + str(result))"
   ]
  },
  {
   "cell_type": "code",
   "execution_count": 41,
   "id": "39e7ac83",
   "metadata": {},
   "outputs": [
    {
     "name": "stdout",
     "output_type": "stream",
     "text": [
      "[1, 2, 3, 4, 5, 6, 7]\n",
      "[1, 2, 3, 4, 5, 6, 7]\n"
     ]
    }
   ],
   "source": [
    "#10. Write a Python program to Cloning or Copying a list?\n",
    "l = [1,2,3,4,5,6,7]\n",
    "l2 = l.copy()\n",
    "print(l)\n",
    "print(l2)"
   ]
  },
  {
   "cell_type": "code",
   "execution_count": 42,
   "id": "7528883c",
   "metadata": {},
   "outputs": [
    {
     "name": "stdout",
     "output_type": "stream",
     "text": [
      "[1, 2, 3, 4, 5, 6, 7]\n",
      "[1, 2, 3, 4, 5, 6, 7]\n"
     ]
    }
   ],
   "source": [
    "#second approach\n",
    "l = [1,2,3,4,5,6,7]\n",
    "l2 =[]\n",
    "for i in l:\n",
    "    l2.append(i)\n",
    "print(l)\n",
    "print(l2)"
   ]
  },
  {
   "cell_type": "code",
   "execution_count": 58,
   "id": "44916465",
   "metadata": {},
   "outputs": [
    {
     "name": "stdout",
     "output_type": "stream",
     "text": [
      "[1, 12, 3, 1, 2, 3, 3, 34, 6]\n",
      "\n",
      "1 ocuurs 2  times\n",
      "\n",
      "12 ocuurs 1  times\n",
      "\n",
      "3 ocuurs 3  times\n",
      "\n",
      "2 ocuurs 1  times\n",
      "\n",
      "34 ocuurs 1  times\n",
      "\n",
      "6 ocuurs 1  times\n"
     ]
    }
   ],
   "source": [
    "#11. Write a Python program to Count occurrences of an element in a list?\n",
    "l = [1,12,3,1,2,3,3, 34,6]\n",
    "d = {}\n",
    "\n",
    "for i in l:\n",
    "    if(i in d):\n",
    "        d[i] = d[i] +1\n",
    "    else:\n",
    "        d[i] = 1\n",
    "print(l)\n",
    "for i in d:\n",
    "    print('\\n{} ocuurs {}  times'.format(i,d[i] ))"
   ]
  }
 ],
 "metadata": {
  "kernelspec": {
   "display_name": "Python 3 (ipykernel)",
   "language": "python",
   "name": "python3"
  },
  "language_info": {
   "codemirror_mode": {
    "name": "ipython",
    "version": 3
   },
   "file_extension": ".py",
   "mimetype": "text/x-python",
   "name": "python",
   "nbconvert_exporter": "python",
   "pygments_lexer": "ipython3",
   "version": "3.9.7"
  }
 },
 "nbformat": 4,
 "nbformat_minor": 5
}
