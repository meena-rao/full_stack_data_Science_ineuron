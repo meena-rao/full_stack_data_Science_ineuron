{
 "cells": [
  {
   "cell_type": "code",
   "execution_count": 7,
   "id": "b10e8f7d",
   "metadata": {},
   "outputs": [
    {
     "name": "stdout",
     "output_type": "stream",
     "text": [
      "enter a1\n",
      "enter b1\n",
      "enter c1\n",
      "amount of integers which are of equal value: 3\n"
     ]
    }
   ],
   "source": [
    "'''Question1\n",
    "Create a function that takes three integer arguments (a, b, c) and returns the amount of integers which are of equal value.\n",
    "Examples\n",
    "equal(3, 4, 3) ➞ 2\n",
    "equal(1, 1, 1) ➞ 3\n",
    "equal(3, 4, 1) ➞ 0 \n",
    "Notes\n",
    "Your function must return 0, 2 or 3.'''\n",
    "\n",
    "def f(a,b,c):\n",
    "    \"\"\"takes three integer arguments (a, b, c) and returns the amount of integers which are of equal value.\"\"\"\n",
    "    if(a == b and a == c):\n",
    "        return 3\n",
    "    elif(a==b or a==c):\n",
    "        return 2\n",
    "    else:\n",
    "        return 0\n",
    "         \n",
    "def read():\n",
    "    a = int(input(\"enter a\"))\n",
    "    b = int(input(\"enter b\"))\n",
    "    c = int(input(\"enter c\"))\n",
    "    return a,b,c\n",
    "\n",
    "a,b,c = read()\n",
    "num = f(a,b,c)\n",
    "print(\"amount of integers which are of equal value:\", num)"
   ]
  },
  {
   "cell_type": "code",
   "execution_count": 16,
   "id": "aa0f7f91",
   "metadata": {},
   "outputs": [
    {
     "data": {
      "text/plain": [
       "[('dislikes', 3), ('followers', 10), ('likes', 2)]"
      ]
     },
     "execution_count": 16,
     "metadata": {},
     "output_type": "execute_result"
    }
   ],
   "source": [
    "'''Question2\n",
    "Write a function that converts a dictionary into a list of keys-values tuples.\n",
    "Examples\n",
    "dict_to_list({\n",
    "  \"D\": 1,\n",
    "  \"B\": 2,\n",
    "  \"C\": 3\n",
    "}) ➞ [(\"B\", 2), (\"C\", 3), (\"D\", 1)]\n",
    "\n",
    " ➞ [(\"dislikes\", 3), (\"followers\", 10), (\"likes\", 2)]\n",
    "Notes\n",
    "Return the elements in the list in alphabetical order.'''\n",
    "\n",
    "def dict_to_list(d):\n",
    "    '''Return the dict elements in the list in alphabetical order.'''\n",
    "    return list(sorted(d.items()))\n",
    "    \n",
    "d = { \"likes\": 2,   \"dislikes\": 3,   \"followers\": 10 }\n",
    "dict_to_list(d)"
   ]
  },
  {
   "cell_type": "code",
   "execution_count": 19,
   "id": "5b0b618d",
   "metadata": {},
   "outputs": [
    {
     "data": {
      "text/plain": [
       "{'p': 'P', 's': 'S'}"
      ]
     },
     "execution_count": 19,
     "metadata": {},
     "output_type": "execute_result"
    }
   ],
   "source": [
    "'''Question3\n",
    "Write a function that creates a dictionary with each (key, value) pair being the (lower case, upper case) versions of a letter, respectively.\n",
    "Examples\n",
    "mapping([\"p\", \"s\"]) ➞ { \"p\": \"P\", \"s\": \"S\" }\n",
    "mapping([\"a\", \"b\", \"c\"]) ➞ { \"a\": \"A\", \"b\": \"B\", \"c\": \"C\" }\n",
    "mapping([\"a\", \"v\", \"y\", \"z\"]) ➞ { \"a\": \"A\", \"v\": \"V\", \"y\": \"Y\", \"z\": \"Z\" }\n",
    "Notes-All of the letters in the input list will always be lowercase.'''\n",
    "\n",
    "def mapping(li):\n",
    "    d = dict()\n",
    "    for i in li:\n",
    "        d[i] = i.upper()\n",
    "    return d\n",
    "\n",
    "mapping([\"p\", \"s\"])    "
   ]
  },
  {
   "cell_type": "code",
   "execution_count": 24,
   "id": "72d07b54",
   "metadata": {},
   "outputs": [
    {
     "data": {
      "text/plain": [
       "'upplus und bununus'"
      ]
     },
     "execution_count": 24,
     "metadata": {},
     "output_type": "execute_result"
    }
   ],
   "source": [
    "'''Question4\n",
    "Write a function, that replaces all vowels in a string with a specified vowel.\n",
    "Examples\n",
    "vow_replace(\"apples and bananas\", \"u\") ➞ \"upplus und bununus\"\n",
    "vow_replace(\"cheese casserole\", \"o\") ➞ \"chooso cossorolo\"\n",
    "vow_replace(\"stuffed jalapeno poppers\", \"e\") ➞ \"steffed jelepene peppers\"\n",
    "Notes-All words will be lowercase. Y is not considered a vowel.'''\n",
    "def  vow_replace(st, c):\n",
    "    '''replaces all vowels in a string with a specified vowel.'''\n",
    "    vowels  = 'aeiouAEIOU'\n",
    "    for i in vowels:\n",
    "        st = st.replace(i, c)\n",
    "    return st\n",
    "vow_replace(\"apples and bananas\", \"u\")"
   ]
  },
  {
   "cell_type": "code",
   "execution_count": 28,
   "id": "b2d3751d",
   "metadata": {},
   "outputs": [
    {
     "data": {
      "text/plain": [
       "'oH wHaT a BeauTiFuL moRNiNg.'"
      ]
     },
     "execution_count": 28,
     "metadata": {},
     "output_type": "execute_result"
    }
   ],
   "source": [
    "'''Question5\n",
    "Create a function that takes a string as input and capitalizes a letter if its ASCII code is even and \n",
    "returns its lower case version if its ASCII code is odd.\n",
    "Examples\n",
    "ascii_capitalize(\"to be or not to be!\") ➞ \"To Be oR NoT To Be!\"\n",
    "ascii_capitalize(\"THE LITTLE MERMAID\") ➞ \"THe LiTTLe meRmaiD\"\n",
    "ascii_capitalize(\"Oh what a beautiful morning.\") ➞ \"oH wHaT a BeauTiFuL moRNiNg.\"'''\n",
    "def ascii_capitalize(s):\n",
    "    '''takes a string as input and capitalizes a letter if its ASCII code is even and returns its lower case version if its ASCII code is odd. '''\n",
    "    for i in s:\n",
    "        if(ord(i)%2 == 0):\n",
    "            s = s.replace(i,i.upper())\n",
    "    for i in s:\n",
    "        if(ord(i)%2 != 0):\n",
    "            s = s.replace(i,i.lower())\n",
    "    return s\n",
    "\n",
    "ascii_capitalize(\"Oh what a beautiful morning.\")"
   ]
  }
 ],
 "metadata": {
  "kernelspec": {
   "display_name": "Python 3 (ipykernel)",
   "language": "python",
   "name": "python3"
  },
  "language_info": {
   "codemirror_mode": {
    "name": "ipython",
    "version": 3
   },
   "file_extension": ".py",
   "mimetype": "text/x-python",
   "name": "python",
   "nbconvert_exporter": "python",
   "pygments_lexer": "ipython3",
   "version": "3.9.7"
  }
 },
 "nbformat": 4,
 "nbformat_minor": 5
}
