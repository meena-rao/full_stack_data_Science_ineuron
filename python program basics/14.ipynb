{
 "cells": [
  {
   "cell_type": "code",
   "execution_count": 7,
   "id": "b947f7f0",
   "metadata": {},
   "outputs": [
    {
     "name": "stdout",
     "output_type": "stream",
     "text": [
      "0 7 14 21 28 35 "
     ]
    }
   ],
   "source": [
    "#1 Define a class with a generator which can iterate the numbers, which are divisible by 7, \n",
    "#between a given range 0 and n.\n",
    "class a:\n",
    "    def __init__(self,n):\n",
    "        self.n = n\n",
    "    def get_numbers(self):\n",
    "        for ele in range(0,self.n+1):\n",
    "            if ele%7 == 0:\n",
    "                yield ele\n",
    "                \n",
    "ob = a(35)\n",
    "for ele in ob.get_numbers():\n",
    "    print(ele,end=' ')\n"
   ]
  },
  {
   "cell_type": "code",
   "execution_count": 19,
   "id": "b2cc731b",
   "metadata": {},
   "outputs": [
    {
     "name": "stdout",
     "output_type": "stream",
     "text": [
      "2 : 2\n",
      "3. : 1\n",
      "3? : 1\n",
      "New : 1\n",
      "Python : 5\n",
      "Read : 1\n",
      "and : 1\n",
      "between : 1\n",
      "choosing : 1\n",
      "or : 2\n",
      "to : 1\n"
     ]
    }
   ],
   "source": [
    "'''#2 Write a program to compute the frequency of the words from the input. \n",
    "#The output should output after sorting the key alphanumerically. \n",
    "\n",
    "Suppose the following input is supplied to the program:\n",
    "New to Python or choosing between Python 2 and Python 3? Read Python 2 or Python 3.\n",
    "Then, the output should be:\n",
    "2:2\n",
    "3.:1\n",
    "3?:1\n",
    "New:1\n",
    "Python:5\n",
    "Read:1\n",
    "and:1\n",
    "between:1\n",
    "choosing:1\n",
    "or:2\n",
    "to:1 '''\n",
    "def f(s):\n",
    "    l = list(s.split(' '))\n",
    "    d  = {}\n",
    "    for i in l:\n",
    "        if i in d:\n",
    "            d[i] = d[i] +1\n",
    "        else:\n",
    "            d[i] = 1\n",
    "    return d\n",
    "d = f('New to Python or choosing between Python 2 and Python 3? Read Python 2 or Python 3.')\n",
    "for i in sorted(d):\n",
    "    print(i,\":\" , d[i])\n"
   ]
  },
  {
   "cell_type": "code",
   "execution_count": 2,
   "id": "3bcb58dc",
   "metadata": {},
   "outputs": [
    {
     "name": "stdout",
     "output_type": "stream",
     "text": [
      "male\n",
      "female\n"
     ]
    }
   ],
   "source": [
    "#3 Define a class Person and its two child classes: Male and Female. \n",
    "#All classes have a method \"getGender\" which can print \"Male\" for Male class and \"Female\" for Female class.\n",
    "class Person:\n",
    "    def getGender(self):\n",
    "        pass\n",
    "class Male(Person):\n",
    "    def getGender(self):\n",
    "        print(\"male\")\n",
    "class Female(Person):\n",
    "    def getGender(self):\n",
    "        print(\"female\")\n",
    "ob1 = Male()\n",
    "ob1.getGender()\n",
    "ob2 = Female()\n",
    "ob2.getGender()"
   ]
  },
  {
   "cell_type": "code",
   "execution_count": 4,
   "id": "b2a4a405",
   "metadata": {},
   "outputs": [
    {
     "name": "stdout",
     "output_type": "stream",
     "text": [
      "I Play Hockey\n",
      "I Play Football\n",
      "I Love Hockey\n",
      "I Love Football\n",
      "You Play Hockey\n",
      "You Play Football\n",
      "You Love Hockey\n",
      "You Love Football\n"
     ]
    }
   ],
   "source": [
    "# write a program to generate all sentences where subject is in [\"I\", \"You\"] and \n",
    "#verb is in [\"Play\", \"Love\"] and the object is in [\"Hockey\",\"Football\"].\n",
    "def sentence(l1,l2,l3):\n",
    "    for i in l1:\n",
    "        for j in l2:\n",
    "            for k in l3:\n",
    "                print(i ,j,  k)\n",
    "    \n",
    "    \n",
    "l1 = [\"I\", \"You\"]  \n",
    "l2 = [\"Play\", \"Love\"] \n",
    "l3 = [\"Hockey\",\"Football\"]\n",
    "sentence(l1,l2,l3)"
   ]
  },
  {
   "cell_type": "code",
   "execution_count": 26,
   "id": "9e8d523b",
   "metadata": {},
   "outputs": [
    {
     "name": "stdout",
     "output_type": "stream",
     "text": [
      "b'x\\x9c\\xcbH\\xcd\\xc9\\xc9W(\\xcf/\\xcaIQ\\xcc \\x82\\r\\x00\\xbd[\\x11\\xf5'\n",
      "b'hello world!hello world!hello world!hello world!'\n"
     ]
    }
   ],
   "source": [
    "import zlib\n",
    "s = 'hello world!hello world!hello world!hello world!'\n",
    "s = bytes(s, 'utf-8')\n",
    "t = zlib.compress(s)\n",
    "print(t) \n",
    "print(zlib.decompress(t))"
   ]
  },
  {
   "cell_type": "code",
   "execution_count": 5,
   "id": "179b5cb9",
   "metadata": {},
   "outputs": [
    {
     "name": "stdout",
     "output_type": "stream",
     "text": [
      "enter key3\n",
      "3 present at location 3\n"
     ]
    }
   ],
   "source": [
    "### 6  write a binary search function which searches an item in a sorted list. \n",
    "#The function should return the index of element to be searched in the list.\n",
    "def binary_search(li, key):\n",
    "    l = 0\n",
    "    h = len(li)-1\n",
    "    while(l<=h):\n",
    "        mid = l + h//2\n",
    "        if key == li[mid]:\n",
    "            print(f'{key} present at location {mid+1}') \n",
    "            return\n",
    "        elif key < li[mid]:\n",
    "            h  = mid-1\n",
    "        else:\n",
    "            l = mid+1\n",
    "    else:\n",
    "        print(\"not found\")\n",
    "        \n",
    "li = [1,20,3,4,5,55]\n",
    "key = int(input(\"enter key\"))\n",
    "loc  = binary_search(li, key) "
   ]
  }
 ],
 "metadata": {
  "kernelspec": {
   "display_name": "Python 3 (ipykernel)",
   "language": "python",
   "name": "python3"
  },
  "language_info": {
   "codemirror_mode": {
    "name": "ipython",
    "version": 3
   },
   "file_extension": ".py",
   "mimetype": "text/x-python",
   "name": "python",
   "nbconvert_exporter": "python",
   "pygments_lexer": "ipython3",
   "version": "3.9.7"
  }
 },
 "nbformat": 4,
 "nbformat_minor": 5
}
