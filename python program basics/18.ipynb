{
 "cells": [
  {
   "cell_type": "code",
   "execution_count": 1,
   "id": "d3317381",
   "metadata": {},
   "outputs": [
    {
     "name": "stdout",
     "output_type": "stream",
     "text": [
      "➞ [1, 2]\n",
      "➞ [1, 0, 15]\n",
      "➞ [1, 2, 123]\n"
     ]
    }
   ],
   "source": [
    "'''Question 1\n",
    "Create a function that takes a list of non-negative integers and strings and return a new list without the strings.\n",
    "Examples\n",
    "filter_list([1, 2, \"a\", \"b\"]) ➞ [1, 2]\n",
    "filter_list([1, \"a\", \"b\", 0, 15]) ➞ [1, 0, 15]\n",
    "filter_list([1, 2, \"aasf\", \"1\", \"123\", 123]) ➞ [1, 2, 123]'''\n",
    "\n",
    "def filter_list(list):\n",
    "    o = []\n",
    "    for ele in list:\n",
    "        if type(ele) == int and ele >= 0:\n",
    "            o.append(ele)\n",
    "    return o\n",
    "            \n",
    "print(f'➞ {filter_list([1, 2, \"a\", \"b\"])}')\n",
    "print(f'➞ {filter_list([1, \"a\", \"b\", 0, 15])}')\n",
    "print(f'➞ {filter_list([1, 2, \"aasf\", \"1\", \"123\", 123])}')"
   ]
  },
  {
   "cell_type": "code",
   "execution_count": 3,
   "id": "8a693e0b",
   "metadata": {},
   "outputs": [
    {
     "data": {
      "text/plain": [
       "'DLROw OLLEh'"
      ]
     },
     "execution_count": 3,
     "metadata": {},
     "output_type": "execute_result"
    }
   ],
   "source": [
    "'''Question 2\n",
    "The \"Reverser\" takes a string as input and returns that string in reverse order, with the opposite case.\n",
    "Examples\n",
    "reverse(\"Hello World\") ➞ \"DLROw OLLEh\"\n",
    "reverse(\"ReVeRsE\") ➞ \"eSrEvEr\"\n",
    "reverse(\"Radar\") ➞ \"RADAr\"'''\n",
    "def reverse(s):\n",
    "    s = s[::-1]\n",
    "    return s.swapcase()\n",
    "\n",
    "reverse(\"Hello World\")"
   ]
  },
  {
   "cell_type": "code",
   "execution_count": 9,
   "id": "ee5dd120",
   "metadata": {},
   "outputs": [
    {
     "name": "stdout",
     "output_type": "stream",
     "text": [
      "first =  1\n",
      "middle =  [2, 3, 4, 5]\n",
      "last =  6\n"
     ]
    }
   ],
   "source": [
    "'''Question 3\n",
    "You can assign variables from lists like this:\n",
    "lst = [1, 2, 3, 4, 5, 6]\n",
    "first = lst[0]\n",
    "middle = lst[1:-1]\n",
    "last = lst[-1]\n",
    "\n",
    "print(first) ➞ outputs 1\n",
    "print(middle) ➞ outputs [2, 3, 4, 5]\n",
    "print(last) ➞ outputs 6\n",
    "With Python 3, you can assign variables from lists in a much more succinct way. \n",
    "Create variables first, middle and last from the given list using destructuring assignment \n",
    "(check the Resources tab for some examples), where:\n",
    "first  ➞ 1\n",
    "middle ➞ [2, 3, 4, 5]\n",
    "last ➞ 6\n",
    "Your task is to unpack the list writeyourcodehere into three variables, being first, middle, and last, \n",
    "with middle being everything in between the first and last element. Then print all three variables.'''\n",
    "def f(lst):\n",
    "    first, *midle, last  = lst\n",
    "    print('first = ', first)\n",
    "    print('middle = ',midle)\n",
    "    print('last = ',last)\n",
    "\n",
    "f([1, 2, 3, 4, 5, 6])"
   ]
  },
  {
   "cell_type": "code",
   "execution_count": 5,
   "id": "03130bac",
   "metadata": {},
   "outputs": [
    {
     "data": {
      "text/plain": [
       "120"
      ]
     },
     "execution_count": 5,
     "metadata": {},
     "output_type": "execute_result"
    }
   ],
   "source": [
    "'''Question 4\n",
    "Write a function that calculates the factorial of a number recursively.\n",
    "Examples\n",
    "factorial(5) ➞ 120\n",
    "factorial(3) ➞ 6\n",
    "factorial(1) ➞ 1\n",
    "factorial(0) ➞ 1'''\n",
    "def fac(n):\n",
    "    if n ==0 or n==1:\n",
    "        return n\n",
    "    else:\n",
    "        return n*fac(n-1)\n",
    "fac(5)"
   ]
  },
  {
   "cell_type": "code",
   "execution_count": 9,
   "id": "24306eb0",
   "metadata": {},
   "outputs": [
    {
     "data": {
      "text/plain": [
       "[7, 8, 1, 2, 3, 4, 9]"
      ]
     },
     "execution_count": 9,
     "metadata": {},
     "output_type": "execute_result"
    }
   ],
   "source": [
    "'''Question 5\n",
    "Write a function that moves all elements of one type to the end of the list.\n",
    "Examples\n",
    "c([1, 3, 2, 4, 4, 1], 1) ➞ [3, 2, 4, 4, 1, 1]\n",
    "# Move all the 1s to the end of the array.\n",
    "move_to_end([7, 8, 9, 1, 2, 3, 4], 9) ➞ [7, 8, 1, 2, 3, 4, 9]\n",
    "move_to_end([\"a\", \"a\", \"a\", \"b\"], \"a\") ➞ [\"b\", \"a\", \"a\", \"a\"]'''\n",
    "\n",
    "def move_to_end(l,n):\n",
    "    l2 =list()\n",
    "    c =0\n",
    "    for i in l:\n",
    "        if i == n:\n",
    "            temp = l.pop(c)\n",
    "            l.append(temp)\n",
    "        c = c+1\n",
    "    return l\n",
    "    \n",
    "move_to_end([7, 8, 9, 1, 2, 3, 4], 9)\n"
   ]
  }
 ],
 "metadata": {
  "kernelspec": {
   "display_name": "Python 3 (ipykernel)",
   "language": "python",
   "name": "python3"
  },
  "language_info": {
   "codemirror_mode": {
    "name": "ipython",
    "version": 3
   },
   "file_extension": ".py",
   "mimetype": "text/x-python",
   "name": "python",
   "nbconvert_exporter": "python",
   "pygments_lexer": "ipython3",
   "version": "3.9.7"
  }
 },
 "nbformat": 4,
 "nbformat_minor": 5
}
