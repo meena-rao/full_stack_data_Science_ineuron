{
 "cells": [
  {
   "cell_type": "code",
   "execution_count": 26,
   "id": "fdf2105b",
   "metadata": {},
   "outputs": [
    {
     "name": "stdout",
     "output_type": "stream",
     "text": [
      "enter lenght of Fb series10\n",
      "[0, 1, 1, 2, 3, 5, 8, 13, 21, 34]\n"
     ]
    }
   ],
   "source": [
    "#1.\tWrite a Python Program to Display Fibonacci Sequence Using Recursion?\n",
    "l =[0,1]\n",
    "def fib(n, a, b):\n",
    "    if n ==0:\n",
    "        print(l)\n",
    "        return \n",
    "    else:\n",
    "        r = a+b\n",
    "        l.append(r)\n",
    "        a, b = b, r\n",
    "        fib(n-1,a,b)\n",
    "        \n",
    "n = int(input(\"enter lenght of Fb series\"))\n",
    "if n == 1:\n",
    "    print(\"0\")\n",
    "elif n ==2:\n",
    "    print(\"0 1\")\n",
    "else:\n",
    "    fib(n-2,0,1)"
   ]
  },
  {
   "cell_type": "code",
   "execution_count": 44,
   "id": "579f2e7e",
   "metadata": {},
   "outputs": [
    {
     "name": "stdout",
     "output_type": "stream",
     "text": [
      "enter N4\n",
      "24\n"
     ]
    }
   ],
   "source": [
    "# 2.\tWrite a Python Program to Find Factorial of Number Using Recursion?\n",
    "\n",
    "def f(n):\n",
    "    if (n <= 0):\n",
    "        return 1\n",
    "    else:\n",
    "        return n*f(n-1)\n",
    "n = int(input(\"enter N\"))\n",
    "print(f(n))"
   ]
  },
  {
   "cell_type": "code",
   "execution_count": 45,
   "id": "0dca8c8a",
   "metadata": {},
   "outputs": [
    {
     "name": "stdout",
     "output_type": "stream",
     "text": [
      "Enter your Weight(kgs): 50\n",
      "Enter your Height(mts): 1.58496\n",
      "Your're BMI is 19.903680504270937 and status is Perfect, Healthy \n"
     ]
    }
   ],
   "source": [
    "#3.\tWrite a Python Program to calculate your Body Mass Index?\n",
    "def BMI():\n",
    "    in_weight = eval(input('Enter your Weight(kgs): '))\n",
    "    in_height = eval(input('Enter your Height(mts): '))\n",
    "    calc_bmi = in_weight/pow(in_height,2)\n",
    "    if (calc_bmi < 18.5):\n",
    "        status = 'Underweight'\n",
    "    elif (calc_bmi >= 18.5 and calc_bmi < 24.9):\n",
    "        status = 'Perfect, Healthy'\n",
    "    elif (calc_bmi >= 24.9 and calc_bmi < 30):\n",
    "        status = 'Take care U R Overweight'\n",
    "    else:\n",
    "        status = 'Suffering from Obesity'\n",
    "        \n",
    "    return calc_bmi, status\n",
    "calc_bmi, status = BMI()\n",
    "print(f'Your\\'re BMI is {calc_bmi} and status is {status} ')"
   ]
  },
  {
   "cell_type": "code",
   "execution_count": 56,
   "id": "ba4d2086",
   "metadata": {},
   "outputs": [
    {
     "name": "stdout",
     "output_type": "stream",
     "text": [
      "Enter a Number:32\n"
     ]
    },
    {
     "data": {
      "text/plain": [
       "3.4657359027997265"
      ]
     },
     "execution_count": 56,
     "metadata": {},
     "output_type": "execute_result"
    }
   ],
   "source": [
    "#4.\tWrite a Python Program to calculate the natural logarithm of any number?\n",
    "import math\n",
    "def genNatLog(n):\n",
    "    return math.log(n)\n",
    "\n",
    "n = eval(input(\"Enter a Number:\"))\n",
    "genNatLog(n)"
   ]
  },
  {
   "cell_type": "code",
   "execution_count": 51,
   "id": "3b171b3c",
   "metadata": {},
   "outputs": [
    {
     "name": "stdout",
     "output_type": "stream",
     "text": [
      "enter N3\n"
     ]
    },
    {
     "data": {
      "text/plain": [
       "36"
      ]
     },
     "execution_count": 51,
     "metadata": {},
     "output_type": "execute_result"
    }
   ],
   "source": [
    "#5.\tWrite a Python Program for cube sum of first n natural numbers?\n",
    "def cube_s(n):\n",
    "    s = 0\n",
    "    for i in range(1,n+1):\n",
    "        s += pow(i,3)\n",
    "    return s\n",
    "cube_s(int(input(\"enter N\")))\n",
    "    "
   ]
  }
 ],
 "metadata": {
  "kernelspec": {
   "display_name": "Python 3",
   "language": "python",
   "name": "python3"
  },
  "language_info": {
   "codemirror_mode": {
    "name": "ipython",
    "version": 3
   },
   "file_extension": ".py",
   "mimetype": "text/x-python",
   "name": "python",
   "nbconvert_exporter": "python",
   "pygments_lexer": "ipython3",
   "version": "3.8.10"
  }
 },
 "nbformat": 4,
 "nbformat_minor": 5
}
