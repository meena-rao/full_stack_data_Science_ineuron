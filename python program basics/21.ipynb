{
 "cells": [
  {
   "cell_type": "code",
   "execution_count": 13,
   "id": "52019a42",
   "metadata": {},
   "outputs": [
    {
     "name": "stdout",
     "output_type": "stream",
     "text": [
      "next_in_line([5, 6, 7, 8, 9], 1) ➞ [1, 6, 7, 8, 9]\n",
      "next_in_line([7, 6, 3, 23, 17], 10) ➞ ([10, 6, 3, 23, 17], 10)\n",
      "next_in_line([1, 10, 20, 42 ], 6) ➞ [6, 10, 20, 42]\n"
     ]
    }
   ],
   "source": [
    "'''Question1\n",
    "Write a function that takes a list and a number as arguments. Add the number to the end of the list, then remove the first element of the list. The function should then return the updated list.\n",
    "Examples\n",
    "next_in_line([5, 6, 7, 8, 9], 1) ➞ [6, 7, 8, 9, 1]\n",
    "next_in_line([7, 6, 3, 23, 17], 10) ➞ [6, 3, 23, 17, 10]\n",
    "next_in_line([1, 10, 20, 42 ], 6) ➞ [10, 20, 42, 6]\n",
    "next_in_line([], 6) ➞ \"No list has been selected\"'''\n",
    "def next_in_line(l, num):\n",
    "    l.pop(0)        \n",
    "    l.insert(0,num)\n",
    "    return l\n",
    "    \n",
    "print(f'next_in_line([5, 6, 7, 8, 9], 1) ➞ {next_in_line([5, 6, 7, 8, 9],1)}')\n",
    "print(f'next_in_line([7, 6, 3, 23, 17], 10) ➞ {next_in_line([7, 6, 3, 23, 17], 10),10}')\n",
    "print('next_in_line([1, 10, 20, 42 ], 6) ➞ {}'.format(next_in_line([1, 10, 20, 42 ], 6)))"
   ]
  },
  {
   "cell_type": "code",
   "execution_count": 27,
   "id": "368e76fb",
   "metadata": {
    "scrolled": true
   },
   "outputs": [
    {
     "data": {
      "text/plain": [
       "65700"
      ]
     },
     "execution_count": 27,
     "metadata": {},
     "output_type": "execute_result"
    }
   ],
   "source": [
    "'''Question2\n",
    "Create the function that takes a list of dictionaries and returns the sum of people's budgets.\n",
    "\n",
    "Examples\n",
    "get_budgets([\n",
    "  { \"name\": \"John\", \"age\": 21, \"budget\": 23000 },\n",
    "  { \"name\": \"Steve\",  \"age\": 32, \"budget\": 40000 },\n",
    "  { \"name\": \"Martin\",  \"age\": 16, \"budget\": 2700 }\n",
    "]) ➞ 65700'''\n",
    "\n",
    "def get_budgets(l):\n",
    "    s = 0\n",
    "    for i in l:\n",
    "        s = s + i.get('budget')\n",
    "    return s\n",
    "\n",
    "get_budgets([\n",
    "  { \"name\": \"John\", \"age\": 21, \"budget\": 23000 },\n",
    "  { \"name\": \"Steve\",  \"age\": 32, \"budget\": 40000 },\n",
    "  { \"name\": \"Martin\",  \"age\": 16, \"budget\": 2700 }\n",
    "])"
   ]
  },
  {
   "cell_type": "code",
   "execution_count": 29,
   "id": "d80ca69e",
   "metadata": {},
   "outputs": [
    {
     "data": {
      "text/plain": [
       "'ehllo'"
      ]
     },
     "execution_count": 29,
     "metadata": {},
     "output_type": "execute_result"
    }
   ],
   "source": [
    "'''Question3\n",
    "Create a function that takes a string and returns a string with its letters in alphabetical order.\n",
    "Examples\n",
    "alphabet_soup(\"hello\") ➞ \"ehllo\"\n",
    "alphabet_soup(\"edabit\") ➞ \"abdeit\"'''\n",
    "\n",
    "\n",
    "def alphabet_soup(s):\n",
    "    return ''.join(sorted(s))\n",
    "alphabet_soup(\"hello\")"
   ]
  },
  {
   "cell_type": "code",
   "execution_count": 38,
   "id": "fb91257d",
   "metadata": {},
   "outputs": [
    {
     "name": "stdout",
     "output_type": "stream",
     "text": [
      "Output ➞ 105.00\n",
      "Output ➞ 15399.26\n",
      "Output ➞ 2007316.26\n"
     ]
    }
   ],
   "source": [
    "'''Question4\n",
    "Suppose that you invest $10,000 for 10 years at an interest rate of 6% compounded monthly. What will be the value of your investment at the end of the 10 year period?\n",
    "Create a function that accepts the principal p, the term in years t, the interest rate r, and the number of compounding periods per year n. The function returns the value at the end of term rounded to the nearest cent.\n",
    "For the example above:\n",
    "compound_interest(10000, 10, 0.06, 12) ➞ 18193.97\n",
    "Note that the interest rate is given as a decimal and n=12 because with monthly compounding there are 12 periods per year. Compounding can also be done annually, quarterly, weekly, or daily.\n",
    "Examples\n",
    "compound_interest(100, 1, 0.05, 1) ➞ 105.0'''\n",
    "\n",
    "def compound_interest(principal,years,roi,cp):\n",
    "    ci = principal*(1+(roi/cp))**(cp*years)\n",
    "    print(f'Output ➞ {ci:.2f}')\n",
    "\n",
    "compound_interest(100, 1, 0.05, 1)\n",
    "compound_interest(3500, 15, 0.1, 4)\n",
    "compound_interest(100000, 20, 0.15, 365)"
   ]
  },
  {
   "cell_type": "code",
   "execution_count": 39,
   "id": "1fe88fd3",
   "metadata": {},
   "outputs": [
    {
     "data": {
      "text/plain": [
       "[9, 2, 16]"
      ]
     },
     "execution_count": 39,
     "metadata": {},
     "output_type": "execute_result"
    }
   ],
   "source": [
    "'''Question5\n",
    "Write a function that takes a list of elements and returns only the integers.\n",
    "Examples\n",
    "return_only_integer([9, 2, \"space\", \"car\", \"lion\", 16]) ➞ [9, 2, 16]'''\n",
    "def return_only_integer(li):\n",
    "    l2 = list()\n",
    "    for i in li:\n",
    "        if type(i) == int:\n",
    "            l2.append(i)\n",
    "    return l2\n",
    "    \n",
    "return_only_integer([9, 2, \"space\", \"car\", \"lion\", 16])"
   ]
  }
 ],
 "metadata": {
  "kernelspec": {
   "display_name": "Python 3 (ipykernel)",
   "language": "python",
   "name": "python3"
  },
  "language_info": {
   "codemirror_mode": {
    "name": "ipython",
    "version": 3
   },
   "file_extension": ".py",
   "mimetype": "text/x-python",
   "name": "python",
   "nbconvert_exporter": "python",
   "pygments_lexer": "ipython3",
   "version": "3.9.7"
  }
 },
 "nbformat": 4,
 "nbformat_minor": 5
}
