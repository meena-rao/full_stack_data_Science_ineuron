{
 "cells": [
  {
   "cell_type": "code",
   "execution_count": 41,
   "id": "93c24699",
   "metadata": {},
   "outputs": [
    {
     "data": {
      "text/plain": [
       "[1, 2, 3, 40, 5, 6, 7, 80, 9, 10, 11, 120, 13, 14, 15, 160, 17, 18, 19, 200]"
      ]
     },
     "execution_count": 41,
     "metadata": {},
     "output_type": "execute_result"
    }
   ],
   "source": [
    "'''Question1\n",
    "Create a function that takes an integer and returns a list from 1 to the given number, where:\n",
    "1.\tIf the number can be divided evenly by 4, amplify it by 10 (i.e. return 10 times the number).\n",
    "2.\tIf the number cannot be divided evenly by 4, simply return the number.\n",
    "Examples\n",
    "amplify(4) ➞ [1, 2, 3, 40]\n",
    "amplify(3) ➞ [1, 2, 3]\n",
    "amplify(25) ➞ [1, 2, 3, 40, 5, 6, 7, 80, 9, 10, 11, 120, 13, 14, 15, 160, 17, 18, 19, 200, 21, 22, 23, 240, 25]\n",
    "Notes\n",
    "•\tThe given integer will always be equal to or greater than 1.\n",
    "•\tInclude the number (see example above).\n",
    "•\tTo perform this problem with its intended purpose, try doing it with list comprehensions. If that's too difficult, \n",
    "just solve the challenge any way you can.'''\n",
    "\n",
    "def amplify(n):\n",
    "    l = list(range(1,n+1))\n",
    "    l2 = list()\n",
    "    for i in l:\n",
    "        if(i%4 == 0):\n",
    "            l2.append(i*10)\n",
    "        else :\n",
    "            l2.append(i)\n",
    "    return l2\n",
    "\n",
    "amplify(20)"
   ]
  },
  {
   "cell_type": "code",
   "execution_count": 10,
   "id": "2d861fdc",
   "metadata": {},
   "outputs": [
    {
     "data": {
      "text/plain": [
       "0"
      ]
     },
     "execution_count": 10,
     "metadata": {},
     "output_type": "execute_result"
    }
   ],
   "source": [
    "'''Question2\n",
    "Create a function that takes a list of numbers and return the number that's unique.\n",
    "Examples\n",
    "unique([3, 3, 3, 7, 3, 3]) ➞ 7\n",
    "unique([0, 0, 0.77, 0, 0]) ➞ 0.77\n",
    "unique([0, 1, 1, 1, 1, 1, 1, 1]) ➞ 0\n",
    "Notes-Test cases will always have exactly one unique number while all others are the same.'''\n",
    "\n",
    "def unique(li):\n",
    "    '''takes a list of numbers and return the number that's unique\n",
    "    Test cases will always have exactly one unique number while all others are the same'''\n",
    "    d ={}\n",
    "    for i in li:\n",
    "        if(i not in d.keys()):\n",
    "            d[i] = 1\n",
    "        else:\n",
    "            d[i] = d[i]+1\n",
    "    for key, val in d.items():\n",
    "        if(val == 1):\n",
    "            return key\n",
    "unique([0, 1, 1, 1, 1, 1, 1, 1])   "
   ]
  },
  {
   "cell_type": "code",
   "execution_count": 18,
   "id": "817fd94c",
   "metadata": {},
   "outputs": [
    {
     "name": "stdout",
     "output_type": "stream",
     "text": [
      "perimeter 69.08\n",
      "area 379.94\n"
     ]
    }
   ],
   "source": [
    "'''Question3\n",
    "Your task is to create a Circle constructor that creates a circle with a radius provided by an argument. \n",
    "The circles constructed must have two getters getArea() (PIr^2) and getPerimeter() (2PI*r) \n",
    "which give both respective areas and perimeter (circumference).\n",
    "For help with this class, I have provided you with a Rectangle constructor which you can use as a base example.\n",
    "Examples\n",
    "circy = Circle(11)\n",
    "circy.getArea()\n",
    "# Should return 380.132711084365\n",
    "'''\n",
    "class circle:\n",
    "    def __init__(self, rad):\n",
    "        self.PI = 3.14\n",
    "        self.rad = rad      \n",
    "    def get_area(self):\n",
    "         return self.PI*(self.rad**2)\n",
    "    def get_peri(self) :\n",
    "        return self.PI*self.rad*2\n",
    "circy = circle(11)\n",
    "print(\"perimeter\", circy.get_peri())\n",
    "print(\"area\", circy.get_area())"
   ]
  },
  {
   "cell_type": "code",
   "execution_count": 19,
   "id": "3e8f3eae",
   "metadata": {},
   "outputs": [
    {
     "data": {
      "text/plain": [
       "['Apple', 'Google', 'Microsoft']"
      ]
     },
     "execution_count": 19,
     "metadata": {},
     "output_type": "execute_result"
    }
   ],
   "source": [
    "'''Question4\n",
    "Create a function that takes a list of strings and return a list, sorted from shortest to longest.\n",
    "Examples\n",
    "sort_by_length([\"Google\", \"Apple\", \"Microsoft\"])\n",
    "➞ [\"Apple\", \"Google\", \"Microsoft\"]\n",
    "sort_by_length([\"Leonardo\", \"Michelangelo\", \"Raphael\", \"Donatello\"])\n",
    "➞ [\"Raphael\", \"Leonardo\", \"Donatello\", \"Michelangelo\"]\n",
    "Notes - All test cases contain lists with strings of different lengths, so you won't have to deal with multiple strings of \n",
    "the same length.'''\n",
    "def sort_by_length(li):\n",
    "    '''takes a list of strings and return a list, sorted from shortest to longest.'''\n",
    "    return(sorted(li, key = len))\n",
    "      \n",
    "sort_by_length([\"Google\", \"Apple\", \"Microsoft\"])"
   ]
  },
  {
   "cell_type": "code",
   "execution_count": 26,
   "id": "a87b88bb",
   "metadata": {},
   "outputs": [
    {
     "data": {
      "text/plain": [
       "True"
      ]
     },
     "execution_count": 26,
     "metadata": {},
     "output_type": "execute_result"
    }
   ],
   "source": [
    "'''Question5\n",
    "Create a function that validates whether three given integers form a Pythagorean triplet. \n",
    "The sum of the squares of the two smallest integers must equal the square of the largest number to be validated.\n",
    "\n",
    "Examples\n",
    "is_triplet(3, 4, 5) ➞ True\n",
    "# 3² + 4² = 25\n",
    "# 5² = 25\n",
    "Notes-Numbers may not be given in a sorted order.'''\n",
    "\n",
    "def is_triplet(a,b,c):\n",
    "    '''alidates whether three given integers form a Pythagorean triplet.'''\n",
    "    a,b,c = sorted(list([a,b,c]))\n",
    "    if ( a**2 + b**2 == c**2):\n",
    "        return True\n",
    "    else:\n",
    "        return False\n",
    "\n",
    "is_triplet(4, 3, 5)      "
   ]
  }
 ],
 "metadata": {
  "kernelspec": {
   "display_name": "Python 3 (ipykernel)",
   "language": "python",
   "name": "python3"
  },
  "language_info": {
   "codemirror_mode": {
    "name": "ipython",
    "version": 3
   },
   "file_extension": ".py",
   "mimetype": "text/x-python",
   "name": "python",
   "nbconvert_exporter": "python",
   "pygments_lexer": "ipython3",
   "version": "3.9.7"
  }
 },
 "nbformat": 4,
 "nbformat_minor": 5
}
