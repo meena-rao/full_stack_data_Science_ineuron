{
 "cells": [
  {
   "cell_type": "code",
   "execution_count": 1,
   "id": "6d40b3fa",
   "metadata": {
    "scrolled": true
   },
   "outputs": [
    {
     "name": "stdout",
     "output_type": "stream",
     "text": [
      "Eter a stringhello how are you fsds\n",
      "Enter limit length3\n",
      "\n",
      "words with > 3 characters:\n",
      "hello 5\n",
      "fsds 4\n"
     ]
    }
   ],
   "source": [
    "#1. Write a Python program to find words which are greater than given length k?\n",
    "st = input('Enter a string')\n",
    "l = st.split(' ')\n",
    "\n",
    "d = dict()\n",
    "for i in l:\n",
    "    d[i] = len(i)\n",
    "\n",
    "le = int(input('Enter limit length'))\n",
    "print(\"\\nwords with > {} characters:\".format(le))\n",
    "for i in d:\n",
    "    if d[i] > le:\n",
    "        print(i , d[i])\n"
   ]
  },
  {
   "cell_type": "code",
   "execution_count": 2,
   "id": "36d5251c",
   "metadata": {},
   "outputs": [
    {
     "name": "stdout",
     "output_type": "stream",
     "text": [
      "Eter a string\n",
      "how are you at fsds\n",
      "Eter index of character to remove4\n"
     ]
    },
    {
     "data": {
      "text/plain": [
       "'how re you at fsds'"
      ]
     },
     "execution_count": 2,
     "metadata": {},
     "output_type": "execute_result"
    }
   ],
   "source": [
    "#2. Write a Python program for removing i-th character from a string?\n",
    "import re\n",
    "st = input('Eter a string\\n')\n",
    "c = int(input('Eter index of character to remove'))\n",
    "st[:c] + st[c+1:]"
   ]
  },
  {
   "cell_type": "code",
   "execution_count": 3,
   "id": "ff155449",
   "metadata": {},
   "outputs": [
    {
     "name": "stdout",
     "output_type": "stream",
     "text": [
      "enter stringi am doing fsds\n",
      "['i', 'am', 'doing', 'fsds']\n"
     ]
    },
    {
     "data": {
      "text/plain": [
       "'fsds class at ineuron'"
      ]
     },
     "execution_count": 3,
     "metadata": {},
     "output_type": "execute_result"
    }
   ],
   "source": [
    "#3. Write a Python program to split and join a string?\n",
    "l = input(\"enter string\").split(' ')\n",
    "print(l)\n",
    "\n",
    "' '.join(['fsds', 'class', 'at', 'ineuron'])"
   ]
  },
  {
   "cell_type": "code",
   "execution_count": 4,
   "id": "3972ad10",
   "metadata": {},
   "outputs": [
    {
     "name": "stdout",
     "output_type": "stream",
     "text": [
      "enter string1010101010\n",
      "{'1', '0'}\n",
      "binary\n"
     ]
    }
   ],
   "source": [
    "#4. Write a Python to check if a given string is binary string or not?\n",
    "i = set(input(\"enter string\"))\n",
    "print(i)\n",
    "s = {'0', '1'}\n",
    "\n",
    "if i ==s  or i =={'0'} or i =={'1'}:\n",
    "    print(\"binary\")\n",
    "else: \n",
    "    print(\"not binary\")"
   ]
  },
  {
   "cell_type": "code",
   "execution_count": 5,
   "id": "a18fb1a6",
   "metadata": {},
   "outputs": [
    {
     "name": "stdout",
     "output_type": "stream",
     "text": [
      "enter stringi am kmr\n",
      "enter another stringi kmr learn  fsds\n"
     ]
    },
    {
     "data": {
      "text/plain": [
       "{'am', 'fsds', 'learn'}"
      ]
     },
     "execution_count": 5,
     "metadata": {},
     "output_type": "execute_result"
    }
   ],
   "source": [
    "#5. Write a Python program to find uncommon words from two Strings?\n",
    "s1 = input(\"enter string\").split()\n",
    "s2 = input(\"enter another string\").split()\n",
    "k = set(s1).symmetric_difference(set(s2))\n",
    "k"
   ]
  },
  {
   "cell_type": "code",
   "execution_count": 6,
   "id": "c12883b1",
   "metadata": {},
   "outputs": [
    {
     "name": "stdout",
     "output_type": "stream",
     "text": [
      "enter string\n",
      "at ineuron\n"
     ]
    },
    {
     "data": {
      "text/plain": [
       "{'n'}"
      ]
     },
     "execution_count": 6,
     "metadata": {},
     "output_type": "execute_result"
    }
   ],
   "source": [
    "#6. Write a Python to find all duplicate characters in string?\n",
    "s1 = input(\"enter string\\n\")\n",
    "s =set()\n",
    "for i in s1:\n",
    "    if s1.count(i)>1 and i !=' ':\n",
    "        s.add(i)\n",
    "        \n",
    "s"
   ]
  },
  {
   "cell_type": "code",
   "execution_count": 7,
   "id": "1f5c26f5",
   "metadata": {},
   "outputs": [
    {
     "name": "stdout",
     "output_type": "stream",
     "text": [
      "enter string\n",
      "kkj o8* ojkj8776$2\n",
      "The string contains special characters.\n"
     ]
    }
   ],
   "source": [
    "#7. Write a Python Program to check if a string contains any special character?\n",
    "s1 = input(\"enter string\\n\")\n",
    "import re\n",
    "sp = re.compile('[@_!#$%^&*()<>?/\\|}{~:]')\n",
    "if(sp.search(s1) == None):\n",
    "    print('String does not contain any special characters.')\n",
    "else:\n",
    "    print('The string contains special characters.')"
   ]
  }
 ],
 "metadata": {
  "kernelspec": {
   "display_name": "Python 3 (ipykernel)",
   "language": "python",
   "name": "python3"
  },
  "language_info": {
   "codemirror_mode": {
    "name": "ipython",
    "version": 3
   },
   "file_extension": ".py",
   "mimetype": "text/x-python",
   "name": "python",
   "nbconvert_exporter": "python",
   "pygments_lexer": "ipython3",
   "version": "3.9.7"
  }
 },
 "nbformat": 4,
 "nbformat_minor": 5
}
