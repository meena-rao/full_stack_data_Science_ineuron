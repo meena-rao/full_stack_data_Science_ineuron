{
 "cells": [
  {
   "cell_type": "code",
   "execution_count": 14,
   "id": "2df9c97e",
   "metadata": {},
   "outputs": [
    {
     "name": "stdout",
     "output_type": "stream",
     "text": [
      "enter number175\n",
      "lenght of number 3\n",
      "Yes 175 is Disarium\n"
     ]
    }
   ],
   "source": [
    "#1.Write a Python program to check if the given number is a Disarium Number?\n",
    "#A number is said to be the Disarium number when the sum of its digit raised to the power of \n",
    "#their respective positions becomes equal to the number itself.\n",
    "def l(num):\n",
    "    le = 0\n",
    "    while(num):\n",
    "        num = num//10\n",
    "        le = le + 1\n",
    "    return le\n",
    "\n",
    "\n",
    "def disarium(num, l):\n",
    "    s = 0\n",
    "    while(num):\n",
    "        n = num % 10\n",
    "        s  = s + int(n**l)\n",
    "        l = l -1\n",
    "        num = num // 10\n",
    "    return s\n",
    "\n",
    "\n",
    "num = int(input(\"enter number\"))\n",
    "numcopy = num\n",
    "\n",
    "le = l(num)\n",
    "print(\"lenght of number\", le)\n",
    "\n",
    "res = disarium(num, le)\n",
    "if (numcopy == res) :\n",
    "    print(\"Yes {} is Disarium\".format(numcopy))"
   ]
  },
  {
   "cell_type": "code",
   "execution_count": 20,
   "id": "11a6e03e",
   "metadata": {},
   "outputs": [
    {
     "name": "stdout",
     "output_type": "stream",
     "text": [
      "printing all disarium numbers between 1 to 100\n",
      "1   \n",
      "2   \n",
      "3   \n",
      "4   \n",
      "5   \n",
      "6   \n",
      "7   \n",
      "8   \n",
      "9   \n",
      "89   \n"
     ]
    }
   ],
   "source": [
    "#2. Write a Python program to print all disarium numbers between 1 to 100?\n",
    "def l(num):\n",
    "    le = 0\n",
    "    while(num):\n",
    "        num = num//10\n",
    "        le = le + 1\n",
    "    return le\n",
    "\n",
    "def disarium(num, l):\n",
    "    s = 0\n",
    "    while(num):\n",
    "        n = num % 10\n",
    "        s  = s + int(n**l)\n",
    "        l = l -1\n",
    "        num = num // 10\n",
    "    return s\n",
    "\n",
    "print('printing all disarium numbers between 1 to 100')\n",
    "for i in range(1,101):\n",
    "    if ( i == disarium(i, l(i))):\n",
    "        print(i, \"  \"  )"
   ]
  },
  {
   "cell_type": "code",
   "execution_count": 40,
   "id": "c78039e7",
   "metadata": {},
   "outputs": [
    {
     "name": "stdout",
     "output_type": "stream",
     "text": [
      "enter number32\n",
      "32 is happy number\n"
     ]
    }
   ],
   "source": [
    "## 3. Write a Python program to check if the given number is Happy Number?\n",
    "#A number is said to be happy if it yields 1 when replaced by the sum of squares of its digits repeatedly.\n",
    "#If this process results in an endless cycle of numbers containing 4, then the number will be an unhappy number\n",
    "\n",
    "def squaresum(num):\n",
    "    s = 0\n",
    "    while(num):\n",
    "        n = num % 10\n",
    "        s  = s + (n**2)\n",
    "        num = num // 10\n",
    "    return s\n",
    "\n",
    "def checkhappy(res):\n",
    "    while(res !=1 and res !=4):\n",
    "        res = squaresum(res)\n",
    "\n",
    "    if res == 1:\n",
    "        print('{} is happy number'.format(num_copy))\n",
    "    elif res == 4:\n",
    "        print('{} is NOT happy number'.format(num_copy))\n",
    "    else: \n",
    "        print(\"bye\")\n",
    "        \n",
    "num_copy = int(input(\"enter number\"))\n",
    "r = num_copy\n",
    "checkhappy(r)"
   ]
  },
  {
   "cell_type": "code",
   "execution_count": 52,
   "id": "351d8bbd",
   "metadata": {},
   "outputs": [
    {
     "name": "stdout",
     "output_type": "stream",
     "text": [
      " happy numbers from 1 to 100\n"
     ]
    },
    {
     "data": {
      "text/plain": [
       "[1, 7, 10, 13, 19, 23, 28, 31, 32, 44, 49, 68, 70, 79, 82, 86, 91, 94, 97, 100]"
      ]
     },
     "execution_count": 52,
     "metadata": {},
     "output_type": "execute_result"
    }
   ],
   "source": [
    "#4. Write a Python program to print all happy numbers between 1 and 100?\n",
    "def squaresum(num):\n",
    "    s = 0\n",
    "    while(num):\n",
    "        n = num % 10\n",
    "        s  = s + (n**2)\n",
    "        num = num // 10\n",
    "    return s\n",
    "\n",
    "def checkhappy(res, lis):\n",
    "    copy = res\n",
    "    while(res !=1 and res !=4):\n",
    "        res = squaresum(res)\n",
    "    if res == 1:\n",
    "        lis.append(copy)\n",
    "        #print(copy)\n",
    "        \n",
    "lis = list()\n",
    "for i in range(1,101):\n",
    "    checkhappy(i, lis)\n",
    "print(\" happy numbers from 1 to 100\")\n",
    "lis"
   ]
  },
  {
   "cell_type": "code",
   "execution_count": 66,
   "id": "956ab397",
   "metadata": {},
   "outputs": [
    {
     "name": "stdout",
     "output_type": "stream",
     "text": [
      "enter number156\n",
      "156 is harshad number\n"
     ]
    }
   ],
   "source": [
    "#5. Write a Python program to determine whether the given number is a Harshad Number?\n",
    "#If a number is divisible by the sum of its digits, then it will be known as a Harshad Number.\n",
    "def s(num):\n",
    "    res = 0\n",
    "    while(num):\n",
    "        r = num%10\n",
    "        res= res + r\n",
    "        num = num // 10\n",
    "    return res\n",
    "\n",
    "def Harshad(num):\n",
    "    if (num % s(num)) == 0:\n",
    "        print('{} is harshad number'.format(num))\n",
    "    else:\n",
    "        print(\"not harshad\")\n",
    "\n",
    "n = int(input(\"enter number\"))\n",
    "Harshad(n)"
   ]
  },
  {
   "cell_type": "code",
   "execution_count": 69,
   "id": "54799e25",
   "metadata": {},
   "outputs": [
    {
     "data": {
      "text/plain": [
       "[1,\n",
       " 2,\n",
       " 3,\n",
       " 4,\n",
       " 5,\n",
       " 6,\n",
       " 7,\n",
       " 8,\n",
       " 9,\n",
       " 10,\n",
       " 12,\n",
       " 18,\n",
       " 20,\n",
       " 21,\n",
       " 24,\n",
       " 27,\n",
       " 30,\n",
       " 36,\n",
       " 40,\n",
       " 42,\n",
       " 45,\n",
       " 48,\n",
       " 50,\n",
       " 54,\n",
       " 60,\n",
       " 63,\n",
       " 70,\n",
       " 72,\n",
       " 80,\n",
       " 81,\n",
       " 84,\n",
       " 90,\n",
       " 100]"
      ]
     },
     "execution_count": 69,
     "metadata": {},
     "output_type": "execute_result"
    }
   ],
   "source": [
    "#6. Write a Python program to print all pronic numbers between 1 and 100?\n",
    "\n",
    "def s(num):\n",
    "    res = 0\n",
    "    while(num):\n",
    "        r = num%10\n",
    "        res= res + r\n",
    "        num = num // 10\n",
    "    return res\n",
    "\n",
    "def Harshad(num, lis):\n",
    "    if (num % s(num)) == 0:\n",
    "        lis.append(num)\n",
    "    \n",
    "lis = list()\n",
    "for i in  range (1,101):\n",
    "    Harshad(i, lis)\n",
    "lis"
   ]
  }
 ],
 "metadata": {
  "kernelspec": {
   "display_name": "Python 3 (ipykernel)",
   "language": "python",
   "name": "python3"
  },
  "language_info": {
   "codemirror_mode": {
    "name": "ipython",
    "version": 3
   },
   "file_extension": ".py",
   "mimetype": "text/x-python",
   "name": "python",
   "nbconvert_exporter": "python",
   "pygments_lexer": "ipython3",
   "version": "3.9.7"
  }
 },
 "nbformat": 4,
 "nbformat_minor": 5
}
