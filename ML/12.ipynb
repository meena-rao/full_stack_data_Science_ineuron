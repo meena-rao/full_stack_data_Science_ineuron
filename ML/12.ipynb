{
 "cells": [
  {
   "cell_type": "markdown",
   "id": "99dd7774",
   "metadata": {},
   "source": [
    "## ML12"
   ]
  },
  {
   "cell_type": "markdown",
   "id": "6e83cda2",
   "metadata": {},
   "source": [
    "1. What is prior probability? Give an example.\n",
    "2. What is posterior probability? Give an example.\n",
    "3. What is likelihood probability? Give an example.\n",
    "\n",
    "4. What is Naïve Bayes classifier? Why is it named so?\n",
    "\n",
    "5. What is optimal Bayes classifier?\n",
    "\n",
    "6. Write any two features of Bayesian learning methods.\n",
    "\n",
    "7. Define the concept of consistent learners.\n",
    "\n",
    "8. Write any two strengths of Bayes classifier.\n",
    "\n",
    "9. Write any two weaknesses of Bayes classifier.\n",
    "\n",
    "10. Explain how Naïve Bayes classifier is used for\n",
    "\n",
    "1. Text classification\n",
    "\n",
    "2. Spam filtering\n",
    "\n",
    "3. Market sentiment analysis"
   ]
  },
  {
   "cell_type": "markdown",
   "id": "f71a71a8",
   "metadata": {},
   "source": [
    "__Prior probability__ is the probability of an event or hypothesis before considering any evidence or data. For example, the prior probability of a person having a rare disease may be 1 in 10,000 in the general population.\n",
    "\n",
    "__Posterior probability__ is the updated probability of an event or hypothesis after considering new evidence or data. For example, the posterior probability of a person having a rare disease may increase if they test positive for the disease.\n",
    "\n",
    "__Likelihood probability__ is the probability of observing the evidence or data given a specific hypothesis or event. For example, the likelihood probability of a positive test result given that a person has a rare disease may be 0.95.\n",
    "\n",
    "__Naïve Bayes classifier__ is a machine learning algorithm that uses Bayes' theorem to classify data into different categories. It assumes that the features are independent of each other, hence the name \"naïve\". The algorithm is named after Reverend Thomas Bayes, an 18th-century mathematician.\n",
    "\n",
    "__Optimal Bayes classifier__ is a theoretical model that calculates the ideal decision boundary for a given set of data. It provides the highest accuracy possible when classifying data.\n",
    "\n",
    "__Two features of Bayesian learning methods__ are: (1) the ability to update prior beliefs based on new evidence, and (2) the ability to handle uncertainty and ambiguity in data.\n",
    "\n",
    "__Consistent learners__ are machine learning algorithms that converge to the true function as the amount of data increases. In other words, their error rate decreases with an increasing amount of data.\n",
    "\n",
    "__Two strengths of Bayes classifier__ are: (1) it is simple and efficient, and (2) it can handle high-dimensional data with a small number of training samples.\n",
    "\n",
    "__Two weaknesses of Bayes classifier__  are: (1) it assumes independence between features, which may not be true in some cases, and (2) it may be sensitive to the prior probability distribution.\n",
    "\n",
    "__Text classification using Naïve Bayes__ classifier involves assigning predefined categories to a given text based on the presence or absence of certain words or phrases.\n",
    "\n",
    "__Spam filtering using Naïve Bayes__ classifier involves classifying emails into spam or non-spam categories based on the content and structure of the email.\n",
    "\n",
    "__Market sentiment analysis using Naïve Bayes classifier__ involves classifying social media posts or news articles into positive, negative, or neutral sentiment categories to understand public opinion about a particular product or brand."
   ]
  }
 ],
 "metadata": {
  "kernelspec": {
   "display_name": "Python 3 (ipykernel)",
   "language": "python",
   "name": "python3"
  },
  "language_info": {
   "codemirror_mode": {
    "name": "ipython",
    "version": 3
   },
   "file_extension": ".py",
   "mimetype": "text/x-python",
   "name": "python",
   "nbconvert_exporter": "python",
   "pygments_lexer": "ipython3",
   "version": "3.9.7"
  }
 },
 "nbformat": 4,
 "nbformat_minor": 5
}
