{
 "cells": [
  {
   "cell_type": "markdown",
   "id": "aba4b990",
   "metadata": {},
   "source": [
    "### ML 3"
   ]
  },
  {
   "cell_type": "markdown",
   "id": "a0f4c505",
   "metadata": {},
   "source": [
    "#### 1.Explain the term machine learning, and how does it work? Explain two machine learning applications in the business world. What are some of the ethical concerns that machine learning applications could raise?"
   ]
  },
  {
   "cell_type": "markdown",
   "id": "58ecb823",
   "metadata": {},
   "source": [
    "Machine Learning is a form of artificial intelligence (AI) that teaches computers to think in a similar way to how humans do: Learning and improving upon past experiences. It works by exploring data and identifying patterns, and involves minimal human intervention.\n",
    "\n",
    "There are various applications in Business World :\n",
    "\n",
    "Real-time chatbot agents.\n",
    "Decision support.\n",
    "Customer recommendation engines.\n",
    "Customer churn modeling.\n",
    "Dynamic pricing tactics.\n",
    "Market research and customer segmentation.\n",
    "Fraud detection.\n",
    "Also there are some of the ethical concerns that ML applications could raise : AI presents three major areas of ethical concern for society: Privacy and surveillance, bias and discrimination, and perhaps the deepest, most difficult philosophical question of the era, the role of human judgment."
   ]
  },
  {
   "cell_type": "markdown",
   "id": "a441c168",
   "metadata": {},
   "source": [
    "__Under the supervision of experts:__ Human-guided machine learning is a process whereby subject matter experts accelerate the learning process by teaching the technology in real-time. For example, if the machine learning model comes across a piece of data it is uncertain about, a human can be asked to weigh in and give feedback. The model then learns from this input, and uses it to make a more accurate prediction the next time. Human-guided machine learning works from the bottom up by first using algorithms to conduct the heavy lifting of identifying relationships within the data, and engaging humans when necessary for training or validation Concept Learning."
   ]
  },
  {
   "cell_type": "markdown",
   "id": "971ad2c3",
   "metadata": {},
   "source": [
    "__With the assistance of experts in an indirect manner:__ Well The process of an algorithm learning from the training dataset can be thought of as a teacher supervising the learning process. We know the correct answers, the algorithm iteratively makes predictions on the training data and is corrected by the teacher. Learning stops when the algorithm achieves an acceptable level of performance Operant Conditioning."
   ]
  },
  {
   "cell_type": "markdown",
   "id": "443a116e",
   "metadata": {},
   "source": [
    "__Self education:__ Ability to recognize patterns, learn from data, and become more intelligent over time (can be AI or programmatically based).Machine Learning: AI systems with ability to automatically learn and improve from experience without being explicitly programmed via training Hebbian Learning."
   ]
  },
  {
   "cell_type": "markdown",
   "id": "8627e6fd",
   "metadata": {},
   "source": [
    "#### 3. Provide a few examples of various types of machine learning."
   ]
  },
  {
   "cell_type": "markdown",
   "id": "3afb3954",
   "metadata": {},
   "source": [
    "Ans: Examples of Various types of Machine Learning techniques are:\n",
    "\n",
    "Example of __Supervised Learning__ is text classification problems. In this set of problems, the goal is to predict the class label of a given piece of text. One particularly popular topic in text classification is to predict the sentiment of a piece of text, like a tweet or a product review,Image segmentation, Medical Diagnosis\n",
    "\n",
    "Example of __Unsupervised Learning__ : Fraud detection, Malware detection, Anomaly detection, Clustering Analysis, Identification of human errors during data entry Conducting accurate basket analysis, etc.\n",
    "\n",
    "Example of __Reinforcement Learning__ : Applications in self-driving cars, Industry automation : learning-based robots are used to perform various tasks."
   ]
  },
  {
   "cell_type": "markdown",
   "id": "20a6bd44",
   "metadata": {},
   "source": [
    "#### 4. Examine the various forms of machine learning."
   ]
  },
  {
   "cell_type": "markdown",
   "id": "fa392951",
   "metadata": {},
   "source": [
    "Supervised Learning, Unsupervised Learning, Reinforcement Learning"
   ]
  },
  {
   "cell_type": "markdown",
   "id": "bff5382b",
   "metadata": {},
   "source": [
    "#### 5. Can you explain what a well-posed learning problem is? Explain the main characteristics that must be present to identify a learning problem properly."
   ]
  },
  {
   "cell_type": "markdown",
   "id": "1d408d6d",
   "metadata": {},
   "source": [
    "A well-posed learning problem is a problem that can be clearly defined and solved using machine learning techniques. In order for a problem to be well-posed, it must meet the following characteristics:\n",
    "\n",
    "Clear definition: The problem must be clearly defined, including the input data and the desired output. The problem should also have a clear objective, such as maximizing accuracy or minimizing error.\n",
    "\n",
    "Accessible data: There must be data available for training and testing the machine learning algorithm. The data should be representative of the problem domain and should be accessible to the machine learning system.\n",
    "\n",
    "Appropriate model: The machine learning algorithm must be appropriate for the problem at hand. Different machine learning algorithms have different strengths and weaknesses, and it is important to choose an algorithm that is well-suited to the problem.\n",
    "\n",
    "Validated results: The results of the machine learning algorithm must be validated to ensure that they are accurate and meaningful. This can be done through testing the algorithm on new data, or through other methods such as cross-validation.\n",
    "\n",
    "Real-world impact: Finally, a well-posed learning problem must have a real-world impact or application. The results of the machine learning algorithm should be useful in solving a real-world problem or improving a real-world process."
   ]
  },
  {
   "cell_type": "markdown",
   "id": "dcdf62d4",
   "metadata": {},
   "source": [
    "#### 6. Is machine learning capable of solving all problems? Give a detailed explanation of your answer.\n",
    "No, machine learning is not capable of solving all problems. While machine learning is a powerful tool for analyzing data and making predictions, there are certain types of problems that may be outside the scope of machine learning.\n",
    "\n",
    "For example, machine learning may not be well-suited for problems that involve complex decision-making processes or require human-level reasoning and understanding of context. Machine learning models are also limited by the quality and quantity of the data they are trained on, and may not perform well on data that is noisy or incomplete. Additionally, some problems may be inherently subjective or value-based, making it difficult for machine learning models to provide objective solutions.\n",
    "\n",
    "Furthermore, machine learning models can also suffer from bias, which can result in unfair or discriminatory outcomes. It is important to carefully consider the limitations of machine learning and assess whether it is the appropriate tool for a given problem before proceeding with its use"
   ]
  },
  {
   "cell_type": "markdown",
   "id": "6d8ecb92",
   "metadata": {},
   "source": [
    "#### 7. What are the various methods and technologies for solving machine learning problems? Any two of them should be defined in detail.\n",
    "The Various Technologies Used in Machine Learning Problems are: Scikit Learn, Pytorch, Tensorflow, Keras, Python.\n",
    "\n",
    "__Scikit Learn:__ Scikit-learn (Sklearn) is the most useful and robust library for machine learning in Python. It provides a selection of efficient tools for machine learning and statistical modeling including classification, Regression, clustering and dimensionality reduction via a consistence interface in Python.\n",
    "\n",
    "The Various Methods used in Machine Learning Problems are: Regression, Classification, Clustering, Dimensionality Reductio, Ensemble Methods, Neural Network, Deep Learning, Transfer Learning, Reinforcement Learning, Natural Language Processing, Word Embeddings\n",
    "\n",
    "__Tensorflow:__ It is a open source artificial intelligence library, Using data flow graphs to build models. It allows developers to create large-scale neural networks with many layers. TensorFlow is mainly used for: Classification, Perception, Understanding, Discovering, Prediction and Creation"
   ]
  },
  {
   "cell_type": "markdown",
   "id": "09f68070",
   "metadata": {},
   "source": [
    "#### 8. Can you explain the various forms of supervised learning? Explain each one with an example application.\n",
    "Ans The various forms of supervised learning are explained in detail below:\n",
    "\n",
    "__Regression:__ In regression, a single output value is produced using training data.For example, regression can help predict the price of a house based on its locality, size, etc.\n",
    "\n",
    "__Classification:__ It involves grouping the data into classes.eg. If you are thinking of extending credit to a person, you can use classification to determine whether or not a person would be a loan defaulter.\n",
    "\n",
    "__Naive Bayesian Model:__ The Bayesian model of classification is used for large finite datasets. It is a method of assigning class labels using a direct acyclic graph.\n",
    "\n",
    "__Decision Trees:__ A decision tree is a flowchart-like model that contains conditional control statements, comprising decisions and their probable consequences. The output relates to the labelling of unforeseen data."
   ]
  },
  {
   "cell_type": "markdown",
   "id": "08ca3b9c",
   "metadata": {},
   "source": [
    "#### 9. What is the difference between supervised and unsupervised learning? With a sample application in each region, explain the differences.\n",
    "Ans: Supervised earning algorithms are trained using labeled data. Unsupervised learning algorithms are trained using unlabeled data.In unsupervised learning, only input data is provided to the model.\n",
    "\n",
    "Examples:\n",
    "\n",
    "Supervised Learning : Classification and Regression.\n",
    "\n",
    "Unsuperised Learning : Clustering."
   ]
  },
  {
   "cell_type": "markdown",
   "id": "2e53816a",
   "metadata": {},
   "source": [
    "#### 10. Describe the machine learning process in depth. Make brief notes on any two of the following:"
   ]
  },
  {
   "cell_type": "markdown",
   "id": "c468a28d",
   "metadata": {},
   "source": [
    "#### i. MATLAB is one of the most widely used programming languages.\n",
    " MATLAB is one of the most widely used programming languages, particularly in the field of scientific computing and engineering. MATLAB, which stands for \"matrix laboratory,\" is a high-level programming language that is designed for numerical computation, visualization, and data analysis. It is known for its powerful built-in functions and toolboxes that provide a wide range of capabilities, from signal processing to machine learning.\n",
    "\n",
    "#### ii. Deep learning applications in healthcare\n",
    "Medical image analysis: Deep learning algorithms can be used to analyze medical images such as X-rays, CT scans, and MRI scans to detect abnormalities and make diagnoses. This can help improve the accuracy and speed of medical imaging analysis.\n",
    "\n",
    "__Drug discovery:__ Deep learning algorithms can be used to identify potential drug candidates by analyzing large amounts of data on molecular structures and interactions. This can help accelerate the drug discovery process and lead to the development of new and more effective treatments.\n",
    "\n",
    "__Disease diagnosis and prediction:__ Deep learning algorithms can be trained on large datasets of patient data to identify patterns and predict disease outcomes. This can help improve early diagnosis and treatment planning for diseases such as cancer and Alzheimer's disease.\n",
    "\n",
    "__Electronic health records (EHRs):__ Deep learning algorithms can be used to analyze EHRs to identify patterns and predict patient outcomes. This can help improve patient care by identifying high-risk patients and providing personalized treatment plans.\n",
    "\n",
    "__Medical chatbots:__ Deep learning algorithms can be used to develop chatbots that can provide personalized medical advice and answer patient questions. This can help improve access to healthcare and reduce the burden on healthcare professionals\n",
    "\n",
    "#### iii. Study of the market basket\n",
    "Market basket analysis is a technique used in retail and e-commerce to identify associations between products that are frequently purchased together. The goal of this analysis is to understand customers' purchasing behavior and identify patterns that can be used to improve product placement, pricing, and marketing strategies.\n",
    "\n",
    "Market basket analysis uses data mining techniques to identify frequent itemsets, which are sets of items that are frequently purchased together. These frequent itemsets can be used to identify product associations and make recommendations to customers based on their purchasing history.\n",
    "\n",
    "One of the main applications of market basket analysis is in the design of product bundles or promotions. By identifying products that are frequently purchased together, retailers can create product bundles or promotions that offer discounts on these products, which can increase sales and customer satisfaction.\n",
    "\n",
    "Another application of market basket analysis is in the design of store layouts. By placing frequently purchased products near each other, retailers can encourage customers to purchase complementary products, which can increase sales and improve the customer shopping experience.\n",
    "\n",
    "Market basket analysis can also be used to identify new product opportunities. By analyzing customer purchasing patterns, retailers can identify gaps in their product offerings and develop new products that are likely to be popular with customers.\n",
    "\n",
    "Overall, market basket analysis is a powerful tool for retailers and e-commerce companies to gain insights into customer behavior and improve their product offerings and marketing strategies."
   ]
  },
  {
   "cell_type": "markdown",
   "id": "d8f74fc6",
   "metadata": {},
   "source": [
    "#### 11. Make a comparison between:- \n",
    "__Generalization and abstraction:__ Abstraction is the process of removing details of objects. And Generalization, then, is the formulation of general concepts from specific instances by abstracting common properties. A concrete object can be looked at as a “subset” of a more generalized object.\n",
    "\n",
    "__Learning that is guided and Unsupervised:__ Supervised learning is the method that trains machines to use data that is well classified and labeled. Whereas Unsupervised learning, on the other hand, is the method that trains machines to use data that is neither classified nor labeled.\n",
    "\n",
    "Regression and classification:\n",
    "\n",
    "__Classification Models –__ Classification models are used for problems where the output variable can be categorized, such as Yes or No, or Pass or Fail. Classification Models are used to predict the category of the data. Real-life examples include spam detection, sentiment analysis, scorecard prediction of exams, etc.\n",
    "\n",
    "__Regression Models –__ Regression models are used for problems where the output variable is a real value such as a unique number, dollars, salary, weight or pressure, for example. It is most often used to predict numerical values based on previous data observations. Some of the more familiar regression algorithms include linear regression, logistic regression, polynomial regression, and ridge regression"
   ]
  }
 ],
 "metadata": {
  "kernelspec": {
   "display_name": "Python 3 (ipykernel)",
   "language": "python",
   "name": "python3"
  },
  "language_info": {
   "codemirror_mode": {
    "name": "ipython",
    "version": 3
   },
   "file_extension": ".py",
   "mimetype": "text/x-python",
   "name": "python",
   "nbconvert_exporter": "python",
   "pygments_lexer": "ipython3",
   "version": "3.9.7"
  }
 },
 "nbformat": 4,
 "nbformat_minor": 5
}
