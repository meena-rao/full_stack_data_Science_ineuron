{
 "cells": [
  {
   "cell_type": "markdown",
   "id": "467ecbc7",
   "metadata": {},
   "source": [
    "# ML10"
   ]
  },
  {
   "cell_type": "markdown",
   "id": "33127a78",
   "metadata": {},
   "source": [
    "1. Define the Bayesian interpretation of probability.\n",
    "2. Define probability of a union of two events with equation.\n",
    "3. What is joint probability? What is its formula?\n",
    "4. What is chain rule of probability?\n",
    "5. What is conditional probability means? What is the formula of it?\n",
    "6. What are continuous random variables?\n",
    "7. What are Bernoulli distributions? What is the formula of it?\n",
    "8. What is binomial distribution? What is the formula?\n",
    "9. What is Poisson distribution? What is the formula?\n",
    "10. Define covariance.\n",
    "11. Define correlation\n",
    "12. Define sampling with replacement. Give example.\n",
    "13. What is sampling without replacement? Give example.\n",
    "14. What is hypothesis? Give example."
   ]
  },
  {
   "cell_type": "markdown",
   "id": "21b6e237",
   "metadata": {},
   "source": [
    "__The Bayesian interpretation of probability__ is a mathematical framework that allows one to update prior beliefs about the likelihood of an event occurring based on new evidence or data. In this approach, probability is assigned to a hypothesis or proposition rather than to the outcomes of a random process. The probability is updated using Bayes' theorem, which involves computing the probability of the hypothesis given the data, given the prior probability of the hypothesis and the probability of the data given the hypothesis.\n",
    "\n",
    "__The probability of the union of two events__ A and B is given by the equation: P(A ∪ B) = P(A) + P(B) - P(A ∩ B), where P(A) represents the probability of event A, P(B) represents the probability of event B, and P(A ∩ B) represents the probability of the intersection of events A and B.\n",
    "\n",
    "__Joint probability__ refers to the probability of two or more events occurring simultaneously. It is denoted by P(A, B), and is calculated by multiplying the probability of event A by the probability of event B, given that event A has occurred. The formula for joint probability is P(A, B) = P(A) × P(B | A).\n",
    "\n",
    "__The chain rule of probability__ is a way of calculating the probability of multiple events occurring in a sequence or chain. It involves breaking down the joint probability of the events into a product of conditional probabilities. The chain rule of probability is given by the equation: P(A1, A2, ..., An) = P(A1) × P(A2 | A1) × P(A3 | A1, A2) × ... × P(An | A1, A2, ..., An-1).\n",
    "\n",
    "__Conditional probability__ refers to the probability of an event occurring given that another event has occurred. It is denoted by P(B | A), and is calculated by dividing the probability of the intersection of events A and B by the probability of event A. The formula for conditional probability is P(B | A) = P(A ∩ B) / P(A).\n",
    "\n",
    "__Continuous random variables__ are variables that can take on any value within a specified range. They are typically associated with measurements such as time, length, or weight, and their probability distributions are described by probability density functions.\n",
    "\n",
    "__Bernoulli distributions__ are discrete probability distributions that model the outcome of a single experiment with two possible outcomes, such as success or failure. The formula for the Bernoulli distribution is P(X = x) = p^x(1-p)^(1-x), where X is the random variable representing the outcome of the experiment, p is the probability of success, and 1-p is the probability of failure.\n",
    "\n",
    "__The binomial distribution__ is a discrete probability distribution that models the number of successes in a fixed number of independent trials, where each trial has only two possible outcomes. The formula for the binomial distribution is P(X = k) = (n choose k) * p^k * (1-p)^(n-k), where X is the random variable representing the number of successes, n is the number of trials, k is the number of successes, p is the probability of success, and (n choose k) is the binomial coefficient.\n",
    "\n",
    "__The Poisson distribution__ is a discrete probability distribution that models the number of events occurring in a fixed interval of time or space, where the events occur randomly and independently of each other. The formula for the Poisson distribution is P(X = k) = (e^-λ * λ^k) / k!, where X is the random variable representing the number of events, λ is the expected number of events, and k is the number of events.\n",
    "\n",
    "__Covariance__ is a measure of the degree to which two random variables are linearly related. It is a measure of the joint variability of two random variables, and it can be positive, negative, or zero. A positive covariance indicates that the two variables tend to increase or decrease together, while a negative covariance indicates that one variable tends to increase while the other decreases. The formula for covariance is Cov(X,Y) = E[(X - E[X]) * (Y - E[Y])], where X and Y are two random variables and E[X] and E[Y] are their expected values.\n",
    "\n",
    "__Correlation__ is a measure of the strength and direction of the linear relationship between two random variables. It is a standardized version of covariance, and it ranges from -1 to 1. A correlation of 1 indicates a perfect positive linear relationship, a correlation of -1 indicates a perfect negative linear relationship, and a correlation of 0 indicates no linear relationship. The formula for correlation is Corr(X,Y) = Cov(X,Y) / (σ_X * σ_Y), where Cov(X,Y) is the covariance between X and Y, and σ_X and σ_Y are the standard deviations of X and Y, respectively.\n",
    "\n",
    "__Sampling with replacement__ is a method of selecting items from a population, where each item is selected randomly and independently of the other items, and is then returned to the population before the next item is selected. An example of sampling with replacement would be selecting marbles from a bag, where the marble is returned to the bag after each selection.\n",
    "\n",
    "__Sampling without replacement__ is a method of selecting items from a population, where each item is selected randomly and independently of the other items, but is not returned to the population before the next item is selected. An example of sampling without replacement would be selecting students from a class to participate in a study, where once a student is selected, they are not included in the pool of potential participants for subsequent selections.\n",
    "\n",
    "__A hypothesis__ is a tentative explanation or prediction about a phenomenon or relationship between variables. It is typically formulated as a statement that can be tested through empirical observation or experimentation. An example of a hypothesis might be that caffeine consumption improves athletic performance. This hypothesis could be tested by conducting a study where participants are randomly assigned to either a caffeine or placebo condition, and their athletic performance is measured and compared."
   ]
  }
 ],
 "metadata": {
  "kernelspec": {
   "display_name": "Python 3 (ipykernel)",
   "language": "python",
   "name": "python3"
  },
  "language_info": {
   "codemirror_mode": {
    "name": "ipython",
    "version": 3
   },
   "file_extension": ".py",
   "mimetype": "text/x-python",
   "name": "python",
   "nbconvert_exporter": "python",
   "pygments_lexer": "ipython3",
   "version": "3.9.7"
  }
 },
 "nbformat": 4,
 "nbformat_minor": 5
}
