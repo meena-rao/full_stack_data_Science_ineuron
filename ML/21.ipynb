{
 "cells": [
  {
   "cell_type": "markdown",
   "id": "e9d34293",
   "metadata": {},
   "source": [
    "### ML21"
   ]
  },
  {
   "cell_type": "markdown",
   "id": "9f164172",
   "metadata": {},
   "source": [
    "1. What is the estimated depth of a Decision Tree trained (unrestricted) on a one million instance training set?\n",
    "2. Is the Gini impurity of a node usually lower or higher than that of its parent? Is it always lower/greater, or is it usually lower/greater?\n",
    "3. Explain if its a good idea to reduce max depth if a Decision Tree is overfitting the training set?\n",
    "\n",
    "4. Explain if its a good idea to try scaling the input features if a Decision Tree underfits the training set?\n",
    "\n",
    "5. How much time will it take to train another Decision Tree on a training set of 10 million instances if it takes an hour to train a Decision Tree on a training set with 1 million instances? \n",
    "\n",
    "### Answer\n",
    "1. The estimated depth of a decision tree trained on a one million instance training set would depend on the complexity of the problem being solved and the degree of overfitting. It is difficult to estimate the exact depth without more information, but it is likely to be fairly deep, possibly in the range of 30-50 levels or more.\n",
    "\n",
    "2. The Gini impurity of a node is usually lower than that of its parent, but it is not always the case. The impurity can stay the same if the split does not improve the overall purity of the child nodes. However, in most cases, the impurity decreases because the split is chosen to maximize the information gain, which measures the reduction in impurity.\n",
    "\n",
    "3. Yes, reducing the max depth of a decision tree can be a good way to prevent overfitting. By limiting the depth, the tree becomes less complex and less likely to capture noise or outliers in the data. This can improve the generalization performance of the model and prevent it from overfitting the training set.\n",
    "\n",
    "4. Scaling the input features can help a decision tree if it is underfitting the training set. Decision trees are not sensitive to the magnitude of the features, but they can be affected by differences in the scale of the features. Scaling the features to have similar ranges can help the tree split more effectively and capture more complex relationships between the features.\n",
    "\n",
    "5. It is difficult to estimate the exact time required to train a decision tree on a training set of 10 million instances, but it is likely to take at least 10 times longer than training on a set with 1 million instances. If it takes an hour to train a decision tree on a training set with 1 million instances, it could take around 10 hours or more to train on a set with 10 million instances."
   ]
  },
  {
   "cell_type": "markdown",
   "id": "f8d3d870",
   "metadata": {},
   "source": [
    "6. Will setting presort=True speed up training if your training set has 100,000 instances?\n",
    "\n",
    "7. Follow these steps to train and fine-tune a Decision Tree for the moons dataset:\n",
    "\n",
    "a. To build a moons dataset, use make moons(n samples=10000, noise=0.4).\n",
    "\n",
    "b. Divide the dataset into a training and a test collection with train test split().\n",
    "\n",
    "c. To find good hyperparameters values for a DecisionTreeClassifier, use grid search with cross-\n",
    "validation (with the GridSearchCV class). Try different values for max leaf nodes.\n",
    "\n",
    "d. Use these hyperparameters to train the model on the entire training set, and then assess its\n",
    "output on the test set. You can achieve an accuracy of 85 to 87 percent.\n",
    "\n",
    "### Answer\n",
    "6. Setting presort=True may not speed up training if the training set has 100,000 instances. Presorting the data can improve the efficiency of building the decision tree, but it can also be slower than not presorting for small datasets. It is best to try both options and see which one is faster for a specific dataset.\n",
    "\n",
    "7. These steps outline a typical process for training and fine-tuning a decision tree for the moons dataset using grid search with cross-validation:\n",
    "\n",
    "a. Use make moons(n_samples=10000, noise=0.4) to create a moons dataset with 10,000 samples and 40% noise.\n",
    "\n",
    "b. Split the dataset into a training and a test set using train_test_split().\n",
    "\n",
    "c. Use GridSearchCV to perform a grid search with cross-validation to find good hyperparameter values for the DecisionTreeClassifier. Try different values for max_leaf_nodes.\n",
    "\n",
    "d. Train the model on the entire training set using the best hyperparameters found in the previous step, and evaluate its accuracy on the test set. It should achieve an accuracy of around 85-87%."
   ]
  },
  {
   "cell_type": "markdown",
   "id": "4b1f1c1a",
   "metadata": {},
   "source": [
    "8. Follow these steps to grow a forest:\n",
    "\n",
    "a. Using the same method as before, create 1,000 subsets of the training set, each containing\n",
    "100 instances chosen at random. You can do this with Scikit-ShuffleSplit Learn&#39;s class.\n",
    "\n",
    "b. Using the best hyperparameter values found in the previous exercise, train one Decision\n",
    "Tree on each subset. On the test collection, evaluate these 1,000 Decision Trees. These Decision\n",
    "\n",
    "Trees would likely perform worse than the first Decision Tree, achieving only around 80% accuracy,\n",
    "since they were trained on smaller sets.\n",
    "\n",
    "c. Now the magic begins. Create 1,000 Decision Tree predictions for each test set case, and\n",
    "keep only the most common prediction (you can do this with SciPy&#39;s mode() function). Over the test\n",
    "collection, this method gives you majority-vote predictions.\n",
    "\n",
    "d. On the test range, evaluate these predictions: you should achieve a slightly higher accuracy\n",
    "than the first model (approx 0.5 to 1.5 percent higher). You&#39;ve successfully learned a Random Forest\n",
    "classifier!\n",
    "### Answer\n",
    "8. These steps outline how to grow a random forest:\n",
    "a. Use Scikit-Learn's ShuffleSplit class to create 1,000 subsets of the training set, each containing 100 instances chosen at random.\n",
    "\n",
    "b. Train one decision tree on each subset using the best hyperparameters found in the previous exercise. Evaluate the 1,000 decision trees on the test set. They are likely to perform worse than the first decision tree, achieving around 80% accuracy.\n",
    "\n",
    "c. Use SciPy's mode() function to create 1,000 decision tree predictions for each test case and keep only the most common prediction. This gives you majority-vote predictions for the test set.\n",
    "\n",
    "d. Evaluate these predictions on the test set. You should achieve a slightly higher accuracy than the first model, around 0.5-1.5% higher."
   ]
  }
 ],
 "metadata": {
  "kernelspec": {
   "display_name": "Python 3 (ipykernel)",
   "language": "python",
   "name": "python3"
  },
  "language_info": {
   "codemirror_mode": {
    "name": "ipython",
    "version": 3
   },
   "file_extension": ".py",
   "mimetype": "text/x-python",
   "name": "python",
   "nbconvert_exporter": "python",
   "pygments_lexer": "ipython3",
   "version": "3.9.7"
  }
 },
 "nbformat": 4,
 "nbformat_minor": 5
}
