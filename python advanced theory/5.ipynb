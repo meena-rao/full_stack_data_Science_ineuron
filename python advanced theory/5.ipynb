{
 "cells": [
  {
   "cell_type": "markdown",
   "id": "d7614b09",
   "metadata": {},
   "source": [
    "## Assignment 05 Solutions\n",
    "## Q1. What is the meaning of multiple inheritance?\n",
    "Ans: Inheritence is nothing but reusing the code of Parent class by the child class. Similary when a child class inherits its properties from multiple Parent classes this scenario is called Multiple Inheritence\n",
    "\n",
    "class Parent_one:\n",
    "    pass\n",
    "class Parent_two:\n",
    "    pass\n",
    "class child(Parent_one,Parent_two):\n",
    "    pass\n",
    "\n",
    "### Q2. What is the concept of delegation?\n",
    "Ans: Delegation provides a proxy object for any class thay you want on top of the main class. its like a wrapper to your class so that you can access limited resources of the main class.\n",
    "\n",
    "it Wraps the object of main class into a smaller object with limited access\n",
    "\n",
    "Simply Delegation means that you can include a instance of another class as an instance variable, and forward messages to the instance.\n",
    "\n",
    "class Myclass:\n",
    "    def sayHi(self):\n",
    "        print('Hey iam back')\n",
    "    def whoAmI(self):\n",
    "        print('Iam the main class')\n",
    "class NewClass:\n",
    "    def __init__(self,obj):\n",
    "        self.main = obj\n",
    "    def welcome(self):\n",
    "        self.main.sayHi()\n",
    "\n",
    "m = Myclass()        \n",
    "n = NewClass(m)\n",
    "m.sayHi()\n",
    "n.main.sayHi()\n",
    "n.welcome()\n",
    "n.main.whoAmI()\n",
    "Hey iam back\n",
    "Hey iam back\n",
    "Hey iam back\n",
    "Iam the main class\n",
    "\n",
    "### Q3. What is the concept of composition?\n",
    "Ans: In the concept of Composition, a class refers to one or more other classes by using instances of those classes as a instance variable. irrespective of inheritence in this approach all the parent class members are not inherited into child class, but only required methods from a class are used by using class instances.\n",
    "\n",
    "class Salary:\n",
    "    def __init__(self,pay):\n",
    "        self.pay = pay\n",
    "    def get_total(self):\n",
    "        return self.pay*12\n",
    "    \n",
    "class Employee:\n",
    "    def __init__(self,pay,bonus):\n",
    "        self.pay = pay\n",
    "        self.bonus = bonus\n",
    "        self.obj_salary = Salary(self.pay)\n",
    "    def annual_salary(self):\n",
    "        return f'Total Salary : {str(self.obj_salary.get_total())}'\n",
    "\n",
    "obj_emp = Employee(800,500)\n",
    "print(obj_emp.annual_salary())\n",
    "Total Salary : 9600\n",
    "\n",
    "### Q4. What are bound methods and how do we use them?\n",
    "Ans: If a function is an attribute of class and it is accessed via the instances, they are called bound methods. A bound method is one that has self as its first argument. Since these are dependent on the instance of classes, these are also known as instance methods.\n",
    "\n",
    "class Test:\n",
    "    def method_one(self): # bound method\n",
    "        print(\"Called method_one\")\n",
    "    @classmethod\n",
    "    def method_two(cls): # unbound method\n",
    "        print(\"Called method_two\")\n",
    "    @staticmethod\n",
    "    def method_three(): # static method\n",
    "        print(\"Called method_three\")\n",
    "\n",
    "test = Test()\n",
    "test.method_one() # accessing through instance object\n",
    "test.method_two() # accessing through instance object\n",
    "Test.method_two() # accessing directly through class\n",
    "Test.method_three() # accessing directly through class\n",
    "Called method_one\n",
    "Called method_two\n",
    "Called method_two\n",
    "Called method_three"
   ]
  },
  {
   "cell_type": "markdown",
   "id": "0f1b6563",
   "metadata": {},
   "source": [
    "### Q5. What is the purpose of pseudoprivate attributes?\n",
    "In Python, pseudoprivate attributes are instance variables that have names with double underscores at the beginning but not at the end (e.g., __attribute). The purpose of pseudoprivate attributes is to provide a way to avoid naming conflicts when subclassing a class.\n",
    "\n",
    "When a variable is named with a single underscore at the beginning (e.g., _attribute), it is conventionally meant to be a private attribute. However, private attributes can still be accessed and modified from outside the class, either directly or using class methods. This can lead to naming conflicts when a subclass inherits a private attribute from its parent class and defines another private attribute with the same name.\n",
    "\n",
    "Pseudoprivate attributes, on the other hand, cannot be accessed from outside the class using their original names. When a pseudoprivate attribute is defined in a class, its name is automatically \"mangled\" by prefixing the name with an underscore and the class name (e.g., _classname__attribute). This makes it much less likely that a naming conflict will occur when a subclass defines a private attribute with the same name.\n"
   ]
  },
  {
   "cell_type": "code",
   "execution_count": 1,
   "id": "a0e7511a",
   "metadata": {},
   "outputs": [
    {
     "name": "stdout",
     "output_type": "stream",
     "text": [
      "0\n"
     ]
    }
   ],
   "source": [
    "class MyClass:\n",
    "    def __init__(self):\n",
    "        self.__x = 0  # pseudoprivate attribute\n",
    "    \n",
    "    def get_x(self):\n",
    "        return self.__x\n",
    "\n",
    "class MySubclass(MyClass):\n",
    "    def __init__(self):\n",
    "        super().__init__()\n",
    "        self.__x = 1  # another pseudoprivate attribute\n",
    "\n",
    "obj = MySubclass()\n",
    "print(obj.get_x())  # Output: 0"
   ]
  },
  {
   "cell_type": "markdown",
   "id": "567d3576",
   "metadata": {},
   "source": [
    "In this example, the MyClass class defines a pseudoprivate attribute called __x. When the MySubclass class inherits from MyClass and defines another pseudoprivate attribute called __x, the two attributes are treated as separate attributes, even though they have the same original name. The get_x method of the MyClass class returns the value of the __x attribute defined in the parent class, which is 0. When obj.get_x() is called, it returns 0, not 1, which shows that the two attributes are separate."
   ]
  }
 ],
 "metadata": {
  "kernelspec": {
   "display_name": "Python 3 (ipykernel)",
   "language": "python",
   "name": "python3"
  },
  "language_info": {
   "codemirror_mode": {
    "name": "ipython",
    "version": 3
   },
   "file_extension": ".py",
   "mimetype": "text/x-python",
   "name": "python",
   "nbconvert_exporter": "python",
   "pygments_lexer": "ipython3",
   "version": "3.9.7"
  }
 },
 "nbformat": 4,
 "nbformat_minor": 5
}
