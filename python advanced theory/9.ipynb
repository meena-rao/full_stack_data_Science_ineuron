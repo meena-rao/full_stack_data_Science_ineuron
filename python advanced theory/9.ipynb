{
 "cells": [
  {
   "cell_type": "markdown",
   "id": "ccccbce4",
   "metadata": {},
   "source": [
    "## Assignment 09 Solutions\n",
    "## Q1. In Python 3.X, what are the names and functions of string object types?\n",
    "Ans: The following are some of the names and functions of string object types in Python 3.X\n",
    "\n",
    "<stirng>.isdecimal() -> Returns True if all characters in a string are decimal.\n",
    "<string>.isalnum() -> Returns True if all characters in the string are AlphaNumeric.\n",
    "<string>.istitle() -> Returns True if first character in a string is in Uppercase.\n",
    "<string>.partition(<sub_string>) -> Splits string at first occurance of sub string and returns a tuple of 3 elements.\n",
    "<string>.rpartition(<sub_string>) -> Splits string at last occurance of sub string and returns a tuple of 3 elements.\n",
    "<string>.isidentifier() -> Returns True if give string is a valid identifier name."
   ]
  },
  {
   "cell_type": "markdown",
   "id": "909bf05e",
   "metadata": {},
   "source": [
    "### Q2. How do the string forms in Python 3.X vary in terms of operations?\n",
    "Ans: In Python3 default format of strings is Unicode Whereas in Pyton2 we need to explicitly mention Unicode value using u.\n",
    "\n",
    "### Q3. In Python 3.X, how do you put non-ASCII Unicode characters in a string?\n",
    "Ans: In Python 3.x unidecode() method from unidecode library can be used to put non-ASCII Unicode Characters in a string."
   ]
  },
  {
   "cell_type": "code",
   "execution_count": 1,
   "id": "fac8d5e2",
   "metadata": {},
   "outputs": [
    {
     "name": "stdout",
     "output_type": "stream",
     "text": [
      "Café\n"
     ]
    }
   ],
   "source": [
    "s = u'Café'\n",
    "print(s)  # Output: Café"
   ]
  },
  {
   "cell_type": "markdown",
   "id": "666dacac",
   "metadata": {},
   "source": [
    "### Q4. In Python 3.X, what are the key differences between text-mode and binary-mode files?\n",
    "Ans: The major difference between these two is that a text file contains textual information in the form of alphabets, digits and special characters or symbols. On the other hand, a binary file contains bytes or a compiled version of a text file.\n",
    "\n",
    "When a file is opened in text mode, reading its data automatically decodes its content (as per the platform default or as per provided encoding), and returns it as a str; writing operation takes a str, and automatically encodes it before transferring to the file. Text mode files also support universal end-of-line translation, and encoding specification arguments.\n",
    "\n",
    "When a file is opened in binary mode by adding a b to the mode string argument in the open() call, reading its data does not decode it in any way, and simply returns its content raw and unchanged, as a bytes object; writing takes a bytes object and transfers it to the file unchanged. Binary-mode files also accept a bytearray object for the content to be written to the file.\n",
    "\n",
    "### Q5. How can you interpret a Unicode text file containing text encoded in a different encoding than your platform's default?\n",
    "Ans: Use of encode() and decode() method can be used to you interpret a Unicode text file containing text encoded in a different encoding than your platform's default, by default encoding parameter is UTF-8\n",
    "\n",
    "### Q6. What is the best way to make a Unicode text file in a particular encoding format?\n",
    "Ans: Use str.encode() and file.write() to make a Unicode text file in a particular encoding format, default encoding format is UTF-18.\n",
    "\n",
    "Call str.encode(encoding) with encoding set to utf8 to encode str.\n",
    "Call open(file, mode) to open a file with mode set to wb . wb writes to files in binary mode & preserves UTF-8format.\n",
    "Call file.write(data) to write data to the file.\n",
    "\n",
    "### Q7. What qualifies ASCII text as a form of Unicode text?\n",
    "Ans: Unicode represents most written languages in the world. ASCII has its equivalent in Unicode. The difference between ASCII and Unicode is that ASCII represents lowercase letters (a-z), uppercase letters (A-Z), digits (0–9) and symbols such as punctuation marks while Unicode represents letters of English, Arabic, Greek etc. mathematical symbols, historical scripts, emoji covering a wide range of characters than ASCII.\n",
    "\n",
    "### Q8. How much of an effect does the change in string types in Python 3.X have on your code?\n",
    "Ans: Python 3 stores strings as Unicode by default whereas Python 2 requires you to mark a string with a u if you want to store it as Unicode. Unicode strings are more versatile than ASCII strings, which are the Python 3.X default, as they can store letters from foreign languages as well as emoji and the standard Roman letters and numerals."
   ]
  }
 ],
 "metadata": {
  "kernelspec": {
   "display_name": "Python 3 (ipykernel)",
   "language": "python",
   "name": "python3"
  },
  "language_info": {
   "codemirror_mode": {
    "name": "ipython",
    "version": 3
   },
   "file_extension": ".py",
   "mimetype": "text/x-python",
   "name": "python",
   "nbconvert_exporter": "python",
   "pygments_lexer": "ipython3",
   "version": "3.9.7"
  }
 },
 "nbformat": 4,
 "nbformat_minor": 5
}
