{
 "cells": [
  {
   "cell_type": "code",
   "execution_count": null,
   "id": "461ea0b6",
   "metadata": {},
   "outputs": [],
   "source": [
    "1. What are escape characters, and how do you use them?\n",
    "\n",
    "Escape sequences allow you to include special characters in strings. To do this, simply add a backslash (\\) before the character you want to escape."
   ]
  },
  {
   "cell_type": "code",
   "execution_count": null,
   "id": "c4a30609",
   "metadata": {},
   "outputs": [],
   "source": [
    "2. What do the escape characters n and t stand for?\n",
    "\\n refers to newline character, takes cursor to next line\n",
    "\\t tab creates space of 8 characters"
   ]
  },
  {
   "cell_type": "code",
   "execution_count": 3,
   "id": "6828c7dc",
   "metadata": {},
   "outputs": [
    {
     "name": "stdout",
     "output_type": "stream",
     "text": [
      "it is printing backslash\\\n"
     ]
    }
   ],
   "source": [
    "#3. What is the way to include backslash characters in a string?\n",
    "print(\"it is printing backslash\\\\\")  #adding \\ "
   ]
  },
  {
   "cell_type": "code",
   "execution_count": null,
   "id": "4ffeac05",
   "metadata": {},
   "outputs": [],
   "source": [
    "4. The string \"Howl's Moving Castle\" is a correct value. Why isn't the single quote character in the word Howl's not escaped a problem?\n"
   ]
  },
  {
   "cell_type": "code",
   "execution_count": 6,
   "id": "df63ec82",
   "metadata": {},
   "outputs": [
    {
     "name": "stdout",
     "output_type": "stream",
     "text": [
      "new line character without n character\n",
      "kjdjkhj \n",
      "     dssdddsdsd\n",
      "     dsdsdsd\n"
     ]
    }
   ],
   "source": [
    "#5. How do you write a string of newlines if you don't want to use the n character?\n",
    "print(\"new line character without n character\")\n",
    "a = \"\"\"kjdjkhj \n",
    "     dssdddsdsd\n",
    "     dsdsdsd\"\"\"\n",
    "print(a)"
   ]
  },
  {
   "cell_type": "code",
   "execution_count": 7,
   "id": "37e7d866",
   "metadata": {},
   "outputs": [
    {
     "name": "stdout",
     "output_type": "stream",
     "text": [
      "e\n",
      "Hello\n",
      "Hello\n",
      "lo, world!\n"
     ]
    }
   ],
   "source": [
    "#6. What are the values of the given expressions?\n",
    "print('Hello, world!'[1])  #second position\n",
    "print('Hello, world!'[0:5])  #first 5 characters\n",
    "print('Hello, world!'[:5]) #same a sabove\n",
    "print('Hello, world!'[3:]) # from 4th character till end"
   ]
  },
  {
   "cell_type": "code",
   "execution_count": 8,
   "id": "ad782013",
   "metadata": {},
   "outputs": [
    {
     "name": "stdout",
     "output_type": "stream",
     "text": [
      "HELLO\n",
      "True\n",
      "hello\n"
     ]
    }
   ],
   "source": [
    "#7. What are the values of the following expressions?\n",
    "print('Hello'.upper())  # all upper\n",
    "print('Hello'.upper().isupper())  # after converting to upper the isupper() gives True\n",
    "print('Hello'.upper().lower())  # finally all lower\n"
   ]
  },
  {
   "cell_type": "code",
   "execution_count": 9,
   "id": "f9fa3fdd",
   "metadata": {},
   "outputs": [
    {
     "name": "stdout",
     "output_type": "stream",
     "text": [
      "['Remember,', 'remember,', 'the', 'fifth', 'of', 'July.']\n",
      "There-can-only-one.\n"
     ]
    }
   ],
   "source": [
    "#8. What are the values of the following expressions?\n",
    "print('Remember, remember, the fifth of July.'.split()) # split by default by space\n",
    "print('-'.join('There can only one.'.split())) # in between words - is added so split gives single expression\n"
   ]
  },
  {
   "cell_type": "code",
   "execution_count": 20,
   "id": "dc8f1f33",
   "metadata": {},
   "outputs": [
    {
     "name": "stdout",
     "output_type": "stream",
     "text": [
      "                 sdfffddf\n",
      "sdfffddf                 \n",
      "         sdfffddf        \n"
     ]
    }
   ],
   "source": [
    "#9. What are the methods for right-justifying, left-justifying, and centering a string?\n",
    "#rjust(), ljust(), center() \n",
    "\n",
    "print(\"sdfffddf\".rjust(25))\n",
    "print(\"sdfffddf\".ljust(25))\n",
    "print(\"sdfffddf\".center(25))"
   ]
  },
  {
   "cell_type": "code",
   "execution_count": 24,
   "id": "9b77de5a",
   "metadata": {},
   "outputs": [
    {
     "name": "stdout",
     "output_type": "stream",
     "text": [
      "asdad        \n",
      "         asdad\n"
     ]
    }
   ],
   "source": [
    "#10. What is the best way to remove whitespace characters from the start or end?\n",
    "print(\"         asdad        \".lstrip())\n",
    "print(\"         asdad        \".rstrip())"
   ]
  }
 ],
 "metadata": {
  "kernelspec": {
   "display_name": "Python 3",
   "language": "python",
   "name": "python3"
  },
  "language_info": {
   "codemirror_mode": {
    "name": "ipython",
    "version": 3
   },
   "file_extension": ".py",
   "mimetype": "text/x-python",
   "name": "python",
   "nbconvert_exporter": "python",
   "pygments_lexer": "ipython3",
   "version": "3.8.10"
  }
 },
 "nbformat": 4,
 "nbformat_minor": 5
}
