{
 "cells": [
  {
   "cell_type": "code",
   "execution_count": null,
   "id": "47da6618",
   "metadata": {},
   "outputs": [],
   "source": [
    "#1. In the below elements which of them are values or an expression? \n",
    "eg:- values can be integer or string and expressions will be mathematical operators.\n",
    "* \n",
    "'hello'\n",
    "-87.8\n",
    "- \n",
    "/ \n",
    "+\n",
    "6 \n",
    "\n",
    "Answer:\n",
    "'hello' is variable\n",
    "-87.8 and 6 are constants\n",
    "*, -, /, + are operators and with operands they become expressions"
   ]
  },
  {
   "cell_type": "code",
   "execution_count": null,
   "id": "4bbd4abe",
   "metadata": {},
   "outputs": [],
   "source": [
    "#2. What is the difference between string and variable?\n",
    "\n",
    "String is one of the datatype, set of characters terminated by null charater.\n",
    "Variable is placeholder in memory. sai a =10. a is variable name given for memory location whuich contains 10"
   ]
  },
  {
   "cell_type": "code",
   "execution_count": null,
   "id": "92f8148f",
   "metadata": {},
   "outputs": [],
   "source": [
    "#3. Describe three different data types.\n",
    "\n",
    "list ordered collection of elelments, mutable\n",
    "tuple ordered collection of elements, immutable\n",
    "set unordered collection of elements, imutable"
   ]
  },
  {
   "cell_type": "code",
   "execution_count": null,
   "id": "ead58adb",
   "metadata": {},
   "outputs": [],
   "source": [
    "#4. What is an expression made up of? What do all expressions do?\n",
    "Usually expression is combination of operator and operator. They do mathematical computations, assignments etc. means evaluation"
   ]
  },
  {
   "cell_type": "code",
   "execution_count": null,
   "id": "999eaab3",
   "metadata": {},
   "outputs": [],
   "source": [
    "#5. This assignment statements, like spam = 10. What is the difference between an expression and a statement?\n",
    "\n",
    "Answer- spam =10+4 is expresion, when terminated by ; then it is know a statement.\n",
    "\n",
    "Expression evaluates to a value. it is consisiting of operator and operands.\n",
    "Statement does what is meant for. it is also smallest unit of execuatble code. program is collection of statements."
   ]
  },
  {
   "cell_type": "code",
   "execution_count": null,
   "id": "f3538da9",
   "metadata": {},
   "outputs": [],
   "source": [
    "6. After running the following code, what does the variable bacon contain?\n",
    "bacon = 22\n",
    "bacon + 1\n",
    "bacon\n",
    "\n",
    "Answer: It contains 22 itself."
   ]
  },
  {
   "cell_type": "code",
   "execution_count": null,
   "id": "a2ea2c04",
   "metadata": {},
   "outputs": [],
   "source": [
    "#7. What should the values of the following two terms be?\n",
    "a. 'spam' + 'spamspam'\n",
    "b. 'spam' * 3\n",
    "\n",
    "Answer: \n",
    "a. 'spamspamspam'\n",
    "b. 'spamspamspam'"
   ]
  },
  {
   "cell_type": "code",
   "execution_count": null,
   "id": "697b2d69",
   "metadata": {},
   "outputs": [],
   "source": [
    "#8. Why is eggs a valid variable name while 100 is invalid?\n",
    "\n",
    "variable cannot start with any special character or number except underscore "
   ]
  },
  {
   "cell_type": "code",
   "execution_count": null,
   "id": "d71dc1e7",
   "metadata": {},
   "outputs": [],
   "source": [
    "#9. What three functions can be used to get the integer, floating-point number, or string version of a value?\n",
    "\n",
    "a =123.4\n",
    "int(a)\n",
    "float(a)\n",
    "str(a)"
   ]
  },
  {
   "cell_type": "code",
   "execution_count": 22,
   "id": "e76b1a92",
   "metadata": {},
   "outputs": [
    {
     "name": "stdout",
     "output_type": "stream",
     "text": [
      "i have eaten 99 burritos\n"
     ]
    }
   ],
   "source": [
    "#10. Why does this expression cause an error? How can you fix it?\n",
    "#'I have eaten ' + 99 + ' burritos.'\n",
    "\n",
    "#String to string concatenation possible. not string and int.\n",
    "print(\"i have eaten \"+str(99)+ \" burritos\") #correct"
   ]
  }
 ],
 "metadata": {
  "kernelspec": {
   "display_name": "Python 3",
   "language": "python",
   "name": "python3"
  },
  "language_info": {
   "codemirror_mode": {
    "name": "ipython",
    "version": 3
   },
   "file_extension": ".py",
   "mimetype": "text/x-python",
   "name": "python",
   "nbconvert_exporter": "python",
   "pygments_lexer": "ipython3",
   "version": "3.8.10"
  }
 },
 "nbformat": 4,
 "nbformat_minor": 5
}
