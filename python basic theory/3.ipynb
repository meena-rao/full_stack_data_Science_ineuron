{
 "cells": [
  {
   "cell_type": "code",
   "execution_count": null,
   "id": "f383c8fd",
   "metadata": {},
   "outputs": [],
   "source": [
    "1. Why are functions advantageous to have in your programs?\n",
    "\n",
    "Reusability, easy debugging, easy understanding, easy enhancment to existiting code are some of the main advantageous of functions."
   ]
  },
  {
   "cell_type": "code",
   "execution_count": null,
   "id": "ee7644a8",
   "metadata": {},
   "outputs": [],
   "source": [
    "2. When does the code in a function run: when it's specified or when it's called?\n",
    "\n",
    "    When function is called, then only it will be executed."
   ]
  },
  {
   "cell_type": "code",
   "execution_count": null,
   "id": "59d166fe",
   "metadata": {},
   "outputs": [],
   "source": [
    "3. What statement creates a function?\n",
    "\n",
    "def function_name(formal arguments):\n",
    "    function_body"
   ]
  },
  {
   "cell_type": "code",
   "execution_count": null,
   "id": "e2ffa057",
   "metadata": {},
   "outputs": [],
   "source": [
    "4. What is the difference between a function and a function call?\n",
    "\n",
    "function has 2 things:\n",
    "\n",
    "1. function definition\n",
    "2. function call\n",
    "\n",
    "def Fun_name(formal arguments):   # define function\n",
    "    function_body\n",
    "    return\n",
    "\n",
    "Fun_name(actual arguments)  # call"
   ]
  },
  {
   "cell_type": "code",
   "execution_count": null,
   "id": "b0316930",
   "metadata": {},
   "outputs": [],
   "source": [
    "5. How many global scopes are there in a Python program? How many local scopes?\n",
    "\n",
    "One global and local scope there in Python."
   ]
  },
  {
   "cell_type": "code",
   "execution_count": null,
   "id": "4c13b62b",
   "metadata": {},
   "outputs": [],
   "source": [
    "6. What happens to variables in a local scope when the function call returns?\n",
    "\n",
    "Local scope variable are not available or get detroyed after call returns."
   ]
  },
  {
   "cell_type": "code",
   "execution_count": null,
   "id": "c3e63fa7",
   "metadata": {},
   "outputs": [],
   "source": [
    "7. What is the concept of a return value? Is it possible to have a return value in an expression?\n",
    "\n",
    "When return executed, program execution control goes back to main control from where the function called. \n",
    "It is possible to return single or multiple values."
   ]
  },
  {
   "cell_type": "code",
   "execution_count": null,
   "id": "cd344245",
   "metadata": {},
   "outputs": [],
   "source": [
    "8. If a function does not have a return statement, what is the return value of a call to that function?\n",
    "\n",
    "Nothing / none."
   ]
  },
  {
   "cell_type": "code",
   "execution_count": 9,
   "id": "98e800cc",
   "metadata": {},
   "outputs": [
    {
     "name": "stdout",
     "output_type": "stream",
     "text": [
      "11\n"
     ]
    }
   ],
   "source": [
    "#9. How do you make a function variable refer to the global variable?\n",
    "x =10\n",
    "def glob():\n",
    "    global x   #use global keyword\n",
    "    x =11\n",
    "    print(x)\n",
    "    \n",
    "glob()"
   ]
  },
  {
   "cell_type": "code",
   "execution_count": null,
   "id": "1cd75148",
   "metadata": {},
   "outputs": [],
   "source": [
    "10. What is the data type of None?\n",
    "none type."
   ]
  },
  {
   "cell_type": "code",
   "execution_count": null,
   "id": "863f57cc",
   "metadata": {},
   "outputs": [],
   "source": [
    "11. What does the sentence import areallyourpetsnamederic do?\n",
    "\n",
    "It is a way of making all contents ofanother module available to current program module."
   ]
  },
  {
   "cell_type": "code",
   "execution_count": null,
   "id": "b04688c2",
   "metadata": {},
   "outputs": [],
   "source": [
    "12. If you had a bacon() feature in a spam module, what would you call it after importing spam?\n",
    "\n",
    "import spam\n",
    "spam.bacon()"
   ]
  },
  {
   "cell_type": "code",
   "execution_count": null,
   "id": "dfc188e2",
   "metadata": {},
   "outputs": [],
   "source": [
    "13. What can you do to save a programme from crashing if it encounters an error?\n",
    "Use try except block."
   ]
  },
  {
   "cell_type": "code",
   "execution_count": null,
   "id": "f3a94559",
   "metadata": {},
   "outputs": [],
   "source": [
    "14. What is the purpose of the try clause? What is the purpose of the except clause?\n",
    "Error causing statement is pit in try block and if any error happens then execute except block."
   ]
  }
 ],
 "metadata": {
  "kernelspec": {
   "display_name": "Python 3",
   "language": "python",
   "name": "python3"
  },
  "language_info": {
   "codemirror_mode": {
    "name": "ipython",
    "version": 3
   },
   "file_extension": ".py",
   "mimetype": "text/x-python",
   "name": "python",
   "nbconvert_exporter": "python",
   "pygments_lexer": "ipython3",
   "version": "3.8.10"
  }
 },
 "nbformat": 4,
 "nbformat_minor": 5
}
