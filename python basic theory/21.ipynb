{
 "cells": [
  {
   "cell_type": "code",
   "execution_count": 3,
   "id": "7e4c7441",
   "metadata": {},
   "outputs": [
    {
     "name": "stdout",
     "output_type": "stream",
     "text": [
      "02-03-2022\n"
     ]
    }
   ],
   "source": [
    "#1. Add the current date to the text file today.txt as a string.\n",
    "from datetime import datetime\n",
    "date = datetime.now().strftime(\"%d-%m-%Y\")\n",
    "f = open('today.txt', 'w')\n",
    "f.write(date)\n",
    "f.close()\n",
    "\n",
    "file = open('today.txt','r')\n",
    "print(file.read())\n",
    "file.close()"
   ]
  },
  {
   "cell_type": "code",
   "execution_count": 6,
   "id": "f9adf168",
   "metadata": {},
   "outputs": [
    {
     "name": "stdout",
     "output_type": "stream",
     "text": [
      "02-03-2022\n"
     ]
    }
   ],
   "source": [
    "#2. Read the text file today.txt into the string today_string\n",
    "f = open('today.txt', 'r')\n",
    "today_string = f.read()\n",
    "print(today_string)\n",
    "f.close()"
   ]
  },
  {
   "cell_type": "code",
   "execution_count": 10,
   "id": "e7c91666",
   "metadata": {},
   "outputs": [
    {
     "name": "stdout",
     "output_type": "stream",
     "text": [
      "02-03-2022\n",
      "2022-03-02 00:00:00\n"
     ]
    }
   ],
   "source": [
    "#3. Parse the date from today_string.\n",
    "print(today_string)\n",
    "from datetime import datetime\n",
    "parsed_data = datetime.strptime(today_string, '%d-%m-%Y')\n",
    "print(parsed_data)\n"
   ]
  },
  {
   "cell_type": "code",
   "execution_count": 23,
   "id": "2a7c8b7a",
   "metadata": {},
   "outputs": [
    {
     "name": "stdout",
     "output_type": "stream",
     "text": [
      "11.ipynb\n",
      "12.ipynb\n",
      "13.ipynb\n",
      "14.ipynb\n",
      "15.ipynb\n",
      "16.ipynb\n",
      "17.ipynb\n",
      "18.ipynb\n",
      "19.ipynb\n",
      "20.ipynb\n",
      "21.ipynb\n",
      "22.ipynb\n",
      "23.ipynb\n",
      "24.ipynb\n",
      "25.ipynb\n",
      "7.ipynb\n",
      "8.ipynb\n",
      "today.txt\n",
      "11-checkpoint.ipynb\n",
      "12-checkpoint.ipynb\n",
      "13-checkpoint.ipynb\n",
      "14-checkpoint.ipynb\n",
      "15-checkpoint.ipynb\n",
      "16-checkpoint.ipynb\n",
      "17-checkpoint.ipynb\n",
      "18-checkpoint.ipynb\n",
      "19-checkpoint.ipynb\n",
      "20-checkpoint.ipynb\n",
      "21-checkpoint.ipynb\n",
      "22-checkpoint.ipynb\n",
      "23-checkpoint.ipynb\n",
      "24-checkpoint.ipynb\n",
      "25-checkpoint.ipynb\n",
      "7-checkpoint.ipynb\n",
      "8-checkpoint.ipynb\n",
      "11.ipynb\n",
      "7.ipynb\n",
      "8.ipynb\n",
      "te.txt\n",
      "1.ipynb\n",
      "10.ipynb\n",
      "11.ipynb\n",
      "12.ipynb\n",
      "13.ipynb\n",
      "14.ipynb\n",
      "15.ipynb\n",
      "16.ipynb\n",
      "17.ipynb\n",
      "18.ipynb\n",
      "19.ipynb\n",
      "2.ipynb\n",
      "20.ipynb\n",
      "21.ipynb\n",
      "22.ipynb\n",
      "23.ipynb\n",
      "24.ipynb\n",
      "25.ipynb\n",
      "3.ipynb\n",
      "4.ipynb\n",
      "5.ipynb\n",
      "6.ipynb\n",
      "7.ipynb\n",
      "8.ipynb\n",
      "9.ipynb\n",
      "1-checkpoint.ipynb\n",
      "10-checkpoint.ipynb\n",
      "11-checkpoint.ipynb\n",
      "12-checkpoint.ipynb\n",
      "13-checkpoint.ipynb\n",
      "14-checkpoint.ipynb\n",
      "15-checkpoint.ipynb\n",
      "16-checkpoint.ipynb\n",
      "17-checkpoint.ipynb\n",
      "18-checkpoint.ipynb\n",
      "19-checkpoint.ipynb\n",
      "2-checkpoint.ipynb\n",
      "20-checkpoint.ipynb\n",
      "21-checkpoint.ipynb\n",
      "22-checkpoint.ipynb\n",
      "23-checkpoint.ipynb\n",
      "24-checkpoint.ipynb\n",
      "25-checkpoint.ipynb\n",
      "3-checkpoint.ipynb\n",
      "4-checkpoint.ipynb\n",
      "5-checkpoint.ipynb\n",
      "6-checkpoint.ipynb\n",
      "7-checkpoint.ipynb\n",
      "8-checkpoint.ipynb\n",
      "9-checkpoint.ipynb\n",
      "9.ipynb\n",
      "9-checkpoint.ipynb\n",
      "2.ipynb\n",
      "3.ipynb\n",
      "4.ipynb\n",
      "5.ipynb\n",
      "2-checkpoint.ipynb\n",
      "3-checkpoint.ipynb\n",
      "4-checkpoint.ipynb\n",
      "5-checkpoint.ipynb\n"
     ]
    }
   ],
   "source": [
    "#4. List the files in your current directory\n",
    "import os\n",
    "for root, dirs, files in os.walk(os.getcwd()):\n",
    "    for file in files:\n",
    "        print(file)\n",
    "#prints all files in PWD.             "
   ]
  },
  {
   "cell_type": "code",
   "execution_count": 22,
   "id": "c2ea3984",
   "metadata": {},
   "outputs": [
    {
     "data": {
      "text/plain": [
       "['.ipynb_checkpoints',\n",
       " '1 python theory basics asst',\n",
       " '11.ipynb',\n",
       " '12.ipynb',\n",
       " '13.ipynb',\n",
       " '14.ipynb',\n",
       " '15.ipynb',\n",
       " '16.ipynb',\n",
       " '17.ipynb',\n",
       " '18.ipynb',\n",
       " '19.ipynb',\n",
       " '2 python theory advanced',\n",
       " '20.ipynb',\n",
       " '21.ipynb',\n",
       " '22.ipynb',\n",
       " '23.ipynb',\n",
       " '24.ipynb',\n",
       " '25.ipynb',\n",
       " '3 python pro basics',\n",
       " '4 python pro advanced',\n",
       " '7.ipynb',\n",
       " '8.ipynb',\n",
       " 'today.txt']"
      ]
     },
     "execution_count": 22,
     "metadata": {},
     "output_type": "execute_result"
    }
   ],
   "source": [
    "#5. Create a list of all of the files in your parent directory (minimum five files should be available).\n",
    "os.listdir()"
   ]
  },
  {
   "cell_type": "code",
   "execution_count": 2,
   "id": "bc2bd91a",
   "metadata": {},
   "outputs": [],
   "source": [
    "#6. Use multiprocessing to create three separate processes. Make each one wait a random number of\n",
    "#seconds between one and five, print the current time, and then exit.\n",
    "\n",
    "import multiprocessing\n",
    "import time \n",
    "import random\n",
    "import datetime\n",
    "\n",
    "def procOne():\n",
    "    print(f'Proc_one_Starttime -> {datetime.datetime.now()}')\n",
    "    time.sleep(random.randint(1,5))\n",
    "    print(f'Proc_one_Endtime -> {datetime.datetime.now()}')\n",
    "    \n",
    "def procTwo():\n",
    "    print(f'Proc_two_Starttime -> {datetime.datetime.now()}')\n",
    "    time.sleep(random.randint(1,5))\n",
    "    print(f'Proc_two_Endtime -> {datetime.datetime.now()}')\n",
    "\n",
    "def procThree():\n",
    "    print(f'Proc_two_Starttime -> {datetime.datetime.now()}')\n",
    "    time.sleep(random.randint(1,5))\n",
    "    print(f'Proc_two_Endtime -> {datetime.datetime.now()}')\n",
    "    \n",
    "p1 = multiprocessing.Process(target=procOne)\n",
    "p2 = multiprocessing.Process(target=procTwo)\n",
    "p3 = multiprocessing.Process(target=procThree)\n",
    "\n",
    "p1.start()\n",
    "p2.start()\n",
    "p3.start()\n",
    "\n",
    "p1.join()\n",
    "p2.join()\n",
    "p3.join()"
   ]
  },
  {
   "cell_type": "code",
   "execution_count": 5,
   "id": "d3f6827b",
   "metadata": {},
   "outputs": [
    {
     "name": "stdout",
     "output_type": "stream",
     "text": [
      "1995-01-30 00:00:00 <class 'datetime.datetime'>\n"
     ]
    }
   ],
   "source": [
    "#7. Create a date object of your day of birth.\n",
    "from datetime import datetime\n",
    "my_dob = datetime.strptime('30/01/1995','%d/%m/%Y')\n",
    "print(my_dob, type(my_dob))"
   ]
  },
  {
   "cell_type": "code",
   "execution_count": 12,
   "id": "7590c77f",
   "metadata": {},
   "outputs": [
    {
     "data": {
      "text/plain": [
       "'Monday'"
      ]
     },
     "execution_count": 12,
     "metadata": {},
     "output_type": "execute_result"
    }
   ],
   "source": [
    "#8. What day of the week was your day of birth?\n",
    "from datetime import datetime\n",
    "my_dob = datetime(1995,1,30)\n",
    "my_dob.strftime(\"%A\")"
   ]
  },
  {
   "cell_type": "code",
   "execution_count": 14,
   "id": "5c5d9709",
   "metadata": {},
   "outputs": [
    {
     "data": {
      "text/plain": [
       "datetime.datetime(1967, 9, 14, 0, 0)"
      ]
     },
     "execution_count": 14,
     "metadata": {},
     "output_type": "execute_result"
    }
   ],
   "source": [
    "#9. When will you be (or when were you) 10,000 days old?\n",
    "from datetime import datetime, timedelta\n",
    "my_dob = datetime.strptime(\"30/01/1995\",'%d/%m/%Y')\n",
    "future_date = my_dob-timedelta(10000)\n",
    "future_date"
   ]
  }
 ],
 "metadata": {
  "kernelspec": {
   "display_name": "Python 3 (ipykernel)",
   "language": "python",
   "name": "python3"
  },
  "language_info": {
   "codemirror_mode": {
    "name": "ipython",
    "version": 3
   },
   "file_extension": ".py",
   "mimetype": "text/x-python",
   "name": "python",
   "nbconvert_exporter": "python",
   "pygments_lexer": "ipython3",
   "version": "3.9.7"
  }
 },
 "nbformat": 4,
 "nbformat_minor": 5
}
