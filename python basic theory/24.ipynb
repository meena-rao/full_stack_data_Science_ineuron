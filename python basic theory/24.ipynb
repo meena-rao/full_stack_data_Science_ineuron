{
 "cells": [
  {
   "cell_type": "code",
   "execution_count": null,
   "id": "a97f0d5a",
   "metadata": {},
   "outputs": [],
   "source": [
    "1. What is the relationship between def statements and lambda expressions ?\n",
    "\n",
    "- The def defined functions do not return anything if not explicitly returned whereas the lambda function does\n",
    "return an object. \n",
    "\n",
    "- The def functions must be declared in the namespace. The lambda functions can be used without any declaration in the namespace.\n",
    "\n",
    "- The def functions can perform any python task including multiple conditions, nested conditions or loops of any level,\n",
    "printing, importing libraries, raising Exceptions, etc. The limited operation can be performed using lambda functions."
   ]
  },
  {
   "cell_type": "code",
   "execution_count": null,
   "id": "2a245cf7",
   "metadata": {},
   "outputs": [],
   "source": [
    "2. What is the benefit of lambda?\n",
    "The lambda keyword in Python provides a shortcut for declaring small anonymous functions. \n",
    "Lambda functions behave just like regular functions declared with the def keyword.\n",
    "They can be used whenever function objects are required.\n",
    "- example\n",
    "add = lambda x, y: x + y\n",
    "add(5, 3)   gives 8"
   ]
  },
  {
   "cell_type": "code",
   "execution_count": null,
   "id": "37920dba",
   "metadata": {},
   "outputs": [],
   "source": [
    "3. Compare and contrast map, filter, and reduce.\n",
    "\n",
    "1) The map() function iterates through all items in the given iterable and executes the function we passed as an argument \n",
    "on each of them. \n",
    "- SYNTAX - map(function, iterable(s))\n",
    "\n",
    "2) filter() takes a function object and an iterable and creates a new list. \n",
    "As the name suggests, filter() forms a new list that contains only elements that satisfy a certain condition, \n",
    "i.e. the function we passed returns True. \n",
    "- SYNTAX filter(function, iterable(s))\n",
    "\n",
    "3) reduce() - It does not return a new list based on the function and iterable we've passed. Instead, \n",
    "it returns a single value. \n",
    "Also, in Python 3 reduce() isn't a built-in function anymore, and it can be found in the functools module.\n",
    "The syntax is: reduce(function, sequence[, initial])"
   ]
  },
  {
   "cell_type": "code",
   "execution_count": 1,
   "id": "6c26e850",
   "metadata": {},
   "outputs": [
    {
     "name": "stdout",
     "output_type": "stream",
     "text": [
      "Map -> [2, 4, 6, 8]\n",
      "Filter -> [1, 3]\n",
      "Reduce -> 21\n"
     ]
    }
   ],
   "source": [
    "from functools import reduce\n",
    "# map function\n",
    "print('Map ->',list(map(lambda x:x+x, [1,2,3,4])))\n",
    "# fitler function\n",
    "print('Filter ->',list(filter(lambda x:x%2 !=0, [1,2,3,4])))\n",
    "# reduce function\n",
    "print('Reduce ->',reduce(lambda x,y:x+y, [1,2,3,4,5,6]))"
   ]
  },
  {
   "cell_type": "code",
   "execution_count": null,
   "id": "f07f3be5",
   "metadata": {},
   "outputs": [],
   "source": [
    "4. What are function annotations, and how are they used?\n",
    "\n",
    " - Function annotations introduced in Python 3.0 adds a feature that allows you to add\n",
    "arbitrary metadata to function parameters and return value.\n",
    " - Annotations of simple parameters def func(x: expression, y: expression = 20):\n",
    "Whereas the annotations for excess parameters are as − def func (**args: expression, **kwargs: expression):"
   ]
  },
  {
   "cell_type": "code",
   "execution_count": null,
   "id": "7b34bd34",
   "metadata": {},
   "outputs": [],
   "source": [
    "5. What are recursive functions, and how are they used?\n",
    "Recursion Function is a function that calls itself to solve a smaller version of its task ,\n",
    "until a final call is made ,recursion use a top down approach to solve a problem , \n",
    "recursion use divide and conquer technique to solve aproblem."
   ]
  },
  {
   "cell_type": "code",
   "execution_count": 4,
   "id": "e964d27e",
   "metadata": {},
   "outputs": [
    {
     "name": "stdout",
     "output_type": "stream",
     "text": [
      "Enter a number5\n",
      "Factorial number 120\n"
     ]
    }
   ],
   "source": [
    "def fact(n):\n",
    "    if n==0 or n==1 :\n",
    "        return 1\n",
    "    else :\n",
    "        return n*fact(n-1)\n",
    "n=int(input(\"Enter a number\"))\n",
    "print('Factorial number',fact(n))"
   ]
  },
  {
   "cell_type": "code",
   "execution_count": null,
   "id": "fc927645",
   "metadata": {},
   "outputs": [],
   "source": [
    "6. What are some general design guidelines for coding functions?\n",
    "Safe: It can be used without causing harm.\n",
    "Secure: It can't be hacked.\n",
    "Reliable: It functions as it should, every time.\n",
    "Testable: It can be tested at the code level.\n",
    "Maintainable: It can be maintained, even as your codebase grows.\n",
    "Portable: It works the same in every environment\n",
    "Always use docstring to explain what it does.\n"
   ]
  },
  {
   "cell_type": "code",
   "execution_count": null,
   "id": "cb75deec",
   "metadata": {},
   "outputs": [],
   "source": [
    "7. Name three or more ways that functions can communicate results to a caller.\n",
    "return, yield, print"
   ]
  }
 ],
 "metadata": {
  "kernelspec": {
   "display_name": "Python 3 (ipykernel)",
   "language": "python",
   "name": "python3"
  },
  "language_info": {
   "codemirror_mode": {
    "name": "ipython",
    "version": 3
   },
   "file_extension": ".py",
   "mimetype": "text/x-python",
   "name": "python",
   "nbconvert_exporter": "python",
   "pygments_lexer": "ipython3",
   "version": "3.9.7"
  }
 },
 "nbformat": 4,
 "nbformat_minor": 5
}
