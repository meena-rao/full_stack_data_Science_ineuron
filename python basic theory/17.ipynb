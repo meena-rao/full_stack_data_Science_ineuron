{
 "cells": [
  {
   "cell_type": "code",
   "execution_count": 1,
   "id": "7b7c5251",
   "metadata": {},
   "outputs": [
    {
     "name": "stdout",
     "output_type": "stream",
     "text": [
      "just right\n"
     ]
    }
   ],
   "source": [
    "#1. Assign the value 7 to the variable guess_me. \n",
    "#Then, write the conditional tests (if, else, and elif) to print the string 'too low' if guess_me is less than 7, \n",
    "#'too high' if greater than 7, and 'just right' if equal to 7.\n",
    "guess_me = 7\n",
    "if guess_me < 7 :\n",
    "    print(\"too low\")\n",
    "elif guess_me > 7:\n",
    "    print(\"too high\")\n",
    "else:\n",
    "    print('just right')"
   ]
  },
  {
   "cell_type": "code",
   "execution_count": 5,
   "id": "f1d8b5b0",
   "metadata": {},
   "outputs": [
    {
     "name": "stdout",
     "output_type": "stream",
     "text": [
      "too low\n",
      "too low\n",
      "too low\n",
      "too low\n",
      "too low\n",
      "too low\n",
      "found it\n"
     ]
    }
   ],
   "source": [
    "'''2. Assign the value 7 to the variable guess_me and the value 1 to the variable start. \n",
    "Write a while loop that compares start with guess_me. Print too low if start is less than guess me. \n",
    "If start equals guess_me, print 'found it!' and exit the loop. If start is greater than guess_me, print 'oops' and \n",
    "exit the loop. Increment start at the end of the loop.'''\n",
    "guess_me = 7\n",
    "start =1\n",
    "while(True):\n",
    "    if start < guess_me:\n",
    "        print('too low')\n",
    "    elif start> guess_me:\n",
    "        print('oops')\n",
    "        break\n",
    "    else:\n",
    "        print(\"found it\")\n",
    "        break\n",
    "    start += 1"
   ]
  },
  {
   "cell_type": "code",
   "execution_count": 6,
   "id": "a0263750",
   "metadata": {},
   "outputs": [
    {
     "name": "stdout",
     "output_type": "stream",
     "text": [
      "3\n",
      "2\n",
      "1\n",
      "0\n"
     ]
    }
   ],
   "source": [
    "#3. Print the following values of the list [3, 2, 1, 0] using a for loop.\n",
    "l = [3,2,1,0]\n",
    "for i in l:\n",
    "    print(i)"
   ]
  },
  {
   "cell_type": "code",
   "execution_count": 7,
   "id": "88c0a624",
   "metadata": {},
   "outputs": [
    {
     "data": {
      "text/plain": [
       "[0, 2, 4, 6, 8]"
      ]
     },
     "execution_count": 7,
     "metadata": {},
     "output_type": "execute_result"
    }
   ],
   "source": [
    "#4. Use a list comprehension to make a list of the even numbers in range(10)\n",
    "l2 = list()\n",
    "[l2.append(i) for i in range(10)if i%2 == 0]\n",
    "l2"
   ]
  },
  {
   "cell_type": "code",
   "execution_count": 13,
   "id": "238b08d3",
   "metadata": {},
   "outputs": [
    {
     "name": "stdout",
     "output_type": "stream",
     "text": [
      "{0: 0, 1: 1, 2: 4, 3: 9, 4: 16, 5: 25, 6: 36, 7: 49, 8: 64, 9: 81}\n"
     ]
    }
   ],
   "source": [
    "#5. Use a dictionary comprehension to create the dictionary squares. Use range(10) to return the keys, \n",
    "#and use the square of each key as its value.\n",
    "print(dict([(x, x*x)for x in range(10) ]))"
   ]
  },
  {
   "cell_type": "code",
   "execution_count": 15,
   "id": "e316ec61",
   "metadata": {},
   "outputs": [
    {
     "name": "stdout",
     "output_type": "stream",
     "text": [
      "{1, 3, 5, 7, 9}\n"
     ]
    }
   ],
   "source": [
    "#6. Construct the set odd from the odd numbers in the range using a set comprehension (10).\n",
    "print(set({i for i in range(10) if i %2==1}))"
   ]
  },
  {
   "cell_type": "code",
   "execution_count": 20,
   "id": "ab03a6bb",
   "metadata": {},
   "outputs": [
    {
     "name": "stdout",
     "output_type": "stream",
     "text": [
      "got0 got1 got2 got3 got4 got5 got6 got7 got8 got9 "
     ]
    }
   ],
   "source": [
    "#7. Use a generator comprehension to return the string 'Got ' and a number for the numbers in range(10). \n",
    "#Iterate through this by using a for loop.\n",
    "g = ['got' + str(i) for i in range(10)]\n",
    "for i in g:\n",
    "    print(i, end = ' ')"
   ]
  },
  {
   "cell_type": "code",
   "execution_count": 8,
   "id": "eb8d87d3",
   "metadata": {},
   "outputs": [
    {
     "data": {
      "text/plain": [
       "['Harry', 'Ron', 'Hermione']"
      ]
     },
     "execution_count": 8,
     "metadata": {},
     "output_type": "execute_result"
    }
   ],
   "source": [
    "#8. Define a function called good that returns the list ['Harry', 'Ron', 'Hermione'].\n",
    "def good(l):\n",
    "    return l\n",
    "good(['Harry', 'Ron', 'Hermione'])"
   ]
  },
  {
   "cell_type": "code",
   "execution_count": 23,
   "id": "654a95f8",
   "metadata": {},
   "outputs": [
    {
     "name": "stdout",
     "output_type": "stream",
     "text": [
      "[1, 3, 5, 7, 9]\n"
     ]
    },
    {
     "data": {
      "text/plain": [
       "5"
      ]
     },
     "execution_count": 23,
     "metadata": {},
     "output_type": "execute_result"
    }
   ],
   "source": [
    "#9. Define a generator function called get_odds that returns the odd numbers from range(10). \n",
    "#Use a for loop to find and print the third value returned.\n",
    "def get_odds():\n",
    "    l2 = list()\n",
    "    for i in range(10):\n",
    "        if i%2==1:\n",
    "            l2.append(i)\n",
    "    yield l2\n",
    "print(next(get_odds()))\n",
    "next(get_odds()) [2]"
   ]
  },
  {
   "cell_type": "code",
   "execution_count": 27,
   "id": "3db83674",
   "metadata": {},
   "outputs": [
    {
     "name": "stdout",
     "output_type": "stream",
     "text": [
      "Caught an Oops -> name 'a' is not defined\n"
     ]
    }
   ],
   "source": [
    "#10. Define an exception called OopsException. Raise this exception to see what happens. \n",
    "#Then write the code to catch this exception and print 'Caught an oops'.\n",
    "class OopsException(Exception):\n",
    "    pass\n",
    "\n",
    "def test(input):\n",
    "    if input <0:\n",
    "        raise OopsException(a)\n",
    "try:\n",
    "    test(-100)\n",
    "except Exception as e:\n",
    "    print('Caught an Oops ->',e)"
   ]
  },
  {
   "cell_type": "code",
   "execution_count": 12,
   "id": "c7ecddfc",
   "metadata": {},
   "outputs": [
    {
     "name": "stdout",
     "output_type": "stream",
     "text": [
      "{'A nun turns into a monster': 'Creature of Habit', 'A haunted yarn shop': 'Crewel Fate'}\n"
     ]
    }
   ],
   "source": [
    "#11. Use zip() to make a dictionary called movies that pairs these lists: \n",
    " #   titles = ['Creature of Habit', 'Crewel Fate'] and plots = ['A nun turns into a monster', 'A haunted yarn shop'].\n",
    "l1 = ['Creature of Habit', 'Crewel Fate']\n",
    "l2 = ['A nun turns into a monster', 'A haunted yarn shop']\n",
    "d = dict(zip(l2,l1))\n",
    "print(d)"
   ]
  }
 ],
 "metadata": {
  "kernelspec": {
   "display_name": "Python 3 (ipykernel)",
   "language": "python",
   "name": "python3"
  },
  "language_info": {
   "codemirror_mode": {
    "name": "ipython",
    "version": 3
   },
   "file_extension": ".py",
   "mimetype": "text/x-python",
   "name": "python",
   "nbconvert_exporter": "python",
   "pygments_lexer": "ipython3",
   "version": "3.9.7"
  }
 },
 "nbformat": 4,
 "nbformat_minor": 5
}
