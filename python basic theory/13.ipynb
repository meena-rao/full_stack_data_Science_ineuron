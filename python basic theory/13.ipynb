{
 "cells": [
  {
   "cell_type": "code",
   "execution_count": null,
   "id": "6c659acc",
   "metadata": {},
   "outputs": [],
   "source": [
    "1. What advantages do Excel spreadsheets have over CSV spreadsheets?\n",
    "\n",
    "1) Excel - It is a binary file that holds information about all the worksheets in a workbook.\n",
    "CSV stands for Comma Separated Values. It is a plain text format with a series of values separated by commas\n",
    "\n",
    "2)An Excel not only stores data but can also do operations on the data\n",
    "A CSV file is just a text file, it stores data but does not contain formatting, formulas, macros, etc. \n",
    "It is also known as flat files\n",
    "\n",
    "3)Files saved in excel cannot be opened or edited by text editors\n",
    "CSV files can be opened or edited by text editors like notepad"
   ]
  },
  {
   "cell_type": "code",
   "execution_count": null,
   "id": "c80ef805",
   "metadata": {},
   "outputs": [],
   "source": [
    "2.What do you pass to csv.reader() and csv.writer() to create reader and writer objects?\n",
    "\n",
    "we pass file object."
   ]
  },
  {
   "cell_type": "code",
   "execution_count": null,
   "id": "6e31ebf5",
   "metadata": {},
   "outputs": [],
   "source": [
    "import csv\n",
    "with open('text.csv','r') as file:\n",
    "    csv_file = csv.reader(file,delimiter=',')\n",
    "    for ele in csv_file:\n",
    "        print(ele)"
   ]
  },
  {
   "cell_type": "code",
   "execution_count": null,
   "id": "2f6da022",
   "metadata": {},
   "outputs": [],
   "source": [
    "3. What modes do File objects for reader and writer objects need to be opened in?\n",
    "\n",
    "For csv.reader(iterable_file_object), the file objects needed to be opened in read mode mode='r' \n",
    "For csv.writer(iterable_file_object) the file objects needed to be opened in write mode mode='w'"
   ]
  },
  {
   "cell_type": "code",
   "execution_count": null,
   "id": "29d09f59",
   "metadata": {},
   "outputs": [],
   "source": [
    "4. What method takes a list argument and writes it to a CSV file?\n",
    "\n",
    "csv.writer class provides two methods for writing to CSV. \n",
    "They are writerow() and writerows(). \n",
    "writerow() method writes a single row at a time. \n",
    "Whereas writerows() method is used to write multiple rows at a time."
   ]
  },
  {
   "cell_type": "code",
   "execution_count": null,
   "id": "c4d02f27",
   "metadata": {},
   "outputs": [],
   "source": [
    "5. What do the keyword arguments delimiter and line terminator do?\n",
    "\n",
    "csvFile = open('example.tsv', 'w', newline='')\n",
    "csvWriter = csv.writer(csvFile, delimiter='\\t', lineterminator='\\n\\n')\n",
    "\n",
    "We can use any Character as per our needs if required. \n",
    "Similarly Line Terminator comes at end of line by default it is newline and can be changed accourding to Requirement.\n"
   ]
  },
  {
   "cell_type": "code",
   "execution_count": null,
   "id": "11d16280",
   "metadata": {},
   "outputs": [],
   "source": [
    "6. What function takes a string of JSON data and returns a Python data structure?\n",
    "Ans: loads() method takes a string of JSON data and returns a Python data structure"
   ]
  },
  {
   "cell_type": "code",
   "execution_count": 10,
   "id": "e34697e1",
   "metadata": {},
   "outputs": [
    {
     "name": "stdout",
     "output_type": "stream",
     "text": [
      "{\n",
      "    \"Name\": \"xyz\",\n",
      "    \"degree\": \"masters\"    \n",
      "}\n",
      "<class 'str'>\n",
      "{'Name': 'xyz', 'degree': 'masters'}\n",
      "<class 'dict'>\n"
     ]
    }
   ],
   "source": [
    "import json\n",
    "sample ='''{\n",
    "    \"Name\": \"xyz\",\n",
    "    \"degree\": \"masters\"    \n",
    "}'''\n",
    "print(sample)\n",
    "print(type(sample))\n",
    "\n",
    "test = json.loads(sample)\n",
    "print(test)\n",
    "print(type(test))"
   ]
  },
  {
   "cell_type": "code",
   "execution_count": null,
   "id": "ff78ff66",
   "metadata": {},
   "outputs": [],
   "source": [
    "7. What function takes a Python data structure and returns a string of JSON data?\n",
    "dumps()"
   ]
  },
  {
   "cell_type": "code",
   "execution_count": 13,
   "id": "ffd34b23",
   "metadata": {},
   "outputs": [
    {
     "name": "stdout",
     "output_type": "stream",
     "text": [
      "{'Name': 'xyz', 'degree': 'masters'}\n",
      "<class 'dict'>\n",
      "{\n",
      "    \"Name\": \"xyz\",\n",
      "    \"degree\": \"masters\"\n",
      "}\n",
      "<class 'str'>\n"
     ]
    }
   ],
   "source": [
    "# Example of json.dumps() method\n",
    "import json\n",
    "sample = {\n",
    "    \"Name\": \"xyz\",\n",
    "    \"degree\": \"masters\"}\n",
    "print(sample)\n",
    "print(type(sample))\n",
    "sample2 = json.dumps(sample, indent=4, sort_keys=True)\n",
    "print(sample2)\n",
    "print(type(sample2))"
   ]
  }
 ],
 "metadata": {
  "kernelspec": {
   "display_name": "Python 3 (ipykernel)",
   "language": "python",
   "name": "python3"
  },
  "language_info": {
   "codemirror_mode": {
    "name": "ipython",
    "version": 3
   },
   "file_extension": ".py",
   "mimetype": "text/x-python",
   "name": "python",
   "nbconvert_exporter": "python",
   "pygments_lexer": "ipython3",
   "version": "3.9.7"
  }
 },
 "nbformat": 4,
 "nbformat_minor": 5
}
