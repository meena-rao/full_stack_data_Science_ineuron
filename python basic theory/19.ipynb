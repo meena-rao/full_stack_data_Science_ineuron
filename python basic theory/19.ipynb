{
 "cells": [
  {
   "cell_type": "code",
   "execution_count": 3,
   "id": "f20d910b",
   "metadata": {},
   "outputs": [
    {
     "name": "stdout",
     "output_type": "stream",
     "text": [
      "<class '__main__.Thing'>\n",
      "<__main__.Thing object at 0x00000154CBFB0850>\n"
     ]
    }
   ],
   "source": [
    "#1. Make a class called Thing with no contents and print it. Then, create an object called example from this class \n",
    "#and also print it. Are the printed values the same or different?\n",
    "class Thing:\n",
    "    pass\n",
    "print(Thing)\n",
    "\n",
    "example = Thing()\n",
    "print(example)"
   ]
  },
  {
   "cell_type": "code",
   "execution_count": 5,
   "id": "799b48bc",
   "metadata": {
    "scrolled": true
   },
   "outputs": [
    {
     "name": "stdout",
     "output_type": "stream",
     "text": [
      "abc\n"
     ]
    }
   ],
   "source": [
    "#2. Create a new class called Thing2 and add the value 'abc' to the letters class attribute. Letters should be printed.\n",
    "class Thing2:\n",
    "    letters = 'abc'\n",
    "    def pri(self):\n",
    "        print(self.letters)\n",
    "        \n",
    "o=Thing2()\n",
    "o.pri()\n",
    "    "
   ]
  },
  {
   "cell_type": "code",
   "execution_count": 6,
   "id": "3ef52137",
   "metadata": {},
   "outputs": [
    {
     "name": "stdout",
     "output_type": "stream",
     "text": [
      "abc\n"
     ]
    }
   ],
   "source": [
    "#anothr way\n",
    "print(Thing2.letters)"
   ]
  },
  {
   "cell_type": "code",
   "execution_count": 12,
   "id": "21ba1f86",
   "metadata": {},
   "outputs": [
    {
     "name": "stdout",
     "output_type": "stream",
     "text": [
      "xyz\n"
     ]
    }
   ],
   "source": [
    "#3. Make yet another class called, of course, Thing3. This time, assign the value 'xyz' to an instance (object) attribute\n",
    "#called letters. Print letters. Do you need to make an object from the class to do this?\n",
    "\n",
    "class Things3:\n",
    "    def __init__(self):\n",
    "        self.letters = 'xyz'\n",
    "try:\n",
    "    print(Things3.letters)\n",
    "except Exception as E:\n",
    "    my_thing = Things3()\n",
    "    print(my_thing.letters)\n"
   ]
  },
  {
   "cell_type": "code",
   "execution_count": 13,
   "id": "53267a7d",
   "metadata": {},
   "outputs": [],
   "source": [
    "#4. Create an Element class with the instance attributes name, symbol, and number. Create a class object with the values \n",
    "#'Hydrogen,' 'H,' and 1.\n",
    "class Element:\n",
    "    def __init__(self,name,symbol, number):\n",
    "        self.name = name\n",
    "        self.symbol = symbol\n",
    "        self.number  = number\n",
    "o = Element('Hydrogen', 'H', 1)"
   ]
  },
  {
   "cell_type": "code",
   "execution_count": 16,
   "id": "cc61c2d5",
   "metadata": {},
   "outputs": [],
   "source": [
    "#5. Make a dictionary with these keys and values: 'name': 'Hydrogen', 'symbol': 'H', 'number': 1. \n",
    " #               Then, create an object called hydrogen from class Element using this dictionary.\n",
    "\n",
    "d  = {'name': 'Hydrogen', 'symbol': 'H', 'number': 1}\n",
    "\n",
    "hydrogen = Element(*d.values())\n",
    "\n",
    "#or hydrogen = Element(**d)"
   ]
  },
  {
   "cell_type": "code",
   "execution_count": 19,
   "id": "32591231",
   "metadata": {},
   "outputs": [
    {
     "name": "stdout",
     "output_type": "stream",
     "text": [
      "Hydrogen H 1\n"
     ]
    }
   ],
   "source": [
    "#6. For the Element class, define a method called dump() that prints the values of the object’s \n",
    "#attributes (name, symbol, and number). Create the hydrogen object from this new definition and use dump() to\n",
    "#print its attributes.\n",
    "\n",
    "class Element:\n",
    "    def __init__(self,name,symbol, number):\n",
    "        self.name = name\n",
    "        self.symbol = symbol\n",
    "        self.number  = number\n",
    "    def dump(self):\n",
    "        print(self.name, self.symbol, self.number)\n",
    "hydrogen = Element('Hydrogen', 'H', 1)\n",
    "hydrogen.dump()"
   ]
  },
  {
   "cell_type": "code",
   "execution_count": 24,
   "id": "0670b47d",
   "metadata": {},
   "outputs": [
    {
     "name": "stdout",
     "output_type": "stream",
     "text": [
      "<__main__.Element object at 0x00000154CE1AF430>\n",
      "Hydrogen, H, 1\n"
     ]
    }
   ],
   "source": [
    "#7. Call print(hydrogen). In the definition of Element, change the name of method dump to __str__, create \n",
    "#a new hydrogen object, and call print(hydrogen) again.\n",
    "\n",
    "print(hydrogen)\n",
    "\n",
    "class Element:\n",
    "    def __init__(self,name,symbol, number):\n",
    "        self.name = name\n",
    "        self.symbol = symbol\n",
    "        self.number  = number\n",
    "    def __str__(self):\n",
    "        return f'{self.name}, {self.symbol}, {self.number}'\n",
    "        \n",
    "hydrogen2 = Element('Hydrogen', 'H', 1)\n",
    "\n",
    "print(hydrogen2)"
   ]
  },
  {
   "cell_type": "code",
   "execution_count": 28,
   "id": "f5cb5b8e",
   "metadata": {},
   "outputs": [
    {
     "name": "stdout",
     "output_type": "stream",
     "text": [
      "Hydrogen\n",
      "1\n",
      "H\n"
     ]
    }
   ],
   "source": [
    "#8. Modify Element to make the attributes name, symbol, and number private. Define a getter property for each \n",
    "#to return its value.\n",
    "class Element:\n",
    "    def __init__(self,name,symbol, number):\n",
    "        self.name = name\n",
    "        self.symbol = symbol\n",
    "        self.number  = number\n",
    "    @property\n",
    "    def get_name(self):\n",
    "        return self.name\n",
    "    @property\n",
    "    def get_symbol(self):\n",
    "        return self.symbol\n",
    "    @property\n",
    "    def get_number(self):\n",
    "        return self.number\n",
    "    \n",
    "hydrogen = Element('Hydrogen', 'H', 1)\n",
    "print(hydrogen.get_name)\n",
    "print(hydrogen.get_number)\n",
    "print(hydrogen.get_symbol)\n"
   ]
  },
  {
   "cell_type": "code",
   "execution_count": 29,
   "id": "8cae58eb",
   "metadata": {},
   "outputs": [
    {
     "name": "stdout",
     "output_type": "stream",
     "text": [
      "berries(bear)\n",
      "clover (Rabbit)\n",
      "campers (Octothorpe)\n"
     ]
    }
   ],
   "source": [
    "#9. Define three classes: Bear, Rabbit, and Octothorpe. For each, define only one method: eats(). \n",
    " #       This should return 'berries' (Bear), 'clover' (Rabbit), or 'campers' (Octothorpe). \n",
    "#    Create one object from each and print what it eats.\n",
    "class Bear:\n",
    "    def eats(self):\n",
    "        print('berries(bear)')\n",
    "class Rabbit:\n",
    "    def eats(self):\n",
    "        print('clover (Rabbit)')\n",
    "class Octothorpe:\n",
    "    def eats(self):\n",
    "        print('campers (Octothorpe)')\n",
    "\n",
    "o1 = Bear() \n",
    "o1.eats()\n",
    "\n",
    "o2 = Rabbit()\n",
    "o2.eats()\n",
    "\n",
    "o3 = Octothorpe()\n",
    "o3.eats()\n",
    "\n",
    "        "
   ]
  },
  {
   "cell_type": "code",
   "execution_count": 32,
   "id": "309c08bc",
   "metadata": {},
   "outputs": [
    {
     "name": "stdout",
     "output_type": "stream",
     "text": [
      "disintegrate (Laser)\n",
      "crush (Claw)\n",
      "ring (SmartPhone)\n"
     ]
    }
   ],
   "source": [
    "#10. Define these classes: Laser, Claw, and SmartPhone. Each has only one method: does(). \n",
    " #       This returns 'disintegrate' (Laser), 'crush' (Claw), or 'ring' (SmartPhone). \n",
    " #       Then, define the class Robot that has one instance (object) of each of these. \n",
    " #       Define a does() method for the Robot that prints what its component objects do.\n",
    "        \n",
    "class Laser:\n",
    "    def does(self):\n",
    "        return 'disintegrate (Laser)'\n",
    "class Claw:\n",
    "    def does(self):\n",
    "        return 'crush (Claw)'\n",
    "class smartphone:\n",
    "    def does(self):\n",
    "        return 'ring (SmartPhone)'\n",
    "    \n",
    "class Robot:\n",
    "    def __init__(self):\n",
    "        self.laser = Laser()\n",
    "        self.claw  = Claw()\n",
    "        self. smartphone = smartphone()\n",
    "    def does(self):\n",
    "        print(self.laser.does())\n",
    "        print(self.claw.does())\n",
    "        print(self.smartphone.does())\n",
    "o4 = Robot()\n",
    "o4.does()\n",
    "    "
   ]
  }
 ],
 "metadata": {
  "kernelspec": {
   "display_name": "Python 3 (ipykernel)",
   "language": "python",
   "name": "python3"
  },
  "language_info": {
   "codemirror_mode": {
    "name": "ipython",
    "version": 3
   },
   "file_extension": ".py",
   "mimetype": "text/x-python",
   "name": "python",
   "nbconvert_exporter": "python",
   "pygments_lexer": "ipython3",
   "version": "3.9.7"
  }
 },
 "nbformat": 4,
 "nbformat_minor": 5
}
