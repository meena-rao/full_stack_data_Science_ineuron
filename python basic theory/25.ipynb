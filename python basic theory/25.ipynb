{
 "cells": [
  {
   "cell_type": "code",
   "execution_count": null,
   "id": "b75821ea",
   "metadata": {},
   "outputs": [],
   "source": [
    "1) What is the difference between enclosing a list comprehension in square brackets and parentheses?\n",
    "\n",
    "- List comprehension is enclosed in square brackets [] while the Generator expression is enclosed in plain parentheses ()\n",
    "- Example\n",
    "l = [n*2 for n in range(1000)] # List comprehension returns a list\n",
    "g = (n*2 for n in range(1000))  # Generator expression eturns generator object\n",
    "\n",
    "- size in memory\n",
    "print(sys.getsizeof(l))  # 9032\n",
    "print(sys.getsizeof(g))  # 80\n"
   ]
  },
  {
   "cell_type": "markdown",
   "id": "cf7003e0",
   "metadata": {},
   "source": [
    "2) What is the relationship between generators and iterators?\n",
    "\n",
    "An iterator is an object which contains a countable number of values.  \n",
    "\n",
    "- Iterator is used to iterate over iterable objects like list, tuples, sets, etc.\n",
    "- Generators are mostly used in loops to generate an iterator by returning all the values in the loop without affecting the iteration of the loop\n",
    "\n",
    "- In iterator- \n",
    "iter() keyword is used to create an iterator containing an iterable object. \n",
    "next() keyword is used to call the next element in the iterable object.\n",
    "- in generator yield is used.\n",
    "\n",
    "- Local variables are not used in iterators. \n",
    "- In generators, all the locl variables before the yield function are stored. \n",
    "\n",
    "- Every ierator is not generator, but evey generator is an iterator.\n",
    "- Just as iterators, generators also follow lazy evaluation"
   ]
  },
  {
   "cell_type": "markdown",
   "id": "02072865",
   "metadata": {},
   "source": [
    "3) What are the signs that a function is a generator function?\n",
    "If a function contains at least one yield statement (it may contain other yield or return statements), \n",
    "it becomes a generator function. Both yield and return will return some value from a function."
   ]
  },
  {
   "cell_type": "code",
   "execution_count": null,
   "id": "877097a4",
   "metadata": {},
   "outputs": [],
   "source": [
    "4) What is the purpose of a yield statement?\n",
    "\n",
    "The yield statement suspends function’s execution and sends a value back to the caller, \n",
    "but retains enough state to enable function to resume where it is left off. When resumed, \n",
    "the function continues execution immediately after the last yield run. \n",
    "This allows its code to produce a series of values over time,\n",
    "rather than computing them at once and sending them back like a list."
   ]
  },
  {
   "cell_type": "markdown",
   "id": "d767b9fc",
   "metadata": {},
   "source": [
    "5) What is the relationship between map calls and list comprehensions? Make a comparison and contrast between the two.\n",
    "\n",
    "- List comprehension is more concise and easier to read as compared to map.\n",
    "- List comprehension allows filtering. In map, we have no such facility. For example, to print all even numbers in range of 100, we can write [n for n in range(100) if n%2 == 0]. There is no alternate for it in map\n",
    "- List comprehension are used when a list of results is required as map only returns a map object and does not return any list.\n",
    "- List comprehension is faster than map when we need to evaluate expressions that are too long or complicated to express\n",
    "- Map is faster in case of calling an already defined function (as no lambda is required)."
   ]
  }
 ],
 "metadata": {
  "kernelspec": {
   "display_name": "Python 3 (ipykernel)",
   "language": "python",
   "name": "python3"
  },
  "language_info": {
   "codemirror_mode": {
    "name": "ipython",
    "version": 3
   },
   "file_extension": ".py",
   "mimetype": "text/x-python",
   "name": "python",
   "nbconvert_exporter": "python",
   "pygments_lexer": "ipython3",
   "version": "3.9.7"
  }
 },
 "nbformat": 4,
 "nbformat_minor": 5
}
