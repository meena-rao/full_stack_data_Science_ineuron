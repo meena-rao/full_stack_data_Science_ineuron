{
 "cells": [
  {
   "cell_type": "code",
   "execution_count": null,
   "id": "02680fcf",
   "metadata": {},
   "outputs": [],
   "source": [
    "1.What are the two values of the Boolean data type? How do you write them?\n",
    "A: True and False  are the two values of the Boolean data type.\n",
    "    a=True\n",
    "    \n",
    "    type(a)\n",
    "    <class 'bool'>"
   ]
  },
  {
   "cell_type": "code",
   "execution_count": null,
   "id": "882eeeee",
   "metadata": {},
   "outputs": [],
   "source": [
    "2. What are the three different types of Boolean operators?\n",
    "\n",
    "A: AND OR,NOT are boolean operators are also called logical operators.\n",
    "\n",
    " EAMPLE:\n",
    "   1.  a=9, b =10\n",
    "    a<10AND b=10\n",
    "    True\n",
    "    \n",
    "   2.  NOT(a!=10)\n",
    "    False\n",
    "    "
   ]
  },
  {
   "cell_type": "code",
   "execution_count": null,
   "id": "0a1cd6d9",
   "metadata": {},
   "outputs": [],
   "source": [
    "3. Make a list of each Boolean operator's truth tables \n",
    "(i.e. every possible combination of Boolean values for the operator and what it evaluate ).\n",
    "\n",
    "AND table\n",
    "a b aANDb\n",
    "0,0 0\n",
    "0,1 0\n",
    "1,0 0\n",
    "1,1, 1\n",
    "\n",
    "OR table\n",
    "a b a OR b\n",
    "0,0 0\n",
    "0,1 1\n",
    "1,0 1\n",
    "1,1, 1\n",
    "\n",
    "NOT\n",
    "a  \n",
    "0  1\n",
    "1  0"
   ]
  },
  {
   "cell_type": "code",
   "execution_count": null,
   "id": "abac2050",
   "metadata": {},
   "outputs": [],
   "source": [
    "4. What are the values of the following expressions?\n",
    "(5 > 4) and (3 == 5)       0\n",
    "not (5 > 4)                     0\n",
    "(5 > 4) or (3 == 5)         1\n",
    "not ((5 > 4) or (3 == 5)) 0\n",
    "(True and True) and (True == False)   0\n",
    "(not False) or (not True)  1"
   ]
  },
  {
   "cell_type": "code",
   "execution_count": null,
   "id": "970166af",
   "metadata": {},
   "outputs": [],
   "source": [
    "5. What are the six comparison operators?\n",
    "==,       !=,       <,       >,        ,=,       >="
   ]
  },
  {
   "cell_type": "code",
   "execution_count": null,
   "id": "6eebbb5d",
   "metadata": {},
   "outputs": [],
   "source": [
    "6. How do you tell the difference between the equal to and assignment operators?\n",
    "Describe a condition and when you would use one.\n",
    "\n",
    "a=10 # assignment  operator used when to give values to variable\n",
    "a==5 # comparision where a variable value is comared with another variable or constant"
   ]
  },
  {
   "cell_type": "code",
   "execution_count": 1,
   "id": "ca338e22",
   "metadata": {},
   "outputs": [
    {
     "name": "stdout",
     "output_type": "stream",
     "text": [
      "ham\n",
      "spam\n",
      "spam\n"
     ]
    }
   ],
   "source": [
    "#7. Identify the three blocks in this code:\n",
    "    \n",
    "A:  can interpret in multiple ways:\n",
    "        \n",
    "spam = 0  # block1- initialization\n",
    "if spam == 10: #block 2 if\n",
    "    print('eggs')\n",
    "    \n",
    "if spam > 5:  # block3 if-else\n",
    "    print('bacon')\n",
    "else:\n",
    "    print('ham')\n",
    "\n",
    "print('spam') #block4 outside all if else\n",
    "print('spam')\n"
   ]
  },
  {
   "cell_type": "code",
   "execution_count": 9,
   "id": "317155e8",
   "metadata": {},
   "outputs": [
    {
     "name": "stdout",
     "output_type": "stream",
     "text": [
      "2\n",
      "howdy\n"
     ]
    }
   ],
   "source": [
    "#8. Write code that prints Hello if 1 is stored in spam, prints Howdy if 2 is stored in spam, \n",
    "#and prints Greetings! if anything else is stored in spam.\n",
    "\n",
    "spam = int(input())\n",
    "if spam == 1:\n",
    "    print(\"hello\")\n",
    "elif spam ==2:\n",
    "    print(\"howdy\")\n",
    "else:\n",
    "    print(\"Greetings\")"
   ]
  },
  {
   "cell_type": "code",
   "execution_count": null,
   "id": "5abae98b",
   "metadata": {},
   "outputs": [],
   "source": [
    "#9.If your programme is stuck in an endless loop, what keys you’ll press?\n",
    "while(True):\n",
    "    print(\"hi\")\n",
    "\n",
    "#It goes to infinity, I press \"Interrupt the kernel\" button.\n",
    "#Ctrl C did not work. "
   ]
  },
  {
   "cell_type": "code",
   "execution_count": 16,
   "id": "95609b02",
   "metadata": {},
   "outputs": [
    {
     "name": "stdout",
     "output_type": "stream",
     "text": [
      " first occurance of boolean type, so I am stopping loop\n"
     ]
    },
    {
     "data": {
      "text/plain": [
       "[4, 2, 6, 7, (5, 6, 7)]"
      ]
     },
     "execution_count": 16,
     "metadata": {},
     "output_type": "execute_result"
    }
   ],
   "source": [
    "#10. How can you tell the difference between break and continue?\n",
    "l = [4,2,6,7,(5,6,7), {5,5,67}, True,45]\n",
    "n=[]\n",
    "for i in l:\n",
    "    if type(i) == bool:\n",
    "        print(\" first occurance of boolean type, so I am stopping loop\")\n",
    "        break;\n",
    "    elif type(i) == int or type(i) == tuple:\n",
    "        n.append(i)\n",
    "    else:\n",
    "        continue;\n",
    "n   \n",
    "\n",
    "# here break is to stop the remaining iterations in the loop. \n",
    "#continue is to stop current interation and go to next iteration."
   ]
  },
  {
   "cell_type": "code",
   "execution_count": 21,
   "id": "1ef4f0f4",
   "metadata": {
    "scrolled": false
   },
   "outputs": [],
   "source": [
    "#11. In a for loop, what is the difference between range(10), range(0, 10), and range(0, 10, 1)?\n",
    "\n",
    "#range(10) means 0 to 9 by defualt step count is 1\n",
    "#range(0.10) means 0 to 9 step count is 1\n",
    "#range(0,10,1) means 0 to 1  explicitly mentioning stepp count as 1\n",
    "#ALL DO THE SAME"
   ]
  },
  {
   "cell_type": "code",
   "execution_count": 23,
   "id": "8da59708",
   "metadata": {},
   "outputs": [
    {
     "name": "stdout",
     "output_type": "stream",
     "text": [
      "1  2  3  4  5  6  7  8  9  10  "
     ]
    }
   ],
   "source": [
    "#12. Write a short program that prints the numbers 1 to 10 using a for loop. \n",
    "#Then write an equivalent program that prints the numbers 1 to 10 using a while loop.\n",
    "\n",
    "for i in range(1,11):\n",
    "    print(i, end = \"  \")"
   ]
  },
  {
   "cell_type": "code",
   "execution_count": 26,
   "id": "7041b0ce",
   "metadata": {},
   "outputs": [
    {
     "name": "stdout",
     "output_type": "stream",
     "text": [
      "1  2  3  4  5  6  7  8  9  10  "
     ]
    }
   ],
   "source": [
    "i =1\n",
    "while i<11:\n",
    "    print(i, end =\"  \")\n",
    "    i +=1"
   ]
  },
  {
   "cell_type": "code",
   "execution_count": null,
   "id": "c65adf5b",
   "metadata": {},
   "outputs": [],
   "source": [
    "13. If you had a function named bacon() inside a module named spam, \n",
    "how would you call it after importing spam?\n",
    "\n",
    "import spam\n",
    "spam.bacon() #using dot operator"
   ]
  }
 ],
 "metadata": {
  "kernelspec": {
   "display_name": "Python 3",
   "language": "python",
   "name": "python3"
  },
  "language_info": {
   "codemirror_mode": {
    "name": "ipython",
    "version": 3
   },
   "file_extension": ".py",
   "mimetype": "text/x-python",
   "name": "python",
   "nbconvert_exporter": "python",
   "pygments_lexer": "ipython3",
   "version": "3.8.10"
  }
 },
 "nbformat": 4,
 "nbformat_minor": 5
}
