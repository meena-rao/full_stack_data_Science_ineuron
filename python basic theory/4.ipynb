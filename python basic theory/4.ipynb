{
 "cells": [
  {
   "cell_type": "code",
   "execution_count": null,
   "id": "e4874aec",
   "metadata": {},
   "outputs": [],
   "source": [
    "1. What exactly is []?\n",
    "\n",
    "It is empty list.  Fr example a =[]"
   ]
  },
  {
   "cell_type": "code",
   "execution_count": 10,
   "id": "58c38aac",
   "metadata": {},
   "outputs": [
    {
     "data": {
      "text/plain": [
       "[2, 4, 'hello', 6, 8, 10]"
      ]
     },
     "execution_count": 10,
     "metadata": {},
     "output_type": "execute_result"
    }
   ],
   "source": [
    "#2. In a list of values stored in a variable called spam, how would you assign the value 'hello' as the third value? (Assume [2, 4, 6, 8, 10] are in spam.\n",
    "\n",
    "spam =[2,4,6,8,10]\n",
    "spam.insert(2,\"hello\")                                                                                                 \n",
    "spam                                                                                                                     "
   ]
  },
  {
   "cell_type": "code",
   "execution_count": 7,
   "id": "97114a52",
   "metadata": {},
   "outputs": [
    {
     "data": {
      "text/plain": [
       "'d'"
      ]
     },
     "execution_count": 7,
     "metadata": {},
     "output_type": "execute_result"
    }
   ],
   "source": [
    "#Let's pretend the spam includes the list ['a', 'b', 'c', 'd'] for the next three queries.\n",
    "#3. What is the value of spam[int(int('3' * 2) / 11)]?\n",
    "spam =['a', 'b', 'c','d']\n",
    "spam[int(int('3'*2)/11)] # because '3'*2 =\"33\".  and int('33')/11 =3"
   ]
  },
  {
   "cell_type": "code",
   "execution_count": null,
   "id": "2ff4c5cc",
   "metadata": {},
   "outputs": [],
   "source": [
    "4. What is the value of spam[-1]?\n",
    "'d'"
   ]
  },
  {
   "cell_type": "code",
   "execution_count": null,
   "id": "75f57773",
   "metadata": {},
   "outputs": [],
   "source": [
    "#5. What is the value of spam[:2]  \n",
    "['a','b']"
   ]
  },
  {
   "cell_type": "code",
   "execution_count": null,
   "id": "6111f4b0",
   "metadata": {},
   "outputs": [],
   "source": [
    "Let's pretend bacon has the list [3.14, 'cat', 11, 'cat', True] for the next three questions.\n",
    "6. What is the value of bacon.index('cat')?\n",
    "1"
   ]
  },
  {
   "cell_type": "code",
   "execution_count": null,
   "id": "02d6e6db",
   "metadata": {},
   "outputs": [],
   "source": [
    "7. How does bacon.append(99) change the look of the list value in bacon?\n",
    "[3.14, 'cat,' 11, 'cat,' True,99]"
   ]
  },
  {
   "cell_type": "code",
   "execution_count": null,
   "id": "5406a087",
   "metadata": {},
   "outputs": [],
   "source": [
    "8. How does bacon.remove('cat') change the look of the list in bacon?\n",
    "[3.14, 11, 'cat', True, 99]"
   ]
  },
  {
   "cell_type": "code",
   "execution_count": null,
   "id": "afa8a67a",
   "metadata": {},
   "outputs": [],
   "source": [
    "9. What are the list concatenation and list replication operators?\n",
    "l1+l2  is to concatnate lists\n",
    "\n",
    "l1=l2 gives l1 which is another copy of l2. \n",
    "\n",
    "l1*3 it replicates list l1 and gives single concatenated list."
   ]
  },
  {
   "cell_type": "code",
   "execution_count": null,
   "id": "a47413f2",
   "metadata": {},
   "outputs": [],
   "source": [
    "10. What is difference between the list methods append() and insert()?\n",
    "list1.append() adds to the last position.\n",
    "insert() allows to add elelment to given location."
   ]
  },
  {
   "cell_type": "code",
   "execution_count": null,
   "id": "43c8399e",
   "metadata": {},
   "outputs": [],
   "source": [
    "11. What are the two methods for removing items from a list?\n",
    "remove() and pop()"
   ]
  },
  {
   "cell_type": "code",
   "execution_count": null,
   "id": "9f81f1b5",
   "metadata": {},
   "outputs": [],
   "source": [
    "12. Describe how list values and string values are identical.\n",
    "s1=\"hi\"\n",
    "l1 =[1,2]\n",
    "Both are iterables can be convereted to iterator by iter()\n",
    "Both are ordered collections\n",
    "\n",
    "Difference is strings are immutable and list are mutable."
   ]
  },
  {
   "cell_type": "code",
   "execution_count": null,
   "id": "58ea289b",
   "metadata": {},
   "outputs": [],
   "source": [
    "13. What's the difference between tuples and lists?\n",
    "Tuples are immutable and lists are mutable.\n",
    "Tuples are more memory efficient than the lists."
   ]
  },
  {
   "cell_type": "code",
   "execution_count": null,
   "id": "4c50b4f1",
   "metadata": {},
   "outputs": [],
   "source": [
    "14. How do you type a tuple value that only contains the integer 42?\n",
    "t =(42)"
   ]
  },
  {
   "cell_type": "code",
   "execution_count": null,
   "id": "d2fc7192",
   "metadata": {},
   "outputs": [],
   "source": [
    "15. How do you get a list value's tuple form? How do you get a tuple value's list form?\n",
    "l1=[1,2,3]\n",
    "t1 = tuple(l1)  # list to tuple\n",
    "\n",
    "list1 = list(t1) # back to list"
   ]
  },
  {
   "cell_type": "code",
   "execution_count": null,
   "id": "3fc34cd8",
   "metadata": {},
   "outputs": [],
   "source": [
    "16. Variables that \"contain\" list values are not necessarily lists themselves. Instead, what do they contain?\n",
    "list1 = [1,True, [1,2,3], \"hello\", (2,3,4), 567.78, {2,3,4}] # can have different datatype elements"
   ]
  },
  {
   "cell_type": "code",
   "execution_count": null,
   "id": "074660fa",
   "metadata": {},
   "outputs": [],
   "source": [
    "17. How do you distinguish between copy.copy() and copy.deepcopy()?\n",
    "In copy() changes made to a copy of object reflects in original object also. It is shallow copy.\n",
    "In deepsopy() any changes made to a copy of object do not reflect in the original object."
   ]
  }
 ],
 "metadata": {
  "kernelspec": {
   "display_name": "Python 3",
   "language": "python",
   "name": "python3"
  },
  "language_info": {
   "codemirror_mode": {
    "name": "ipython",
    "version": 3
   },
   "file_extension": ".py",
   "mimetype": "text/x-python",
   "name": "python",
   "nbconvert_exporter": "python",
   "pygments_lexer": "ipython3",
   "version": "3.8.10"
  }
 },
 "nbformat": 4,
 "nbformat_minor": 5
}
