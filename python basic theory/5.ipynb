{
 "cells": [
  {
   "cell_type": "code",
   "execution_count": null,
   "id": "f1df656a",
   "metadata": {},
   "outputs": [],
   "source": [
    "#1. What does an empty dictionary's code look like?\n",
    "\n",
    "d ={} or d =dict()"
   ]
  },
  {
   "cell_type": "code",
   "execution_count": null,
   "id": "c7da7607",
   "metadata": {},
   "outputs": [],
   "source": [
    "2. What is the value of a dictionary value with the key 'foo' and the value 42?\n",
    "42"
   ]
  },
  {
   "cell_type": "code",
   "execution_count": null,
   "id": "bcf44c0f",
   "metadata": {},
   "outputs": [],
   "source": [
    "3. What is the most significant distinction between a dictionary and a list?\n",
    "\n",
    "List is ordered and dictionary is unordered.\n",
    "Accessing values of dictionary is through keys and in list it is through index"
   ]
  },
  {
   "cell_type": "code",
   "execution_count": null,
   "id": "b871d6af",
   "metadata": {},
   "outputs": [],
   "source": [
    "4. What happens if you try to access spam['foo'] if spam is {'bar': 100}?\n",
    "key error"
   ]
  },
  {
   "cell_type": "code",
   "execution_count": null,
   "id": "94ad4dcb",
   "metadata": {},
   "outputs": [],
   "source": [
    "5. If a dictionary is stored in spam, what is the difference between the expressions 'cat' in spam and 'cat' in spam.keys()?\n",
    "\n",
    "'cat' in spam returns True or False depending on existance of key 'cat'.\n",
    "'cat' in spam.keys()  also same."
   ]
  },
  {
   "cell_type": "code",
   "execution_count": null,
   "id": "86531816",
   "metadata": {},
   "outputs": [],
   "source": [
    "6. If a dictionary is stored in spam, what is the difference between the expressions 'cat' in spam and 'cat' in spam.values()?\n",
    "\n",
    "'cat' in spam returns True or False depending on existance of key 'cat'.\n",
    "'cat' in spam.values() checks 'cat' in values."
   ]
  },
  {
   "cell_type": "code",
   "execution_count": 26,
   "id": "6393755b",
   "metadata": {},
   "outputs": [
    {
     "data": {
      "text/plain": [
       "{'bar': 100, 'color': 'black', 'color1': 'green'}"
      ]
     },
     "execution_count": 26,
     "metadata": {},
     "output_type": "execute_result"
    }
   ],
   "source": [
    "#7. What is a shortcut for the following code?\n",
    "if 'color' not in spam:\n",
    "    spam['color'] = 'black'\n",
    "\n",
    "Answer: spam.setdefault(\"color1\", \"black\")"
   ]
  },
  {
   "cell_type": "code",
   "execution_count": 5,
   "id": "117e1d66",
   "metadata": {},
   "outputs": [
    {
     "name": "stdout",
     "output_type": "stream",
     "text": [
      "{1: 'knm', 2: 'asd'}\n",
      "{1: 'knm',\n",
      " 2: 'asd'}\n"
     ]
    }
   ],
   "source": [
    "#8. How do you \"pretty print\" dictionary values using which module and function?\n",
    "import pprint\n",
    "d ={1:\"knm\", 2:\"asd\"}\n",
    "print(d)\n",
    "pprint.pprint(d, width = -1)\n"
   ]
  }
 ],
 "metadata": {
  "kernelspec": {
   "display_name": "Python 3",
   "language": "python",
   "name": "python3"
  },
  "language_info": {
   "codemirror_mode": {
    "name": "ipython",
    "version": 3
   },
   "file_extension": ".py",
   "mimetype": "text/x-python",
   "name": "python",
   "nbconvert_exporter": "python",
   "pygments_lexer": "ipython3",
   "version": "3.8.10"
  }
 },
 "nbformat": 4,
 "nbformat_minor": 5
}
