{
 "cells": [
  {
   "cell_type": "code",
   "execution_count": 4,
   "id": "0f647d98",
   "metadata": {},
   "outputs": [],
   "source": [
    "#1. Set the variable test1 to the string 'This is a test of the emergency text system'; and save test1 to a\n",
    "#file named test.txt.\n",
    "test1 = 'This is a test of the emergency text system'\n",
    "f = open('test.txt', 'w')\n",
    "f.write(test1)\n",
    "f.close()"
   ]
  },
  {
   "cell_type": "code",
   "execution_count": 6,
   "id": "73e575b9",
   "metadata": {},
   "outputs": [
    {
     "name": "stdout",
     "output_type": "stream",
     "text": [
      "same\n"
     ]
    }
   ],
   "source": [
    "#2. Read the contents of the file test.txt into the variable test2. Is there a difference between test 1 and test 2?\n",
    "with open('test.txt', 'r') as f:\n",
    "    test2 = f.read()\n",
    "if(test1 == test2):\n",
    "    print(\"same\")"
   ]
  },
  {
   "cell_type": "code",
   "execution_count": 7,
   "id": "9c5717e1",
   "metadata": {},
   "outputs": [],
   "source": [
    "'''3. Create a CSV file called books.csv by using these lines:\n",
    "title,author,year\n",
    "The Weirdstone of Brisingamen,Alan Garner,1960\n",
    "Perdido Street Station,China Miéville,2000\n",
    "Thud!,Terry Pratchett,2005\n",
    "The Spellman Files,Lisa Lutz,2007\n",
    "Small Gods,Terry Pratchett,1992 '''\n",
    "\n",
    "content = '''title,author,year\n",
    "The Weirdstone of Brisingamen,Alan Garner,1960\n",
    "Perdido Street Station,China Miéville,2000\n",
    "Thud!,Terry Pratchett,2005\n",
    "The Spellman Files,Lisa Lutz,2007\n",
    "Small Gods,Terry Pratchett,1992'''\n",
    "\n",
    "with open('boos.csv', 'w') as f:\n",
    "    f.write(content)\n",
    "    f.close()\n"
   ]
  },
  {
   "cell_type": "code",
   "execution_count": 1,
   "id": "e6a6e522",
   "metadata": {},
   "outputs": [],
   "source": [
    "'''4. Use the sqlite3 module to create a SQLite database called books.db, and a table called books with\n",
    "these fields: title (text), author (text), and year (integer).'''\n",
    "import sqlite3\n",
    "db = sqlite3.connect(\"books.db\")\n",
    "c = db.cursor()\n",
    "\n",
    "c.execute('create table books(title text, author text,  year int)')\n",
    "db.commit()\n"
   ]
  },
  {
   "cell_type": "code",
   "execution_count": 8,
   "id": "5d96e065",
   "metadata": {},
   "outputs": [
    {
     "name": "stdout",
     "output_type": "stream",
     "text": [
      "('ML', 'kmr', 2000)\n",
      "('DL', 'sf', 2010)\n",
      "('ML', 'kmr', 2000)\n",
      "('DL', 'sf', 2010)\n",
      "('DS', 'sf', 20007)\n"
     ]
    }
   ],
   "source": [
    "#5. Read books.csv and insert its data into the book table.\n",
    "c.execute(\"INSERT INTO books VALUES('ML', 'kmr', 2000 )\")\n",
    "c.execute(\"INSERT INTO books VALUES('DL', 'sf', 2010 )\")\n",
    "c.execute(\"INSERT INTO books VALUES('DS', 'sf', 20007 )\")\n",
    "\n",
    "\n",
    "data = c.execute(\"select * from books\")\n",
    "for i in data:\n",
    "    print(i)\n",
    "    \n",
    "#db.close()"
   ]
  },
  {
   "cell_type": "code",
   "execution_count": 9,
   "id": "7db67917",
   "metadata": {},
   "outputs": [
    {
     "name": "stdout",
     "output_type": "stream",
     "text": [
      "DL\n",
      "DL\n",
      "DS\n",
      "ML\n",
      "ML\n"
     ]
    }
   ],
   "source": [
    "#6. Select and print the title column from the book table in alphabetical order.\n",
    "output = c.execute(\"SELECT title FROM books ORDER BY title ASC\")\n",
    "for ele in output:\n",
    "    print(ele[0])"
   ]
  },
  {
   "cell_type": "code",
   "execution_count": 11,
   "id": "ea9a335b",
   "metadata": {},
   "outputs": [
    {
     "name": "stdout",
     "output_type": "stream",
     "text": [
      "('ML', 'kmr', 2000)\n",
      "('ML', 'kmr', 2000)\n",
      "('DL', 'sf', 2010)\n",
      "('DL', 'sf', 2010)\n",
      "('DS', 'sf', 20007)\n"
     ]
    }
   ],
   "source": [
    "#7. From the book table, select and print all columns in the order of publication.\n",
    "o = c.execute(\"select * from books order by year\")\n",
    "for i in o:\n",
    "    print(i)"
   ]
  },
  {
   "cell_type": "code",
   "execution_count": null,
   "id": "452830df",
   "metadata": {},
   "outputs": [],
   "source": [
    "#8. Use the sqlalchemy module to connect to the sqlite3 database books.db that you just made in exercise 6.\n",
    "import sqlalchemy\n",
    "conn = sqlalchemy.create_engine('sqlite:///books.db')\n",
    "conn"
   ]
  },
  {
   "cell_type": "code",
   "execution_count": null,
   "id": "1eb76b51",
   "metadata": {},
   "outputs": [],
   "source": [
    "#9. Install the Redis server and the Python redis library (pip install redis) on your computer. Create a\n",
    "#Redis hash called test with the fields count (1) and name 'Fester Bestertester'. Print all the fields for test.\n",
    "! python -m pip install redis\n",
    "import redis\n",
    "conn = redis.Redis()\n",
    "conn.hset('test',{\n",
    "    'count':1,\n",
    "    'name':'Fester Bestertester'\n",
    "})\n",
    "conn.hgetall('test')"
   ]
  },
  {
   "cell_type": "code",
   "execution_count": null,
   "id": "9dcf9cc9",
   "metadata": {},
   "outputs": [],
   "source": [
    "#10. Increment the count field of test and print it.\n",
    "conn.hincrby('test', 'count', 1)\n",
    "conn.hget('test', 'count')"
   ]
  }
 ],
 "metadata": {
  "kernelspec": {
   "display_name": "Python 3 (ipykernel)",
   "language": "python",
   "name": "python3"
  },
  "language_info": {
   "codemirror_mode": {
    "name": "ipython",
    "version": 3
   },
   "file_extension": ".py",
   "mimetype": "text/x-python",
   "name": "python",
   "nbconvert_exporter": "python",
   "pygments_lexer": "ipython3",
   "version": "3.9.7"
  }
 },
 "nbformat": 4,
 "nbformat_minor": 5
}
