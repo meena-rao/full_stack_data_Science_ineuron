{
 "cells": [
  {
   "cell_type": "code",
   "execution_count": null,
   "id": "222d419d",
   "metadata": {},
   "outputs": [],
   "source": [
    "1. To what does a relative path refer?\n",
    "Relative paths are relative to the current working directory."
   ]
  },
  {
   "cell_type": "code",
   "execution_count": null,
   "id": "927849ad",
   "metadata": {},
   "outputs": [],
   "source": [
    "2. What does an absolute path start with your operating system?\n",
    "Absolute paths start with the root folder, such as / or C:\\."
   ]
  },
  {
   "cell_type": "code",
   "execution_count": null,
   "id": "3deaa21a",
   "metadata": {},
   "outputs": [],
   "source": [
    "3. What do the functions os.getcwd() and os.chdir() do?\n",
    "os.getcwd()  ---> get current working directory\n",
    "os.chdir(path of new directory) ----> change directory from current to specified one"
   ]
  },
  {
   "cell_type": "code",
   "execution_count": null,
   "id": "7483c50d",
   "metadata": {},
   "outputs": [],
   "source": [
    "4. What are the . and .. folders?\n",
    ". refers to CURRENT directory\n",
    ".. refers to PARENT directory"
   ]
  },
  {
   "cell_type": "code",
   "execution_count": 1,
   "id": "e839158f",
   "metadata": {},
   "outputs": [
    {
     "name": "stdout",
     "output_type": "stream",
     "text": [
      "C:\\bacon\\eggs\n",
      "spam.txt\n"
     ]
    }
   ],
   "source": [
    "#5. In C:\\bacon\\eggs\\spam.txt, which part is the dir name, and which part is the base name?\n",
    "import os\n",
    "path = r'C:\\bacon\\eggs\\spam.txt'\n",
    "print(os.path.dirname(path))\n",
    "print(os.path.basename(path))"
   ]
  },
  {
   "cell_type": "code",
   "execution_count": null,
   "id": "3ba4ce41",
   "metadata": {},
   "outputs": [],
   "source": [
    "6. What are the three “mode” arguments that can be passed to the open() function?\n",
    "r read mode\n",
    "w write mode\n",
    "a append mode"
   ]
  },
  {
   "cell_type": "code",
   "execution_count": null,
   "id": "db811418",
   "metadata": {},
   "outputs": [],
   "source": [
    "7. What happens if an existing file is opened in write mode?\n",
    "It overwrites if already present."
   ]
  },
  {
   "cell_type": "code",
   "execution_count": 11,
   "id": "eac0f8b1",
   "metadata": {},
   "outputs": [
    {
     "data": {
      "text/plain": [
       "'line1 \\nline2 \\nline3\\nhi\\nhow \\nr u'"
      ]
     },
     "execution_count": 11,
     "metadata": {},
     "output_type": "execute_result"
    }
   ],
   "source": [
    "#8. How do you tell the difference between read() and readlines()?\n",
    "\n",
    "#In read() entire file is returned as a STRING and inernally it handles one character at a time. \n",
    "#In readline() at a time one line is read. \n",
    "#readlines() returns entire file as a LIST of all lines.\n",
    "\n",
    "f =open(\"te.txt\", \"r\")\n",
    "f.read() # output is STRING"
   ]
  },
  {
   "cell_type": "code",
   "execution_count": 13,
   "id": "e230afb4",
   "metadata": {},
   "outputs": [
    {
     "data": {
      "text/plain": [
       "['line1 \\n', 'line2 \\n', 'line3\\n', 'hi\\n', 'how \\n', 'r u']"
      ]
     },
     "execution_count": 13,
     "metadata": {},
     "output_type": "execute_result"
    }
   ],
   "source": [
    "f.seek(0)\n",
    "f.readlines()   # output is LIST"
   ]
  },
  {
   "cell_type": "code",
   "execution_count": null,
   "id": "803ec3ae",
   "metadata": {},
   "outputs": [],
   "source": [
    "9. What data structure does a shelf value resemble?\n",
    "A shelf value resembles a dictionary value; it has keys and values, along with keys() and values() methods that work\n",
    "similarly to the dictionary methods of the same names."
   ]
  }
 ],
 "metadata": {
  "kernelspec": {
   "display_name": "Python 3",
   "language": "python",
   "name": "python3"
  },
  "language_info": {
   "codemirror_mode": {
    "name": "ipython",
    "version": 3
   },
   "file_extension": ".py",
   "mimetype": "text/x-python",
   "name": "python",
   "nbconvert_exporter": "python",
   "pygments_lexer": "ipython3",
   "version": "3.8.10"
  }
 },
 "nbformat": 4,
 "nbformat_minor": 5
}
