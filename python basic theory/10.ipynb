{
 "cells": [
  {
   "cell_type": "code",
   "execution_count": null,
   "id": "1a1fe69a",
   "metadata": {},
   "outputs": [],
   "source": [
    "1. How do you distinguish between shutil.copy() and shutil.copytree()?\n",
    "While shutil.copy() will copy a single file, shutil.copytree() will copy an entire folder and every folder and file contained in it."
   ]
  },
  {
   "cell_type": "code",
   "execution_count": null,
   "id": "f0d51f80",
   "metadata": {},
   "outputs": [],
   "source": [
    "#2. What function is used to rename files??\n",
    "#os.rename() is used.\n",
    "source = \"C:\\\\Users\\\\KMRao\\\\2 codebasics\\\\1 python theory basics asst\\\\test.txt\"\n",
    "de = \"C:\\\\Users\\\\KMRao\\\\2 codebasics\\\\1 python theory basics asst\\\\ttt.txt\"\n",
    "import os\n",
    "os.rename(source, de)"
   ]
  },
  {
   "cell_type": "code",
   "execution_count": null,
   "id": "1ec01575",
   "metadata": {},
   "outputs": [],
   "source": [
    "3. What is the difference between the delete functions in the send2trash and shutil modules?\n",
    "The send2trash functions will move a file or folder to the recycle bin, while shutil functions will permanently delete files and folders."
   ]
  },
  {
   "cell_type": "code",
   "execution_count": null,
   "id": "ae81dd0e",
   "metadata": {},
   "outputs": [],
   "source": [
    "4.ZipFile objects have a close() method just like File objects’ close() method. What ZipFile method is equivalent to File objects’ open() method?\n",
    " \n",
    "ZipFile Module provides a method called as zipfile.ZipFile() to read and write to zipFiles. \n",
    "It takes arugments lile filename and mode etc\n",
    "zipfile.ZipFile('filename', mode = 'r')"
   ]
  },
  {
   "cell_type": "code",
   "execution_count": 8,
   "id": "54c51686",
   "metadata": {},
   "outputs": [
    {
     "name": "stdout",
     "output_type": "stream",
     "text": [
      "success\n"
     ]
    }
   ],
   "source": [
    "#5. Create a programme that searches a folder tree for files with a certain file extension (such as .pdf or .jpg). \n",
    "#Copy these files from whatever location they are in to a new folder.\n",
    "import os\n",
    "import shutil\n",
    "def copy_f(s,d,extension):\n",
    "    s = os.path.abspath(s)\n",
    "    d = os.path.abspath(d)\n",
    "    for mainf, subf, files in os.walk(s):\n",
    "        for f in files:\n",
    "            filename, extn = os.path.splitext(f)\n",
    "            if extn in extension:\n",
    "                targetfile = mainf+os.path.sep+filename+extn\n",
    "                shutil.copy(targetfile, d)\n",
    "                \n",
    "etn =['.pdf', \".jpg\"]\n",
    "source ='C:\\\\Users\\\\KMRao\\\\2 codebasics\\\\f1'\n",
    "detn = 'C:\\\\Users\\\\KMRao\\\\2 codebasics\\\\1 python theory basics asst\\\\destn'\n",
    "copy_f(source, detn, etn)\n",
    "print(\"success\")"
   ]
  }
 ],
 "metadata": {
  "kernelspec": {
   "display_name": "Python 3",
   "language": "python",
   "name": "python3"
  },
  "language_info": {
   "codemirror_mode": {
    "name": "ipython",
    "version": 3
   },
   "file_extension": ".py",
   "mimetype": "text/x-python",
   "name": "python",
   "nbconvert_exporter": "python",
   "pygments_lexer": "ipython3",
   "version": "3.8.10"
  }
 },
 "nbformat": 4,
 "nbformat_minor": 5
}
