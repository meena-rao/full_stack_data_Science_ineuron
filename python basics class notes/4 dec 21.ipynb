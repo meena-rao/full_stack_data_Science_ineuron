{
 "cells": [
  {
   "cell_type": "code",
   "execution_count": 2,
   "id": "c556712d",
   "metadata": {},
   "outputs": [],
   "source": [
    "str = 'meenakshi learning full stack'\n"
   ]
  },
  {
   "cell_type": "code",
   "execution_count": 4,
   "id": "d7af2c6e",
   "metadata": {
    "scrolled": true
   },
   "outputs": [
    {
     "name": "stdout",
     "output_type": "stream",
     "text": [
      "29\n"
     ]
    }
   ],
   "source": [
    "c= 0\n",
    "for i in str:\n",
    "    #c = c+1\n",
    "    c+=1\n",
    "print(c)\n"
   ]
  },
  {
   "cell_type": "code",
   "execution_count": 5,
   "id": "62978e13",
   "metadata": {
    "scrolled": true
   },
   "outputs": [
    {
     "data": {
      "text/plain": [
       "'kcats lluf gninrael ihskaneem'"
      ]
     },
     "execution_count": 5,
     "metadata": {},
     "output_type": "execute_result"
    }
   ],
   "source": [
    "#reverse by slicing\n",
    "str[::-1]"
   ]
  },
  {
   "cell_type": "code",
   "execution_count": 12,
   "id": "67bdc0a0",
   "metadata": {},
   "outputs": [],
   "source": [
    "for i in range(len(str)-1,-1):\n",
    "    print(str[i],\" \") \n",
    "    "
   ]
  },
  {
   "cell_type": "code",
   "execution_count": 19,
   "id": "70d6a8b9",
   "metadata": {},
   "outputs": [
    {
     "name": "stdout",
     "output_type": "stream",
     "text": [
      "28\n"
     ]
    }
   ],
   "source": [
    "str = 'meenakshi learning full stack'\n",
    "Le = len(str)-1\n",
    "print(i)\n",
    "while(Le<=0):\n",
    "    print(str[i])\n",
    "    i-=1"
   ]
  },
  {
   "cell_type": "code",
   "execution_count": 13,
   "id": "700412d8",
   "metadata": {},
   "outputs": [
    {
     "name": "stdout",
     "output_type": "stream",
     "text": [
      "i is ovel\n",
      "n is not ovel\n",
      "e is ovel\n",
      "u is ovel\n",
      "r is not ovel\n",
      "o is ovel\n",
      "n is not ovel\n"
     ]
    }
   ],
   "source": [
    "s2 = \"ineuron\"\n",
    "v = \"AaeEiIoOuU\"\n",
    "for i in s2:\n",
    "    if i in v:\n",
    "        print(i , \"is ovel\")\n",
    "    else:\n",
    "        print(i, \"is not ovel\")\n",
    " "
   ]
  },
  {
   "cell_type": "code",
   "execution_count": 16,
   "id": "197f4ec5",
   "metadata": {
    "scrolled": true
   },
   "outputs": [
    {
     "data": {
      "text/plain": [
       "True"
      ]
     },
     "execution_count": 16,
     "metadata": {},
     "output_type": "execute_result"
    }
   ],
   "source": [
    "\"m\" in \"meena\""
   ]
  },
  {
   "cell_type": "code",
   "execution_count": 17,
   "id": "8dadbb7a",
   "metadata": {
    "scrolled": true
   },
   "outputs": [
    {
     "ename": "NameError",
     "evalue": "name 'm' is not defined",
     "output_type": "error",
     "traceback": [
      "\u001b[1;31m---------------------------------------------------------------------------\u001b[0m",
      "\u001b[1;31mNameError\u001b[0m                                 Traceback (most recent call last)",
      "\u001b[1;32m<ipython-input-17-f5843606eef1>\u001b[0m in \u001b[0;36m<module>\u001b[1;34m\u001b[0m\n\u001b[1;32m----> 1\u001b[1;33m \u001b[0mm\u001b[0m \u001b[1;32min\u001b[0m \u001b[1;34m\"meena\"\u001b[0m\u001b[1;33m\u001b[0m\u001b[1;33m\u001b[0m\u001b[0m\n\u001b[0m",
      "\u001b[1;31mNameError\u001b[0m: name 'm' is not defined"
     ]
    }
   ],
   "source": [
    "m in \"meena\""
   ]
  },
  {
   "cell_type": "code",
   "execution_count": 28,
   "id": "12766603",
   "metadata": {
    "scrolled": true
   },
   "outputs": [
    {
     "name": "stdout",
     "output_type": "stream",
     "text": [
      "mas\n",
      "not pali\n"
     ]
    }
   ],
   "source": [
    "#palindrom using for\n",
    "str = input()\n",
    "for i in range(len(str)):\n",
    "    if str[i] != str[len(str)-1-i]:\n",
    "        print(\"not pali\")\n",
    "        flag =1\n",
    "        break\n",
    "else:\n",
    "       print(\"yes , pali\")   "
   ]
  },
  {
   "cell_type": "code",
   "execution_count": 31,
   "id": "65fc39d6",
   "metadata": {},
   "outputs": [
    {
     "name": "stdout",
     "output_type": "stream",
     "text": [
      "mal\n",
      "no\n"
     ]
    }
   ],
   "source": [
    "#palindrome using while\n",
    "str = input()\n",
    "f=\"\"\n",
    "i=len(str)-1\n",
    "while i>=0:\n",
    "    f=f+str[i]\n",
    "    i=i-1\n",
    "if str==f:\n",
    "    print(\"y\")\n",
    "else:\n",
    "    print(\"no\")"
   ]
  },
  {
   "cell_type": "code",
   "execution_count": 21,
   "id": "a9545bfc",
   "metadata": {},
   "outputs": [
    {
     "name": "stdout",
     "output_type": "stream",
     "text": [
      "mal\n",
      "n\n"
     ]
    }
   ],
   "source": [
    "#palindrom or not simple\n",
    "i = input()\n",
    "s = i[::-1]\n",
    "if i == s:\n",
    "    print(\"yes\")\n",
    "else:\n",
    "    print(\"n\")\n"
   ]
  },
  {
   "cell_type": "code",
   "execution_count": 34,
   "id": "aadd8d7e",
   "metadata": {},
   "outputs": [],
   "source": [
    "#dictinary\n",
    "d = {\"india\": \"IN\",\n",
    "         \"canada\": \"CA\",\n",
    "         \"united\": \"UN\" \n",
    "      }"
   ]
  },
  {
   "cell_type": "code",
   "execution_count": 35,
   "id": "3a5cd416",
   "metadata": {},
   "outputs": [
    {
     "name": "stdout",
     "output_type": "stream",
     "text": [
      "ind\n"
     ]
    },
    {
     "data": {
      "text/plain": [
       "False"
      ]
     },
     "execution_count": 35,
     "metadata": {},
     "output_type": "execute_result"
    }
   ],
   "source": [
    "s= input()\n",
    "s in d"
   ]
  },
  {
   "cell_type": "code",
   "execution_count": 36,
   "id": "47d096c2",
   "metadata": {
    "scrolled": true
   },
   "outputs": [
    {
     "name": "stdout",
     "output_type": "stream",
     "text": [
      "india\n",
      "canada\n",
      "united\n"
     ]
    }
   ],
   "source": [
    "#create 2 lists of key < or > 6length\n",
    "for i in d:\n",
    "    print(i)"
   ]
  },
  {
   "cell_type": "code",
   "execution_count": 43,
   "id": "eb84d57a",
   "metadata": {},
   "outputs": [],
   "source": [
    "l1 = []\n",
    "l2 = []\n",
    "for i in d:\n",
    "    if len(i)<6:\n",
    "        l1.append(i)\n",
    "    else:\n",
    "        l2.append(i)\n"
   ]
  },
  {
   "cell_type": "code",
   "execution_count": 44,
   "id": "8a956c9f",
   "metadata": {
    "scrolled": true
   },
   "outputs": [
    {
     "data": {
      "text/plain": [
       "['india']"
      ]
     },
     "execution_count": 44,
     "metadata": {},
     "output_type": "execute_result"
    }
   ],
   "source": [
    "l1"
   ]
  },
  {
   "cell_type": "code",
   "execution_count": 45,
   "id": "1522653b",
   "metadata": {
    "scrolled": true
   },
   "outputs": [
    {
     "data": {
      "text/plain": [
       "['canada', 'united']"
      ]
     },
     "execution_count": 45,
     "metadata": {},
     "output_type": "execute_result"
    }
   ],
   "source": [
    "l2"
   ]
  },
  {
   "cell_type": "code",
   "execution_count": 48,
   "id": "062dd341",
   "metadata": {},
   "outputs": [],
   "source": [
    "d_nest = {\"neuron\": {  \"a\":1,   \"b\":2,  c\" :3 }, \"course\": {  \"d\":4,   \"e\": 5 } }"
   ]
  },
  {
   "cell_type": "code",
   "execution_count": 50,
   "id": "46e2cfc3",
   "metadata": {
    "scrolled": true
   },
   "outputs": [
    {
     "name": "stdout",
     "output_type": "stream",
     "text": [
      "neuron\n",
      "course\n"
     ]
    }
   ],
   "source": [
    "#find maximum value iin each disctinary\n",
    "for i in d_nest:\n",
    "    print(i)\n"
   ]
  },
  {
   "cell_type": "code",
   "execution_count": 56,
   "id": "2923d041",
   "metadata": {
    "scrolled": false
   },
   "outputs": [
    {
     "name": "stdout",
     "output_type": "stream",
     "text": [
      "{'a': 1, 'b': 2, 'c': 3}\n",
      "{'d': 4, 'e': 5}\n"
     ]
    }
   ],
   "source": [
    "for i in d_nest.values():\n",
    "    print(i)"
   ]
  },
  {
   "cell_type": "code",
   "execution_count": 57,
   "id": "a3316d1d",
   "metadata": {},
   "outputs": [
    {
     "name": "stdout",
     "output_type": "stream",
     "text": [
      "1\n",
      "2\n",
      "3\n",
      "4\n",
      "5\n"
     ]
    }
   ],
   "source": [
    "for i in d_nest.values():\n",
    "    for j in i.values():\n",
    "        print(j)"
   ]
  },
  {
   "cell_type": "code",
   "execution_count": 62,
   "id": "73fabe90",
   "metadata": {
    "scrolled": true
   },
   "outputs": [
    {
     "name": "stdout",
     "output_type": "stream",
     "text": [
      "[1, 2]\n",
      "[1, 2, 3, 4]\n"
     ]
    }
   ],
   "source": [
    "#check this\n",
    "lis=[]\n",
    "for i in d_nest.values():\n",
    "    for j in i.values():\n",
    "        lis.append(j)\n",
    "    lis.sort()\n",
    "    print(lis[:-1])"
   ]
  },
  {
   "cell_type": "code",
   "execution_count": 65,
   "id": "2b32a987",
   "metadata": {
    "scrolled": true
   },
   "outputs": [
    {
     "name": "stdout",
     "output_type": "stream",
     "text": [
      "{'a': 1, 'b': 2, 'c': 3}\n",
      "3\n",
      "{'d': 4, 'e': 5}\n",
      "5\n"
     ]
    }
   ],
   "source": [
    "#best code to find the max of each list.\n",
    "for i in d_nest.values():\n",
    "    print(i)\n",
    "    print(max(i.values()))"
   ]
  },
  {
   "cell_type": "code",
   "execution_count": 69,
   "id": "29d10023",
   "metadata": {
    "scrolled": true
   },
   "outputs": [
    {
     "data": {
      "text/plain": [
       "{'neuron': {'a': 1, 'b': 2, 'c': 3},\n",
       " 'course': {'d': 4, 'e': 5},\n",
       " 'f': 7,\n",
       " 'g': [1, 4, 7, 10],\n",
       " 'h': (4, 56, 1),\n",
       " 'i': 'kmr'}"
      ]
     },
     "execution_count": 69,
     "metadata": {},
     "output_type": "execute_result"
    }
   ],
   "source": [
    "d_mix = {\"neuron\": {  \"a\":1,   \"b\":2,  \"c\" :3 }, \"course\": {  \"d\":4,   \"e\": 5 },\n",
    "                    \"f\": 7, \"g\": [1,4,7,10], \"h\":(4,56,1), \"i\": 'kmr'} \n",
    "d_mix"
   ]
  },
  {
   "cell_type": "code",
   "execution_count": 70,
   "id": "d095557b",
   "metadata": {
    "scrolled": true
   },
   "outputs": [
    {
     "name": "stdout",
     "output_type": "stream",
     "text": [
      "{'a': 1, 'b': 2, 'c': 3}\n",
      "{'d': 4, 'e': 5}\n",
      "7\n",
      "[1, 4, 7, 10]\n",
      "(4, 56, 1)\n",
      "kmr\n"
     ]
    }
   ],
   "source": [
    "#find maximim integer in the above\n",
    "for i in d_mix.values():\n",
    "    print(i)"
   ]
  },
  {
   "cell_type": "code",
   "execution_count": 91,
   "id": "9b9bc6a7",
   "metadata": {},
   "outputs": [
    {
     "name": "stdout",
     "output_type": "stream",
     "text": [
      "56\n",
      "[3, 5, 7, 1, 4, 7, 10, 4, 56, 1]\n"
     ]
    }
   ],
   "source": [
    "#correct\n",
    "# approachis okay but not generalized one. \n",
    "# when f= 2i+1 complex it fails. It falis to set also\n",
    "d_mix = {\"neuron\": {  \"a\":1,   \"b\":2,  \"c\" :3 }, \n",
    "               \"course\": {  \"d\":4,   \"e\": 5 },\n",
    "                \"f\": 7, \n",
    "                \"g\": [1,4,7,10],\n",
    "                \"h\":(4,56,1), \n",
    "                \"i\": 'kmr'\n",
    "                } \n",
    "li =[]\n",
    "for i in d_mix.values():\n",
    "    if type(i) != str and type(i) != complex:\n",
    "        if type(i) ==list or type(i) ==tuple or type(i) ==set:\n",
    "            #li.append(max(i))\n",
    "            li.extend(list(i))\n",
    "    \n",
    "        elif type(i) == dict:\n",
    "            li.append(max(i.values()))\n",
    "        elif type(i) == int:\n",
    "            li.append(i)\n",
    "        else:\n",
    "            pass\n",
    "print(max(li))   \n",
    "print(li)"
   ]
  }
 ],
 "metadata": {
  "kernelspec": {
   "display_name": "Python 3",
   "language": "python",
   "name": "python3"
  },
  "language_info": {
   "codemirror_mode": {
    "name": "ipython",
    "version": 3
   },
   "file_extension": ".py",
   "mimetype": "text/x-python",
   "name": "python",
   "nbconvert_exporter": "python",
   "pygments_lexer": "ipython3",
   "version": "3.8.10"
  }
 },
 "nbformat": 4,
 "nbformat_minor": 5
}
