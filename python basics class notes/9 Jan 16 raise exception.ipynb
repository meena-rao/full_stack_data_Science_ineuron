{
 "cells": [
  {
   "cell_type": "code",
   "execution_count": 8,
   "id": "f1fe1406",
   "metadata": {
    "scrolled": true
   },
   "outputs": [
    {
     "name": "stdout",
     "output_type": "stream",
     "text": [
      "enter valuesd\n",
      "invalid literal for int() with base 10: 'sd'\n",
      "next\n"
     ]
    }
   ],
   "source": [
    "#Exception is super class\n",
    "try :\n",
    "    d = {1 : \"asdasd\", 2 : \"aas\", 3 : [1,2,3], \"key4\" : (34,56)}\n",
    "    d[\"key5\"] = int(input(\"enter value\"))\n",
    "except Exception as E:\n",
    "    print(E)\n",
    "print(\"next\")"
   ]
  },
  {
   "cell_type": "code",
   "execution_count": 7,
   "id": "0d3c797f",
   "metadata": {
    "scrolled": true
   },
   "outputs": [
    {
     "data": {
      "text/plain": [
       "{1: 'asdasd', 2: 'aas', 3: [1, 2, 3], 'key4': (34, 56), 'key5': 111}"
      ]
     },
     "execution_count": 7,
     "metadata": {},
     "output_type": "execute_result"
    }
   ],
   "source": [
    "d"
   ]
  },
  {
   "cell_type": "markdown",
   "id": "3d22652b",
   "metadata": {},
   "source": [
    "### ValueError is subclass, cannot handle other types of error"
   ]
  },
  {
   "cell_type": "code",
   "execution_count": 14,
   "id": "7105f601",
   "metadata": {
    "scrolled": true
   },
   "outputs": [
    {
     "name": "stdout",
     "output_type": "stream",
     "text": [
      "enter value34\n"
     ]
    },
    {
     "ename": "FileNotFoundError",
     "evalue": "[Errno 2] No such file or directory: 'test'",
     "output_type": "error",
     "traceback": [
      "\u001b[1;31m---------------------------------------------------------------------------\u001b[0m",
      "\u001b[1;31mFileNotFoundError\u001b[0m                         Traceback (most recent call last)",
      "\u001b[1;32m<ipython-input-14-d68f0a2db0b9>\u001b[0m in \u001b[0;36m<module>\u001b[1;34m\u001b[0m\n\u001b[0;32m      3\u001b[0m     \u001b[0md\u001b[0m \u001b[1;33m=\u001b[0m \u001b[1;33m{\u001b[0m\u001b[1;36m1\u001b[0m \u001b[1;33m:\u001b[0m \u001b[1;34m\"asdasd\"\u001b[0m\u001b[1;33m,\u001b[0m \u001b[1;36m2\u001b[0m \u001b[1;33m:\u001b[0m \u001b[1;34m\"aas\"\u001b[0m\u001b[1;33m,\u001b[0m \u001b[1;36m3\u001b[0m \u001b[1;33m:\u001b[0m \u001b[1;33m[\u001b[0m\u001b[1;36m1\u001b[0m\u001b[1;33m,\u001b[0m\u001b[1;36m2\u001b[0m\u001b[1;33m,\u001b[0m\u001b[1;36m3\u001b[0m\u001b[1;33m]\u001b[0m\u001b[1;33m,\u001b[0m \u001b[1;34m\"key4\"\u001b[0m \u001b[1;33m:\u001b[0m \u001b[1;33m(\u001b[0m\u001b[1;36m34\u001b[0m\u001b[1;33m,\u001b[0m\u001b[1;36m56\u001b[0m\u001b[1;33m)\u001b[0m\u001b[1;33m}\u001b[0m\u001b[1;33m\u001b[0m\u001b[1;33m\u001b[0m\u001b[0m\n\u001b[0;32m      4\u001b[0m     \u001b[0md\u001b[0m\u001b[1;33m[\u001b[0m\u001b[1;34m\"key5\"\u001b[0m\u001b[1;33m]\u001b[0m \u001b[1;33m=\u001b[0m \u001b[0mint\u001b[0m\u001b[1;33m(\u001b[0m\u001b[0minput\u001b[0m\u001b[1;33m(\u001b[0m\u001b[1;34m\"enter value\"\u001b[0m\u001b[1;33m)\u001b[0m\u001b[1;33m)\u001b[0m\u001b[1;33m\u001b[0m\u001b[1;33m\u001b[0m\u001b[0m\n\u001b[1;32m----> 5\u001b[1;33m     \u001b[0mf\u001b[0m \u001b[1;33m=\u001b[0m \u001b[0mopen\u001b[0m\u001b[1;33m(\u001b[0m\u001b[1;34m\"test\"\u001b[0m\u001b[1;33m,\u001b[0m \u001b[1;34m\"r\"\u001b[0m\u001b[1;33m)\u001b[0m\u001b[1;33m\u001b[0m\u001b[1;33m\u001b[0m\u001b[0m\n\u001b[0m\u001b[0;32m      6\u001b[0m \u001b[1;32mexcept\u001b[0m \u001b[0mValueError\u001b[0m \u001b[1;32mas\u001b[0m \u001b[0mE\u001b[0m\u001b[1;33m:\u001b[0m\u001b[1;33m\u001b[0m\u001b[1;33m\u001b[0m\u001b[0m\n\u001b[0;32m      7\u001b[0m     \u001b[0mprint\u001b[0m\u001b[1;33m(\u001b[0m\u001b[0mE\u001b[0m\u001b[1;33m)\u001b[0m\u001b[1;33m\u001b[0m\u001b[1;33m\u001b[0m\u001b[0m\n",
      "\u001b[1;31mFileNotFoundError\u001b[0m: [Errno 2] No such file or directory: 'test'"
     ]
    }
   ],
   "source": [
    "#Exception is super class\n",
    "try :\n",
    "    d = {1 : \"asdasd\", 2 : \"aas\", 3 : [1,2,3], \"key4\" : (34,56)}\n",
    "    d[\"key5\"] = int(input(\"enter value\"))\n",
    "    f = open(\"test\", \"r\") \n",
    "except ValueError as E:\n",
    "    print(E)\n",
    "print(\"next\")"
   ]
  },
  {
   "cell_type": "code",
   "execution_count": 16,
   "id": "a78d7d7b",
   "metadata": {
    "scrolled": false
   },
   "outputs": [
    {
     "name": "stdout",
     "output_type": "stream",
     "text": [
      "enter value45\n",
      "[Errno 2] No such file or directory: 'test'\n",
      "next\n"
     ]
    }
   ],
   "source": [
    "#Exception is super class\n",
    "try :\n",
    "    d = {1 : \"asdasd\", 2 : \"aas\", 3 : [1,2,3], \"key4\" : (34,56)}\n",
    "    d[\"key5\"] = int(input(\"enter value\"))\n",
    "    f = open(\"test\", \"r\") \n",
    "except Exception as E:\n",
    "    print(E)\n",
    "print(\"next\")"
   ]
  },
  {
   "cell_type": "markdown",
   "id": "3e048a65",
   "metadata": {},
   "source": [
    "### multiple except"
   ]
  },
  {
   "cell_type": "code",
   "execution_count": 18,
   "id": "c3405ed0",
   "metadata": {},
   "outputs": [
    {
     "name": "stdout",
     "output_type": "stream",
     "text": [
      "enter value43\n",
      "[Errno 2] No such file or directory: 'test'\n",
      "next\n"
     ]
    }
   ],
   "source": [
    "#Exception is super class\n",
    "\n",
    "try :\n",
    "    d = {1 : \"asdasd\", 2 : \"aas\", 3 : [1,2,3], \"key4\" : (34,56)}\n",
    "    d[\"key5\"] = int(input(\"enter value\"))\n",
    "    f = open(\"test\", \"r\") \n",
    "    \n",
    "except ValueError as E:\n",
    "    print(E)\n",
    "    \n",
    "except Exception as E: #FileNotFoundError also okay\n",
    "    print(E)\n",
    "    \n",
    "print(\"next\")"
   ]
  },
  {
   "cell_type": "code",
   "execution_count": 27,
   "id": "3d3c7709",
   "metadata": {
    "scrolled": true
   },
   "outputs": [
    {
     "name": "stdout",
     "output_type": "stream",
     "text": [
      "enter valuesdd\n",
      "super class called invalid literal for int() with base 10: 'sdd'\n",
      "next\n"
     ]
    }
   ],
   "source": [
    "#Exception is super class\n",
    "\n",
    "try :\n",
    "    d = {1 : \"asdasd\", 2 : \"aas\", 3 : [1,2,3], \"key4\" : (34,56)}\n",
    "    d[\"key5\"] = int(input(\"enter value\"))\n",
    "    f = open(\"test\", \"r\") \n",
    "    \n",
    "except Exception as E: # will be called first always\n",
    "    print(\"super class called\", E)\n",
    "    \n",
    "except ValueError as E:\n",
    "    print(E)\n",
    "    \n",
    "except FileNotFoundError  as E: #FileNotFoundError also okay\n",
    "    print(E)\n",
    "    \n",
    "print(\"next\")"
   ]
  },
  {
   "cell_type": "code",
   "execution_count": 25,
   "id": "59211f23",
   "metadata": {
    "scrolled": true
   },
   "outputs": [
    {
     "name": "stdout",
     "output_type": "stream",
     "text": [
      "enter value3\n",
      "file not found executes [Errno 2] No such file or directory: 'test'\n",
      "next\n"
     ]
    }
   ],
   "source": [
    "#Exception is super class\n",
    "# heirarchy is maintained\n",
    "# whatever written first that class will be called\n",
    "\n",
    "try :\n",
    "    d = {1 : \"asdasd\", 2 : \"aas\", 3 : [1,2,3], \"key4\" : (34,56)}\n",
    "    d[\"key5\"] = int(input(\"enter value\"))\n",
    "    f = open(\"test\", \"r\") \n",
    "    \n",
    "except ValueError as E:\n",
    "    print(\"value error\",E)\n",
    "    \n",
    "except FileNotFoundError  as E: #FileNotFoundError also okay\n",
    "    print(\"file not found executes\", E)\n",
    "    \n",
    "except Exception as E: # will be called first always\n",
    "    print(\"exception super class calles\", E)    \n",
    "print(\"next\")"
   ]
  },
  {
   "cell_type": "markdown",
   "id": "5cdd1533",
   "metadata": {},
   "source": [
    "### try except else block"
   ]
  },
  {
   "cell_type": "code",
   "execution_count": 31,
   "id": "2e8043da",
   "metadata": {
    "scrolled": true
   },
   "outputs": [
    {
     "name": "stdout",
     "output_type": "stream",
     "text": [
      "super class [Errno 2] No such file or directory: 'test3.txt'\n"
     ]
    }
   ],
   "source": [
    "try :\n",
    "    f = open(\"test3.txt\", \"r\")\n",
    "    f.write(\" code in try block\")\n",
    "    \n",
    "except Exception as E :\n",
    "    print(\"super class\", E)\n",
    "else:\n",
    "    print(\"executes if try executes successfully\")\n",
    "    f.close()    "
   ]
  },
  {
   "cell_type": "code",
   "execution_count": 34,
   "id": "0586719a",
   "metadata": {},
   "outputs": [
    {
     "name": "stdout",
     "output_type": "stream",
     "text": [
      "ELSE block executes if try executes successfully\n",
      "out of try execute NEXT\n"
     ]
    }
   ],
   "source": [
    "try :\n",
    "    f = open(\"test3.txt\", \"w\")\n",
    "    f.write(\" code in try block\")\n",
    "    \n",
    "except Exception as E :\n",
    "    print(\"super class\", E)\n",
    "else:\n",
    "    print(\"ELSE block executes if try executes successfully\")\n",
    "    f.close()\n",
    "    \n",
    "print(\"out of try execute NEXT\")"
   ]
  },
  {
   "cell_type": "markdown",
   "id": "4c44f5be",
   "metadata": {},
   "source": [
    "### else executed if try executed succesfully"
   ]
  },
  {
   "cell_type": "markdown",
   "id": "3dcf755c",
   "metadata": {},
   "source": [
    "### finally"
   ]
  },
  {
   "cell_type": "code",
   "execution_count": 36,
   "id": "9a032aa2",
   "metadata": {
    "scrolled": true
   },
   "outputs": [
    {
     "name": "stdout",
     "output_type": "stream",
     "text": [
      "sdsdfsfd [Errno 2] No such file or directory: 'test43'\n",
      "do this for sure\n"
     ]
    }
   ],
   "source": [
    "try :\n",
    "    f = open(\"test43\", \"r\")\n",
    "except Exception as E:\n",
    "    print(\"sdsdfsfd\", E)\n",
    "else:\n",
    "    print(\"try done successfully\")\n",
    "finally :\n",
    "    print(\"do this for sure\")\n",
    "    "
   ]
  },
  {
   "cell_type": "code",
   "execution_count": 37,
   "id": "1da326cb",
   "metadata": {
    "scrolled": true
   },
   "outputs": [
    {
     "name": "stdout",
     "output_type": "stream",
     "text": [
      "try done successfully\n",
      "do this for sure\n"
     ]
    }
   ],
   "source": [
    "try :\n",
    "    f = open(\"test43\", \"w\")\n",
    "except Exception as E:\n",
    "    print(\"sdsdfsfd\", E)\n",
    "else:\n",
    "    print(\"try done successfully\")\n",
    "finally :\n",
    "    print(\"do this for sure\")"
   ]
  },
  {
   "cell_type": "code",
   "execution_count": 48,
   "id": "a8a7cec5",
   "metadata": {
    "scrolled": true
   },
   "outputs": [
    {
     "name": "stdout",
     "output_type": "stream",
     "text": [
      "enter intxd\n",
      "input error invalid literal for int() with base 10: 'xd'\n"
     ]
    }
   ],
   "source": [
    "def f1() :\n",
    "    try :\n",
    "        a = int(input(\"enter int\"))\n",
    "        return a\n",
    "    except Exception as E:\n",
    "        print(\"input error\",E)\n",
    "    \n",
    "\n",
    "f1()"
   ]
  },
  {
   "cell_type": "code",
   "execution_count": 53,
   "id": "8aec5239",
   "metadata": {
    "scrolled": true
   },
   "outputs": [
    {
     "name": "stdout",
     "output_type": "stream",
     "text": [
      "enter integer34\n",
      "enter integer1\n",
      "enter integer78\n",
      "enter integer54\n",
      "enter integer789\n",
      "enter integerdfg\n",
      "You have not entered int\n",
      "invalid literal for int() with base 10: 'dfg'\n",
      " anyways going to next stmt\n",
      "None\n"
     ]
    }
   ],
   "source": [
    "#create a function which keeps executing till u enter integer\n",
    "def f():\n",
    "    l =[]\n",
    "    try:\n",
    "        while(1):\n",
    "            a = int(input(\"enter integer\"))\n",
    "            if type(a)==int:\n",
    "                l.append(a)\n",
    "        return l   \n",
    "    except Exception as E:\n",
    "            print(\"You have not entered int\")\n",
    "            print(E)\n",
    "    else :\n",
    "        print(\" try block exeutes successfully\")\n",
    "    finally:\n",
    "        print(\" anyways going to next stmt\")\n",
    "        \n",
    "li =f()         \n",
    "print(li)"
   ]
  },
  {
   "cell_type": "code",
   "execution_count": 58,
   "id": "1995b2c0",
   "metadata": {},
   "outputs": [
    {
     "name": "stdout",
     "output_type": "stream",
     "text": [
      "enter int onlysdf\n",
      "int only invalid literal for int() with base 10: 'sdf'\n",
      "enter int onlyh6\n",
      "int only invalid literal for int() with base 10: 'h6'\n",
      "enter int only5\n"
     ]
    }
   ],
   "source": [
    "def readint():\n",
    "    \"\"\" when int entered it stops\"\"\"\n",
    "    while True:\n",
    "        try:\n",
    "            a = int(input(\"enter int only\"))\n",
    "            break\n",
    "        #except ValueError:\n",
    "        except Exception as E:\n",
    "            print(\"int only\", E)\n",
    "            continue\n",
    "            \n",
    "readint()\n",
    "        "
   ]
  },
  {
   "cell_type": "markdown",
   "id": "053310db",
   "metadata": {},
   "source": [
    "### raise own exception"
   ]
  },
  {
   "cell_type": "code",
   "execution_count": 60,
   "id": "a48bd39d",
   "metadata": {},
   "outputs": [],
   "source": [
    "def test(a):\n",
    "    if a < 0:\n",
    "        raise Exception(a)\n",
    "    return a\n",
    "         "
   ]
  },
  {
   "cell_type": "code",
   "execution_count": 61,
   "id": "9f1d27e1",
   "metadata": {
    "scrolled": true
   },
   "outputs": [
    {
     "ename": "Exception",
     "evalue": "-4",
     "output_type": "error",
     "traceback": [
      "\u001b[1;31m---------------------------------------------------------------------------\u001b[0m",
      "\u001b[1;31mException\u001b[0m                                 Traceback (most recent call last)",
      "\u001b[1;32m<ipython-input-61-d2bb95962d49>\u001b[0m in \u001b[0;36m<module>\u001b[1;34m\u001b[0m\n\u001b[1;32m----> 1\u001b[1;33m \u001b[0mtest\u001b[0m\u001b[1;33m(\u001b[0m\u001b[1;33m-\u001b[0m\u001b[1;36m4\u001b[0m\u001b[1;33m)\u001b[0m\u001b[1;33m\u001b[0m\u001b[1;33m\u001b[0m\u001b[0m\n\u001b[0m",
      "\u001b[1;32m<ipython-input-60-76dc6d7a74a7>\u001b[0m in \u001b[0;36mtest\u001b[1;34m(a)\u001b[0m\n\u001b[0;32m      1\u001b[0m \u001b[1;32mdef\u001b[0m \u001b[0mtest\u001b[0m\u001b[1;33m(\u001b[0m\u001b[0ma\u001b[0m\u001b[1;33m)\u001b[0m\u001b[1;33m:\u001b[0m\u001b[1;33m\u001b[0m\u001b[1;33m\u001b[0m\u001b[0m\n\u001b[0;32m      2\u001b[0m     \u001b[1;32mif\u001b[0m \u001b[0ma\u001b[0m \u001b[1;33m<\u001b[0m \u001b[1;36m0\u001b[0m\u001b[1;33m:\u001b[0m\u001b[1;33m\u001b[0m\u001b[1;33m\u001b[0m\u001b[0m\n\u001b[1;32m----> 3\u001b[1;33m         \u001b[1;32mraise\u001b[0m \u001b[0mException\u001b[0m\u001b[1;33m(\u001b[0m\u001b[0ma\u001b[0m\u001b[1;33m)\u001b[0m\u001b[1;33m\u001b[0m\u001b[1;33m\u001b[0m\u001b[0m\n\u001b[0m\u001b[0;32m      4\u001b[0m     \u001b[1;32mreturn\u001b[0m \u001b[0ma\u001b[0m\u001b[1;33m\u001b[0m\u001b[1;33m\u001b[0m\u001b[0m\n\u001b[0;32m      5\u001b[0m \u001b[1;33m\u001b[0m\u001b[0m\n",
      "\u001b[1;31mException\u001b[0m: -4"
     ]
    }
   ],
   "source": [
    "test(-4)"
   ]
  },
  {
   "cell_type": "code",
   "execution_count": 62,
   "id": "790b1294",
   "metadata": {
    "scrolled": true
   },
   "outputs": [
    {
     "data": {
      "text/plain": [
       "4"
      ]
     },
     "execution_count": 62,
     "metadata": {},
     "output_type": "execute_result"
    }
   ],
   "source": [
    "test(4)"
   ]
  },
  {
   "cell_type": "code",
   "execution_count": 63,
   "id": "e2b94fec",
   "metadata": {
    "scrolled": true
   },
   "outputs": [
    {
     "ename": "FileNotFoundError",
     "evalue": "[Errno 2] No such file or directory: 'est3'",
     "output_type": "error",
     "traceback": [
      "\u001b[1;31m---------------------------------------------------------------------------\u001b[0m",
      "\u001b[1;31mFileNotFoundError\u001b[0m                         Traceback (most recent call last)",
      "\u001b[1;32m<ipython-input-63-d89dfe42f345>\u001b[0m in \u001b[0;36m<module>\u001b[1;34m\u001b[0m\n\u001b[1;32m----> 1\u001b[1;33m \u001b[0mg\u001b[0m \u001b[1;33m=\u001b[0m \u001b[0mopen\u001b[0m\u001b[1;33m(\u001b[0m\u001b[1;34m\"est3\"\u001b[0m\u001b[1;33m,\u001b[0m \u001b[1;34m\"r\"\u001b[0m\u001b[1;33m)\u001b[0m\u001b[1;33m\u001b[0m\u001b[1;33m\u001b[0m\u001b[0m\n\u001b[0m",
      "\u001b[1;31mFileNotFoundError\u001b[0m: [Errno 2] No such file or directory: 'est3'"
     ]
    }
   ],
   "source": [
    "g = open(\"est3\", \"r\")"
   ]
  },
  {
   "cell_type": "code",
   "execution_count": 64,
   "id": "49274a8f",
   "metadata": {},
   "outputs": [],
   "source": [
    "def test1(a):\n",
    "    if a < 4:\n",
    "        raise Exception(\"wrong input\", a)\n",
    "    return a\n",
    "         "
   ]
  },
  {
   "cell_type": "code",
   "execution_count": 65,
   "id": "14177d98",
   "metadata": {
    "scrolled": true
   },
   "outputs": [
    {
     "ename": "Exception",
     "evalue": "('wrong input', -4)",
     "output_type": "error",
     "traceback": [
      "\u001b[1;31m---------------------------------------------------------------------------\u001b[0m",
      "\u001b[1;31mException\u001b[0m                                 Traceback (most recent call last)",
      "\u001b[1;32m<ipython-input-65-d2bb95962d49>\u001b[0m in \u001b[0;36m<module>\u001b[1;34m\u001b[0m\n\u001b[1;32m----> 1\u001b[1;33m \u001b[0mtest\u001b[0m\u001b[1;33m(\u001b[0m\u001b[1;33m-\u001b[0m\u001b[1;36m4\u001b[0m\u001b[1;33m)\u001b[0m\u001b[1;33m\u001b[0m\u001b[1;33m\u001b[0m\u001b[0m\n\u001b[0m",
      "\u001b[1;32m<ipython-input-64-8c2ca4fb1260>\u001b[0m in \u001b[0;36mtest\u001b[1;34m(a)\u001b[0m\n\u001b[0;32m      1\u001b[0m \u001b[1;32mdef\u001b[0m \u001b[0mtest\u001b[0m\u001b[1;33m(\u001b[0m\u001b[0ma\u001b[0m\u001b[1;33m)\u001b[0m\u001b[1;33m:\u001b[0m\u001b[1;33m\u001b[0m\u001b[1;33m\u001b[0m\u001b[0m\n\u001b[0;32m      2\u001b[0m     \u001b[1;32mif\u001b[0m \u001b[0ma\u001b[0m \u001b[1;33m<\u001b[0m \u001b[1;36m0\u001b[0m\u001b[1;33m:\u001b[0m\u001b[1;33m\u001b[0m\u001b[1;33m\u001b[0m\u001b[0m\n\u001b[1;32m----> 3\u001b[1;33m         \u001b[1;32mraise\u001b[0m \u001b[0mException\u001b[0m\u001b[1;33m(\u001b[0m\u001b[1;34m\"wrong input\"\u001b[0m\u001b[1;33m,\u001b[0m \u001b[0ma\u001b[0m\u001b[1;33m)\u001b[0m\u001b[1;33m\u001b[0m\u001b[1;33m\u001b[0m\u001b[0m\n\u001b[0m\u001b[0;32m      4\u001b[0m     \u001b[1;32mreturn\u001b[0m \u001b[0ma\u001b[0m\u001b[1;33m\u001b[0m\u001b[1;33m\u001b[0m\u001b[0m\n\u001b[0;32m      5\u001b[0m \u001b[1;33m\u001b[0m\u001b[0m\n",
      "\u001b[1;31mException\u001b[0m: ('wrong input', -4)"
     ]
    }
   ],
   "source": [
    "test(-4)"
   ]
  },
  {
   "cell_type": "code",
   "execution_count": 29,
   "id": "cf07e447",
   "metadata": {},
   "outputs": [],
   "source": [
    "# overwriting with custumized exception\n",
    "def test(a):\n",
    "    if a <0 :\n",
    "        raise Exception(\"It is negative\", a)    #ZeroDivisionError is also okay\n",
    "    return a"
   ]
  },
  {
   "cell_type": "code",
   "execution_count": 19,
   "id": "dd53f576",
   "metadata": {
    "scrolled": false
   },
   "outputs": [
    {
     "ename": "Exception",
     "evalue": "('It is negative', -4)",
     "output_type": "error",
     "traceback": [
      "\u001b[1;31m---------------------------------------------------------------------------\u001b[0m",
      "\u001b[1;31mException\u001b[0m                                 Traceback (most recent call last)",
      "\u001b[1;32m<ipython-input-19-d2bb95962d49>\u001b[0m in \u001b[0;36m<module>\u001b[1;34m\u001b[0m\n\u001b[1;32m----> 1\u001b[1;33m \u001b[0mtest\u001b[0m\u001b[1;33m(\u001b[0m\u001b[1;33m-\u001b[0m\u001b[1;36m4\u001b[0m\u001b[1;33m)\u001b[0m\u001b[1;33m\u001b[0m\u001b[1;33m\u001b[0m\u001b[0m\n\u001b[0m",
      "\u001b[1;32m<ipython-input-10-54b78729cfff>\u001b[0m in \u001b[0;36mtest\u001b[1;34m(a)\u001b[0m\n\u001b[0;32m      2\u001b[0m \u001b[1;32mdef\u001b[0m \u001b[0mtest\u001b[0m\u001b[1;33m(\u001b[0m\u001b[0ma\u001b[0m\u001b[1;33m)\u001b[0m\u001b[1;33m:\u001b[0m\u001b[1;33m\u001b[0m\u001b[1;33m\u001b[0m\u001b[0m\n\u001b[0;32m      3\u001b[0m     \u001b[1;32mif\u001b[0m \u001b[0ma\u001b[0m \u001b[1;33m<\u001b[0m\u001b[1;36m0\u001b[0m \u001b[1;33m:\u001b[0m\u001b[1;33m\u001b[0m\u001b[1;33m\u001b[0m\u001b[0m\n\u001b[1;32m----> 4\u001b[1;33m         \u001b[1;32mraise\u001b[0m \u001b[0mException\u001b[0m\u001b[1;33m(\u001b[0m\u001b[1;34m\"It is negative\"\u001b[0m\u001b[1;33m,\u001b[0m \u001b[0ma\u001b[0m\u001b[1;33m)\u001b[0m    \u001b[1;31m#ZeroDivisionError is also okay\u001b[0m\u001b[1;33m\u001b[0m\u001b[1;33m\u001b[0m\u001b[0m\n\u001b[0m\u001b[0;32m      5\u001b[0m     \u001b[1;32mreturn\u001b[0m \u001b[0ma\u001b[0m\u001b[1;33m\u001b[0m\u001b[1;33m\u001b[0m\u001b[0m\n",
      "\u001b[1;31mException\u001b[0m: ('It is negative', -4)"
     ]
    }
   ],
   "source": [
    "test(-4)"
   ]
  },
  {
   "cell_type": "code",
   "execution_count": 30,
   "id": "daf70909",
   "metadata": {
    "scrolled": true
   },
   "outputs": [
    {
     "name": "stdout",
     "output_type": "stream",
     "text": [
      "-4\n"
     ]
    },
    {
     "ename": "NameError",
     "evalue": "name 'testing' is not defined",
     "output_type": "error",
     "traceback": [
      "\u001b[1;31m---------------------------------------------------------------------------\u001b[0m",
      "\u001b[1;31mException\u001b[0m                                 Traceback (most recent call last)",
      "\u001b[1;32m<ipython-input-30-697b71d2b026>\u001b[0m in \u001b[0;36m<module>\u001b[1;34m\u001b[0m\n\u001b[0;32m      2\u001b[0m     \u001b[0ma\u001b[0m \u001b[1;33m=\u001b[0m \u001b[0mint\u001b[0m\u001b[1;33m(\u001b[0m\u001b[0minput\u001b[0m\u001b[1;33m(\u001b[0m\u001b[1;33m)\u001b[0m\u001b[1;33m)\u001b[0m\u001b[1;33m\u001b[0m\u001b[1;33m\u001b[0m\u001b[0m\n\u001b[1;32m----> 3\u001b[1;33m     \u001b[0mtest\u001b[0m\u001b[1;33m(\u001b[0m\u001b[0ma\u001b[0m\u001b[1;33m)\u001b[0m\u001b[1;33m\u001b[0m\u001b[1;33m\u001b[0m\u001b[0m\n\u001b[0m\u001b[0;32m      4\u001b[0m \u001b[1;32mexcept\u001b[0m \u001b[0mtesting\u001b[0m \u001b[1;32mas\u001b[0m \u001b[0mE\u001b[0m\u001b[1;33m:\u001b[0m\u001b[1;33m\u001b[0m\u001b[1;33m\u001b[0m\u001b[0m\n",
      "\u001b[1;32m<ipython-input-29-54b78729cfff>\u001b[0m in \u001b[0;36mtest\u001b[1;34m(a)\u001b[0m\n\u001b[0;32m      3\u001b[0m     \u001b[1;32mif\u001b[0m \u001b[0ma\u001b[0m \u001b[1;33m<\u001b[0m\u001b[1;36m0\u001b[0m \u001b[1;33m:\u001b[0m\u001b[1;33m\u001b[0m\u001b[1;33m\u001b[0m\u001b[0m\n\u001b[1;32m----> 4\u001b[1;33m         \u001b[1;32mraise\u001b[0m \u001b[0mException\u001b[0m\u001b[1;33m(\u001b[0m\u001b[1;34m\"It is negative\"\u001b[0m\u001b[1;33m,\u001b[0m \u001b[0ma\u001b[0m\u001b[1;33m)\u001b[0m    \u001b[1;31m#ZeroDivisionError is also okay\u001b[0m\u001b[1;33m\u001b[0m\u001b[1;33m\u001b[0m\u001b[0m\n\u001b[0m\u001b[0;32m      5\u001b[0m     \u001b[1;32mreturn\u001b[0m \u001b[0ma\u001b[0m\u001b[1;33m\u001b[0m\u001b[1;33m\u001b[0m\u001b[0m\n",
      "\u001b[1;31mException\u001b[0m: ('It is negative', -4)",
      "\nDuring handling of the above exception, another exception occurred:\n",
      "\u001b[1;31mNameError\u001b[0m                                 Traceback (most recent call last)",
      "\u001b[1;32m<ipython-input-30-697b71d2b026>\u001b[0m in \u001b[0;36m<module>\u001b[1;34m\u001b[0m\n\u001b[0;32m      2\u001b[0m     \u001b[0ma\u001b[0m \u001b[1;33m=\u001b[0m \u001b[0mint\u001b[0m\u001b[1;33m(\u001b[0m\u001b[0minput\u001b[0m\u001b[1;33m(\u001b[0m\u001b[1;33m)\u001b[0m\u001b[1;33m)\u001b[0m\u001b[1;33m\u001b[0m\u001b[1;33m\u001b[0m\u001b[0m\n\u001b[0;32m      3\u001b[0m     \u001b[0mtest\u001b[0m\u001b[1;33m(\u001b[0m\u001b[0ma\u001b[0m\u001b[1;33m)\u001b[0m\u001b[1;33m\u001b[0m\u001b[1;33m\u001b[0m\u001b[0m\n\u001b[1;32m----> 4\u001b[1;33m \u001b[1;32mexcept\u001b[0m \u001b[0mtesting\u001b[0m \u001b[1;32mas\u001b[0m \u001b[0mE\u001b[0m\u001b[1;33m:\u001b[0m\u001b[1;33m\u001b[0m\u001b[1;33m\u001b[0m\u001b[0m\n\u001b[0m\u001b[0;32m      5\u001b[0m     \u001b[0mprint\u001b[0m\u001b[1;33m(\u001b[0m\u001b[1;34m\"calling raised exception\"\u001b[0m\u001b[1;33m,\u001b[0m \u001b[0mE\u001b[0m\u001b[1;33m)\u001b[0m\u001b[1;33m\u001b[0m\u001b[1;33m\u001b[0m\u001b[0m\n",
      "\u001b[1;31mNameError\u001b[0m: name 'testing' is not defined"
     ]
    }
   ],
   "source": [
    "try:\n",
    "    a = int(input())\n",
    "    test(a)\n",
    "except Exception as E:\n",
    "    print(\"calling raised exception\", E)"
   ]
  },
  {
   "cell_type": "code",
   "execution_count": 34,
   "id": "f3911a6b",
   "metadata": {},
   "outputs": [
    {
     "name": "stdout",
     "output_type": "stream",
     "text": [
      "Input first no:-8\n",
      "Input second no:7\n",
      "Negative numbers not allowed!Try again\n",
      "Input first no:5\n",
      "Input second no:0\n",
      "Please input non-zero denominator\n",
      "Input first no:fghg\n",
      "Please input integers only! Try again\n",
      "Input first no:9\n",
      "Input second no:9\n",
      "Div is  1.0\n"
     ]
    }
   ],
   "source": [
    "while(True):\n",
    "\ttry:\n",
    "\t\ta=int(input(\"Input first no:\"))\n",
    "\t\tb=int(input(\"Input second no:\"))\n",
    "\t\tif a<0 or b<0:\n",
    "\t\t\traise Exception(\"Negative numbers not allowed!Try again\")\n",
    "\t\tc=a/b\n",
    "\t\tprint(\"Div is \",c)\n",
    "\t\tbreak;\n",
    "\texcept ValueError:\n",
    "\t\tprint(\"Please input integers only! Try again\")\t\n",
    "\texcept ZeroDivisionError:\n",
    "\t\tprint(\"Please input non-zero denominator\")\t\n",
    "\texcept Exception as e:\n",
    "\t\tprint(e)\n"
   ]
  },
  {
   "cell_type": "code",
   "execution_count": null,
   "id": "41dbd5bf",
   "metadata": {},
   "outputs": [],
   "source": []
  }
 ],
 "metadata": {
  "kernelspec": {
   "display_name": "Python 3",
   "language": "python",
   "name": "python3"
  },
  "language_info": {
   "codemirror_mode": {
    "name": "ipython",
    "version": 3
   },
   "file_extension": ".py",
   "mimetype": "text/x-python",
   "name": "python",
   "nbconvert_exporter": "python",
   "pygments_lexer": "ipython3",
   "version": "3.8.10"
  }
 },
 "nbformat": 4,
 "nbformat_minor": 5
}
