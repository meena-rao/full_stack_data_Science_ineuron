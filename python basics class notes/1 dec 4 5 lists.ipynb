{
 "cells": [
  {
   "cell_type": "code",
   "execution_count": null,
   "id": "f736871b",
   "metadata": {},
   "outputs": [],
   "source": [
    "#append(),  insert(), extend(), pop()\n",
    "import this"
   ]
  },
  {
   "cell_type": "code",
   "execution_count": null,
   "id": "edaf3ac5",
   "metadata": {},
   "outputs": [],
   "source": [
    "#sfiht tab for more infrmation\n",
    "len()"
   ]
  },
  {
   "cell_type": "code",
   "execution_count": 3,
   "id": "971d4045",
   "metadata": {},
   "outputs": [
    {
     "data": {
      "text/plain": [
       "int"
      ]
     },
     "execution_count": 3,
     "metadata": {},
     "output_type": "execute_result"
    }
   ],
   "source": [
    "a =5\n",
    "type(a)"
   ]
  },
  {
   "cell_type": "code",
   "execution_count": 5,
   "id": "42d960ac",
   "metadata": {
    "scrolled": true
   },
   "outputs": [
    {
     "data": {
      "text/plain": [
       "complex"
      ]
     },
     "execution_count": 5,
     "metadata": {},
     "output_type": "execute_result"
    }
   ],
   "source": [
    "#complex\n",
    "a = 5+8j\n",
    "#j is root (-1)\n",
    "type(a)"
   ]
  },
  {
   "cell_type": "code",
   "execution_count": 6,
   "id": "bd045a27",
   "metadata": {},
   "outputs": [
    {
     "data": {
      "text/plain": [
       "bool"
      ]
     },
     "execution_count": 6,
     "metadata": {},
     "output_type": "execute_result"
    }
   ],
   "source": [
    "d =True\n",
    "type(d)"
   ]
  },
  {
   "cell_type": "code",
   "execution_count": 9,
   "id": "86a1f839",
   "metadata": {},
   "outputs": [
    {
     "data": {
      "text/plain": [
       "8.0"
      ]
     },
     "execution_count": 9,
     "metadata": {},
     "output_type": "execute_result"
    }
   ],
   "source": [
    "#single line variables \n",
    "a,b,c,d,e = 4,5.6,\"df\", 5+8j, True\n",
    "d.real\n",
    "#press tab after dot.\n",
    "d.imag"
   ]
  },
  {
   "cell_type": "code",
   "execution_count": 13,
   "id": "1f323569",
   "metadata": {},
   "outputs": [
    {
     "data": {
      "text/plain": [
       "2"
      ]
     },
     "execution_count": 13,
     "metadata": {},
     "output_type": "execute_result"
    }
   ],
   "source": [
    "True+True"
   ]
  },
  {
   "cell_type": "code",
   "execution_count": 14,
   "id": "37142d2f",
   "metadata": {
    "scrolled": true
   },
   "outputs": [
    {
     "data": {
      "text/plain": [
       "1"
      ]
     },
     "execution_count": 14,
     "metadata": {},
     "output_type": "execute_result"
    }
   ],
   "source": [
    "True-False"
   ]
  },
  {
   "cell_type": "code",
   "execution_count": 15,
   "id": "13a29b3e",
   "metadata": {
    "scrolled": true
   },
   "outputs": [
    {
     "name": "stdout",
     "output_type": "stream",
     "text": [
      "ss\n"
     ]
    }
   ],
   "source": [
    "a = input()"
   ]
  },
  {
   "cell_type": "code",
   "execution_count": 2,
   "id": "8ede84c3",
   "metadata": {
    "scrolled": true
   },
   "outputs": [
    {
     "data": {
      "text/plain": [
       "True"
      ]
     },
     "execution_count": 2,
     "metadata": {},
     "output_type": "execute_result"
    }
   ],
   "source": [
    "s=\"name\"\n",
    "s.startswith(\"n\")"
   ]
  },
  {
   "cell_type": "code",
   "execution_count": 3,
   "id": "f944d463",
   "metadata": {},
   "outputs": [
    {
     "data": {
      "text/plain": [
       "b'name'"
      ]
     },
     "execution_count": 3,
     "metadata": {},
     "output_type": "execute_result"
    }
   ],
   "source": [
    "s.encode()"
   ]
  },
  {
   "cell_type": "code",
   "execution_count": 4,
   "id": "57ac509e",
   "metadata": {},
   "outputs": [
    {
     "ename": "ValueError",
     "evalue": "invalid literal for int() with base 10: 'name'",
     "output_type": "error",
     "traceback": [
      "\u001b[1;31m---------------------------------------------------------------------------\u001b[0m",
      "\u001b[1;31mValueError\u001b[0m                                Traceback (most recent call last)",
      "\u001b[1;32m<ipython-input-4-7a607cf6a774>\u001b[0m in \u001b[0;36m<module>\u001b[1;34m\u001b[0m\n\u001b[1;32m----> 1\u001b[1;33m \u001b[0ms\u001b[0m \u001b[1;33m=\u001b[0m\u001b[0mint\u001b[0m\u001b[1;33m(\u001b[0m\u001b[0ms\u001b[0m\u001b[1;33m)\u001b[0m\u001b[1;33m\u001b[0m\u001b[1;33m\u001b[0m\u001b[0m\n\u001b[0m",
      "\u001b[1;31mValueError\u001b[0m: invalid literal for int() with base 10: 'name'"
     ]
    }
   ],
   "source": [
    "s =int(s)"
   ]
  },
  {
   "cell_type": "code",
   "execution_count": 55,
   "id": "5ee643a4",
   "metadata": {},
   "outputs": [
    {
     "data": {
      "text/plain": [
       "list"
      ]
     },
     "execution_count": 55,
     "metadata": {},
     "output_type": "execute_result"
    }
   ],
   "source": [
    " l =[67,'676', \"jkl\"]\n",
    "type(l)"
   ]
  },
  {
   "cell_type": "code",
   "execution_count": 56,
   "id": "7c378eee",
   "metadata": {},
   "outputs": [
    {
     "data": {
      "text/plain": [
       "'jkl'"
      ]
     },
     "execution_count": 56,
     "metadata": {},
     "output_type": "execute_result"
    }
   ],
   "source": [
    "l[-1]"
   ]
  },
  {
   "cell_type": "code",
   "execution_count": 57,
   "id": "29aa92d7",
   "metadata": {
    "scrolled": true
   },
   "outputs": [
    {
     "data": {
      "text/plain": [
       "[67, '676', 'jkl']"
      ]
     },
     "execution_count": 57,
     "metadata": {},
     "output_type": "execute_result"
    }
   ],
   "source": [
    "l[0:3]"
   ]
  },
  {
   "cell_type": "code",
   "execution_count": 58,
   "id": "e4f1f1b5",
   "metadata": {},
   "outputs": [
    {
     "data": {
      "text/plain": [
       "['jkl', '676', 67]"
      ]
     },
     "execution_count": 58,
     "metadata": {},
     "output_type": "execute_result"
    }
   ],
   "source": [
    "l[::-1]"
   ]
  },
  {
   "cell_type": "code",
   "execution_count": 59,
   "id": "e8260040",
   "metadata": {
    "scrolled": false
   },
   "outputs": [
    {
     "data": {
      "text/plain": [
       "['jkl']"
      ]
     },
     "execution_count": 59,
     "metadata": {},
     "output_type": "execute_result"
    }
   ],
   "source": [
    "l[-1:4]"
   ]
  },
  {
   "cell_type": "code",
   "execution_count": 60,
   "id": "8ae767ff",
   "metadata": {},
   "outputs": [
    {
     "data": {
      "text/plain": [
       "[67, '676', 'jkl']"
      ]
     },
     "execution_count": 60,
     "metadata": {},
     "output_type": "execute_result"
    }
   ],
   "source": [
    "l"
   ]
  },
  {
   "cell_type": "code",
   "execution_count": 62,
   "id": "326b2575",
   "metadata": {},
   "outputs": [
    {
     "data": {
      "text/plain": [
       "[]"
      ]
     },
     "execution_count": 62,
     "metadata": {},
     "output_type": "execute_result"
    }
   ],
   "source": [
    "l[-1:2:-1]"
   ]
  },
  {
   "cell_type": "code",
   "execution_count": 19,
   "id": "26ce2caa",
   "metadata": {},
   "outputs": [
    {
     "data": {
      "text/plain": [
       "int"
      ]
     },
     "execution_count": 19,
     "metadata": {},
     "output_type": "execute_result"
    }
   ],
   "source": [
    "type(l[0])"
   ]
  },
  {
   "cell_type": "code",
   "execution_count": 21,
   "id": "db627f37",
   "metadata": {},
   "outputs": [
    {
     "data": {
      "text/plain": [
       "[67, '676', 'jkl', (4+6j), (4+6j)]"
      ]
     },
     "execution_count": 21,
     "metadata": {},
     "output_type": "execute_result"
    }
   ],
   "source": [
    "l.append(4+6j)\n",
    "l"
   ]
  },
  {
   "cell_type": "code",
   "execution_count": 22,
   "id": "75668c34",
   "metadata": {
    "scrolled": true
   },
   "outputs": [
    {
     "data": {
      "text/plain": [
       "4.0"
      ]
     },
     "execution_count": 22,
     "metadata": {},
     "output_type": "execute_result"
    }
   ],
   "source": [
    "l[3].real"
   ]
  },
  {
   "cell_type": "code",
   "execution_count": 23,
   "id": "cd723d4d",
   "metadata": {},
   "outputs": [
    {
     "data": {
      "text/plain": [
       "6.0"
      ]
     },
     "execution_count": 23,
     "metadata": {},
     "output_type": "execute_result"
    }
   ],
   "source": [
    "l[4].imag"
   ]
  },
  {
   "cell_type": "code",
   "execution_count": 30,
   "id": "999f61df",
   "metadata": {},
   "outputs": [
    {
     "data": {
      "text/plain": [
       "[67,\n",
       " '676',\n",
       " 'jkl',\n",
       " (4+6j),\n",
       " (4+6j),\n",
       " [3, 4, 5, [6, 7]],\n",
       " [3, 4, 5, [6, 7]],\n",
       " [3, 4, 5, [6, 7]],\n",
       " [3, 4, 5, [6, 7]],\n",
       " [3, 4, 5, [6, 7]]]"
      ]
     },
     "execution_count": 30,
     "metadata": {},
     "output_type": "execute_result"
    }
   ],
   "source": [
    "l2 = [3,4,5, [6,7]]\n",
    "l.append(l2)\n",
    "l"
   ]
  },
  {
   "cell_type": "code",
   "execution_count": 31,
   "id": "d5353bf7",
   "metadata": {},
   "outputs": [],
   "source": [
    "l.extend(l2)"
   ]
  },
  {
   "cell_type": "code",
   "execution_count": 32,
   "id": "dc856ee6",
   "metadata": {
    "scrolled": true
   },
   "outputs": [
    {
     "data": {
      "text/plain": [
       "[67,\n",
       " '676',\n",
       " 'jkl',\n",
       " (4+6j),\n",
       " (4+6j),\n",
       " [3, 4, 5, [6, 7]],\n",
       " [3, 4, 5, [6, 7]],\n",
       " [3, 4, 5, [6, 7]],\n",
       " [3, 4, 5, [6, 7]],\n",
       " [3, 4, 5, [6, 7]],\n",
       " 3,\n",
       " 4,\n",
       " 5,\n",
       " [6, 7]]"
      ]
     },
     "execution_count": 32,
     "metadata": {},
     "output_type": "execute_result"
    }
   ],
   "source": [
    "l"
   ]
  },
  {
   "cell_type": "code",
   "execution_count": 34,
   "id": "841c9806",
   "metadata": {},
   "outputs": [
    {
     "data": {
      "text/plain": [
       "['kmr', 567, 'raot', 89.456, [5, 6]]"
      ]
     },
     "execution_count": 34,
     "metadata": {},
     "output_type": "execute_result"
    }
   ],
   "source": [
    "l1 = [\"kmr\", 567]\n",
    "l2 = [\"raot\", 89.456, [5,6]]\n",
    "l1+l2"
   ]
  },
  {
   "cell_type": "code",
   "execution_count": 35,
   "id": "63f477d4",
   "metadata": {
    "scrolled": true
   },
   "outputs": [
    {
     "ename": "TypeError",
     "evalue": "can only concatenate list (not \"str\") to list",
     "output_type": "error",
     "traceback": [
      "\u001b[1;31m---------------------------------------------------------------------------\u001b[0m",
      "\u001b[1;31mTypeError\u001b[0m                                 Traceback (most recent call last)",
      "\u001b[1;32m<ipython-input-35-8c16cc40355c>\u001b[0m in \u001b[0;36m<module>\u001b[1;34m\u001b[0m\n\u001b[1;32m----> 1\u001b[1;33m \u001b[0ml2\u001b[0m\u001b[1;33m+\u001b[0m\u001b[1;34m\"rkr\"\u001b[0m\u001b[1;33m\u001b[0m\u001b[1;33m\u001b[0m\u001b[0m\n\u001b[0m",
      "\u001b[1;31mTypeError\u001b[0m: can only concatenate list (not \"str\") to list"
     ]
    }
   ],
   "source": [
    "l2+\"rkr\""
   ]
  },
  {
   "cell_type": "code",
   "execution_count": 36,
   "id": "a2df2b53",
   "metadata": {},
   "outputs": [
    {
     "data": {
      "text/plain": [
       "['kmr', 567, 'kateel']"
      ]
     },
     "execution_count": 36,
     "metadata": {},
     "output_type": "execute_result"
    }
   ],
   "source": [
    "l1+[\"kateel\"]"
   ]
  },
  {
   "cell_type": "code",
   "execution_count": 37,
   "id": "dc68f237",
   "metadata": {
    "scrolled": true
   },
   "outputs": [
    {
     "data": {
      "text/plain": [
       "['kmr', 567, 'kmr', 567, 'kmr', 567]"
      ]
     },
     "execution_count": 37,
     "metadata": {},
     "output_type": "execute_result"
    }
   ],
   "source": [
    "l1*3"
   ]
  },
  {
   "cell_type": "code",
   "execution_count": 38,
   "id": "ddd3c9aa",
   "metadata": {},
   "outputs": [
    {
     "data": {
      "text/plain": [
       "['kmr', 567]"
      ]
     },
     "execution_count": 38,
     "metadata": {},
     "output_type": "execute_result"
    }
   ],
   "source": [
    "  l1"
   ]
  },
  {
   "cell_type": "code",
   "execution_count": 39,
   "id": "615643f0",
   "metadata": {},
   "outputs": [
    {
     "data": {
      "text/plain": [
       "['aaa', 567]"
      ]
     },
     "execution_count": 39,
     "metadata": {},
     "output_type": "execute_result"
    }
   ],
   "source": [
    "l1[0] = \"aaa\"\n",
    "l1"
   ]
  },
  {
   "cell_type": "code",
   "execution_count": 41,
   "id": "1c46d6b1",
   "metadata": {
    "scrolled": true
   },
   "outputs": [
    {
     "ename": "AttributeError",
     "evalue": "'list' object has no attribute 'replace'",
     "output_type": "error",
     "traceback": [
      "\u001b[1;31m---------------------------------------------------------------------------\u001b[0m",
      "\u001b[1;31mAttributeError\u001b[0m                            Traceback (most recent call last)",
      "\u001b[1;32m<ipython-input-41-34de82888345>\u001b[0m in \u001b[0;36m<module>\u001b[1;34m\u001b[0m\n\u001b[1;32m----> 1\u001b[1;33m \u001b[0ml1\u001b[0m\u001b[1;33m.\u001b[0m\u001b[0mreplace\u001b[0m\u001b[1;33m(\u001b[0m\u001b[1;34m\"aaa\"\u001b[0m\u001b[1;33m,\u001b[0m \u001b[1;34m\"lll\"\u001b[0m\u001b[1;33m)\u001b[0m\u001b[1;33m\u001b[0m\u001b[1;33m\u001b[0m\u001b[0m\n\u001b[0m\u001b[0;32m      2\u001b[0m \u001b[0ml1\u001b[0m\u001b[1;33m\u001b[0m\u001b[1;33m\u001b[0m\u001b[0m\n",
      "\u001b[1;31mAttributeError\u001b[0m: 'list' object has no attribute 'replace'"
     ]
    }
   ],
   "source": [
    "l1.replace(\"aaa\", \"lll\")\n",
    "l1"
   ]
  },
  {
   "cell_type": "code",
   "execution_count": 43,
   "id": "98033dd2",
   "metadata": {},
   "outputs": [
    {
     "data": {
      "text/plain": [
       "['aaa', 567]"
      ]
     },
     "execution_count": 43,
     "metadata": {},
     "output_type": "execute_result"
    }
   ],
   "source": [
    "l1\n"
   ]
  },
  {
   "cell_type": "code",
   "execution_count": 44,
   "id": "73d2ad7c",
   "metadata": {},
   "outputs": [
    {
     "ename": "TypeError",
     "evalue": "'str' object does not support item assignment",
     "output_type": "error",
     "traceback": [
      "\u001b[1;31m---------------------------------------------------------------------------\u001b[0m",
      "\u001b[1;31mTypeError\u001b[0m                                 Traceback (most recent call last)",
      "\u001b[1;32m<ipython-input-44-10bf84a07c50>\u001b[0m in \u001b[0;36m<module>\u001b[1;34m\u001b[0m\n\u001b[1;32m----> 1\u001b[1;33m \u001b[0ml1\u001b[0m\u001b[1;33m[\u001b[0m\u001b[1;36m0\u001b[0m\u001b[1;33m]\u001b[0m\u001b[1;33m[\u001b[0m\u001b[1;36m0\u001b[0m\u001b[1;33m]\u001b[0m \u001b[1;33m=\u001b[0m \u001b[1;34m\"W\"\u001b[0m\u001b[1;33m\u001b[0m\u001b[1;33m\u001b[0m\u001b[0m\n\u001b[0m\u001b[0;32m      2\u001b[0m \u001b[0ml1\u001b[0m\u001b[1;33m\u001b[0m\u001b[1;33m\u001b[0m\u001b[0m\n",
      "\u001b[1;31mTypeError\u001b[0m: 'str' object does not support item assignment"
     ]
    }
   ],
   "source": [
    "l1[0][0] = \"W\"\n",
    "l1"
   ]
  },
  {
   "cell_type": "code",
   "execution_count": 45,
   "id": "c730afb2",
   "metadata": {
    "scrolled": true
   },
   "outputs": [
    {
     "data": {
      "text/plain": [
       "'a'"
      ]
     },
     "execution_count": 45,
     "metadata": {},
     "output_type": "execute_result"
    }
   ],
   "source": [
    "l1[0][0]"
   ]
  },
  {
   "cell_type": "markdown",
   "id": "2fac8324",
   "metadata": {},
   "source": [
    "### list items can be changes in any index, so it is mutable\n",
    "### string character is not changable, so not mutale"
   ]
  },
  {
   "cell_type": "code",
   "execution_count": 47,
   "id": "4f191e8f",
   "metadata": {
    "scrolled": true
   },
   "outputs": [
    {
     "data": {
      "text/plain": [
       "'k'"
      ]
     },
     "execution_count": 47,
     "metadata": {},
     "output_type": "execute_result"
    }
   ],
   "source": [
    "name =\"kmr\"\n",
    "name[0]"
   ]
  },
  {
   "cell_type": "code",
   "execution_count": 48,
   "id": "22eb294f",
   "metadata": {
    "scrolled": true
   },
   "outputs": [
    {
     "ename": "TypeError",
     "evalue": "'str' object does not support item assignment",
     "output_type": "error",
     "traceback": [
      "\u001b[1;31m---------------------------------------------------------------------------\u001b[0m",
      "\u001b[1;31mTypeError\u001b[0m                                 Traceback (most recent call last)",
      "\u001b[1;32m<ipython-input-48-8763282fbad1>\u001b[0m in \u001b[0;36m<module>\u001b[1;34m\u001b[0m\n\u001b[1;32m----> 1\u001b[1;33m \u001b[0mname\u001b[0m\u001b[1;33m[\u001b[0m\u001b[1;36m0\u001b[0m\u001b[1;33m]\u001b[0m \u001b[1;33m=\u001b[0m \u001b[1;34m'L'\u001b[0m\u001b[1;33m\u001b[0m\u001b[1;33m\u001b[0m\u001b[0m\n\u001b[0m",
      "\u001b[1;31mTypeError\u001b[0m: 'str' object does not support item assignment"
     ]
    }
   ],
   "source": [
    "name[0] = 'L'"
   ]
  },
  {
   "cell_type": "code",
   "execution_count": 50,
   "id": "bd23b813",
   "metadata": {
    "scrolled": true
   },
   "outputs": [
    {
     "data": {
      "text/plain": [
       "'Zmr'"
      ]
     },
     "execution_count": 50,
     "metadata": {},
     "output_type": "execute_result"
    }
   ],
   "source": [
    "name.replace(\"k\", \"Z\")"
   ]
  },
  {
   "cell_type": "markdown",
   "id": "0ed2c5cc",
   "metadata": {},
   "source": [
    "### although replace() can change string characters it doesnot means strng is mutable. \n",
    "### because replace creates another reference in memory."
   ]
  },
  {
   "cell_type": "code",
   "execution_count": 52,
   "id": "7cd499a8",
   "metadata": {
    "scrolled": true
   },
   "outputs": [
    {
     "data": {
      "text/plain": [
       "['aaa', 567]"
      ]
     },
     "execution_count": 52,
     "metadata": {},
     "output_type": "execute_result"
    }
   ],
   "source": [
    "l1\n"
   ]
  },
  {
   "cell_type": "code",
   "execution_count": 53,
   "id": "79046f45",
   "metadata": {},
   "outputs": [
    {
     "data": {
      "text/plain": [
       "True"
      ]
     },
     "execution_count": 53,
     "metadata": {},
     "output_type": "execute_result"
    }
   ],
   "source": [
    "567 in l1"
   ]
  },
  {
   "cell_type": "code",
   "execution_count": 64,
   "id": "85d116db",
   "metadata": {},
   "outputs": [
    {
     "data": {
      "text/plain": [
       "[4, 5.6, 'kmt']"
      ]
     },
     "execution_count": 64,
     "metadata": {},
     "output_type": "execute_result"
    }
   ],
   "source": [
    "li = [4,5.6, \"kmt\"]\n",
    "li"
   ]
  },
  {
   "cell_type": "markdown",
   "id": "e7d4ecff",
   "metadata": {},
   "source": [
    "### append() and insert()"
   ]
  },
  {
   "cell_type": "code",
   "execution_count": 66,
   "id": "774a8060",
   "metadata": {},
   "outputs": [
    {
     "data": {
      "text/plain": [
       "[4, 5.6, 'kmt', 'lll', 'lll']"
      ]
     },
     "execution_count": 66,
     "metadata": {},
     "output_type": "execute_result"
    }
   ],
   "source": [
    "li.append(\"lll\")\n",
    "li"
   ]
  },
  {
   "cell_type": "code",
   "execution_count": 71,
   "id": "325f1cbe",
   "metadata": {
    "scrolled": true
   },
   "outputs": [
    {
     "data": {
      "text/plain": [
       "[4]"
      ]
     },
     "execution_count": 71,
     "metadata": {},
     "output_type": "execute_result"
    }
   ],
   "source": [
    "li.pop() # by default th last element is poped out\n",
    "li"
   ]
  },
  {
   "cell_type": "code",
   "execution_count": 72,
   "id": "3cd776ad",
   "metadata": {},
   "outputs": [
    {
     "data": {
      "text/plain": [
       "[78, 0.7, 'ff']"
      ]
     },
     "execution_count": 72,
     "metadata": {},
     "output_type": "execute_result"
    }
   ],
   "source": [
    "lis =[78,.7, \"ff\"]\n",
    "lis"
   ]
  },
  {
   "cell_type": "code",
   "execution_count": 74,
   "id": "0c302ac2",
   "metadata": {},
   "outputs": [
    {
     "data": {
      "text/plain": [
       "0.7"
      ]
     },
     "execution_count": 74,
     "metadata": {},
     "output_type": "execute_result"
    }
   ],
   "source": [
    "lis.pop(1)"
   ]
  },
  {
   "cell_type": "code",
   "execution_count": 75,
   "id": "1f579654",
   "metadata": {
    "scrolled": true
   },
   "outputs": [
    {
     "data": {
      "text/plain": [
       "[78, 'ff']"
      ]
     },
     "execution_count": 75,
     "metadata": {},
     "output_type": "execute_result"
    }
   ],
   "source": [
    "lis\n"
   ]
  },
  {
   "cell_type": "code",
   "execution_count": 77,
   "id": "baa164da",
   "metadata": {},
   "outputs": [
    {
     "data": {
      "text/plain": [
       "[78, 'ff', 9090, 9090]"
      ]
     },
     "execution_count": 77,
     "metadata": {},
     "output_type": "execute_result"
    }
   ],
   "source": [
    "lis.append(9090)\n",
    "lis"
   ]
  },
  {
   "cell_type": "code",
   "execution_count": 78,
   "id": "399c9b30",
   "metadata": {},
   "outputs": [
    {
     "data": {
      "text/plain": [
       "[78, 'kmr', 'ff', 9090, 9090]"
      ]
     },
     "execution_count": 78,
     "metadata": {},
     "output_type": "execute_result"
    }
   ],
   "source": [
    "lis.insert(1,\"kmr\")\n",
    "lis"
   ]
  },
  {
   "cell_type": "code",
   "execution_count": 79,
   "id": "cd87387a",
   "metadata": {
    "scrolled": true
   },
   "outputs": [
    {
     "data": {
      "text/plain": [
       "[[4, 56, 7], 78, 'kmr', 'ff', 9090, 9090]"
      ]
     },
     "execution_count": 79,
     "metadata": {},
     "output_type": "execute_result"
    }
   ],
   "source": [
    "lis.insert(0,[4,56,7])\n",
    "lis"
   ]
  },
  {
   "cell_type": "markdown",
   "id": "dc8c36ad",
   "metadata": {},
   "source": [
    "### pop()"
   ]
  },
  {
   "cell_type": "code",
   "execution_count": 80,
   "id": "bc6c26b1",
   "metadata": {
    "scrolled": true
   },
   "outputs": [
    {
     "data": {
      "text/plain": [
       "9090"
      ]
     },
     "execution_count": 80,
     "metadata": {},
     "output_type": "execute_result"
    }
   ],
   "source": [
    "lis.pop()"
   ]
  },
  {
   "cell_type": "code",
   "execution_count": 81,
   "id": "2aca29bd",
   "metadata": {
    "scrolled": true
   },
   "outputs": [
    {
     "data": {
      "text/plain": [
       "78"
      ]
     },
     "execution_count": 81,
     "metadata": {},
     "output_type": "execute_result"
    }
   ],
   "source": [
    "lis.pop(1)"
   ]
  },
  {
   "cell_type": "code",
   "execution_count": 82,
   "id": "093ef235",
   "metadata": {
    "scrolled": true
   },
   "outputs": [
    {
     "data": {
      "text/plain": [
       "[[4, 56, 7], 'kmr', 'ff', 9090]"
      ]
     },
     "execution_count": 82,
     "metadata": {},
     "output_type": "execute_result"
    }
   ],
   "source": [
    "lis"
   ]
  },
  {
   "cell_type": "markdown",
   "id": "543c5f6f",
   "metadata": {},
   "source": [
    "   ### reverse()"
   ]
  },
  {
   "cell_type": "code",
   "execution_count": 86,
   "id": "f7f19514",
   "metadata": {
    "scrolled": true
   },
   "outputs": [
    {
     "data": {
      "text/plain": [
       "[9090, 'ff', 'kmr', [4, 56, 7]]"
      ]
     },
     "execution_count": 86,
     "metadata": {},
     "output_type": "execute_result"
    }
   ],
   "source": [
    "lis.reverse()\n",
    "lis"
   ]
  },
  {
   "cell_type": "code",
   "execution_count": 87,
   "id": "c072f77b",
   "metadata": {
    "scrolled": true
   },
   "outputs": [
    {
     "data": {
      "text/plain": [
       "[4, 56, 7]"
      ]
     },
     "execution_count": 87,
     "metadata": {},
     "output_type": "execute_result"
    }
   ],
   "source": [
    "lis[3]"
   ]
  },
  {
   "cell_type": "code",
   "execution_count": 88,
   "id": "2fe48123",
   "metadata": {},
   "outputs": [
    {
     "data": {
      "text/plain": [
       "7"
      ]
     },
     "execution_count": 88,
     "metadata": {},
     "output_type": "execute_result"
    }
   ],
   "source": [
    "lis[3][2]"
   ]
  },
  {
   "cell_type": "code",
   "execution_count": 89,
   "id": "da7c7c7b",
   "metadata": {},
   "outputs": [
    {
     "data": {
      "text/plain": [
       "[9090, 'ff', 'kmr', [4, 56, 7]]"
      ]
     },
     "execution_count": 89,
     "metadata": {},
     "output_type": "execute_result"
    }
   ],
   "source": [
    "lis"
   ]
  },
  {
   "cell_type": "markdown",
   "id": "004162cc",
   "metadata": {},
   "source": [
    "### count()"
   ]
  },
  {
   "cell_type": "code",
   "execution_count": 91,
   "id": "86386c74",
   "metadata": {
    "scrolled": true
   },
   "outputs": [
    {
     "data": {
      "text/plain": [
       "1"
      ]
     },
     "execution_count": 91,
     "metadata": {},
     "output_type": "execute_result"
    }
   ],
   "source": [
    "lis.count(\"kmr\")"
   ]
  },
  {
   "cell_type": "markdown",
   "id": "c6ebe950",
   "metadata": {},
   "source": [
    "### append vs extend"
   ]
  },
  {
   "cell_type": "code",
   "execution_count": 92,
   "id": "d05b7e7a",
   "metadata": {},
   "outputs": [],
   "source": [
    "lis.append([100,200])"
   ]
  },
  {
   "cell_type": "code",
   "execution_count": 93,
   "id": "fac32dfa",
   "metadata": {},
   "outputs": [
    {
     "data": {
      "text/plain": [
       "[9090, 'ff', 'kmr', [4, 56, 7], [100, 200]]"
      ]
     },
     "execution_count": 93,
     "metadata": {},
     "output_type": "execute_result"
    }
   ],
   "source": [
    "lis"
   ]
  },
  {
   "cell_type": "code",
   "execution_count": 94,
   "id": "4cc3ca6a",
   "metadata": {},
   "outputs": [],
   "source": [
    "lis.extend([555,666])"
   ]
  },
  {
   "cell_type": "code",
   "execution_count": 95,
   "id": "412110a3",
   "metadata": {},
   "outputs": [
    {
     "data": {
      "text/plain": [
       "[9090, 'ff', 'kmr', [4, 56, 7], [100, 200], 555, 666]"
      ]
     },
     "execution_count": 95,
     "metadata": {},
     "output_type": "execute_result"
    }
   ],
   "source": [
    "lis"
   ]
  },
  {
   "cell_type": "code",
   "execution_count": 96,
   "id": "ec244b99",
   "metadata": {
    "scrolled": true
   },
   "outputs": [
    {
     "ename": "TypeError",
     "evalue": "'int' object is not iterable",
     "output_type": "error",
     "traceback": [
      "\u001b[1;31m---------------------------------------------------------------------------\u001b[0m",
      "\u001b[1;31mTypeError\u001b[0m                                 Traceback (most recent call last)",
      "\u001b[1;32m<ipython-input-96-a597824844ca>\u001b[0m in \u001b[0;36m<module>\u001b[1;34m\u001b[0m\n\u001b[1;32m----> 1\u001b[1;33m \u001b[0mlis\u001b[0m\u001b[1;33m.\u001b[0m\u001b[0mextend\u001b[0m\u001b[1;33m(\u001b[0m\u001b[1;36m5\u001b[0m\u001b[1;33m)\u001b[0m\u001b[1;33m\u001b[0m\u001b[1;33m\u001b[0m\u001b[0m\n\u001b[0m\u001b[0;32m      2\u001b[0m \u001b[0mlis\u001b[0m\u001b[1;33m\u001b[0m\u001b[1;33m\u001b[0m\u001b[0m\n",
      "\u001b[1;31mTypeError\u001b[0m: 'int' object is not iterable"
     ]
    }
   ],
   "source": [
    "lis.extend(5)\n",
    "lis"
   ]
  },
  {
   "cell_type": "code",
   "execution_count": 97,
   "id": "ac9f109c",
   "metadata": {
    "scrolled": true
   },
   "outputs": [
    {
     "ename": "TypeError",
     "evalue": "extend() takes exactly one argument (2 given)",
     "output_type": "error",
     "traceback": [
      "\u001b[1;31m---------------------------------------------------------------------------\u001b[0m",
      "\u001b[1;31mTypeError\u001b[0m                                 Traceback (most recent call last)",
      "\u001b[1;32m<ipython-input-97-f822bb8780f9>\u001b[0m in \u001b[0;36m<module>\u001b[1;34m\u001b[0m\n\u001b[1;32m----> 1\u001b[1;33m \u001b[0mlis\u001b[0m\u001b[1;33m.\u001b[0m\u001b[0mextend\u001b[0m\u001b[1;33m(\u001b[0m\u001b[1;33m[\u001b[0m\u001b[1;36m5\u001b[0m\u001b[1;33m,\u001b[0m\u001b[1;36m6\u001b[0m\u001b[1;33m,\u001b[0m\u001b[1;36m7\u001b[0m\u001b[1;33m]\u001b[0m\u001b[1;33m,\u001b[0m \u001b[1;33m[\u001b[0m\u001b[1;36m67\u001b[0m\u001b[1;33m,\u001b[0m\u001b[1;36m89\u001b[0m\u001b[1;33m]\u001b[0m\u001b[1;33m)\u001b[0m\u001b[1;33m\u001b[0m\u001b[1;33m\u001b[0m\u001b[0m\n\u001b[0m",
      "\u001b[1;31mTypeError\u001b[0m: extend() takes exactly one argument (2 given)"
     ]
    }
   ],
   "source": [
    "lis.extend([5,6,7], [67,89])"
   ]
  },
  {
   "cell_type": "code",
   "execution_count": 98,
   "id": "d146f918",
   "metadata": {},
   "outputs": [
    {
     "data": {
      "text/plain": [
       "['dasd', 'fsdfg', 'dgdgfdfgdgdfg']"
      ]
     },
     "execution_count": 98,
     "metadata": {},
     "output_type": "execute_result"
    }
   ],
   "source": [
    "\"dasd fsdfg  dgdgfdfgdgdfg\".split()"
   ]
  },
  {
   "cell_type": "code",
   "execution_count": 99,
   "id": "472e9d52",
   "metadata": {},
   "outputs": [
    {
     "data": {
      "text/plain": [
       "['dasd fsdfg  dgdgfdfgdgdfg']"
      ]
     },
     "execution_count": 99,
     "metadata": {},
     "output_type": "execute_result"
    }
   ],
   "source": [
    "\"dasd fsdfg  dgdgfdfgdgdfg\".split('#')"
   ]
  },
  {
   "cell_type": "code",
   "execution_count": 101,
   "id": "3051b662",
   "metadata": {},
   "outputs": [
    {
     "ename": "SyntaxError",
     "evalue": "EOL while scanning string literal (<ipython-input-101-0499e98a5f53>, line 1)",
     "output_type": "error",
     "traceback": [
      "\u001b[1;36m  File \u001b[1;32m\"<ipython-input-101-0499e98a5f53>\"\u001b[1;36m, line \u001b[1;32m1\u001b[0m\n\u001b[1;33m    \"dasd fsdfg  dgdgfdfgdgdfg\".split('\\')\u001b[0m\n\u001b[1;37m                                          ^\u001b[0m\n\u001b[1;31mSyntaxError\u001b[0m\u001b[1;31m:\u001b[0m EOL while scanning string literal\n"
     ]
    }
   ],
   "source": [
    "\"dasd fsdfg  dgdgfdfgdgdfg\".split('\\')"
   ]
  },
  {
   "cell_type": "code",
   "execution_count": null,
   "id": "35bd1a42",
   "metadata": {},
   "outputs": [],
   "source": []
  }
 ],
 "metadata": {
  "kernelspec": {
   "display_name": "Python 3",
   "language": "python",
   "name": "python3"
  },
  "language_info": {
   "codemirror_mode": {
    "name": "ipython",
    "version": 3
   },
   "file_extension": ".py",
   "mimetype": "text/x-python",
   "name": "python",
   "nbconvert_exporter": "python",
   "pygments_lexer": "ipython3",
   "version": "3.8.10"
  }
 },
 "nbformat": 4,
 "nbformat_minor": 5
}
