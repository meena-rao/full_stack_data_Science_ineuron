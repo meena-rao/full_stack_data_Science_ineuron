{
 "cells": [
  {
   "cell_type": "markdown",
   "id": "cf5fa589",
   "metadata": {},
   "source": [
    "## Assignment on Functions"
   ]
  },
  {
   "cell_type": "markdown",
   "id": "8b1ad91d",
   "metadata": {},
   "source": [
    "### 1. Function to find string length"
   ]
  },
  {
   "cell_type": "code",
   "execution_count": 4,
   "id": "a0e68e34",
   "metadata": {},
   "outputs": [
    {
     "name": "stdout",
     "output_type": "stream",
     "text": [
      "abhirama bailakare\n",
      "Length of given string: abhirama bailakare is 18\n"
     ]
    }
   ],
   "source": [
    "def str_len(s1):\n",
    "    '''Funtion  takes string as input and returns length of it'''\n",
    "    c = 0\n",
    "    for i in s1:\n",
    "        c+=1\n",
    "    return c  \n",
    "s = input()\n",
    "le = str_len(s)\n",
    "print(\"Length of given string:\", s, 'is', le)"
   ]
  },
  {
   "cell_type": "markdown",
   "id": "002fc957",
   "metadata": {},
   "source": [
    "### 2. write a fun which will be able to print an index of all primitive element which you will pass "
   ]
  },
  {
   "cell_type": "code",
   "execution_count": null,
   "id": "a21c3b13",
   "metadata": {},
   "outputs": [],
   "source": []
  },
  {
   "cell_type": "markdown",
   "id": "c640ecc4",
   "metadata": {},
   "source": [
    "### 3. Write a fun which will take input as a dict and give me out as a list of all the values even in case of 2 level nesting it should work . \n"
   ]
  },
  {
   "cell_type": "code",
   "execution_count": 51,
   "id": "da450fe3",
   "metadata": {},
   "outputs": [
    {
     "data": {
      "text/plain": [
       "['kmr', 1, 10, 20, 30, 5, 6, 7, 'rao', 12]"
      ]
     },
     "execution_count": 51,
     "metadata": {},
     "output_type": "execute_result"
    }
   ],
   "source": [
    "def dict_values(d):\n",
    "    \"\"\"Write a fun which will take input as a dict and give me out as a list of all the values even in case of 2 level nesting it should work . \"\"\"\n",
    "    li = []    \n",
    "    for i in d.values():\n",
    "        if type(i) == int or type(i) == str:\n",
    "             li.append(i)\n",
    "        elif type(i) != dict:\n",
    "            li.extend(i)\n",
    "        else:\n",
    "            for j in i.values():\n",
    "                if type(j) == int or type(j) == str:\n",
    "                    li.append(j)\n",
    "                else:\n",
    "                    li.extend(j)\n",
    "                \n",
    "    return li  \n",
    "\n",
    "di ={'a': \"kmr\", \n",
    "        'b': 1,\n",
    "        2: [10,20,30],\n",
    "        3: (5,6,7),\n",
    "        4: {'name': 'rao', 'roll': 12}\n",
    "        }\n",
    "\n",
    "dict_values(di)"
   ]
  },
  {
   "cell_type": "markdown",
   "id": "de2a4165",
   "metadata": {},
   "source": [
    "### 4. write a fun which will take another function as an input and return me an output "
   ]
  },
  {
   "cell_type": "code",
   "execution_count": 60,
   "id": "831d6567",
   "metadata": {},
   "outputs": [
    {
     "data": {
      "text/plain": [
       "'HELLO HOW ARE YOU'"
      ]
     },
     "execution_count": 60,
     "metadata": {},
     "output_type": "execute_result"
    }
   ],
   "source": [
    "def upp(st):\n",
    "    \"\"\"takes string input and return Uppercase string \"\"\"\n",
    "    return st.upper()\n",
    "\n",
    "def main_f(f2):\n",
    "    \"\"\"takes function as argumet and return value\"\"\"\n",
    "    out = f2(\"hello How Are you\")\n",
    "    return out\n",
    "main_f(upp)"
   ]
  },
  {
   "cell_type": "markdown",
   "id": "f7207670",
   "metadata": {},
   "source": [
    "### 5. write a function which will take multiple list as a input and give me concatenation of all the element as an output "
   ]
  },
  {
   "cell_type": "code",
   "execution_count": 22,
   "id": "b0526adb",
   "metadata": {},
   "outputs": [
    {
     "name": "stdout",
     "output_type": "stream",
     "text": [
      "enter int list elements23 45 1\n",
      "sr df ty \n"
     ]
    },
    {
     "data": {
      "text/plain": [
       "[23, 45, 1, 'sr', 'df', 'ty']"
      ]
     },
     "execution_count": 22,
     "metadata": {},
     "output_type": "execute_result"
    }
   ],
   "source": [
    "def fun5(li1, li2):\n",
    "    '''read two lists and give contenated  list'''\n",
    "    return li1 +li2\n",
    "\n",
    "for time in range(list_num):\n",
    "    \n",
    "l1 = [int(i) for i in input('enter int list elements').split()]\n",
    "l2 = [i for i in input().split()]\n",
    "fun5(l1,l2)"
   ]
  },
  {
   "cell_type": "code",
   "execution_count": 3,
   "id": "35190a6f",
   "metadata": {},
   "outputs": [
    {
     "data": {
      "text/plain": [
       "[]"
      ]
     },
     "execution_count": 3,
     "metadata": {},
     "output_type": "execute_result"
    }
   ],
   "source": [
    "def fun(*args):\n",
    "    li = []\n",
    "    for i in args:\n",
    "        if type(i ) == list:\n",
    "            li+i\n",
    "    return li\n",
    "fun([2,3], [56,100])      "
   ]
  },
  {
   "cell_type": "markdown",
   "id": "3255843a",
   "metadata": {},
   "source": [
    "### 6. write a function which will be able to take a list as an input return an index of each element. Note: list.index(element) will not give unique index for repetitive elements"
   ]
  },
  {
   "cell_type": "code",
   "execution_count": 60,
   "id": "76e72dfe",
   "metadata": {},
   "outputs": [
    {
     "name": "stdout",
     "output_type": "stream",
     "text": [
      "[ 0 ]: 10\n",
      "[ 1 ]: 22\n",
      "[ 2 ]: 4\n",
      "[ 3 ]: 11\n",
      "[ 4 ]: 10\n",
      "[ 5 ]: kmr\n",
      "[ 6 ]: kmr\n",
      "[ 7 ]: abc\n"
     ]
    }
   ],
   "source": [
    "li =[10,22,4,11,10, 'kmr', 'kmr', 'abc']\n",
    "def fun6(lis):\n",
    "    \"\"\"take a list as an input return an index of each element\"\"\"\n",
    "    return dict(enumerate(lis))\n",
    "\n",
    "d = fun6(li)\n",
    "\n",
    "for key, val in d.items():\n",
    "    print('[', key, ']:', val, end = '\\n')"
   ]
  },
  {
   "cell_type": "code",
   "execution_count": null,
   "id": "a501b283",
   "metadata": {},
   "outputs": [],
   "source": [
    "#another\n",
    "for i in range(len(list)):\n",
    "    l.append(f 'index of\" {li[i]} is  {i}' )"
   ]
  },
  {
   "cell_type": "markdown",
   "id": "ac37c6ae",
   "metadata": {},
   "source": [
    "### 7. Write a function which will return list of all the file name from a directory\n"
   ]
  },
  {
   "cell_type": "code",
   "execution_count": 132,
   "id": "305a7689",
   "metadata": {},
   "outputs": [
    {
     "name": "stdout",
     "output_type": "stream",
     "text": [
      "enter directory pathC:/Users/KMRao/Desktop/satvik yoga/\n"
     ]
    },
    {
     "data": {
      "text/plain": [
       "['1 practice sheet.pdf',\n",
       " '3.PNG',\n",
       " '4.PNG',\n",
       " 'Juice_Soup Fast Plan.pdf',\n",
       " 'manual 2nd Aug 21 days.pdf',\n",
       " 'peanut beet salad.PNG',\n",
       " 'peanut salad.PNG',\n",
       " 'yoga international day 2021.pdf',\n",
       " 'day16 dance.mp4',\n",
       " 'day8.docx',\n",
       " 'fb day1.mp4',\n",
       " 'fb day2.mp4',\n",
       " 'fb day4.jpg',\n",
       " 'FB1.docx',\n",
       " 'i love myself.pptx',\n",
       " 'i love myself.wmv',\n",
       " 'sato  steel straw.PNG',\n",
       " 'satvic kheer.PNG',\n",
       " 'Background music yoga.pdf',\n",
       " 'music links limbs of yoga.docx']"
      ]
     },
     "execution_count": 132,
     "metadata": {},
     "output_type": "execute_result"
    }
   ],
   "source": [
    "p = input(\"enter directory path\")\n",
    "file_l =[]\n",
    "\n",
    "def dir_files_only(d):\n",
    "    \"\"\"display files in given directory\"\"\"\n",
    "#print(list(filter(os.path.isfile, os.listdir('C:/Users/KMRao/Desktop/satvik yoga/'))))\n",
    "    for (root, dir,files) in os.walk(d):\n",
    "        for f in files:\n",
    "            file_l.append(f)\n",
    "    return file_l\n",
    "\n",
    "dir_files_only(p)"
   ]
  },
  {
   "cell_type": "code",
   "execution_count": null,
   "id": "faa52910",
   "metadata": {},
   "outputs": [],
   "source": [
    "#another for above os.listdir()"
   ]
  },
  {
   "cell_type": "code",
   "execution_count": 133,
   "id": "392be962",
   "metadata": {},
   "outputs": [
    {
     "name": "stdout",
     "output_type": "stream",
     "text": [
      "enter directory pathC:/Users/KMRao/Desktop/satvik yoga/\n",
      "Full content of directory\n",
      "['1 practice sheet.pdf', '3.PNG', '4.PNG', 'fb', 'Juice_Soup Fast Plan.pdf', 'manual 2nd Aug 21 days.pdf', 'music', 'peanut beet salad.PNG', 'peanut salad.PNG', 'yoga international day 2021.pdf']\n"
     ]
    }
   ],
   "source": [
    "import os\n",
    "directory = input(\"enter directory path\")\n",
    "\n",
    "def dir_full_display(d):\n",
    "    \"\"\"Display all in directory\"\"\"\n",
    "    print(\"Full content of directory\", end ='\\n')\n",
    "    print(os.listdir(d))\n",
    "    \n",
    "dir_full_display(directory)"
   ]
  },
  {
   "cell_type": "markdown",
   "id": "100afd4b",
   "metadata": {},
   "source": [
    "### 8. write a function which will be able to show your system configuration . "
   ]
  },
  {
   "cell_type": "code",
   "execution_count": 21,
   "id": "aebbaa17",
   "metadata": {},
   "outputs": [
    {
     "name": "stdout",
     "output_type": "stream",
     "text": [
      "manufacturer: LENOVO\n",
      "Model: 20150\n",
      "system Name: BNG5670-LAPTOP\n",
      "Number of processors:1\n",
      "system Family: IDEAPAD\n",
      "systemtype: x64-based PC\n"
     ]
    }
   ],
   "source": [
    "#pip install wmi           done first\n",
    "\n",
    "def system_config():\n",
    "    \"\"\"Function gives System Configuration\"\"\"\n",
    "    import wmi\n",
    "    c = wmi.WMI()\n",
    "    my_system = c.Win32_ComputerSystem()[0]\n",
    "    print(f\"manufacturer: {my_system.manufacturer}\")\n",
    "    print(f\"Model: {my_system.Model}\")\n",
    "    print(f\"system Name: {my_system.Name}\")\n",
    "    print(f\"Number of processors:{my_system.NumberOfProcessors}\")\n",
    "    print(\"system Family:\", my_system.SystemFamily, end = '\\n')\n",
    "    print(\"systemtype:\", my_system.SystemType)\n",
    "#system_config()"
   ]
  },
  {
   "cell_type": "code",
   "execution_count": 5,
   "id": "5477d685",
   "metadata": {},
   "outputs": [
    {
     "data": {
      "text/plain": [
       "uname_result(system='Windows', node='BNG5670-Laptop', release='10', version='10.0.19042', machine='AMD64', processor='Intel64 Family 6 Model 58 Stepping 9, GenuineIntel')"
      ]
     },
     "execution_count": 5,
     "metadata": {},
     "output_type": "execute_result"
    }
   ],
   "source": [
    "#another way for above\n",
    "import platform as pl\n",
    "pl.uname()"
   ]
  },
  {
   "cell_type": "markdown",
   "id": "d82a0216",
   "metadata": {},
   "source": [
    "### 9. write a function which will be able to show date and time  . "
   ]
  },
  {
   "cell_type": "code",
   "execution_count": 37,
   "id": "b0f0624c",
   "metadata": {},
   "outputs": [
    {
     "name": "stdout",
     "output_type": "stream",
     "text": [
      "Current date and time: \n",
      "2021- 12- 27 21: 44: 43\n"
     ]
    }
   ],
   "source": [
    "def date_ti():\n",
    "    import datetime\n",
    "    now = datetime.datetime.now()\n",
    "    print(\"Current date and time: \")\n",
    "    print (now.strftime(\"%Y- %m- %d %H: %M: %S\"))\n",
    "\n",
    "date_ti()"
   ]
  },
  {
   "cell_type": "markdown",
   "id": "6bb3fa60",
   "metadata": {},
   "source": [
    "###  10. write a function which will be able to read a image file and show it to you ."
   ]
  },
  {
   "cell_type": "code",
   "execution_count": 4,
   "id": "2505affd",
   "metadata": {},
   "outputs": [
    {
     "name": "stdout",
     "output_type": "stream",
     "text": [
      "Enter image file locationC:/Users/KMRao/Desktop/Capture.png\n"
     ]
    },
    {
     "data": {
      "image/png": "[encoded data removed]",
      "text/plain": [
       "<Figure size 432x288 with 1 Axes>"
      ]
     },
     "metadata": {
      "needs_background": "light"
     },
     "output_type": "display_data"
    }
   ],
   "source": [
    "im_file = input(\"Enter image file location\")\n",
    "\n",
    "def display_image(p):\n",
    "    \"\"\"Takes image file location as input and display it\"\"\"\n",
    "    import cv2\n",
    "    #import PIL is another approach\n",
    "    from matplotlib import pyplot as plt\n",
    "    %matplotlib inline\n",
    "\n",
    "    im = cv2.imread(p)\n",
    "    plt.imshow(im)\n",
    "    \n",
    "display_image(im_file)"
   ]
  },
  {
   "cell_type": "markdown",
   "id": "6172f623",
   "metadata": {},
   "source": [
    "### 11 . write a function which can read video file and play for you . "
   ]
  },
  {
   "cell_type": "code",
   "execution_count": 10,
   "id": "2eef8e8d",
   "metadata": {},
   "outputs": [],
   "source": [
    "# importing libraries\n",
    "import cv2\n",
    "import numpy as np\n",
    "\n",
    "def play_video():\n",
    "    \"\"\"Play video file\"\"\"\n",
    "    # Create a VideoCapture object and read from input file\n",
    "    cap = cv2.VideoCapture('C:/Users/KMRao/Downloads/test.mp4')\n",
    "\n",
    "    # Check if camera opened successfully\n",
    "    if (cap.isOpened() == False):\n",
    "        print(\"Error opening video file\")\n",
    "\n",
    "    # Read until video is completed\n",
    "    while(cap.isOpened()):\n",
    "\n",
    "        # Capture frame-by-frame\n",
    "        ret, frame = cap.read()\n",
    "    \n",
    "        if ret == True:\n",
    "            # Display the resulting frame\n",
    "            cv2.imshow('Frame', frame)\n",
    "\n",
    "            # Press Q on keyboard to exit\n",
    "            if cv2.waitKey(25) & 0xFF == ord('q'):\n",
    "                break\n",
    "        else:\n",
    "            break\n",
    "\n",
    "# When everything done, release\n",
    "# the video capture object\n",
    "    cap.release()\n",
    "\n",
    "# Closes all the frames\n",
    "    cv2.destroyAllWindows()\n",
    "play_video()"
   ]
  },
  {
   "cell_type": "markdown",
   "id": "6b498377",
   "metadata": {},
   "source": [
    "### 12  . write a function which can move a file from one directory to another directory . "
   ]
  },
  {
   "cell_type": "code",
   "execution_count": 37,
   "id": "bb51f881",
   "metadata": {
    "scrolled": true
   },
   "outputs": [
    {
     "name": "stdout",
     "output_type": "stream",
     "text": [
      "Enter the file nameD:/Google Drive/ineuron/sample.txt\n",
      "Enter the destination directory where you want to move the fileD:/Google Drive/iron\n",
      "before copying directory content\n",
      "['1 IRON lady.docx', '16th reshma recap', '2 Schedules.docx', 'cummunity support.PNG', 'd3 0.5 league.docx', 'ortn 24 nov', 'photostoironlady.zip', 'report', 'resume', 'yukthi lakshmi N']\n",
      "Copied successfully\n",
      "after copying directory content\n",
      "['1 IRON lady.docx', '16th reshma recap', '2 Schedules.docx', 'cummunity support.PNG', 'd3 0.5 league.docx', 'ortn 24 nov', 'photostoironlady.zip', 'report', 'resume', 'sample.txt', 'yukthi lakshmi N']\n"
     ]
    }
   ],
   "source": [
    "import os\n",
    "from os import path\n",
    "import shutil\n",
    "\n",
    "def copy_file(src,dst):\n",
    "   # D:/Google Drive/ineuron/sample.txt to D:/Google Drive/iron\n",
    "    \"\"\"Move file from source to destination folder\"\"\"\n",
    "    shutil.move(src, dst)\n",
    "        \n",
    "def main():\n",
    "    source = input(\"Enter the file name\")\n",
    "    try:\n",
    "        f = open(source)\n",
    "        f.close()\n",
    "    except FileNotFoundError:\n",
    "        print('File does not exist')\n",
    "        \n",
    "    destn = input(\"Enter the destination directory where you want to move the file\")\n",
    "    if os.path.isdir(destn):\n",
    "        print(\"before copying directory content\")\n",
    "        print(os.listdir(destn))\n",
    "        \n",
    "        copy_file(source, destn)\n",
    "        \n",
    "        print(\"Copied successfully\")\n",
    "        print(\"after copying directory content\")\n",
    "        print(os.listdir(destn))\n",
    "        \n",
    "    else:\n",
    "        print(\"destination directory not found\")\n",
    "        \n",
    "main()"
   ]
  },
  {
   "cell_type": "code",
   "execution_count": null,
   "id": "df9426a6",
   "metadata": {},
   "outputs": [],
   "source": [
    "#another for above shutil.move(src, destn)"
   ]
  },
  {
   "cell_type": "markdown",
   "id": "13d0288f",
   "metadata": {},
   "source": [
    "### 13 write a function which will be able to shutdown your system . "
   ]
  },
  {
   "cell_type": "code",
   "execution_count": null,
   "id": "9375b640",
   "metadata": {},
   "outputs": [],
   "source": [
    "import os\n",
    "def Shutdown_restart():\n",
    "    down = input(\"Do u want to shutdown system or restart! Press S for Shotdown, R for Restart, N or No\")\n",
    "    if down == \"N\":\n",
    "        print(\"continuing\")\n",
    "    elif down == \"S\":\n",
    "        print(\"Shutting down.. Bye\")\n",
    "        os.system(\"shutdown /s /t 1\") #shutdown and delay /t 1\n",
    "    elif down == \"R\":\n",
    "        print(\"Restartong system\")\n",
    "        os.system(\"shutdown /r /t 1\")\n",
    "    else:\n",
    "        print(\"give correct option\")\n",
    "def main():\n",
    "    Shutdown_restart()\n",
    "    \n",
    "main()"
   ]
  },
  {
   "cell_type": "markdown",
   "id": "c31574c9",
   "metadata": {},
   "source": [
    "### 14 . write a function which will be able to access your mail . "
   ]
  },
  {
   "cell_type": "code",
   "execution_count": null,
   "id": "8440d7b5",
   "metadata": {},
   "outputs": [],
   "source": []
  },
  {
   "cell_type": "markdown",
   "id": "7b50ad97",
   "metadata": {},
   "source": [
    "### 15 . write a func by which i can send a mail to anyone "
   ]
  },
  {
   "cell_type": "code",
   "execution_count": null,
   "id": "beaec9fd",
   "metadata": {},
   "outputs": [],
   "source": []
  },
  {
   "cell_type": "markdown",
   "id": "728ac0d5",
   "metadata": {},
   "source": [
    "### 16. write a func to read a complete PDf file . "
   ]
  },
  {
   "cell_type": "code",
   "execution_count": 16,
   "id": "56bc5975",
   "metadata": {},
   "outputs": [
    {
     "name": "stdout",
     "output_type": "stream",
     "text": [
      "Enter pdf file to readD:/Google Drive/ineuron/ineuron/interview-question-data-science--master/1ds.pdf\n",
      "12\n",
      "INEURON.AI\n",
      " \n",
      " \n",
      " \n",
      "Page \n",
      "2\n",
      " \n",
      " \n",
      " \n",
      "Q1. \n",
      " \n",
      "What is \n",
      "the \n",
      "difference between AI,\n",
      " \n",
      "Data\n",
      " \n",
      "Science\n",
      ",\n",
      " \n",
      "ML\n",
      ",\n",
      " \n",
      "and DL\n",
      "?\n",
      " \n",
      " \n",
      "Ans\n",
      " \n",
      "1\n",
      " \n",
      ": \n",
      " \n",
      "         \n",
      " \n",
      " \n",
      "Artificial \n",
      "Intelligence\n",
      ":\n",
      " \n",
      "AI \n",
      "is purely math and scientific exercis\n",
      "e\n",
      ",\n",
      " \n",
      "but when it became computa\n",
      "tional\n",
      ",\n",
      " \n",
      "it \n",
      "started to solve human problems formalized into \n",
      "a \n",
      "subset of computer \n",
      "science. A\n",
      "rtificial intelligence has \n",
      "changed the original computational statistics paradigm to the modern idea that machines could mimic \n",
      "actual human capabilities, such as deci\n",
      "sion making and perfo\n",
      "\n",
      "two\n",
      " \n",
      "categories\n",
      " \n",
      "1.\n",
      " \n",
      "General AI \n",
      "-\n",
      " \n",
      "Planning, decision making, identifying objects, recognizing sounds, social & \n",
      "business transactions\n",
      " \n",
      "2.\n",
      " \n",
      "Applied AI \n",
      "-\n",
      " \n",
      "driverless/ Autonomous car or machine smartly trade st\n",
      "ocks\n",
      " \n",
      " \n",
      "Machine Learning\n",
      ": I\n",
      "\n",
      "to carry out tasks, that perhaps computers could teach themselves \n",
      "\n",
      " \n",
      "learn something without being \n",
      "explicitly programmed to do so. ML is \n",
      "a \n",
      "form of AI where\n",
      " \n",
      "based on more data\n",
      ",\n",
      " \n",
      "and\n",
      " \n",
      "they can change \n",
      "actions and response, which will make more effic\n",
      "i\n",
      "ent, ad\n",
      "a\n",
      "ptable and scalable. e\n",
      ".g.\n",
      ",\n",
      " \n",
      "navigation apps and \n",
      "recommendation engine\n",
      "s\n",
      ". Classified into:\n",
      "-\n",
      " \n",
      "1.\n",
      " \n",
      "S\n",
      "upervised\n",
      " \n",
      "2.\n",
      " \n",
      "U\n",
      "nsupervised\n",
      " \n",
      "3.\n",
      " \n",
      "R\n",
      "einforcement learning\n",
      " \n",
      " \n",
      "Data Science\n",
      ": Data science ha\n",
      "s many tools, techniques, and algorithms called from these fields, plus \n",
      "others \n",
      "\n",
      "to handle big data\n",
      " \n",
      "The goal of data science, somewhat similar to machine learning, is to make accurate predictions and to \n",
      "automate and perform transactions in real\n",
      "-\n",
      "ti\n",
      "me, such as purchasing internet traffic or automatically \n",
      "generating content.\n",
      " \n",
      "\n"
     ]
    }
   ],
   "source": [
    "import PyPDF2\n",
    "\n",
    "def pdf_read(p):\n",
    "    \n",
    "    #file_ob = open(\"D:/Google Drive/ineuron/ineuron/interview-question-data-science--master/1ds.pdf\", 'rb')\n",
    "    file_ob = p\n",
    "    \n",
    "    # creating a pdf reader object\n",
    "    pdfReader = PyPDF2.PdfFileReader(file_ob)\n",
    "\n",
    "    # printing number of pages in pdf file\n",
    "    print(pdfReader.numPages)\n",
    " \n",
    "    # creating a page object\n",
    "    pageObj = pdfReader.getPage(1)\n",
    "     \n",
    "    # extracting text from page\n",
    "    print(pageObj.extractText())\n",
    "     \n",
    "    # closing the pdf file object\n",
    "    #file_ob.close()\n",
    "    \n",
    "def main():\n",
    "    file = input(\"Enter pdf file to read\")\n",
    "    pdf_read(file)\n",
    "    \n",
    "main()"
   ]
  },
  {
   "cell_type": "markdown",
   "id": "ab6993cf",
   "metadata": {},
   "source": [
    "### 17. write a function to read a word file . "
   ]
  },
  {
   "cell_type": "code",
   "execution_count": 5,
   "id": "860856c9",
   "metadata": {},
   "outputs": [
    {
     "name": "stdout",
     "output_type": "stream",
     "text": [
      "enter word file locationD:/Google Drive/ineuron/assign.docx\n",
      "Functions assignment\n",
      "1 . you have to write a fun which will take string and return a len of it without using a inbuilt fun len\n",
      "2 . write a fun which will be able to print an index of all primitive element which you will pass \n",
      "3 . Write a fun which will take input as a dict and give me out as a list of all the values even in case of 2 level nesting it should work . \n",
      "4 . write a fun which will take another function as an input and return me an output \n",
      "5. write a function which will take multiple list as a input and give me concatenation of all the element as and output \n",
      "6 . write a function which will be able to take a list as an input return an index of each element \n",
      "like a inbuilt index function but even if we have repetitive element it should return index \n",
      "7 . Write a function which will would return list of all the file name from a directory . \n",
      "8  . write a function which will be able to show your system configuration . \n",
      "9 . write a function which will be able to show date and time  . \n",
      "10 . write a function which will be able to read a image file and show it to you .\n",
      "11 . write a function which can read video file and play for you . \n",
      "12  . write a function which can move a file from one directory to another directory . \n",
      "13 . write a function which will be able to shutdown your system . \n",
      "14 . write a function which will be able to access your mail . \n",
      "15 . write a func by which i can send a mail to anyone \n",
      "16. write a func to read a complete PDf file . \n",
      "17. write a function to read a word file . \n",
      "18 . write a function which can help you to filter only word file from a directory . \n",
      "19 . write a function by which you can print an ip address of your system . \n",
      "20 . write a function by whihc you will be able to append two PDF files .\n"
     ]
    }
   ],
   "source": [
    "from docx import Document\n",
    "\n",
    "#pip uninstall docx\n",
    "#pip install python-docx\n",
    "#D:/Google Drive/ineuron/assign.docx\n",
    "def word_read(p):\n",
    "    \"\"\"Funtion displays word document file\"\"\"\n",
    "    document = Document(p)\n",
    "    for para in document.paragraphs:\n",
    "        print(para.text)\n",
    "        \n",
    "def main():\n",
    "    path = input(\"enter word file location\")\n",
    "    word_read(path)\n",
    "    \n",
    "main()"
   ]
  },
  {
   "cell_type": "markdown",
   "id": "7884cd76",
   "metadata": {},
   "source": [
    "### 18 . write a function which can help you to filter only word file from a directory ."
   ]
  },
  {
   "cell_type": "code",
   "execution_count": 21,
   "id": "d90ddc83",
   "metadata": {},
   "outputs": [
    {
     "name": "stdout",
     "output_type": "stream",
     "text": [
      "Enter directory pathD:/Google Drive/ineuron\n",
      "['assign.docx', 'contact.docx']\n"
     ]
    }
   ],
   "source": [
    "import os\n",
    "\n",
    "def file_display(p):\n",
    "    \"\"\"Function gives you list of word files in given directory\"\"\"\n",
    "    \n",
    "    file_l =[]\n",
    "    for (root, dir,files) in os.walk(p):\n",
    "        for f in files:\n",
    "            if os.path. splitext(f)[-1] == \".docx\":\n",
    "                file_l.append(f)\n",
    "                \n",
    "    return file_l\n",
    "\n",
    "def main():\n",
    "    path = input(\"Enter directory path\")\n",
    "    f = file_display(path)\n",
    "    print(f)\n",
    "    \n",
    "main()"
   ]
  },
  {
   "cell_type": "markdown",
   "id": "a19ad7b1",
   "metadata": {},
   "source": [
    "### 19 . write a function by which you can print an ip address of your system . "
   ]
  },
  {
   "cell_type": "code",
   "execution_count": 7,
   "id": "70865b82",
   "metadata": {},
   "outputs": [
    {
     "name": "stdout",
     "output_type": "stream",
     "text": [
      "Your Computer Name is:BNG5670-Laptop\n",
      "Your Computer IP Address is:192.168.65.1\n"
     ]
    }
   ],
   "source": [
    "def IP():\n",
    "    \"\"\" Python Program to Get IP Address  \"\"\"\n",
    "    import socket   \n",
    "    hostname = socket.gethostname()   \n",
    "    IPAddr = socket.gethostbyname(hostname)   \n",
    "    print(\"Your Computer Name is:\" + hostname)   \n",
    "    print(\"Your Computer IP Address is:\" + IPAddr) \n",
    "    \n",
    "IP()"
   ]
  },
  {
   "cell_type": "markdown",
   "id": "cec2fd84",
   "metadata": {},
   "source": [
    "### 20 . write a function by whihc you will be able to append two PDF files ."
   ]
  },
  {
   "cell_type": "code",
   "execution_count": 4,
   "id": "8bb8d28e",
   "metadata": {},
   "outputs": [
    {
     "name": "stdout",
     "output_type": "stream",
     "text": [
      "Enter pdf file1D:/Google Drive/ineuron/f1.pdf\n",
      "Enter pdf file2D:/Google Drive/ineuron/f2.pdf\n"
     ]
    }
   ],
   "source": [
    "import PyPDF2 \n",
    " \n",
    "from PyPDF2 import PdfFileMerger, PdfFileReader\n",
    " \n",
    "def pdfmerge(files):\n",
    "    \"\"\"takes 2 PDF file names and merge into one\"\"\"\n",
    "\n",
    "    mergedObject = PdfFileMerger()\n",
    " \n",
    "    for file in files:\n",
    "        mergedObject.append(PdfFileReader(file, 'rb'))\n",
    " \n",
    "    # Write all the files into a file which is named as shown below\n",
    "    mergedObject.write(\"mergedfilesoutput.pdf\")\n",
    "    \n",
    "def main():\n",
    "    f=[]\n",
    "    \n",
    "    f1 = input(\"Enter pdf file1\") \n",
    "    f.append(f1)\n",
    "    \n",
    "    f2 = input(\"Enter pdf file2\")\n",
    "    f.append(f2)\n",
    "    \n",
    "    pdfmerge(f)\n",
    "    \n",
    "main()"
   ]
  },
  {
   "cell_type": "code",
   "execution_count": null,
   "id": "9ef4394f",
   "metadata": {},
   "outputs": [],
   "source": [
    "#read dictionary\n",
    "import ast\n",
    "d = ast.literal_eval(input(\"enter disctionary\"))"
   ]
  }
 ],
 "metadata": {
  "kernelspec": {
   "display_name": "Python 3",
   "language": "python",
   "name": "python3"
  },
  "language_info": {
   "codemirror_mode": {
    "name": "ipython",
    "version": 3
   },
   "file_extension": ".py",
   "mimetype": "text/x-python",
   "name": "python",
   "nbconvert_exporter": "python",
   "pygments_lexer": "ipython3",
   "version": "3.8.10"
  }
 },
 "nbformat": 4,
 "nbformat_minor": 5
}
