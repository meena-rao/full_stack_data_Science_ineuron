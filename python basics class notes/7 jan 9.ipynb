{
 "cells": [
  {
   "cell_type": "code",
   "execution_count": null,
   "id": "74c57a43",
   "metadata": {},
   "outputs": [],
   "source": [
    "#string is iterable not iterator\n",
    "#int object is not both\n",
    "#for uses iter() internally\n",
    "# explain with iter() and next()\n",
    "#tuple , range() by defualt iterable not iterator"
   ]
  },
  {
   "cell_type": "code",
   "execution_count": 1,
   "id": "0504a152",
   "metadata": {
    "scrolled": false
   },
   "outputs": [
    {
     "ename": "TypeError",
     "evalue": "'list' object is not an iterator",
     "output_type": "error",
     "traceback": [
      "\u001b[1;31m---------------------------------------------------------------------------\u001b[0m",
      "\u001b[1;31mTypeError\u001b[0m                                 Traceback (most recent call last)",
      "\u001b[1;32m<ipython-input-1-dc842fbafbde>\u001b[0m in \u001b[0;36m<module>\u001b[1;34m\u001b[0m\n\u001b[0;32m      1\u001b[0m \u001b[0ml\u001b[0m \u001b[1;33m=\u001b[0m\u001b[1;33m[\u001b[0m\u001b[1;36m5\u001b[0m\u001b[1;33m,\u001b[0m\u001b[1;36m7\u001b[0m\u001b[1;33m,\u001b[0m\u001b[1;36m8\u001b[0m\u001b[1;33m]\u001b[0m\u001b[1;33m\u001b[0m\u001b[1;33m\u001b[0m\u001b[0m\n\u001b[1;32m----> 2\u001b[1;33m \u001b[0mnext\u001b[0m\u001b[1;33m(\u001b[0m\u001b[0ml\u001b[0m\u001b[1;33m)\u001b[0m\u001b[1;33m\u001b[0m\u001b[1;33m\u001b[0m\u001b[0m\n\u001b[0m",
      "\u001b[1;31mTypeError\u001b[0m: 'list' object is not an iterator"
     ]
    }
   ],
   "source": [
    "l =[5,7,8]\n",
    "next(l)"
   ]
  },
  {
   "cell_type": "code",
   "execution_count": 3,
   "id": "9836b834",
   "metadata": {},
   "outputs": [
    {
     "data": {
      "text/plain": [
       "5"
      ]
     },
     "execution_count": 3,
     "metadata": {},
     "output_type": "execute_result"
    }
   ],
   "source": [
    "l = iter(l)\n",
    "next(l)"
   ]
  },
  {
   "cell_type": "markdown",
   "id": "e96ddecc",
   "metadata": {},
   "source": [
    "### for loop internally calls iter()"
   ]
  },
  {
   "cell_type": "code",
   "execution_count": 4,
   "id": "d914d5b9",
   "metadata": {
    "scrolled": true
   },
   "outputs": [
    {
     "ename": "TypeError",
     "evalue": "'int' object is not an iterator",
     "output_type": "error",
     "traceback": [
      "\u001b[1;31m---------------------------------------------------------------------------\u001b[0m",
      "\u001b[1;31mTypeError\u001b[0m                                 Traceback (most recent call last)",
      "\u001b[1;32m<ipython-input-4-00c7cc5c7755>\u001b[0m in \u001b[0;36m<module>\u001b[1;34m\u001b[0m\n\u001b[0;32m      1\u001b[0m \u001b[0ma\u001b[0m \u001b[1;33m=\u001b[0m\u001b[1;36m56\u001b[0m\u001b[1;33m\u001b[0m\u001b[1;33m\u001b[0m\u001b[0m\n\u001b[1;32m----> 2\u001b[1;33m \u001b[0mnext\u001b[0m\u001b[1;33m(\u001b[0m\u001b[0ma\u001b[0m\u001b[1;33m)\u001b[0m\u001b[1;33m\u001b[0m\u001b[1;33m\u001b[0m\u001b[0m\n\u001b[0m",
      "\u001b[1;31mTypeError\u001b[0m: 'int' object is not an iterator"
     ]
    }
   ],
   "source": [
    "a =56\n",
    "next(a)"
   ]
  },
  {
   "cell_type": "code",
   "execution_count": 5,
   "id": "a2948e5b",
   "metadata": {
    "scrolled": true
   },
   "outputs": [
    {
     "ename": "TypeError",
     "evalue": "'int' object is not iterable",
     "output_type": "error",
     "traceback": [
      "\u001b[1;31m---------------------------------------------------------------------------\u001b[0m",
      "\u001b[1;31mTypeError\u001b[0m                                 Traceback (most recent call last)",
      "\u001b[1;32m<ipython-input-5-e9400ee6074d>\u001b[0m in \u001b[0;36m<module>\u001b[1;34m\u001b[0m\n\u001b[1;32m----> 1\u001b[1;33m \u001b[0ma\u001b[0m \u001b[1;33m=\u001b[0m \u001b[0miter\u001b[0m\u001b[1;33m(\u001b[0m\u001b[0ma\u001b[0m\u001b[1;33m)\u001b[0m\u001b[1;33m\u001b[0m\u001b[1;33m\u001b[0m\u001b[0m\n\u001b[0m",
      "\u001b[1;31mTypeError\u001b[0m: 'int' object is not iterable"
     ]
    }
   ],
   "source": [
    "a = iter(a)"
   ]
  },
  {
   "cell_type": "code",
   "execution_count": 6,
   "id": "b162a374",
   "metadata": {
    "scrolled": true
   },
   "outputs": [
    {
     "ename": "TypeError",
     "evalue": "'tuple' object is not an iterator",
     "output_type": "error",
     "traceback": [
      "\u001b[1;31m---------------------------------------------------------------------------\u001b[0m",
      "\u001b[1;31mTypeError\u001b[0m                                 Traceback (most recent call last)",
      "\u001b[1;32m<ipython-input-6-7ffca7436f29>\u001b[0m in \u001b[0;36m<module>\u001b[1;34m\u001b[0m\n\u001b[0;32m      1\u001b[0m \u001b[0mt\u001b[0m \u001b[1;33m=\u001b[0m\u001b[1;33m(\u001b[0m\u001b[1;36m4\u001b[0m\u001b[1;33m,\u001b[0m\u001b[1;36m6\u001b[0m\u001b[1;33m,\u001b[0m\u001b[1;36m7\u001b[0m\u001b[1;33m,\u001b[0m\u001b[1;36m7\u001b[0m\u001b[1;33m)\u001b[0m\u001b[1;33m\u001b[0m\u001b[1;33m\u001b[0m\u001b[0m\n\u001b[1;32m----> 2\u001b[1;33m \u001b[0mnext\u001b[0m\u001b[1;33m(\u001b[0m\u001b[0mt\u001b[0m\u001b[1;33m)\u001b[0m\u001b[1;33m\u001b[0m\u001b[1;33m\u001b[0m\u001b[0m\n\u001b[0m",
      "\u001b[1;31mTypeError\u001b[0m: 'tuple' object is not an iterator"
     ]
    }
   ],
   "source": [
    "t =(4,6,7,7)\n",
    "next(t)"
   ]
  },
  {
   "cell_type": "code",
   "execution_count": 7,
   "id": "a88efec0",
   "metadata": {
    "scrolled": true
   },
   "outputs": [
    {
     "data": {
      "text/plain": [
       "4"
      ]
     },
     "execution_count": 7,
     "metadata": {},
     "output_type": "execute_result"
    }
   ],
   "source": [
    "t = iter(t)\n",
    "next(t)"
   ]
  },
  {
   "cell_type": "code",
   "execution_count": 9,
   "id": "57605119",
   "metadata": {},
   "outputs": [],
   "source": [
    "r = range(6)"
   ]
  },
  {
   "cell_type": "code",
   "execution_count": 10,
   "id": "f2ca2b61",
   "metadata": {
    "scrolled": true
   },
   "outputs": [
    {
     "ename": "TypeError",
     "evalue": "'range' object is not an iterator",
     "output_type": "error",
     "traceback": [
      "\u001b[1;31m---------------------------------------------------------------------------\u001b[0m",
      "\u001b[1;31mTypeError\u001b[0m                                 Traceback (most recent call last)",
      "\u001b[1;32m<ipython-input-10-8ebe59a56b1d>\u001b[0m in \u001b[0;36m<module>\u001b[1;34m\u001b[0m\n\u001b[1;32m----> 1\u001b[1;33m \u001b[0mnext\u001b[0m\u001b[1;33m(\u001b[0m\u001b[0mr\u001b[0m\u001b[1;33m)\u001b[0m\u001b[1;33m\u001b[0m\u001b[1;33m\u001b[0m\u001b[0m\n\u001b[0m",
      "\u001b[1;31mTypeError\u001b[0m: 'range' object is not an iterator"
     ]
    }
   ],
   "source": [
    "    next(r)"
   ]
  },
  {
   "cell_type": "code",
   "execution_count": 11,
   "id": "9c2ecdaa",
   "metadata": {
    "scrolled": false
   },
   "outputs": [
    {
     "data": {
      "text/plain": [
       "0"
      ]
     },
     "execution_count": 11,
     "metadata": {},
     "output_type": "execute_result"
    }
   ],
   "source": [
    "r = iter(r)\n",
    "next(r)"
   ]
  },
  {
   "cell_type": "code",
   "execution_count": 12,
   "id": "34d210a7",
   "metadata": {
    "scrolled": true
   },
   "outputs": [
    {
     "data": {
      "text/plain": [
       "1"
      ]
     },
     "execution_count": 12,
     "metadata": {},
     "output_type": "execute_result"
    }
   ],
   "source": [
    "next(r    )"
   ]
  },
  {
   "cell_type": "markdown",
   "id": "b7b31a92",
   "metadata": {},
   "source": [
    "## Generator"
   ]
  },
  {
   "cell_type": "code",
   "execution_count": null,
   "id": "60f86389",
   "metadata": {},
   "outputs": [],
   "source": [
    "    #holds the logic of previous dataset and hen can create next dataset.\n",
    "    #instead of keeping in memory"
   ]
  },
  {
   "cell_type": "code",
   "execution_count": 13,
   "id": "d5dc55cc",
   "metadata": {
    "scrolled": true
   },
   "outputs": [
    {
     "data": {
      "text/plain": [
       "range(0, 45)"
      ]
     },
     "execution_count": 13,
     "metadata": {},
     "output_type": "execute_result"
    }
   ],
   "source": [
    "range(45)\n",
    "#it is generatoing data for me by certian rules."
   ]
  },
  {
   "cell_type": "code",
   "execution_count": 14,
   "id": "300c70e7",
   "metadata": {},
   "outputs": [
    {
     "data": {
      "text/plain": [
       "range(0, 45, 3)"
      ]
     },
     "execution_count": 14,
     "metadata": {},
     "output_type": "execute_result"
    }
   ],
   "source": [
    "range(0,45,3)"
   ]
  },
  {
   "cell_type": "code",
   "execution_count": 15,
   "id": "40990fb7",
   "metadata": {},
   "outputs": [
    {
     "data": {
      "text/plain": [
       "[0, 3, 6, 9, 12, 15, 18, 21, 24, 27, 30, 33, 36, 39, 42]"
      ]
     },
     "execution_count": 15,
     "metadata": {},
     "output_type": "execute_result"
    }
   ],
   "source": [
    "list(range(0,45,3))"
   ]
  },
  {
   "cell_type": "code",
   "execution_count": 17,
   "id": "5f9fb694",
   "metadata": {
    "scrolled": true
   },
   "outputs": [
    {
     "data": {
      "text/plain": [
       "27"
      ]
     },
     "execution_count": 17,
     "metadata": {},
     "output_type": "execute_result"
    }
   ],
   "source": [
    "# generator not sopoosed to remember complete sequence we produced last time, just previous one enough. so that memory is saved. \n",
    "def gencube(n):\n",
    "    for i in range(n):\n",
    "        return n**3\n",
    "gencube(3)    \n",
    "    "
   ]
  },
  {
   "cell_type": "code",
   "execution_count": 20,
   "id": "10ae2225",
   "metadata": {},
   "outputs": [
    {
     "data": {
      "text/plain": [
       "[0, 1, 8, 27, 64, 125]"
      ]
     },
     "execution_count": 20,
     "metadata": {},
     "output_type": "execute_result"
    }
   ],
   "source": [
    "def gencube(n):\n",
    "    l =[]\n",
    "    for i in range(n):\n",
    "        l.append(i**3) # print() coul be used to avoid large consuption of memory, but it returns NaN.\n",
    "    return l\n",
    "    \n",
    "gencube(6)"
   ]
  },
  {
   "cell_type": "code",
   "execution_count": 22,
   "id": "0cfad7cd",
   "metadata": {
    "scrolled": true
   },
   "outputs": [
    {
     "data": {
      "text/plain": [
       "range(0, 100000000000000000)"
      ]
     },
     "execution_count": 22,
     "metadata": {},
     "output_type": "execute_result"
    }
   ],
   "source": [
    "#gencube(6000)\n",
    "#system crashes for bigger number, memory consumption is more\n",
    "# because it is holding in list. and it will be completed t the end only.\n",
    "#memorizing whole list all the time\n",
    "range(100000000000000000)\n",
    "# with in fraction of second it has generated\n",
    "#range() internally will not create list, it creates objects one by one and use it."
   ]
  },
  {
   "cell_type": "code",
   "execution_count": null,
   "id": "3375c7f6",
   "metadata": {},
   "outputs": [],
   "source": [
    "for i in range(100):\n",
    "    print(i)\n",
    "# it is not waiting to create complete output, generates one by one and throw to console. \n",
    "# so memory consumption is less"
   ]
  },
  {
   "cell_type": "code",
   "execution_count": 24,
   "id": "86f34446",
   "metadata": {
    "scrolled": true
   },
   "outputs": [
    {
     "name": "stdout",
     "output_type": "stream",
     "text": [
      "0\n",
      "1\n",
      "2\n",
      "3\n",
      "4\n",
      "5\n"
     ]
    }
   ],
   "source": [
    "def gencube(n):\n",
    "    l =[]\n",
    "    for i in range(n):\n",
    "        print(i) # print() coul be used to avoid large consuption of memory, but it returns NaN.\n",
    "    \n",
    "    \n",
    "gencube(6)"
   ]
  },
  {
   "cell_type": "markdown",
   "id": "4d7a8fb7",
   "metadata": {},
   "source": [
    "### yield- converts functin as generator"
   ]
  },
  {
   "cell_type": "code",
   "execution_count": 25,
   "id": "6a2dec3e",
   "metadata": {},
   "outputs": [
    {
     "data": {
      "text/plain": [
       "<generator object gencube at 0x000002D7F35AEF90>"
      ]
     },
     "execution_count": 25,
     "metadata": {},
     "output_type": "execute_result"
    }
   ],
   "source": [
    "def gencube(n):\n",
    "      for i in range(n):\n",
    "            yield i**3\n",
    "\n",
    "    \n",
    "gencube(6)"
   ]
  },
  {
   "cell_type": "code",
   "execution_count": 26,
   "id": "f67d4faf",
   "metadata": {
    "scrolled": true
   },
   "outputs": [
    {
     "name": "stdout",
     "output_type": "stream",
     "text": [
      "0\n",
      "1\n",
      "8\n",
      "27\n",
      "64\n",
      "125\n",
      "216\n",
      "343\n",
      "512\n"
     ]
    }
   ],
   "source": [
    "for i in gencube(9): # similar to range() it will not wait for complete list content. one by one dataset will ne generated.\n",
    "    print(i)"
   ]
  },
  {
   "cell_type": "markdown",
   "id": "3327b7d2",
   "metadata": {},
   "source": [
    "#### yiels is keyword helpsto create generator or convets functin as generator.\n",
    "#### last time means previous content is enough to generate next data\n"
   ]
  },
  {
   "cell_type": "code",
   "execution_count": null,
   "id": "4fd8dc85",
   "metadata": {},
   "outputs": [],
   "source": [
    "3 things to remebt by generator:\n",
    "    # previous one\n",
    "    #logic to be done means say cube\n",
    "    # when to stop"
   ]
  },
  {
   "cell_type": "code",
   "execution_count": 31,
   "id": "f4fa8483",
   "metadata": {
    "scrolled": true
   },
   "outputs": [],
   "source": [
    "#write f() to gererate fibonacci sequence\n",
    "def fib(n):\n",
    "    a=1\n",
    "    b=1\n",
    "    for i in range(n):\n",
    "        yield a,i\n",
    "        a,b=b, a+b\n",
    "        \n"
   ]
  },
  {
   "cell_type": "code",
   "execution_count": 32,
   "id": "401d826d",
   "metadata": {
    "scrolled": true
   },
   "outputs": [
    {
     "name": "stdout",
     "output_type": "stream",
     "text": [
      "(1, 0)\n",
      "(1, 1)\n",
      "(2, 2)\n",
      "(3, 3)\n",
      "(5, 4)\n",
      "(8, 5)\n"
     ]
    }
   ],
   "source": [
    "for i in fib(6):\n",
    "    print(i)"
   ]
  },
  {
   "cell_type": "code",
   "execution_count": 33,
   "id": "1ff9f900",
   "metadata": {},
   "outputs": [],
   "source": [
    "#ordinary without yield but more memory consumption\n",
    "def f(n):\n",
    "    a=1\n",
    "    b=1\n",
    "    output = []\n",
    "    for i in range(n):\n",
    "        output.append(a)\n",
    "        a,b=b,a+b\n",
    "    return output"
   ]
  },
  {
   "cell_type": "code",
   "execution_count": 35,
   "id": "c55f07d8",
   "metadata": {
    "scrolled": true
   },
   "outputs": [
    {
     "data": {
      "text/plain": [
       "[1, 1, 2, 3, 5, 8]"
      ]
     },
     "execution_count": 35,
     "metadata": {},
     "output_type": "execute_result"
    }
   ],
   "source": [
    "f(6)"
   ]
  },
  {
   "cell_type": "code",
   "execution_count": 37,
   "id": "1a16e52d",
   "metadata": {},
   "outputs": [],
   "source": [
    "# issue with print- rturns none datatype\n",
    "def f(n):\n",
    "    a=1\n",
    "    b=1\n",
    "    output = []\n",
    "    for i in range(n):\n",
    "        a,b=b,a+b\n",
    "        print(type(print(a)))\n",
    "    "
   ]
  },
  {
   "cell_type": "code",
   "execution_count": 38,
   "id": "8c66a741",
   "metadata": {},
   "outputs": [
    {
     "name": "stdout",
     "output_type": "stream",
     "text": [
      "1\n",
      "<class 'NoneType'>\n",
      "2\n",
      "<class 'NoneType'>\n",
      "3\n",
      "<class 'NoneType'>\n",
      "5\n",
      "<class 'NoneType'>\n"
     ]
    }
   ],
   "source": [
    "f(4)"
   ]
  },
  {
   "cell_type": "markdown",
   "id": "1a190aea",
   "metadata": {},
   "source": [
    "## files "
   ]
  },
  {
   "cell_type": "code",
   "execution_count": 39,
   "id": "0f96c5fb",
   "metadata": {},
   "outputs": [
    {
     "name": "stdout",
     "output_type": "stream",
     "text": [
      " Volume in drive C has no label.\n",
      " Volume Serial Number is 7A14-CDD2\n",
      "\n",
      " Directory of C:\\Users\\KMRao\\2 codebasics\n",
      "\n",
      "09-01-2022  11:30    <DIR>          .\n",
      "09-01-2022  11:30    <DIR>          ..\n",
      "09-01-2022  10:19    <DIR>          .ipynb_checkpoints\n",
      "08-01-2022  20:24            64,312 8 jan.ipynb\n",
      "09-01-2022  11:30            16,151 9 jan.ipynb\n",
      "21-12-2021  23:36            12,222 dec21.ipynb\n",
      "08-01-2022  20:38           108,043 dec23 function assignment.ipynb\n",
      "23-12-2021  22:23            19,504 dec23.ipynb\n",
      "04-01-2022  15:30             3,388 dec4 5.ipynb\n",
      "14-12-2021  16:13    <DIR>          house_price_prediction\n",
      "07-01-2022  21:47           381,774 mergedfilesoutput.pdf\n",
      "08-12-2021  12:07    <DIR>          sports_person_classification\n",
      "               7 File(s)        605,394 bytes\n",
      "               5 Dir(s)   8,948,781,056 bytes free\n"
     ]
    }
   ],
   "source": [
    "%ls"
   ]
  },
  {
   "cell_type": "code",
   "execution_count": 41,
   "id": "e16dd970",
   "metadata": {},
   "outputs": [],
   "source": [
    "f =open(\"newt\", \"w\")"
   ]
  },
  {
   "cell_type": "code",
   "execution_count": 42,
   "id": "c0a72112",
   "metadata": {},
   "outputs": [
    {
     "name": "stdout",
     "output_type": "stream",
     "text": [
      " Volume in drive C has no label.\n",
      " Volume Serial Number is 7A14-CDD2\n",
      "\n",
      " Directory of C:\\Users\\KMRao\\2 codebasics\n",
      "\n",
      "09-01-2022  11:56    <DIR>          .\n",
      "09-01-2022  11:56    <DIR>          ..\n",
      "09-01-2022  10:19    <DIR>          .ipynb_checkpoints\n",
      "08-01-2022  20:24            64,312 8 jan.ipynb\n",
      "09-01-2022  11:30            16,151 9 jan.ipynb\n",
      "21-12-2021  23:36            12,222 dec21.ipynb\n",
      "08-01-2022  20:38           108,043 dec23 function assignment.ipynb\n",
      "23-12-2021  22:23            19,504 dec23.ipynb\n",
      "04-01-2022  15:30             3,388 dec4 5.ipynb\n",
      "14-12-2021  16:13    <DIR>          house_price_prediction\n",
      "07-01-2022  21:47           381,774 mergedfilesoutput.pdf\n",
      "09-01-2022  11:56                 0 newt\n",
      "08-12-2021  12:07    <DIR>          sports_person_classification\n",
      "               8 File(s)        605,394 bytes\n",
      "               5 Dir(s)   8,948,359,168 bytes free\n"
     ]
    }
   ],
   "source": [
    "%ls\n"
   ]
  },
  {
   "cell_type": "code",
   "execution_count": 46,
   "id": "b9cf5f82",
   "metadata": {},
   "outputs": [],
   "source": [
    "f =open('test1.txt', 'w')\n",
    "f.write(\"hi how r u\") #afte close() we can see content\n",
    "f.close()"
   ]
  },
  {
   "cell_type": "code",
   "execution_count": 47,
   "id": "148c4cbc",
   "metadata": {
    "scrolled": true
   },
   "outputs": [
    {
     "name": "stdout",
     "output_type": "stream",
     "text": [
      "Writing test2.txt\n"
     ]
    }
   ],
   "source": [
    "%%writefile test2.txt  #second approach. close() happens automatically\n",
    "this is nwe content to file"
   ]
  },
  {
   "cell_type": "code",
   "execution_count": 49,
   "id": "67115a1f",
   "metadata": {
    "scrolled": true
   },
   "outputs": [
    {
     "data": {
      "text/plain": [
       "'this is nwe content to file\\n'"
      ]
     },
     "execution_count": 49,
     "metadata": {},
     "output_type": "execute_result"
    }
   ],
   "source": [
    "f =open(\"test2.txt\", \"r\") #default mod eis read mode.\n",
    "f.read()"
   ]
  },
  {
   "cell_type": "code",
   "execution_count": 50,
   "id": "6e563ced",
   "metadata": {
    "scrolled": true
   },
   "outputs": [
    {
     "ename": "UnsupportedOperation",
     "evalue": "not writable",
     "output_type": "error",
     "traceback": [
      "\u001b[1;31m---------------------------------------------------------------------------\u001b[0m",
      "\u001b[1;31mUnsupportedOperation\u001b[0m                      Traceback (most recent call last)",
      "\u001b[1;32m<ipython-input-50-3b0c4565b2b5>\u001b[0m in \u001b[0;36m<module>\u001b[1;34m\u001b[0m\n\u001b[1;32m----> 1\u001b[1;33m \u001b[0mf\u001b[0m\u001b[1;33m.\u001b[0m\u001b[0mwrite\u001b[0m\u001b[1;33m(\u001b[0m\u001b[1;34m\"jkhdad\"\u001b[0m\u001b[1;33m)\u001b[0m\u001b[1;33m\u001b[0m\u001b[1;33m\u001b[0m\u001b[0m\n\u001b[0m",
      "\u001b[1;31mUnsupportedOperation\u001b[0m: not writable"
     ]
    }
   ],
   "source": [
    "f.write(\"jkhdad\")"
   ]
  },
  {
   "cell_type": "code",
   "execution_count": 51,
   "id": "7f3779c6",
   "metadata": {},
   "outputs": [
    {
     "data": {
      "text/plain": [
       "''"
      ]
     },
     "execution_count": 51,
     "metadata": {},
     "output_type": "execute_result"
    }
   ],
   "source": [
    "f.read() # empty because cursor is available a the end after first read()"
   ]
  },
  {
   "cell_type": "code",
   "execution_count": 52,
   "id": "96bbb022",
   "metadata": {},
   "outputs": [
    {
     "data": {
      "text/plain": [
       "5"
      ]
     },
     "execution_count": 52,
     "metadata": {},
     "output_type": "execute_result"
    }
   ],
   "source": [
    "#reset cursor\n",
    "f.seek(5)"
   ]
  },
  {
   "cell_type": "code",
   "execution_count": 53,
   "id": "6dd3fa25",
   "metadata": {
    "scrolled": true
   },
   "outputs": [
    {
     "data": {
      "text/plain": [
       "'is nwe content to file\\n'"
      ]
     },
     "execution_count": 53,
     "metadata": {},
     "output_type": "execute_result"
    }
   ],
   "source": [
    "f.read()"
   ]
  },
  {
   "cell_type": "code",
   "execution_count": 54,
   "id": "1c4da477",
   "metadata": {},
   "outputs": [
    {
     "data": {
      "text/plain": [
       "'this is nwe content to file\\n'"
      ]
     },
     "execution_count": 54,
     "metadata": {},
     "output_type": "execute_result"
    }
   ],
   "source": [
    "f.seek(0)\n",
    "f.read()"
   ]
  },
  {
   "cell_type": "code",
   "execution_count": 55,
   "id": "74d8b576",
   "metadata": {},
   "outputs": [
    {
     "data": {
      "text/plain": [
       "29"
      ]
     },
     "execution_count": 55,
     "metadata": {},
     "output_type": "execute_result"
    }
   ],
   "source": [
    "f.tell()"
   ]
  },
  {
   "cell_type": "code",
   "execution_count": 56,
   "id": "bb92818e",
   "metadata": {
    "scrolled": true
   },
   "outputs": [
    {
     "data": {
      "text/plain": [
       "5"
      ]
     },
     "execution_count": 56,
     "metadata": {},
     "output_type": "execute_result"
    }
   ],
   "source": [
    "f.seek(5)\n",
    "f.tell()"
   ]
  },
  {
   "cell_type": "code",
   "execution_count": null,
   "id": "857bbea7",
   "metadata": {},
   "outputs": [],
   "source": [
    "f.close()"
   ]
  },
  {
   "cell_type": "code",
   "execution_count": 63,
   "id": "8b39c60e",
   "metadata": {},
   "outputs": [
    {
     "data": {
      "text/plain": [
       "'this is nwe content to file\\n'"
      ]
     },
     "execution_count": 63,
     "metadata": {},
     "output_type": "execute_result"
    }
   ],
   "source": [
    "f =open(\"test2.txt\", \"r+\")\n",
    "f.readline()"
   ]
  },
  {
   "cell_type": "code",
   "execution_count": 64,
   "id": "c11a820a",
   "metadata": {
    "scrolled": true
   },
   "outputs": [
    {
     "data": {
      "text/plain": [
       "15"
      ]
     },
     "execution_count": 64,
     "metadata": {},
     "output_type": "execute_result"
    }
   ],
   "source": [
    "#read() for entire thing and readline() for line.\n",
    "f.write(\"vnmdfvnlfnlfddf\")"
   ]
  },
  {
   "cell_type": "code",
   "execution_count": 66,
   "id": "bb6bda2e",
   "metadata": {},
   "outputs": [
    {
     "data": {
      "text/plain": [
       "'this is nwe content to file\\n'"
      ]
     },
     "execution_count": 66,
     "metadata": {},
     "output_type": "execute_result"
    }
   ],
   "source": [
    "f.seek(0)\n",
    "f.readline()"
   ]
  },
  {
   "cell_type": "code",
   "execution_count": 67,
   "id": "942c6b33",
   "metadata": {
    "scrolled": true
   },
   "outputs": [
    {
     "data": {
      "text/plain": [
       "'vnmdfvnlfnlfddf'"
      ]
     },
     "execution_count": 67,
     "metadata": {},
     "output_type": "execute_result"
    }
   ],
   "source": [
    "f.readline()"
   ]
  },
  {
   "cell_type": "code",
   "execution_count": 68,
   "id": "66f7fa6e",
   "metadata": {
    "scrolled": true
   },
   "outputs": [
    {
     "data": {
      "text/plain": [
       "''"
      ]
     },
     "execution_count": 68,
     "metadata": {},
     "output_type": "execute_result"
    }
   ],
   "source": [
    "f.readline()"
   ]
  },
  {
   "cell_type": "code",
   "execution_count": 70,
   "id": "cbab4158",
   "metadata": {
    "scrolled": true
   },
   "outputs": [
    {
     "data": {
      "text/plain": [
       "'this is nwe content to file\\nvnmdfvnlfnlfddf'"
      ]
     },
     "execution_count": 70,
     "metadata": {},
     "output_type": "execute_result"
    }
   ],
   "source": [
    "f.seek(0)\n",
    "f.read()"
   ]
  },
  {
   "cell_type": "code",
   "execution_count": 76,
   "id": "cd79d4f8",
   "metadata": {},
   "outputs": [],
   "source": [
    "f.close()"
   ]
  },
  {
   "cell_type": "markdown",
   "id": "543d806b",
   "metadata": {},
   "source": [
    "### r+  writing and reading mode"
   ]
  },
  {
   "cell_type": "code",
   "execution_count": 80,
   "id": "935c1f64",
   "metadata": {
    "scrolled": false
   },
   "outputs": [
    {
     "name": "stdout",
     "output_type": "stream",
     "text": [
      "this is nwe content to file\n",
      " vnmdfvnlfnlfddf "
     ]
    }
   ],
   "source": [
    "f=open(\"test2.txt\", \"r+\") \n",
    "for line in f:\n",
    "    print(line, end =\" \")"
   ]
  },
  {
   "cell_type": "code",
   "execution_count": 81,
   "id": "8764171b",
   "metadata": {
    "scrolled": true
   },
   "outputs": [
    {
     "data": {
      "text/plain": [
       "21"
      ]
     },
     "execution_count": 81,
     "metadata": {},
     "output_type": "execute_result"
    }
   ],
   "source": [
    "f.write(\"testing write with r+\")"
   ]
  },
  {
   "cell_type": "code",
   "execution_count": 82,
   "id": "ad79d77c",
   "metadata": {},
   "outputs": [],
   "source": [
    "f.close()"
   ]
  },
  {
   "cell_type": "code",
   "execution_count": 89,
   "id": "1cf90798",
   "metadata": {},
   "outputs": [
    {
     "data": {
      "text/plain": [
       "'this 5th location writngile\\nvnmdfvnlfnlfddftesting write with r+'"
      ]
     },
     "execution_count": 89,
     "metadata": {},
     "output_type": "execute_result"
    }
   ],
   "source": [
    "f=open(\"test2.txt\", \"r+\")\n",
    "\n",
    "f.seek(5)\n",
    "\n",
    "f.write(\"5th location writng\")\n",
    "\n",
    "f.seek(0)\n",
    "\n",
    "f.read()\n"
   ]
  },
  {
   "cell_type": "code",
   "execution_count": null,
   "id": "850529e7",
   "metadata": {},
   "outputs": [],
   "source": [
    "#replace one word to another\n"
   ]
  },
  {
   "cell_type": "code",
   "execution_count": 91,
   "id": "881468d4",
   "metadata": {},
   "outputs": [
    {
     "data": {
      "text/plain": [
       "['this 5th location writngile\\n', 'vnmdfvnlfnlfddftesting write with r+']"
      ]
     },
     "execution_count": 91,
     "metadata": {},
     "output_type": "execute_result"
    }
   ],
   "source": [
    "f.seek(0)\n",
    "f.readlines() # op is list, and each line is an object"
   ]
  },
  {
   "cell_type": "code",
   "execution_count": 93,
   "id": "b51e5956",
   "metadata": {},
   "outputs": [
    {
     "data": {
      "text/plain": [
       "2"
      ]
     },
     "execution_count": 93,
     "metadata": {},
     "output_type": "execute_result"
    }
   ],
   "source": [
    "f.seek(0)\n",
    "len(f.readlines())"
   ]
  },
  {
   "cell_type": "code",
   "execution_count": 95,
   "id": "f4a25045",
   "metadata": {
    "scrolled": true
   },
   "outputs": [
    {
     "data": {
      "text/plain": [
       "['this', '5th', 'location', 'writngile']"
      ]
     },
     "execution_count": 95,
     "metadata": {},
     "output_type": "execute_result"
    }
   ],
   "source": [
    "f.seek(0)\n",
    "li = f.readlines()\n",
    "#words in first para\n",
    "li[0].split()"
   ]
  },
  {
   "cell_type": "code",
   "execution_count": 98,
   "id": "a04fb3a4",
   "metadata": {
    "scrolled": true
   },
   "outputs": [
    {
     "data": {
      "text/plain": [
       "['t', '5', 'l', 'w']"
      ]
     },
     "execution_count": 98,
     "metadata": {},
     "output_type": "execute_result"
    }
   ],
   "source": [
    "#op is first character of all words\n",
    "list2 = li[0].split()\n",
    "\n",
    "n =[]\n",
    "for i in list2:\n",
    "    n.append(i[0])\n",
    "    \n",
    "n"
   ]
  },
  {
   "cell_type": "markdown",
   "id": "4e8ff049",
   "metadata": {},
   "source": [
    "### replace()"
   ]
  },
  {
   "cell_type": "code",
   "execution_count": 99,
   "id": "da136113",
   "metadata": {},
   "outputs": [
    {
     "ename": "FileNotFoundError",
     "evalue": "[Errno 2] No such file or directory: 'data.txt'",
     "output_type": "error",
     "traceback": [
      "\u001b[1;31m---------------------------------------------------------------------------\u001b[0m",
      "\u001b[1;31mFileNotFoundError\u001b[0m                         Traceback (most recent call last)",
      "\u001b[1;32m<ipython-input-99-81bed3fa4773>\u001b[0m in \u001b[0;36m<module>\u001b[1;34m\u001b[0m\n\u001b[0;32m      1\u001b[0m \u001b[1;31m#input file\u001b[0m\u001b[1;33m\u001b[0m\u001b[1;33m\u001b[0m\u001b[1;33m\u001b[0m\u001b[0m\n\u001b[1;32m----> 2\u001b[1;33m \u001b[0mfin\u001b[0m \u001b[1;33m=\u001b[0m \u001b[0mopen\u001b[0m\u001b[1;33m(\u001b[0m\u001b[1;34m\"data.txt\"\u001b[0m\u001b[1;33m,\u001b[0m \u001b[1;34m\"rt\"\u001b[0m\u001b[1;33m)\u001b[0m\u001b[1;33m\u001b[0m\u001b[1;33m\u001b[0m\u001b[0m\n\u001b[0m\u001b[0;32m      3\u001b[0m \u001b[1;31m#output file to write the result to\u001b[0m\u001b[1;33m\u001b[0m\u001b[1;33m\u001b[0m\u001b[1;33m\u001b[0m\u001b[0m\n\u001b[0;32m      4\u001b[0m \u001b[0mfout\u001b[0m \u001b[1;33m=\u001b[0m \u001b[0mopen\u001b[0m\u001b[1;33m(\u001b[0m\u001b[1;34m\"out.txt\"\u001b[0m\u001b[1;33m,\u001b[0m \u001b[1;34m\"wt\"\u001b[0m\u001b[1;33m)\u001b[0m\u001b[1;33m\u001b[0m\u001b[1;33m\u001b[0m\u001b[0m\n\u001b[0;32m      5\u001b[0m \u001b[1;31m#for each line in the input file\u001b[0m\u001b[1;33m\u001b[0m\u001b[1;33m\u001b[0m\u001b[1;33m\u001b[0m\u001b[0m\n",
      "\u001b[1;31mFileNotFoundError\u001b[0m: [Errno 2] No such file or directory: 'data.txt'"
     ]
    }
   ],
   "source": [
    "#input file\n",
    "fin = open(\"data.txt\", \"rt\")\n",
    "\n",
    "#output file to write the result to\n",
    "fout = open(\"out.txt\", \"wt\")\n",
    "\n",
    "#for each line in the input file\n",
    "for line in fin:\n",
    "    #read replace the string and write to output file\n",
    "    fout.write(line.replace('pyton', 'python'))\n",
    "    \n",
    "#close input and output files\n",
    "fin.close()\n",
    "fout.close()"
   ]
  },
  {
   "cell_type": "code",
   "execution_count": 105,
   "id": "a25af821",
   "metadata": {},
   "outputs": [
    {
     "data": {
      "text/plain": [
       "'i can write anythinf at currect cursorfirstline secondite with r+'"
      ]
     },
     "execution_count": 105,
     "metadata": {},
     "output_type": "execute_result"
    }
   ],
   "source": [
    "f= open(\"test2.txt\", \"r+\")\n",
    "\n",
    "l =[\"firstline \",  \"second\"]\n",
    "\n",
    "f.write(\"i can write anythinf at currect cursor\")\n",
    "\n",
    "f.writelines(l)\n",
    "\n",
    "f.seek(0)\n",
    "f.read()\n",
    "\n"
   ]
  },
  {
   "cell_type": "code",
   "execution_count": 106,
   "id": "12ddf52d",
   "metadata": {
    "scrolled": true
   },
   "outputs": [
    {
     "data": {
      "text/plain": [
       "5"
      ]
     },
     "execution_count": 106,
     "metadata": {},
     "output_type": "execute_result"
    }
   ],
   "source": [
    "f.fileno()"
   ]
  },
  {
   "cell_type": "code",
   "execution_count": 107,
   "id": "08b72ddc",
   "metadata": {},
   "outputs": [
    {
     "name": "stdout",
     "output_type": "stream",
     "text": [
      " Volume in drive C has no label.\n",
      " Volume Serial Number is 7A14-CDD2\n",
      "\n",
      " Directory of C:\\Users\\KMRao\\2 codebasics\n",
      "\n",
      "09-01-2022  12:48    <DIR>          .\n",
      "09-01-2022  12:48    <DIR>          ..\n",
      "09-01-2022  10:19    <DIR>          .ipynb_checkpoints\n",
      "08-01-2022  20:24            64,312 8 jan.ipynb\n",
      "09-01-2022  12:48            32,501 9 jan.ipynb\n",
      "21-12-2021  23:36            12,222 dec21.ipynb\n",
      "08-01-2022  20:38           108,043 dec23 function assignment.ipynb\n",
      "23-12-2021  22:23            19,504 dec23.ipynb\n",
      "04-01-2022  15:30             3,388 dec4 5.ipynb\n",
      "14-12-2021  16:13    <DIR>          house_price_prediction\n",
      "07-01-2022  21:47           381,774 mergedfilesoutput.pdf\n",
      "09-01-2022  11:56                 0 newt\n",
      "08-12-2021  12:07    <DIR>          sports_person_classification\n",
      "09-01-2022  11:59                10 test1.txt\n",
      "09-01-2022  12:46                65 test2.txt\n",
      "              10 File(s)        621,819 bytes\n",
      "               5 Dir(s)   8,915,959,808 bytes free\n"
     ]
    }
   ],
   "source": [
    "%ls"
   ]
  },
  {
   "cell_type": "code",
   "execution_count": 109,
   "id": "35acb01f",
   "metadata": {},
   "outputs": [],
   "source": [
    "import os #operating system\n",
    "os.remove(\"test1.txt\")"
   ]
  },
  {
   "cell_type": "code",
   "execution_count": 110,
   "id": "4c3a23c6",
   "metadata": {},
   "outputs": [
    {
     "data": {
      "text/plain": [
       "'C:\\\\Users\\\\KMRao\\\\2 codebasics'"
      ]
     },
     "execution_count": 110,
     "metadata": {},
     "output_type": "execute_result"
    }
   ],
   "source": [
    "os.getcwd()"
   ]
  },
  {
   "cell_type": "code",
   "execution_count": 111,
   "id": "0fd08ed4",
   "metadata": {
    "scrolled": true
   },
   "outputs": [
    {
     "data": {
      "text/plain": [
       "'C:\\\\Users\\\\KMRao\\\\2 codebasics'"
      ]
     },
     "execution_count": 111,
     "metadata": {},
     "output_type": "execute_result"
    }
   ],
   "source": [
    "pwd"
   ]
  },
  {
   "cell_type": "code",
   "execution_count": 112,
   "id": "5dd2b077",
   "metadata": {},
   "outputs": [
    {
     "data": {
      "text/plain": [
       "['.ipynb_checkpoints',\n",
       " '8 jan.ipynb',\n",
       " '9 jan.ipynb',\n",
       " 'dec21.ipynb',\n",
       " 'dec23 function assignment.ipynb',\n",
       " 'dec23.ipynb',\n",
       " 'dec4 5.ipynb',\n",
       " 'house_price_prediction',\n",
       " 'mergedfilesoutput.pdf',\n",
       " 'newt',\n",
       " 'sports_person_classification',\n",
       " 'test2.txt']"
      ]
     },
     "execution_count": 112,
     "metadata": {},
     "output_type": "execute_result"
    }
   ],
   "source": [
    "os.listdir()"
   ]
  },
  {
   "cell_type": "code",
   "execution_count": 114,
   "id": "64910f97",
   "metadata": {},
   "outputs": [
    {
     "data": {
      "text/plain": [
       "['cv reports',\n",
       " 'dc form1 2 3',\n",
       " 'DC Reports',\n",
       " 'formresult.pdf',\n",
       " 'vtu call 16.8.2020.docx',\n",
       " '~$F_Literature Survey-v1.docx']"
      ]
     },
     "execution_count": 114,
     "metadata": {},
     "output_type": "execute_result"
    }
   ],
   "source": [
    "os.listdir(\"D:\\\\Google Drive\\\\phd\\\\4 DC CV reports\")"
   ]
  },
  {
   "cell_type": "code",
   "execution_count": 115,
   "id": "b9267935",
   "metadata": {},
   "outputs": [
    {
     "data": {
      "text/plain": [
       "'C:\\\\Users\\\\KMRao\\\\2 codebasics'"
      ]
     },
     "execution_count": 115,
     "metadata": {},
     "output_type": "execute_result"
    }
   ],
   "source": [
    "os.getcwd()"
   ]
  },
  {
   "cell_type": "code",
   "execution_count": null,
   "id": "641c1c7f",
   "metadata": {},
   "outputs": [],
   "source": [
    "#lsit onl text files"
   ]
  },
  {
   "cell_type": "code",
   "execution_count": null,
   "id": "7be304b4",
   "metadata": {},
   "outputs": [],
   "source": [
    "#change directory, rename directory"
   ]
  }
 ],
 "metadata": {
  "kernelspec": {
   "display_name": "Python 3",
   "language": "python",
   "name": "python3"
  },
  "language_info": {
   "codemirror_mode": {
    "name": "ipython",
    "version": 3
   },
   "file_extension": ".py",
   "mimetype": "text/x-python",
   "name": "python",
   "nbconvert_exporter": "python",
   "pygments_lexer": "ipython3",
   "version": "3.8.10"
  }
 },
 "nbformat": 4,
 "nbformat_minor": 5
}
