{
 "cells": [
  {
   "cell_type": "markdown",
   "id": "9c6e5c6d",
   "metadata": {},
   "source": [
    "### print returns \"non\" datatype always.\n",
    "### void is not available in python\n",
    "### tuple  is returned by default if mulptle return there. \n"
   ]
  },
  {
   "cell_type": "code",
   "execution_count": 9,
   "id": "7468ba0f",
   "metadata": {},
   "outputs": [
    {
     "name": "stdout",
     "output_type": "stream",
     "text": [
      "first example\n"
     ]
    }
   ],
   "source": [
    "#print(\"modules or functions\")\n",
    "\n",
    "def fun1():\n",
    "    pass\n",
    "def fun2():\n",
    "    print(\"first example\")\n",
    "fun2()\n",
    "fun1()\n"
   ]
  },
  {
   "cell_type": "code",
   "execution_count": 10,
   "id": "495111c9",
   "metadata": {},
   "outputs": [
    {
     "name": "stdout",
     "output_type": "stream",
     "text": [
      "first example\n"
     ]
    }
   ],
   "source": [
    "val = fun2()"
   ]
  },
  {
   "cell_type": "code",
   "execution_count": 11,
   "id": "ec1c6f97",
   "metadata": {},
   "outputs": [
    {
     "ename": "TypeError",
     "evalue": "unsupported operand type(s) for +: 'NoneType' and 'str'",
     "output_type": "error",
     "traceback": [
      "\u001b[1;31m---------------------------------------------------------------------------\u001b[0m",
      "\u001b[1;31mTypeError\u001b[0m                                 Traceback (most recent call last)",
      "\u001b[1;32m<ipython-input-11-30d0d955945c>\u001b[0m in \u001b[0;36m<module>\u001b[1;34m\u001b[0m\n\u001b[1;32m----> 1\u001b[1;33m \u001b[0mval\u001b[0m \u001b[1;33m+\u001b[0m \u001b[1;34m\"kmr\"\u001b[0m\u001b[1;33m\u001b[0m\u001b[1;33m\u001b[0m\u001b[0m\n\u001b[0m",
      "\u001b[1;31mTypeError\u001b[0m: unsupported operand type(s) for +: 'NoneType' and 'str'"
     ]
    }
   ],
   "source": [
    "val + \"kmr\""
   ]
  },
  {
   "cell_type": "code",
   "execution_count": 13,
   "id": "f9f6109f",
   "metadata": {},
   "outputs": [
    {
     "data": {
      "text/plain": [
       "NoneType"
      ]
     },
     "execution_count": 13,
     "metadata": {},
     "output_type": "execute_result"
    }
   ],
   "source": [
    "type(fun1())"
   ]
  },
  {
   "cell_type": "code",
   "execution_count": 14,
   "id": "cb25a186",
   "metadata": {},
   "outputs": [
    {
     "name": "stdout",
     "output_type": "stream",
     "text": [
      "first example\n"
     ]
    },
    {
     "data": {
      "text/plain": [
       "'None'"
      ]
     },
     "execution_count": 14,
     "metadata": {},
     "output_type": "execute_result"
    }
   ],
   "source": [
    "str(fun2())\n",
    "#print returns null always."
   ]
  },
  {
   "cell_type": "code",
   "execution_count": 15,
   "id": "1fa1620f",
   "metadata": {},
   "outputs": [
    {
     "data": {
      "text/plain": [
       "'None'"
      ]
     },
     "execution_count": 15,
     "metadata": {},
     "output_type": "execute_result"
    }
   ],
   "source": [
    "str(val) #not converting"
   ]
  },
  {
   "cell_type": "code",
   "execution_count": 17,
   "id": "bdb68c21",
   "metadata": {
    "scrolled": true
   },
   "outputs": [
    {
     "data": {
      "text/plain": [
       "'kmr'"
      ]
     },
     "execution_count": 17,
     "metadata": {},
     "output_type": "execute_result"
    }
   ],
   "source": [
    "# then how to convert?\n",
    "def test2():\n",
    "    return \"kmr\"\n",
    "val =test2()\n",
    "val"
   ]
  },
  {
   "cell_type": "code",
   "execution_count": 18,
   "id": "c01f3cb0",
   "metadata": {},
   "outputs": [
    {
     "data": {
      "text/plain": [
       "'kmr'"
      ]
     },
     "execution_count": 18,
     "metadata": {},
     "output_type": "execute_result"
    }
   ],
   "source": [
    "str(val)"
   ]
  },
  {
   "cell_type": "code",
   "execution_count": 20,
   "id": "8c79180f",
   "metadata": {},
   "outputs": [
    {
     "data": {
      "text/plain": [
       "'kmr rao'"
      ]
     },
     "execution_count": 20,
     "metadata": {},
     "output_type": "execute_result"
    }
   ],
   "source": [
    "test2() + \" rao\""
   ]
  },
  {
   "cell_type": "code",
   "execution_count": 21,
   "id": "d9a9ab71",
   "metadata": {},
   "outputs": [
    {
     "data": {
      "text/plain": [
       "int"
      ]
     },
     "execution_count": 21,
     "metadata": {},
     "output_type": "execute_result"
    }
   ],
   "source": [
    "#return type is automatic depending upon return value\n",
    "def test4():\n",
    "    return 123\n",
    "type(test4())"
   ]
  },
  {
   "cell_type": "code",
   "execution_count": 24,
   "id": "d1d66d73",
   "metadata": {},
   "outputs": [
    {
     "data": {
      "text/plain": [
       "(1, 2, 3, 'kmr', [1, 2, 3])"
      ]
     },
     "execution_count": 24,
     "metadata": {},
     "output_type": "execute_result"
    }
   ],
   "source": [
    "def test4():\n",
    "    return 1,2,3, \"kmr\", [1,2,3]\n",
    "test4()\n",
    "#tuple by default if mulptle return there. "
   ]
  },
  {
   "cell_type": "code",
   "execution_count": 26,
   "id": "3d71f73c",
   "metadata": {
    "scrolled": true
   },
   "outputs": [
    {
     "data": {
      "text/plain": [
       "(1, 2, 3, 'kmr', [1, 2, 3])"
      ]
     },
     "execution_count": 26,
     "metadata": {},
     "output_type": "execute_result"
    }
   ],
   "source": [
    "res = test4()\n",
    "res"
   ]
  },
  {
   "cell_type": "code",
   "execution_count": 27,
   "id": "5f96e62b",
   "metadata": {},
   "outputs": [
    {
     "data": {
      "text/plain": [
       "tuple"
      ]
     },
     "execution_count": 27,
     "metadata": {},
     "output_type": "execute_result"
    }
   ],
   "source": [
    "type(res)"
   ]
  },
  {
   "cell_type": "code",
   "execution_count": 29,
   "id": "3f8a434a",
   "metadata": {
    "scrolled": true
   },
   "outputs": [
    {
     "data": {
      "text/plain": [
       "'kmr'"
      ]
     },
     "execution_count": 29,
     "metadata": {},
     "output_type": "execute_result"
    }
   ],
   "source": [
    "res[3]"
   ]
  },
  {
   "cell_type": "markdown",
   "id": "9b49e0c0",
   "metadata": {},
   "source": [
    "### different values collection by retun not tuple"
   ]
  },
  {
   "cell_type": "code",
   "execution_count": 31,
   "id": "d4594f60",
   "metadata": {
    "scrolled": true
   },
   "outputs": [
    {
     "data": {
      "text/plain": [
       "23"
      ]
     },
     "execution_count": 31,
     "metadata": {},
     "output_type": "execute_result"
    }
   ],
   "source": [
    "a,b,c,d = 23, 'kmr', [3,4,], 90\n",
    "a"
   ]
  },
  {
   "cell_type": "code",
   "execution_count": 35,
   "id": "1d5246c5",
   "metadata": {
    "scrolled": true
   },
   "outputs": [
    {
     "data": {
      "text/plain": [
       "2"
      ]
     },
     "execution_count": 35,
     "metadata": {},
     "output_type": "execute_result"
    }
   ],
   "source": [
    "x,y,z,a,b = test4()\n",
    "y"
   ]
  },
  {
   "cell_type": "code",
   "execution_count": 38,
   "id": "cc326230",
   "metadata": {},
   "outputs": [
    {
     "data": {
      "text/plain": [
       "7.0"
      ]
     },
     "execution_count": 38,
     "metadata": {},
     "output_type": "execute_result"
    }
   ],
   "source": [
    "def test5():\n",
    "    a = 6*7/6\n",
    "    return a\n",
    "\n",
    "test5()"
   ]
  },
  {
   "cell_type": "code",
   "execution_count": 39,
   "id": "339f242d",
   "metadata": {},
   "outputs": [
    {
     "data": {
      "text/plain": [
       "8"
      ]
     },
     "execution_count": 39,
     "metadata": {},
     "output_type": "execute_result"
    }
   ],
   "source": [
    "def test6(a):\n",
    "    return a+5\n",
    "test6(3)\n",
    "    "
   ]
  },
  {
   "cell_type": "code",
   "execution_count": 52,
   "id": "d2a34acc",
   "metadata": {
    "scrolled": true
   },
   "outputs": [
    {
     "data": {
      "text/plain": [
       "[3, 4, 5, 6, 7, 7]"
      ]
     },
     "execution_count": 52,
     "metadata": {},
     "output_type": "execute_result"
    }
   ],
   "source": [
    "#pass this to function and return only integers \n",
    "def test7(a):\n",
    "    n =[]\n",
    "    if type(a) == list:\n",
    "        for i in a:\n",
    "            if type(i) == int:\n",
    "                n.append(i)\n",
    "    return n \n",
    "\n",
    "lis = [3,4,5,6,7,7, \"kmr\", [45,6]]\n",
    "#type(lis)\n",
    "\n",
    "test7(lis)"
   ]
  },
  {
   "cell_type": "code",
   "execution_count": 51,
   "id": "8a5f8028",
   "metadata": {},
   "outputs": [
    {
     "data": {
      "text/plain": [
       "[]"
      ]
     },
     "execution_count": 51,
     "metadata": {},
     "output_type": "execute_result"
    }
   ],
   "source": [
    "lis2 = [1,2,3]\n",
    "test7(lis2)"
   ]
  },
  {
   "cell_type": "code",
   "execution_count": 54,
   "id": "e5d8e19f",
   "metadata": {
    "scrolled": true
   },
   "outputs": [
    {
     "ename": "TypeError",
     "evalue": "'type' object is not iterable",
     "output_type": "error",
     "traceback": [
      "\u001b[1;31m---------------------------------------------------------------------------\u001b[0m",
      "\u001b[1;31mTypeError\u001b[0m                                 Traceback (most recent call last)",
      "\u001b[1;32m<ipython-input-54-642b590b4a4c>\u001b[0m in \u001b[0;36m<module>\u001b[1;34m\u001b[0m\n\u001b[0;32m     15\u001b[0m \u001b[1;31m#type(lis)\u001b[0m\u001b[1;33m\u001b[0m\u001b[1;33m\u001b[0m\u001b[1;33m\u001b[0m\u001b[0m\n\u001b[0;32m     16\u001b[0m \u001b[1;33m\u001b[0m\u001b[0m\n\u001b[1;32m---> 17\u001b[1;33m \u001b[0mtest7\u001b[0m\u001b[1;33m(\u001b[0m\u001b[0mlis\u001b[0m\u001b[1;33m)\u001b[0m\u001b[1;33m\u001b[0m\u001b[1;33m\u001b[0m\u001b[0m\n\u001b[0m",
      "\u001b[1;32m<ipython-input-54-642b590b4a4c>\u001b[0m in \u001b[0;36mtest7\u001b[1;34m(a)\u001b[0m\n\u001b[0;32m      7\u001b[0m                 \u001b[0mn\u001b[0m\u001b[1;33m.\u001b[0m\u001b[0mappend\u001b[0m\u001b[1;33m(\u001b[0m\u001b[0mi\u001b[0m\u001b[1;33m)\u001b[0m\u001b[1;33m\u001b[0m\u001b[1;33m\u001b[0m\u001b[0m\n\u001b[0;32m      8\u001b[0m             \u001b[1;32melif\u001b[0m \u001b[0mtype\u001b[0m\u001b[1;33m(\u001b[0m\u001b[0mi\u001b[0m\u001b[1;33m)\u001b[0m \u001b[1;33m==\u001b[0m\u001b[0mlist\u001b[0m\u001b[1;33m:\u001b[0m\u001b[1;33m\u001b[0m\u001b[1;33m\u001b[0m\u001b[0m\n\u001b[1;32m----> 9\u001b[1;33m                 \u001b[1;32mfor\u001b[0m \u001b[0mi\u001b[0m \u001b[1;32min\u001b[0m \u001b[0mlist\u001b[0m\u001b[1;33m:\u001b[0m\u001b[1;33m\u001b[0m\u001b[1;33m\u001b[0m\u001b[0m\n\u001b[0m\u001b[0;32m     10\u001b[0m                     \u001b[1;32mif\u001b[0m \u001b[0mtype\u001b[0m\u001b[1;33m(\u001b[0m\u001b[0mi\u001b[0m\u001b[1;33m)\u001b[0m \u001b[1;33m==\u001b[0m \u001b[0mint\u001b[0m\u001b[1;33m:\u001b[0m\u001b[1;33m\u001b[0m\u001b[1;33m\u001b[0m\u001b[0m\n\u001b[0;32m     11\u001b[0m                         \u001b[0mi\u001b[0m\u001b[1;33m.\u001b[0m\u001b[0mappend\u001b[0m\u001b[1;33m(\u001b[0m\u001b[0mn\u001b[0m\u001b[1;33m)\u001b[0m\u001b[1;33m\u001b[0m\u001b[1;33m\u001b[0m\u001b[0m\n",
      "\u001b[1;31mTypeError\u001b[0m: 'type' object is not iterable"
     ]
    }
   ],
   "source": [
    "#pass this to function and return only integers \n",
    "def test7(a):\n",
    "    n =[]\n",
    "    if type(a) == list:\n",
    "        for i in a:\n",
    "            if type(i) == int:\n",
    "                n.append(i)\n",
    "            elif type(i) == list:\n",
    "                for i in list:\n",
    "                    if type(i) == int:\n",
    "                        i.append(n)\n",
    "    return n \n",
    "\n",
    "lis = [3,4,5,6,7,7, \"kmr\", [45,6]]\n",
    "#type(lis)\n",
    "\n",
    "test7(lis)"
   ]
  },
  {
   "cell_type": "code",
   "execution_count": 59,
   "id": "701f2cbb",
   "metadata": {},
   "outputs": [],
   "source": [
    "def test10(d):\n",
    "    if type(d) == dict:\n",
    "        return d.keys\n",
    "    else:\n",
    "        print(\"please pass dict only\")\n",
    "    "
   ]
  },
  {
   "cell_type": "code",
   "execution_count": 60,
   "id": "624b5798",
   "metadata": {
    "scrolled": true
   },
   "outputs": [
    {
     "name": "stdout",
     "output_type": "stream",
     "text": [
      "please pass dict only\n"
     ]
    }
   ],
   "source": [
    "test10(\"hhk\")"
   ]
  },
  {
   "cell_type": "code",
   "execution_count": 62,
   "id": "08c35ad3",
   "metadata": {
    "scrolled": true
   },
   "outputs": [
    {
     "data": {
      "text/plain": [
       "<function dict.keys>"
      ]
     },
     "execution_count": 62,
     "metadata": {},
     "output_type": "execute_result"
    }
   ],
   "source": [
    "#check\n",
    "test10({\"a\": 2, \"b\":4})"
   ]
  },
  {
   "cell_type": "code",
   "execution_count": 64,
   "id": "d3e1f3f3",
   "metadata": {},
   "outputs": [],
   "source": [
    "def f11(a,b):\n",
    "    if type(a) ==list and type(b) ==list:\n",
    "        return a.extend(b)\n",
    "    else:\n",
    "        print(\"give both as list\")\n"
   ]
  },
  {
   "cell_type": "code",
   "execution_count": 65,
   "id": "526d3e11",
   "metadata": {},
   "outputs": [],
   "source": [
    "f11([1,2],[7,9])"
   ]
  },
  {
   "cell_type": "code",
   "execution_count": 66,
   "id": "5e2aa80e",
   "metadata": {
    "scrolled": true
   },
   "outputs": [
    {
     "ename": "TypeError",
     "evalue": "f11() missing 1 required positional argument: 'b'",
     "output_type": "error",
     "traceback": [
      "\u001b[1;31m---------------------------------------------------------------------------\u001b[0m",
      "\u001b[1;31mTypeError\u001b[0m                                 Traceback (most recent call last)",
      "\u001b[1;32m<ipython-input-66-76949fd42799>\u001b[0m in \u001b[0;36m<module>\u001b[1;34m\u001b[0m\n\u001b[1;32m----> 1\u001b[1;33m \u001b[0mf11\u001b[0m\u001b[1;33m(\u001b[0m\u001b[1;33m[\u001b[0m\u001b[1;36m2\u001b[0m\u001b[1;33m,\u001b[0m\u001b[1;36m3\u001b[0m\u001b[1;33m]\u001b[0m\u001b[1;33m)\u001b[0m\u001b[1;33m\u001b[0m\u001b[1;33m\u001b[0m\u001b[0m\n\u001b[0m",
      "\u001b[1;31mTypeError\u001b[0m: f11() missing 1 required positional argument: 'b'"
     ]
    }
   ],
   "source": [
    "f11([2,3])"
   ]
  },
  {
   "cell_type": "code",
   "execution_count": 67,
   "id": "6daa1911",
   "metadata": {},
   "outputs": [
    {
     "name": "stdout",
     "output_type": "stream",
     "text": [
      "give both as list\n"
     ]
    }
   ],
   "source": [
    "f11([3,4], \"2\")"
   ]
  },
  {
   "cell_type": "code",
   "execution_count": 68,
   "id": "56abdcf9",
   "metadata": {},
   "outputs": [],
   "source": [
    "a =[3,5]\n",
    "b = [6.7]\n",
    "f11(a,b)\n"
   ]
  },
  {
   "cell_type": "code",
   "execution_count": 69,
   "id": "363c4962",
   "metadata": {
    "scrolled": false
   },
   "outputs": [
    {
     "data": {
      "text/plain": [
       "[3, 5, 6.7]"
      ]
     },
     "execution_count": 69,
     "metadata": {},
     "output_type": "execute_result"
    }
   ],
   "source": [
    "a"
   ]
  },
  {
   "cell_type": "code",
   "execution_count": 70,
   "id": "c0fd063c",
   "metadata": {
    "scrolled": true
   },
   "outputs": [
    {
     "ename": "SyntaxError",
     "evalue": "invalid syntax (<ipython-input-70-78d0d0ebaf8f>, line 5)",
     "output_type": "error",
     "traceback": [
      "\u001b[1;36m  File \u001b[1;32m\"<ipython-input-70-78d0d0ebaf8f>\"\u001b[1;36m, line \u001b[1;32m5\u001b[0m\n\u001b[1;33m    else:\u001b[0m\n\u001b[1;37m    ^\u001b[0m\n\u001b[1;31mSyntaxError\u001b[0m\u001b[1;31m:\u001b[0m invalid syntax\n"
     ]
    }
   ],
   "source": [
    "def f11(a,b):\n",
    "    if type(a) ==list and type(b) ==list:\n",
    "        a.extend(b)\n",
    "    return a\n",
    "    else:\n",
    "        print(\"give both as list\")"
   ]
  },
  {
   "cell_type": "code",
   "execution_count": 77,
   "id": "c2fb0186",
   "metadata": {
    "scrolled": true
   },
   "outputs": [
    {
     "name": "stdout",
     "output_type": "stream",
     "text": [
      "*\n",
      "*\n",
      "*\n",
      "*\n"
     ]
    }
   ],
   "source": [
    "#take number of rows and columns and print as traingle of dots\n",
    "def f12(r,c):\n",
    "    for i in range(r):\n",
    "        for j in range(c):\n",
    "            print(\"*\")\n",
    "            \n",
    "f12(2,2)\n"
   ]
  },
  {
   "cell_type": "code",
   "execution_count": 83,
   "id": "cc12e5a5",
   "metadata": {},
   "outputs": [],
   "source": [
    "def f13(n):\n",
    "    \"\"\"this is code\"\"\"\n",
    "    for i in range(0,n):\n",
    "        for j in range(0, i+1):\n",
    "            print(\"*\", end = \"\")\n",
    "        print(\"\\r\")\n",
    "    "
   ]
  },
  {
   "cell_type": "code",
   "execution_count": 80,
   "id": "b0333cd0",
   "metadata": {
    "scrolled": false
   },
   "outputs": [
    {
     "name": "stdout",
     "output_type": "stream",
     "text": [
      "*\r\n",
      "**\r\n",
      "***\r\n"
     ]
    }
   ],
   "source": [
    "f13(3)"
   ]
  },
  {
   "cell_type": "code",
   "execution_count": 84,
   "id": "9f39769e",
   "metadata": {
    "scrolled": false
   },
   "outputs": [
    {
     "name": "stdout",
     "output_type": "stream",
     "text": [
      "Help on function f13 in module __main__:\n",
      "\n",
      "f13(n)\n",
      "    this is code\n",
      "\n"
     ]
    }
   ],
   "source": [
    "help(f13)"
   ]
  },
  {
   "cell_type": "code",
   "execution_count": 85,
   "id": "de0a16df",
   "metadata": {},
   "outputs": [
    {
     "data": {
      "text/plain": [
       "5"
      ]
     },
     "execution_count": 85,
     "metadata": {},
     "output_type": "execute_result"
    }
   ],
   "source": [
    "#1. fun to take string  and return len \n",
    "def fun14(s):\n",
    "    \"\"\"this is to take string and find length\"\"\"\n",
    "    l = 0\n",
    "    for i in s:\n",
    "        l+=1\n",
    "    return l\n",
    "fun14(\"kmr a\")"
   ]
  },
  {
   "cell_type": "markdown",
   "id": "0a011b1f",
   "metadata": {},
   "source": [
    "help(fun14(\"kmr a\"))"
   ]
  },
  {
   "cell_type": "code",
   "execution_count": 3,
   "id": "7d54dcbd",
   "metadata": {},
   "outputs": [
    {
     "data": {
      "text/plain": [
       "['amr', 'sd']"
      ]
     },
     "execution_count": 3,
     "metadata": {},
     "output_type": "execute_result"
    }
   ],
   "source": [
    "#2. print index of all primitive elements which you pass\n",
    "#3. print fun to take disctinary and return list of all values in case of nested also\n",
    "def fun15(d):\n",
    "    \"\"\"#3. print fun to take disctinary and return list of all values in case of nested also\"\"\"\n",
    "    li = []\n",
    "    for i in d.values():\n",
    "        li.append(i)\n",
    "    return li\n",
    "        \n",
    "fun15({1:\"amr\", 2:\"sd\"})\n",
    "\n"
   ]
  },
  {
   "cell_type": "code",
   "execution_count": null,
   "id": "cda398b6",
   "metadata": {},
   "outputs": [],
   "source": []
  }
 ],
 "metadata": {
  "kernelspec": {
   "display_name": "Python 3",
   "language": "python",
   "name": "python3"
  },
  "language_info": {
   "codemirror_mode": {
    "name": "ipython",
    "version": 3
   },
   "file_extension": ".py",
   "mimetype": "text/x-python",
   "name": "python",
   "nbconvert_exporter": "python",
   "pygments_lexer": "ipython3",
   "version": "3.8.10"
  }
 },
 "nbformat": 4,
 "nbformat_minor": 5
}
