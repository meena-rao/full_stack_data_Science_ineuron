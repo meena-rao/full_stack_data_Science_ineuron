{
 "cells": [
  {
   "cell_type": "code",
   "execution_count": null,
   "id": "9237ea08",
   "metadata": {},
   "outputs": [],
   "source": [
    "exception handling and logging file is must for product based program"
   ]
  },
  {
   "cell_type": "code",
   "execution_count": 1,
   "id": "4b240574",
   "metadata": {},
   "outputs": [
    {
     "name": "stdout",
     "output_type": "stream",
     "text": [
      "sdfsdf\n"
     ]
    }
   ],
   "source": [
    "print(\"sdfsdf\")"
   ]
  },
  {
   "cell_type": "code",
   "execution_count": 1,
   "id": "526f8fc4",
   "metadata": {},
   "outputs": [],
   "source": [
    "# in production no print() is allowed. avoid print. Logger module is used instead of print()\n",
    "#logging allows to keep track of error, warning etc.\n",
    "import logging\n",
    "logging.basicConfig(filename = 'test1.log', level = logging.INFO)"
   ]
  },
  {
   "cell_type": "code",
   "execution_count": 2,
   "id": "5e86194c",
   "metadata": {},
   "outputs": [],
   "source": [
    "logging.info(\"my info log\")\n",
    "logging.warning(\"this is my warning log\")\n",
    "logging.error(\"error log is this\")\n"
   ]
  },
  {
   "cell_type": "code",
   "execution_count": 9,
   "id": "824a83e8",
   "metadata": {},
   "outputs": [],
   "source": [
    "logging.shutdown()"
   ]
  },
  {
   "cell_type": "code",
   "execution_count": 10,
   "id": "94224a2c",
   "metadata": {},
   "outputs": [],
   "source": [
    "logging.info(\"my info log\")\n",
    "logging.warning(\"this is my warning log\")\n",
    "logging.error(\"error log is this\")\n"
   ]
  },
  {
   "cell_type": "code",
   "execution_count": 4,
   "id": "c949fc98",
   "metadata": {
    "scrolled": true
   },
   "outputs": [
    {
     "data": {
      "text/plain": [
       "'C:\\\\Users\\\\KMRao\\\\2 codebasics'"
      ]
     },
     "execution_count": 4,
     "metadata": {},
     "output_type": "execute_result"
    }
   ],
   "source": [
    "pwd()"
   ]
  },
  {
   "cell_type": "code",
   "execution_count": null,
   "id": "1ef8ad0f",
   "metadata": {},
   "outputs": [],
   "source": [
    "# TYPES OF LOGS:\n",
    "ERROR # 1  highest priority. if this label set then other things are not recorded\n",
    "WARNING #2\n",
    "INFO  # 3\n",
    "DEBUG 4\n",
    " # if low priority is set then all highlevel also recorded\n",
    "CRTITICAL"
   ]
  },
  {
   "cell_type": "code",
   "execution_count": 3,
   "id": "52f4958b",
   "metadata": {},
   "outputs": [],
   "source": [
    "logging.shutdown()"
   ]
  },
  {
   "cell_type": "code",
   "execution_count": 1,
   "id": "499f5288",
   "metadata": {},
   "outputs": [],
   "source": [
    "import logging\n",
    "logging.basicConfig(filename = 'test2.log', level = logging.DEBUG, format = \"%(asctime)s %(level%(message)s\")"
   ]
  },
  {
   "cell_type": "code",
   "execution_count": 2,
   "id": "a1f38665",
   "metadata": {},
   "outputs": [],
   "source": [
    "logging.info(\"this is my info log\")\n",
    "logging.warning(\"this is my warning\")\n",
    "logging.debug(\"debug is this\")"
   ]
  },
  {
   "cell_type": "code",
   "execution_count": null,
   "id": "3f2139ac",
   "metadata": {},
   "outputs": [],
   "source": [
    "import logging\n",
    "logging.basicConfig(filename = 'test2.log', level = logging.DEBUG, format = \"%(asctime)s %(levelna%(message)s\")"
   ]
  },
  {
   "cell_type": "code",
   "execution_count": 2,
   "id": "4729b8ff",
   "metadata": {},
   "outputs": [],
   "source": [
    "import logging\n",
    "logging.basicConfig(filename = 'test1.log', level = logging.ERROR)"
   ]
  },
  {
   "cell_type": "code",
   "execution_count": 3,
   "id": "de087dda",
   "metadata": {},
   "outputs": [],
   "source": [
    "logging.info(\"this is my info lognnnn\")\n",
    "logging.warning(\"this is my warningggggg\")\n",
    "logging.debug(\"debug is thissssssss\")"
   ]
  },
  {
   "cell_type": "code",
   "execution_count": 1,
   "id": "82e35ce8",
   "metadata": {},
   "outputs": [],
   "source": [
    "import logging\n",
    "logging.basicConfig(filename = \"test3.log\", level = logging.DEBUG, format =  \"%(asctime)s %(levelname)s%(message)s\") #lowest lable DeBUGG so it enters all\n",
    "#logging.basicConfig(filename = 'app3.log' , level = logging.DEBUG , format = '%(asctime)s %(name)s %(levelname)s %(message)s',filemode ='r+')\n"
   ]
  },
  {
   "cell_type": "code",
   "execution_count": 4,
   "id": "49f9640b",
   "metadata": {},
   "outputs": [],
   "source": [
    "def divbyz(a,b) :\n",
    "    logging.info(\"this is start of my code and i am trying gto enter  %s and %s\", a, b)\n",
    "    try:\n",
    "        div = a/b\n",
    "        logging.info(\"executed successfully\")\n",
    "    except Exception as E:\n",
    "        logging.error(\"Error has happened\")\n",
    "        logging.exception(\"exception has occured\" + str(E))\n",
    "    "
   ]
  },
  {
   "cell_type": "code",
   "execution_count": 7,
   "id": "d97b205a",
   "metadata": {},
   "outputs": [],
   "source": [
    "divbyz(4,4)"
   ]
  }
 ],
 "metadata": {
  "kernelspec": {
   "display_name": "Python 3",
   "language": "python",
   "name": "python3"
  },
  "language_info": {
   "codemirror_mode": {
    "name": "ipython",
    "version": 3
   },
   "file_extension": ".py",
   "mimetype": "text/x-python",
   "name": "python",
   "nbconvert_exporter": "python",
   "pygments_lexer": "ipython3",
   "version": "3.8.10"
  }
 },
 "nbformat": 4,
 "nbformat_minor": 5
}
