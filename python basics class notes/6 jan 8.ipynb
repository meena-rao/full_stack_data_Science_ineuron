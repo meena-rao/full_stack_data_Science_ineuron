{
 "cells": [
  {
   "cell_type": "markdown",
   "id": "e1da5a50",
   "metadata": {},
   "source": [
    "### multiple arguments with *"
   ]
  },
  {
   "cell_type": "code",
   "execution_count": 1,
   "id": "a7fce285",
   "metadata": {
    "scrolled": true
   },
   "outputs": [
    {
     "data": {
      "text/plain": [
       "(4, 5, 7, 2, 9)"
      ]
     },
     "execution_count": 1,
     "metadata": {},
     "output_type": "execute_result"
    }
   ],
   "source": [
    "# * is not reserved key word.\n",
    "#syntax is def fun(*variable)\n",
    "# * refers to N number of arguments\n",
    "\n",
    "def test(a,b,c,d,e):\n",
    "    return a,b,c,d,e\n",
    "    \n",
    "test(4,5,7,2,9)   "
   ]
  },
  {
   "cell_type": "code",
   "execution_count": 3,
   "id": "06bb77b3",
   "metadata": {},
   "outputs": [],
   "source": [
    "def test1(*args):\n",
    "    return args"
   ]
  },
  {
   "cell_type": "code",
   "execution_count": 4,
   "id": "1bb169a9",
   "metadata": {},
   "outputs": [
    {
     "data": {
      "text/plain": [
       "(12, 45, 6)"
      ]
     },
     "execution_count": 4,
     "metadata": {},
     "output_type": "execute_result"
    }
   ],
   "source": [
    "test1(12,45,6)"
   ]
  },
  {
   "cell_type": "code",
   "execution_count": 5,
   "id": "28ed4eab",
   "metadata": {
    "scrolled": true
   },
   "outputs": [
    {
     "data": {
      "text/plain": [
       "(5, 7, 4, 'gg')"
      ]
     },
     "execution_count": 5,
     "metadata": {},
     "output_type": "execute_result"
    }
   ],
   "source": [
    "test1(5,7,4,\"gg\")"
   ]
  },
  {
   "cell_type": "code",
   "execution_count": 8,
   "id": "aba02e84",
   "metadata": {},
   "outputs": [
    {
     "data": {
      "text/plain": [
       "([3, 56], (5, 7), 'dasdad', (2+8j))"
      ]
     },
     "execution_count": 8,
     "metadata": {},
     "output_type": "execute_result"
    }
   ],
   "source": [
    "test1([3,56], (5,7), \"dasdad\", 2+8j)"
   ]
  },
  {
   "cell_type": "code",
   "execution_count": 9,
   "id": "34699e31",
   "metadata": {},
   "outputs": [],
   "source": [
    "def test2(*kmr):\n",
    "    return kmr"
   ]
  },
  {
   "cell_type": "code",
   "execution_count": 10,
   "id": "d0abe210",
   "metadata": {},
   "outputs": [
    {
     "data": {
      "text/plain": [
       "(6, 8, [6, 8])"
      ]
     },
     "execution_count": 10,
     "metadata": {},
     "output_type": "execute_result"
    }
   ],
   "source": [
    "test2(6,8,[6,8])"
   ]
  },
  {
   "cell_type": "markdown",
   "id": "e3b038dd",
   "metadata": {},
   "source": [
    "### spcific argument"
   ]
  },
  {
   "cell_type": "code",
   "execution_count": 12,
   "id": "f5efa588",
   "metadata": {},
   "outputs": [],
   "source": [
    "def test3(*kmr, a):\n",
    "    return kmr, a"
   ]
  },
  {
   "cell_type": "code",
   "execution_count": 15,
   "id": "c5cf24b3",
   "metadata": {
    "scrolled": true
   },
   "outputs": [
    {
     "data": {
      "text/plain": [
       "((45, 6, 7, 5), 9)"
      ]
     },
     "execution_count": 15,
     "metadata": {},
     "output_type": "execute_result"
    }
   ],
   "source": [
    "test3(45,6,7,5, a=9)"
   ]
  },
  {
   "cell_type": "code",
   "execution_count": 16,
   "id": "1a208eff",
   "metadata": {},
   "outputs": [
    {
     "ename": "TypeError",
     "evalue": "test3() missing 1 required keyword-only argument: 'a'",
     "output_type": "error",
     "traceback": [
      "\u001b[1;31m---------------------------------------------------------------------------\u001b[0m",
      "\u001b[1;31mTypeError\u001b[0m                                 Traceback (most recent call last)",
      "\u001b[1;32m<ipython-input-16-9f41fa196e0a>\u001b[0m in \u001b[0;36m<module>\u001b[1;34m\u001b[0m\n\u001b[1;32m----> 1\u001b[1;33m \u001b[0mtest3\u001b[0m\u001b[1;33m(\u001b[0m\u001b[1;36m45\u001b[0m\u001b[1;33m,\u001b[0m\u001b[1;36m6\u001b[0m\u001b[1;33m,\u001b[0m\u001b[1;36m7\u001b[0m\u001b[1;33m,\u001b[0m\u001b[1;36m5\u001b[0m\u001b[1;33m)\u001b[0m\u001b[1;33m\u001b[0m\u001b[1;33m\u001b[0m\u001b[0m\n\u001b[0m",
      "\u001b[1;31mTypeError\u001b[0m: test3() missing 1 required keyword-only argument: 'a'"
     ]
    }
   ],
   "source": [
    "test3(45,6,7,5)\n"
   ]
  },
  {
   "cell_type": "code",
   "execution_count": 17,
   "id": "3ef4f13d",
   "metadata": {},
   "outputs": [],
   "source": [
    "def test4(*kmr, a,b,c):\n",
    "    return kmr, a,b,c"
   ]
  },
  {
   "cell_type": "code",
   "execution_count": 18,
   "id": "20e7fe81",
   "metadata": {
    "scrolled": true
   },
   "outputs": [
    {
     "ename": "TypeError",
     "evalue": "test4() missing 2 required keyword-only arguments: 'b' and 'c'",
     "output_type": "error",
     "traceback": [
      "\u001b[1;31m---------------------------------------------------------------------------\u001b[0m",
      "\u001b[1;31mTypeError\u001b[0m                                 Traceback (most recent call last)",
      "\u001b[1;32m<ipython-input-18-67fb96795ef7>\u001b[0m in \u001b[0;36m<module>\u001b[1;34m\u001b[0m\n\u001b[1;32m----> 1\u001b[1;33m \u001b[0mtest4\u001b[0m\u001b[1;33m(\u001b[0m\u001b[1;36m4\u001b[0m\u001b[1;33m,\u001b[0m\u001b[1;36m66\u001b[0m\u001b[1;33m,\u001b[0m\u001b[1;36m1\u001b[0m\u001b[1;33m,\u001b[0m\u001b[1;36m3\u001b[0m\u001b[1;33m,\u001b[0m\u001b[0ma\u001b[0m\u001b[1;33m=\u001b[0m\u001b[1;36m7\u001b[0m\u001b[1;33m)\u001b[0m\u001b[1;33m\u001b[0m\u001b[1;33m\u001b[0m\u001b[0m\n\u001b[0m",
      "\u001b[1;31mTypeError\u001b[0m: test4() missing 2 required keyword-only arguments: 'b' and 'c'"
     ]
    }
   ],
   "source": [
    "test4(4,66,1,3,a=7)"
   ]
  },
  {
   "cell_type": "code",
   "execution_count": 19,
   "id": "7f155f08",
   "metadata": {
    "scrolled": true
   },
   "outputs": [
    {
     "data": {
      "text/plain": [
       "((), 5, 7, 4)"
      ]
     },
     "execution_count": 19,
     "metadata": {},
     "output_type": "execute_result"
    }
   ],
   "source": [
    "test4(a=5,b=7,c=4)"
   ]
  },
  {
   "cell_type": "code",
   "execution_count": 24,
   "id": "a5167f69",
   "metadata": {},
   "outputs": [],
   "source": [
    "def test5(a, *kmr ):\n",
    "    return kmr, a"
   ]
  },
  {
   "cell_type": "code",
   "execution_count": 25,
   "id": "07eadb47",
   "metadata": {
    "scrolled": true
   },
   "outputs": [
    {
     "ename": "SyntaxError",
     "evalue": "positional argument follows keyword argument (<ipython-input-25-aa019b727a3b>, line 1)",
     "output_type": "error",
     "traceback": [
      "\u001b[1;36m  File \u001b[1;32m\"<ipython-input-25-aa019b727a3b>\"\u001b[1;36m, line \u001b[1;32m1\u001b[0m\n\u001b[1;33m    test5(a=6,5,6,7)\u001b[0m\n\u001b[1;37m              ^\u001b[0m\n\u001b[1;31mSyntaxError\u001b[0m\u001b[1;31m:\u001b[0m positional argument follows keyword argument\n"
     ]
    }
   ],
   "source": [
    "test5(a=6,5,6,7)"
   ]
  },
  {
   "cell_type": "code",
   "execution_count": 26,
   "id": "c09d92e9",
   "metadata": {
    "scrolled": true
   },
   "outputs": [
    {
     "data": {
      "text/plain": [
       "((7, 8, 9), 6)"
      ]
     },
     "execution_count": 26,
     "metadata": {},
     "output_type": "execute_result"
    }
   ],
   "source": [
    "test5(6,7,8,9)"
   ]
  },
  {
   "cell_type": "markdown",
   "id": "7af377d9",
   "metadata": {},
   "source": [
    "### here first one is taken as a positional argument"
   ]
  },
  {
   "cell_type": "code",
   "execution_count": 28,
   "id": "3450c114",
   "metadata": {},
   "outputs": [],
   "source": [
    "def test6(a,*kmr,b,c):\n",
    "    return a, kmr, b,c"
   ]
  },
  {
   "cell_type": "code",
   "execution_count": 32,
   "id": "4919a75f",
   "metadata": {
    "scrolled": true
   },
   "outputs": [
    {
     "ename": "TypeError",
     "evalue": "test6() missing 2 required keyword-only arguments: 'b' and 'c'",
     "output_type": "error",
     "traceback": [
      "\u001b[1;31m---------------------------------------------------------------------------\u001b[0m",
      "\u001b[1;31mTypeError\u001b[0m                                 Traceback (most recent call last)",
      "\u001b[1;32m<ipython-input-32-a116b0530382>\u001b[0m in \u001b[0;36m<module>\u001b[1;34m\u001b[0m\n\u001b[1;32m----> 1\u001b[1;33m \u001b[0mtest6\u001b[0m\u001b[1;33m(\u001b[0m\u001b[1;34m\"km\"\u001b[0m\u001b[1;33m,\u001b[0m \u001b[1;33m[\u001b[0m\u001b[1;36m5\u001b[0m\u001b[1;33m,\u001b[0m\u001b[1;36m8\u001b[0m\u001b[1;33m,\u001b[0m\u001b[1;36m9\u001b[0m\u001b[1;33m]\u001b[0m\u001b[1;33m,\u001b[0m \u001b[1;36m4\u001b[0m\u001b[1;33m,\u001b[0m\u001b[1;36m89\u001b[0m\u001b[1;33m,\u001b[0m\u001b[1;36m2\u001b[0m\u001b[1;33m)\u001b[0m\u001b[1;33m\u001b[0m\u001b[1;33m\u001b[0m\u001b[0m\n\u001b[0m",
      "\u001b[1;31mTypeError\u001b[0m: test6() missing 2 required keyword-only arguments: 'b' and 'c'"
     ]
    }
   ],
   "source": [
    "test6(\"km\", [5,8,9], 4,89,2)"
   ]
  },
  {
   "cell_type": "code",
   "execution_count": 31,
   "id": "c6f4480a",
   "metadata": {
    "scrolled": true
   },
   "outputs": [
    {
     "data": {
      "text/plain": [
       "('km', ([5, 8, 9], 4), 89, 2)"
      ]
     },
     "execution_count": 31,
     "metadata": {},
     "output_type": "execute_result"
    }
   ],
   "source": [
    "test6(\"km\", [5,8,9], 4, b=89,c=2)"
   ]
  },
  {
   "cell_type": "markdown",
   "id": "395e8a73",
   "metadata": {},
   "source": [
    "### with * returnn will be tuple"
   ]
  },
  {
   "cell_type": "markdown",
   "id": "d92f94ea",
   "metadata": {},
   "source": [
    "### pass any data but fetch list and return only list"
   ]
  },
  {
   "cell_type": "code",
   "execution_count": 36,
   "id": "9e7b3432",
   "metadata": {},
   "outputs": [],
   "source": [
    "def test7(*kmr):\n",
    "    \"\"\" return list\"\"\"\n",
    "    for i in kmr:\n",
    "        if type(i)== list:\n",
    "            return i\n",
    "    "
   ]
  },
  {
   "cell_type": "code",
   "execution_count": 37,
   "id": "2379c15e",
   "metadata": {
    "scrolled": true
   },
   "outputs": [
    {
     "data": {
      "text/plain": [
       "[34, 78]"
      ]
     },
     "execution_count": 37,
     "metadata": {},
     "output_type": "execute_result"
    }
   ],
   "source": [
    "test7(6,8,[34,78])"
   ]
  },
  {
   "cell_type": "markdown",
   "id": "8f43e2f1",
   "metadata": {},
   "source": [
    "### issue is it returns first list only"
   ]
  },
  {
   "cell_type": "code",
   "execution_count": 38,
   "id": "4b506fa0",
   "metadata": {},
   "outputs": [
    {
     "data": {
      "text/plain": [
       "[89, 9]"
      ]
     },
     "execution_count": 38,
     "metadata": {},
     "output_type": "execute_result"
    }
   ],
   "source": [
    "test7(5,7,56,[89,9], [6,90], 6,8)"
   ]
  },
  {
   "cell_type": "code",
   "execution_count": 41,
   "id": "3c3ec8ae",
   "metadata": {
    "scrolled": true
   },
   "outputs": [
    {
     "name": "stdout",
     "output_type": "stream",
     "text": [
      "[89, 9]\n",
      "[6, 90]\n"
     ]
    }
   ],
   "source": [
    "def test7(*kmr):\n",
    "    \"\"\" return list\"\"\"\n",
    "    for i in kmr:\n",
    "        if type(i)== list:\n",
    "            print(i)\n",
    "test7(5,7,56,[89,9], [6,90], 6,8)"
   ]
  },
  {
   "cell_type": "markdown",
   "id": "718a4787",
   "metadata": {},
   "source": [
    "### but print returns nan type. cannot perform operation on ot"
   ]
  },
  {
   "cell_type": "code",
   "execution_count": 43,
   "id": "f5448d37",
   "metadata": {},
   "outputs": [
    {
     "data": {
      "text/plain": [
       "[[89, 9], [6, 90]]"
      ]
     },
     "execution_count": 43,
     "metadata": {},
     "output_type": "execute_result"
    }
   ],
   "source": [
    "def test7(*kmr):\n",
    "    \"\"\" return list\"\"\"\n",
    "    l = []\n",
    "    for i in kmr:\n",
    "        if type(i)== list:\n",
    "            l.append(i)\n",
    "    return l\n",
    "\n",
    "test7(5,7,56,[89,9], [6,90], 6,8)"
   ]
  },
  {
   "cell_type": "code",
   "execution_count": 44,
   "id": "1f1bee87",
   "metadata": {},
   "outputs": [],
   "source": [
    "#range( can also be used)"
   ]
  },
  {
   "cell_type": "markdown",
   "id": "3587c365",
   "metadata": {},
   "source": [
    "### pass N number of data. pass these as key value pair means dictionary"
   ]
  },
  {
   "cell_type": "code",
   "execution_count": 46,
   "id": "27954491",
   "metadata": {
    "scrolled": true
   },
   "outputs": [
    {
     "data": {
      "text/plain": [
       "[4, 5, 6]"
      ]
     },
     "execution_count": 46,
     "metadata": {},
     "output_type": "execute_result"
    }
   ],
   "source": [
    "    d ={\"a\": [4,5,6], \"d\":[4,6]}\n",
    "    d[\"a\"]"
   ]
  },
  {
   "cell_type": "code",
   "execution_count": 47,
   "id": "617c6d38",
   "metadata": {},
   "outputs": [],
   "source": [
    "def test7(**kwargs): #keyworg arguments\n",
    "    return kwargs"
   ]
  },
  {
   "cell_type": "code",
   "execution_count": 49,
   "id": "a9887c2a",
   "metadata": {
    "scrolled": true
   },
   "outputs": [
    {
     "ename": "TypeError",
     "evalue": "test7() takes 0 positional arguments but 2 were given",
     "output_type": "error",
     "traceback": [
      "\u001b[1;31m---------------------------------------------------------------------------\u001b[0m",
      "\u001b[1;31mTypeError\u001b[0m                                 Traceback (most recent call last)",
      "\u001b[1;32m<ipython-input-49-4f8c2c915dbb>\u001b[0m in \u001b[0;36m<module>\u001b[1;34m\u001b[0m\n\u001b[1;32m----> 1\u001b[1;33m \u001b[0mtest7\u001b[0m\u001b[1;33m(\u001b[0m\u001b[1;36m4\u001b[0m\u001b[1;33m,\u001b[0m\u001b[1;36m67\u001b[0m\u001b[1;33m)\u001b[0m\u001b[1;33m\u001b[0m\u001b[1;33m\u001b[0m\u001b[0m\n\u001b[0m",
      "\u001b[1;31mTypeError\u001b[0m: test7() takes 0 positional arguments but 2 were given"
     ]
    }
   ],
   "source": [
    "test7(4,67) #not working with ** \n",
    "#"
   ]
  },
  {
   "cell_type": "code",
   "execution_count": 53,
   "id": "fd938de5",
   "metadata": {},
   "outputs": [
    {
     "data": {
      "text/plain": [
       "{'key': 'a', 'value': [4, 5, 6]}"
      ]
     },
     "execution_count": 53,
     "metadata": {},
     "output_type": "execute_result"
    }
   ],
   "source": [
    "test7(key=\"a\",value= [4,5,6])"
   ]
  },
  {
   "cell_type": "code",
   "execution_count": 54,
   "id": "0741cbbc",
   "metadata": {},
   "outputs": [],
   "source": [
    "def test8(**kmr):\n",
    "    return kmr"
   ]
  },
  {
   "cell_type": "code",
   "execution_count": 56,
   "id": "07f9fe91",
   "metadata": {},
   "outputs": [
    {
     "data": {
      "text/plain": [
       "{'b': 89, 'g': [5, 6, 7], 'k': 8}"
      ]
     },
     "execution_count": 56,
     "metadata": {},
     "output_type": "execute_result"
    }
   ],
   "source": [
    "test8(b=89,g=[5,6,7],k=8)"
   ]
  },
  {
   "cell_type": "code",
   "execution_count": 57,
   "id": "2762c401",
   "metadata": {
    "scrolled": true
   },
   "outputs": [
    {
     "ename": "SyntaxError",
     "evalue": "expression cannot contain assignment, perhaps you meant \"==\"? (<ipython-input-57-f200d27ba762>, line 1)",
     "output_type": "error",
     "traceback": [
      "\u001b[1;36m  File \u001b[1;32m\"<ipython-input-57-f200d27ba762>\"\u001b[1;36m, line \u001b[1;32m1\u001b[0m\n\u001b[1;33m    test8(\"s\"= \"gfd\")\u001b[0m\n\u001b[1;37m          ^\u001b[0m\n\u001b[1;31mSyntaxError\u001b[0m\u001b[1;31m:\u001b[0m expression cannot contain assignment, perhaps you meant \"==\"?\n"
     ]
    }
   ],
   "source": [
    "test8(\"s\"= \"gfd\")"
   ]
  },
  {
   "cell_type": "code",
   "execution_count": 58,
   "id": "b6a8c968",
   "metadata": {},
   "outputs": [
    {
     "data": {
      "text/plain": [
       "{'f': 'gg'}"
      ]
     },
     "execution_count": 58,
     "metadata": {},
     "output_type": "execute_result"
    }
   ],
   "source": [
    "test8(f=\"gg\")"
   ]
  },
  {
   "cell_type": "code",
   "execution_count": 61,
   "id": "1aa55233",
   "metadata": {},
   "outputs": [],
   "source": [
    "def test9(**kmr):\n",
    "    return kmr"
   ]
  },
  {
   "cell_type": "code",
   "execution_count": 62,
   "id": "db1ba140",
   "metadata": {
    "scrolled": true
   },
   "outputs": [
    {
     "data": {
      "text/plain": [
       "{'name': 'sad', 'age': 78, 'phone': '567'}"
      ]
     },
     "execution_count": 62,
     "metadata": {},
     "output_type": "execute_result"
    }
   ],
   "source": [
    "test9(name=\"sad\", age = 78, phone=\"567\")"
   ]
  },
  {
   "cell_type": "code",
   "execution_count": 64,
   "id": "13aa4dd2",
   "metadata": {},
   "outputs": [],
   "source": [
    "def test10(a, **kmr):\n",
    "    return a, kmr"
   ]
  },
  {
   "cell_type": "code",
   "execution_count": 65,
   "id": "4f345ed2",
   "metadata": {
    "scrolled": true
   },
   "outputs": [
    {
     "ename": "TypeError",
     "evalue": "test10() got multiple values for argument 'a'",
     "output_type": "error",
     "traceback": [
      "\u001b[1;31m---------------------------------------------------------------------------\u001b[0m",
      "\u001b[1;31mTypeError\u001b[0m                                 Traceback (most recent call last)",
      "\u001b[1;32m<ipython-input-65-9314c384a716>\u001b[0m in \u001b[0;36m<module>\u001b[1;34m\u001b[0m\n\u001b[1;32m----> 1\u001b[1;33m \u001b[0mtest10\u001b[0m\u001b[1;33m(\u001b[0m\u001b[1;36m45\u001b[0m\u001b[1;33m,\u001b[0m\u001b[0ma\u001b[0m\u001b[1;33m=\u001b[0m\u001b[1;36m7\u001b[0m\u001b[1;33m,\u001b[0m\u001b[0mb\u001b[0m\u001b[1;33m=\u001b[0m\u001b[1;36m8\u001b[0m\u001b[1;33m)\u001b[0m\u001b[1;33m\u001b[0m\u001b[1;33m\u001b[0m\u001b[0m\n\u001b[0m",
      "\u001b[1;31mTypeError\u001b[0m: test10() got multiple values for argument 'a'"
     ]
    }
   ],
   "source": [
    "test10(45,a=7,b=8) #first one is a and inside key vakue also key is a. it is conflict"
   ]
  },
  {
   "cell_type": "code",
   "execution_count": 66,
   "id": "ad58813e",
   "metadata": {},
   "outputs": [
    {
     "data": {
      "text/plain": [
       "(45, {'v': 7, 'b': 8})"
      ]
     },
     "execution_count": 66,
     "metadata": {},
     "output_type": "execute_result"
    }
   ],
   "source": [
    "test10(45,v=7,b=8)"
   ]
  },
  {
   "cell_type": "code",
   "execution_count": 67,
   "id": "8d7f8b3b",
   "metadata": {},
   "outputs": [
    {
     "ename": "SyntaxError",
     "evalue": "invalid syntax (<ipython-input-67-34346ecbc031>, line 1)",
     "output_type": "error",
     "traceback": [
      "\u001b[1;36m  File \u001b[1;32m\"<ipython-input-67-34346ecbc031>\"\u001b[1;36m, line \u001b[1;32m1\u001b[0m\n\u001b[1;33m    def test11(a, **kmr, *arg):\u001b[0m\n\u001b[1;37m                         ^\u001b[0m\n\u001b[1;31mSyntaxError\u001b[0m\u001b[1;31m:\u001b[0m invalid syntax\n"
     ]
    }
   ],
   "source": [
    "def test11(a, **kmr, *arg):\n",
    "    return a, kmr,arg"
   ]
  },
  {
   "cell_type": "markdown",
   "id": "53b4f04f",
   "metadata": {},
   "source": [
    "### order is important"
   ]
  },
  {
   "cell_type": "code",
   "execution_count": 74,
   "id": "714bee74",
   "metadata": {},
   "outputs": [
    {
     "data": {
      "text/plain": [
       "(6, (6, 7, 9, 10), {'g': 8, 'l': 9})"
      ]
     },
     "execution_count": 74,
     "metadata": {},
     "output_type": "execute_result"
    }
   ],
   "source": [
    "def test11(a, *kmr, **arg):\n",
    "    return a, kmr,arg  #order is important\n",
    "\n",
    "test11(6,6,7,9,10, g=8, l=9)"
   ]
  },
  {
   "cell_type": "code",
   "execution_count": 75,
   "id": "d4cce18b",
   "metadata": {
    "scrolled": true
   },
   "outputs": [
    {
     "ename": "TypeError",
     "evalue": "test11() got multiple values for argument 'a'",
     "output_type": "error",
     "traceback": [
      "\u001b[1;31m---------------------------------------------------------------------------\u001b[0m",
      "\u001b[1;31mTypeError\u001b[0m                                 Traceback (most recent call last)",
      "\u001b[1;32m<ipython-input-75-20aa274d2a28>\u001b[0m in \u001b[0;36m<module>\u001b[1;34m\u001b[0m\n\u001b[1;32m----> 1\u001b[1;33m \u001b[0mtest11\u001b[0m\u001b[1;33m(\u001b[0m\u001b[1;36m4\u001b[0m\u001b[1;33m,\u001b[0m\u001b[1;36m6\u001b[0m\u001b[1;33m,\u001b[0m\u001b[1;36m7\u001b[0m\u001b[1;33m,\u001b[0m\u001b[0ma\u001b[0m\u001b[1;33m=\u001b[0m\u001b[1;36m78\u001b[0m\u001b[1;33m,\u001b[0m \u001b[0mh\u001b[0m\u001b[1;33m=\u001b[0m\u001b[1;36m89\u001b[0m\u001b[1;33m,\u001b[0m\u001b[0mj\u001b[0m\u001b[1;33m=\u001b[0m\u001b[1;36m9\u001b[0m\u001b[1;33m)\u001b[0m\u001b[1;33m\u001b[0m\u001b[1;33m\u001b[0m\u001b[0m\n\u001b[0m",
      "\u001b[1;31mTypeError\u001b[0m: test11() got multiple values for argument 'a'"
     ]
    }
   ],
   "source": [
    "test11(4,6,7,a=78, h=89,j=9)"
   ]
  },
  {
   "cell_type": "markdown",
   "id": "ac48231b",
   "metadata": {},
   "source": [
    "### fnction without name- anonymous f()"
   ]
  },
  {
   "cell_type": "code",
   "execution_count": 76,
   "id": "6d951551",
   "metadata": {},
   "outputs": [],
   "source": [
    "def test12(a,b):\n",
    "    return a*b"
   ]
  },
  {
   "cell_type": "code",
   "execution_count": 77,
   "id": "16592078",
   "metadata": {
    "scrolled": true
   },
   "outputs": [
    {
     "data": {
      "text/plain": [
       "15"
      ]
     },
     "execution_count": 77,
     "metadata": {},
     "output_type": "execute_result"
    }
   ],
   "source": [
    "test12(3,5)"
   ]
  },
  {
   "cell_type": "code",
   "execution_count": 78,
   "id": "7baac820",
   "metadata": {
    "scrolled": true
   },
   "outputs": [
    {
     "data": {
      "text/plain": [
       "<function __main__.<lambda>(a, b)>"
      ]
     },
     "execution_count": 78,
     "metadata": {},
     "output_type": "execute_result"
    }
   ],
   "source": [
    "lambda  a,b :a*b"
   ]
  },
  {
   "cell_type": "code",
   "execution_count": 81,
   "id": "e89ee9fe",
   "metadata": {},
   "outputs": [],
   "source": [
    "a = lambda  a,b :(a*b, a+b)"
   ]
  },
  {
   "cell_type": "code",
   "execution_count": 82,
   "id": "24129a02",
   "metadata": {},
   "outputs": [
    {
     "data": {
      "text/plain": [
       "(15, 8)"
      ]
     },
     "execution_count": 82,
     "metadata": {},
     "output_type": "execute_result"
    }
   ],
   "source": [
    "a(3,5)"
   ]
  },
  {
   "cell_type": "code",
   "execution_count": 84,
   "id": "9b8e8e14",
   "metadata": {},
   "outputs": [],
   "source": [
    "a = lambda *a:  a"
   ]
  },
  {
   "cell_type": "code",
   "execution_count": 86,
   "id": "fbfd8702",
   "metadata": {
    "scrolled": true
   },
   "outputs": [
    {
     "data": {
      "text/plain": [
       "(6, 7, 8)"
      ]
     },
     "execution_count": 86,
     "metadata": {},
     "output_type": "execute_result"
    }
   ],
   "source": [
    "a(6,7,8)"
   ]
  },
  {
   "cell_type": "code",
   "execution_count": 92,
   "id": "fea4467c",
   "metadata": {
    "scrolled": true
   },
   "outputs": [
    {
     "ename": "SyntaxError",
     "evalue": "invalid syntax (<ipython-input-92-bf2d5e89232f>, line 1)",
     "output_type": "error",
     "traceback": [
      "\u001b[1;36m  File \u001b[1;32m\"<ipython-input-92-bf2d5e89232f>\"\u001b[1;36m, line \u001b[1;32m1\u001b[0m\n\u001b[1;33m    a =lambda x: [for i in x : print(i)]\u001b[0m\n\u001b[1;37m                  ^\u001b[0m\n\u001b[1;31mSyntaxError\u001b[0m\u001b[1;31m:\u001b[0m invalid syntax\n"
     ]
    }
   ],
   "source": [
    "a =lambda x: [for i in x : print(i)]"
   ]
  },
  {
   "cell_type": "code",
   "execution_count": 93,
   "id": "c2ff4f74",
   "metadata": {},
   "outputs": [],
   "source": [
    "a =lambda x: [print(i) for i in x]"
   ]
  },
  {
   "cell_type": "code",
   "execution_count": 94,
   "id": "787f787e",
   "metadata": {
    "scrolled": true
   },
   "outputs": [
    {
     "name": "stdout",
     "output_type": "stream",
     "text": [
      "6\n",
      "4\n",
      "8\n"
     ]
    },
    {
     "data": {
      "text/plain": [
       "[None, None, None]"
      ]
     },
     "execution_count": 94,
     "metadata": {},
     "output_type": "execute_result"
    }
   ],
   "source": [
    "a([6,4,8])"
   ]
  },
  {
   "cell_type": "code",
   "execution_count": 95,
   "id": "dc08c53d",
   "metadata": {},
   "outputs": [],
   "source": [
    "a =lambda x: [i for i in x]"
   ]
  },
  {
   "cell_type": "code",
   "execution_count": 96,
   "id": "462ce340",
   "metadata": {
    "scrolled": true
   },
   "outputs": [
    {
     "data": {
      "text/plain": [
       "[6, 4, 8]"
      ]
     },
     "execution_count": 96,
     "metadata": {},
     "output_type": "execute_result"
    }
   ],
   "source": [
    "a([6,4,8])"
   ]
  },
  {
   "cell_type": "markdown",
   "id": "00fd79cb",
   "metadata": {},
   "source": [
    "### list as comprehensive way"
   ]
  },
  {
   "cell_type": "code",
   "execution_count": 110,
   "id": "12c2662c",
   "metadata": {},
   "outputs": [
    {
     "ename": "NameError",
     "evalue": "name 'li' is not defined",
     "output_type": "error",
     "traceback": [
      "\u001b[1;31m---------------------------------------------------------------------------\u001b[0m",
      "\u001b[1;31mNameError\u001b[0m                                 Traceback (most recent call last)",
      "\u001b[1;32m<ipython-input-110-592b70845fdd>\u001b[0m in \u001b[0;36m<module>\u001b[1;34m\u001b[0m\n\u001b[0;32m      5\u001b[0m     \u001b[1;32mreturn\u001b[0m \u001b[0ml2\u001b[0m\u001b[1;33m\u001b[0m\u001b[1;33m\u001b[0m\u001b[0m\n\u001b[0;32m      6\u001b[0m \u001b[0mlis\u001b[0m\u001b[1;33m(\u001b[0m\u001b[1;33m[\u001b[0m\u001b[1;36m4\u001b[0m\u001b[1;33m,\u001b[0m\u001b[1;36m5\u001b[0m\u001b[1;33m,\u001b[0m\u001b[1;36m6\u001b[0m\u001b[1;33m]\u001b[0m\u001b[1;33m)\u001b[0m\u001b[1;33m\u001b[0m\u001b[1;33m\u001b[0m\u001b[0m\n\u001b[1;32m----> 7\u001b[1;33m \u001b[1;33m[\u001b[0m\u001b[0mi\u001b[0m \u001b[1;32mfor\u001b[0m \u001b[0mi\u001b[0m \u001b[1;32min\u001b[0m \u001b[0mli\u001b[0m\u001b[1;33m]\u001b[0m\u001b[1;33m\u001b[0m\u001b[1;33m\u001b[0m\u001b[0m\n\u001b[0m",
      "\u001b[1;31mNameError\u001b[0m: name 'li' is not defined"
     ]
    }
   ],
   "source": [
    "def lis(l):\n",
    "    l2 =[]\n",
    "    for i in l:\n",
    "        l2.append(i) \n",
    "    return l2\n",
    "lis([4,5,6])\n",
    "\n",
    "[i for i in li]"
   ]
  },
  {
   "cell_type": "code",
   "execution_count": 101,
   "id": "0bbbb16a",
   "metadata": {
    "scrolled": true
   },
   "outputs": [],
   "source": [
    "a = lambda **kwargs:kwargs\n"
   ]
  },
  {
   "cell_type": "code",
   "execution_count": 102,
   "id": "5400d4b4",
   "metadata": {},
   "outputs": [
    {
     "data": {
      "text/plain": [
       "{'a': 45, 'b': 67}"
      ]
     },
     "execution_count": 102,
     "metadata": {},
     "output_type": "execute_result"
    }
   ],
   "source": [
    "a(a=45,b=67)"
   ]
  },
  {
   "cell_type": "markdown",
   "id": "e20a5368",
   "metadata": {},
   "source": [
    "### variable outside function- global"
   ]
  },
  {
   "cell_type": "code",
   "execution_count": 105,
   "id": "73d54440",
   "metadata": {
    "scrolled": true
   },
   "outputs": [
    {
     "data": {
      "text/plain": [
       "16"
      ]
     },
     "execution_count": 105,
     "metadata": {},
     "output_type": "execute_result"
    }
   ],
   "source": [
    "a=9\n",
    "def f(c,d):\n",
    "    return c+d\n",
    "\n",
    "f(a,7)"
   ]
  },
  {
   "cell_type": "code",
   "execution_count": 108,
   "id": "8032b83c",
   "metadata": {},
   "outputs": [
    {
     "data": {
      "text/plain": [
       "16"
      ]
     },
     "execution_count": 108,
     "metadata": {},
     "output_type": "execute_result"
    }
   ],
   "source": [
    "a=9\n",
    "def f(c,d):\n",
    "    a=10\n",
    "    return c+d\n",
    "\n",
    "f(a,7)"
   ]
  },
  {
   "cell_type": "code",
   "execution_count": null,
   "id": "a1be51ca",
   "metadata": {},
   "outputs": [],
   "source": [
    "a=9\n",
    "def f(c,d):\n",
    "    a=10\n",
    "    return c+d"
   ]
  },
  {
   "cell_type": "code",
   "execution_count": 114,
   "id": "5a545355",
   "metadata": {},
   "outputs": [],
   "source": [
    "a=9\n",
    "def f(c,d):\n",
    "    c=5\n",
    "    return c+d"
   ]
  },
  {
   "cell_type": "code",
   "execution_count": 115,
   "id": "674c6fbf",
   "metadata": {},
   "outputs": [
    {
     "data": {
      "text/plain": [
       "11"
      ]
     },
     "execution_count": 115,
     "metadata": {},
     "output_type": "execute_result"
    }
   ],
   "source": [
    "f(a,6)"
   ]
  },
  {
   "cell_type": "code",
   "execution_count": 116,
   "id": "ec250c91",
   "metadata": {
    "scrolled": false
   },
   "outputs": [
    {
     "data": {
      "text/plain": [
       "25"
      ]
     },
     "execution_count": 116,
     "metadata": {},
     "output_type": "execute_result"
    }
   ],
   "source": [
    "f(10,20)"
   ]
  },
  {
   "cell_type": "code",
   "execution_count": 127,
   "id": "2209834d",
   "metadata": {},
   "outputs": [],
   "source": [
    "#list comprehensive\n",
    "#with function 2\n",
    "li = [5,67,8]\n",
    "def add(li):\n",
    "    l2 =[]\n",
    "    for i in li:\n",
    "        l2.append(i+2)\n",
    "    return l2"
   ]
  },
  {
   "cell_type": "code",
   "execution_count": 121,
   "id": "0ab1a03a",
   "metadata": {},
   "outputs": [
    {
     "data": {
      "text/plain": [
       "[7, 69, 10]"
      ]
     },
     "execution_count": 121,
     "metadata": {},
     "output_type": "execute_result"
    }
   ],
   "source": [
    "add(li)"
   ]
  },
  {
   "cell_type": "code",
   "execution_count": 124,
   "id": "57008c06",
   "metadata": {},
   "outputs": [],
   "source": [
    "#another approach\n",
    "a =lambda x:[i +2 for i in li]"
   ]
  },
  {
   "cell_type": "code",
   "execution_count": 125,
   "id": "e748b01d",
   "metadata": {
    "scrolled": true
   },
   "outputs": [
    {
     "data": {
      "text/plain": [
       "[7, 69, 10]"
      ]
     },
     "execution_count": 125,
     "metadata": {},
     "output_type": "execute_result"
    }
   ],
   "source": [
    "a(li)"
   ]
  },
  {
   "cell_type": "markdown",
   "id": "8d677e93",
   "metadata": {},
   "source": [
    "### lit comprehension"
   ]
  },
  {
   "cell_type": "code",
   "execution_count": 128,
   "id": "febc478c",
   "metadata": {},
   "outputs": [
    {
     "data": {
      "text/plain": [
       "[3, 4, 5]"
      ]
     },
     "execution_count": 128,
     "metadata": {},
     "output_type": "execute_result"
    }
   ],
   "source": [
    "#4\n",
    "li =[1,2,3]\n",
    "[i+2 for i in li]"
   ]
  },
  {
   "cell_type": "code",
   "execution_count": 130,
   "id": "ba915156",
   "metadata": {
    "scrolled": true
   },
   "outputs": [
    {
     "data": {
      "text/plain": [
       "[(1, 2), (4, 3), (9, 4)]"
      ]
     },
     "execution_count": 130,
     "metadata": {},
     "output_type": "execute_result"
    }
   ],
   "source": [
    "li =[1,2,3]\n",
    "[(i**2, i+1) for i in li]"
   ]
  },
  {
   "cell_type": "code",
   "execution_count": 131,
   "id": "5ca08eb2",
   "metadata": {
    "scrolled": true
   },
   "outputs": [
    {
     "data": {
      "text/plain": [
       "[(9, 4)]"
      ]
     },
     "execution_count": 131,
     "metadata": {},
     "output_type": "execute_result"
    }
   ],
   "source": [
    "li =[1,2,3]\n",
    "[(i**2, i+1) for i in li if i >2]"
   ]
  },
  {
   "cell_type": "code",
   "execution_count": 134,
   "id": "ccb32511",
   "metadata": {},
   "outputs": [
    {
     "data": {
      "text/plain": [
       "[(25, 10), (4489, 134), (64, 16)]"
      ]
     },
     "execution_count": 134,
     "metadata": {},
     "output_type": "execute_result"
    }
   ],
   "source": [
    "li = [5,67,8]\n",
    "def add(li):\n",
    "    l2 =[]\n",
    "    for i in li:\n",
    "        l2.append((i**2, i+i))\n",
    "    return l2\n",
    "\n",
    "add(li)"
   ]
  },
  {
   "cell_type": "code",
   "execution_count": 135,
   "id": "fc65ed7e",
   "metadata": {
    "scrolled": true
   },
   "outputs": [
    {
     "data": {
      "text/plain": [
       "[]"
      ]
     },
     "execution_count": 135,
     "metadata": {},
     "output_type": "execute_result"
    }
   ],
   "source": [
    "li =[1,2,3]\n",
    "[(i**2, i+1) for i in li if i >2 if i<3]"
   ]
  },
  {
   "cell_type": "code",
   "execution_count": 136,
   "id": "5ec75095",
   "metadata": {},
   "outputs": [],
   "source": [
    "d ={1:3,2:4,3:56}"
   ]
  },
  {
   "cell_type": "code",
   "execution_count": 137,
   "id": "ef399556",
   "metadata": {},
   "outputs": [
    {
     "data": {
      "text/plain": [
       "{0: 0, 1: 1, 2: 4, 3: 9, 4: 16, 5: 25, 6: 36, 7: 49, 8: 64, 9: 81}"
      ]
     },
     "execution_count": 137,
     "metadata": {},
     "output_type": "execute_result"
    }
   ],
   "source": [
    "{i:i**2 for i in range(10)}"
   ]
  },
  {
   "cell_type": "code",
   "execution_count": 139,
   "id": "6753a7b8",
   "metadata": {
    "scrolled": true
   },
   "outputs": [
    {
     "data": {
      "text/plain": [
       "{0: 0, 1: 1, 2: 4, 3: 9, 4: 16, 5: 25, 6: 36, 7: 49, 8: 64, 9: 81}"
      ]
     },
     "execution_count": 139,
     "metadata": {},
     "output_type": "execute_result"
    }
   ],
   "source": [
    "d={}\n",
    "for i in range(10):\n",
    "    d[i] =i**2\n",
    "    \n",
    "d"
   ]
  },
  {
   "cell_type": "code",
   "execution_count": 141,
   "id": "1b09c944",
   "metadata": {
    "scrolled": true
   },
   "outputs": [
    {
     "data": {
      "text/plain": [
       "<generator object <genexpr> at 0x000002D0218144A0>"
      ]
     },
     "execution_count": 141,
     "metadata": {},
     "output_type": "execute_result"
    }
   ],
   "source": [
    "(i for i in range(10))"
   ]
  },
  {
   "cell_type": "code",
   "execution_count": 142,
   "id": "06a22b87",
   "metadata": {
    "scrolled": true
   },
   "outputs": [
    {
     "data": {
      "text/plain": [
       "(0, 1, 2, 3, 4, 5, 6, 7, 8, 9)"
      ]
     },
     "execution_count": 142,
     "metadata": {},
     "output_type": "execute_result"
    }
   ],
   "source": [
    "tuple((i for i in range(10)))"
   ]
  },
  {
   "cell_type": "markdown",
   "id": "b95a7b12",
   "metadata": {},
   "source": [
    "### generator object"
   ]
  },
  {
   "cell_type": "code",
   "execution_count": 144,
   "id": "e3746941",
   "metadata": {
    "scrolled": true
   },
   "outputs": [
    {
     "ename": "TypeError",
     "evalue": "'int' object is not iterable",
     "output_type": "error",
     "traceback": [
      "\u001b[1;31m---------------------------------------------------------------------------\u001b[0m",
      "\u001b[1;31mTypeError\u001b[0m                                 Traceback (most recent call last)",
      "\u001b[1;32m<ipython-input-144-18c07b8245c8>\u001b[0m in \u001b[0;36m<module>\u001b[1;34m\u001b[0m\n\u001b[0;32m      1\u001b[0m \u001b[0ma\u001b[0m\u001b[1;33m=\u001b[0m\u001b[1;36m56\u001b[0m\u001b[1;33m\u001b[0m\u001b[1;33m\u001b[0m\u001b[0m\n\u001b[1;32m----> 2\u001b[1;33m \u001b[1;32mfor\u001b[0m \u001b[0mi\u001b[0m \u001b[1;32min\u001b[0m \u001b[0ma\u001b[0m\u001b[1;33m:\u001b[0m\u001b[1;33m\u001b[0m\u001b[1;33m\u001b[0m\u001b[0m\n\u001b[0m\u001b[0;32m      3\u001b[0m     \u001b[0mprint\u001b[0m\u001b[1;33m(\u001b[0m\u001b[0mi\u001b[0m\u001b[1;33m)\u001b[0m\u001b[1;33m\u001b[0m\u001b[1;33m\u001b[0m\u001b[0m\n",
      "\u001b[1;31mTypeError\u001b[0m: 'int' object is not iterable"
     ]
    }
   ],
   "source": [
    "a=56\n",
    "for i in a:\n",
    "    print(i)"
   ]
  },
  {
   "cell_type": "code",
   "execution_count": 145,
   "id": "9d6bf4d5",
   "metadata": {
    "scrolled": false
   },
   "outputs": [
    {
     "name": "stdout",
     "output_type": "stream",
     "text": [
      "k\n",
      "m\n",
      "r\n"
     ]
    }
   ],
   "source": [
    "n = \"kmr\"\n",
    "for i in n:\n",
    "    print(i)"
   ]
  },
  {
   "cell_type": "code",
   "execution_count": 147,
   "id": "4955b3e2",
   "metadata": {},
   "outputs": [
    {
     "ename": "TypeError",
     "evalue": "'str' object is not an iterator",
     "output_type": "error",
     "traceback": [
      "\u001b[1;31m---------------------------------------------------------------------------\u001b[0m",
      "\u001b[1;31mTypeError\u001b[0m                                 Traceback (most recent call last)",
      "\u001b[1;32m<ipython-input-147-0fa053c92e6d>\u001b[0m in \u001b[0;36m<module>\u001b[1;34m\u001b[0m\n\u001b[1;32m----> 1\u001b[1;33m \u001b[0mnext\u001b[0m\u001b[1;33m(\u001b[0m\u001b[0mn\u001b[0m\u001b[1;33m)\u001b[0m\u001b[1;33m\u001b[0m\u001b[1;33m\u001b[0m\u001b[0m\n\u001b[0m",
      "\u001b[1;31mTypeError\u001b[0m: 'str' object is not an iterator"
     ]
    }
   ],
   "source": [
    "    next(n)"
   ]
  },
  {
   "cell_type": "markdown",
   "id": "38adc869",
   "metadata": {},
   "source": [
    "### iterator and iterable"
   ]
  },
  {
   "cell_type": "markdown",
   "id": "dc474897",
   "metadata": {},
   "source": [
    "### string is iterable but not iterator"
   ]
  },
  {
   "cell_type": "code",
   "execution_count": 149,
   "id": "cc83920c",
   "metadata": {
    "scrolled": true
   },
   "outputs": [
    {
     "ename": "TypeError",
     "evalue": "'list' object is not an iterator",
     "output_type": "error",
     "traceback": [
      "\u001b[1;31m---------------------------------------------------------------------------\u001b[0m",
      "\u001b[1;31mTypeError\u001b[0m                                 Traceback (most recent call last)",
      "\u001b[1;32m<ipython-input-149-7c5a9525e097>\u001b[0m in \u001b[0;36m<module>\u001b[1;34m\u001b[0m\n\u001b[0;32m      1\u001b[0m \u001b[1;31m# if object is holding value with help of index and able to access with index one by one then it is iterable.\u001b[0m\u001b[1;33m\u001b[0m\u001b[1;33m\u001b[0m\u001b[1;33m\u001b[0m\u001b[0m\n\u001b[0;32m      2\u001b[0m \u001b[0mli\u001b[0m \u001b[1;33m=\u001b[0m\u001b[1;33m[\u001b[0m\u001b[1;36m12\u001b[0m\u001b[1;33m,\u001b[0m\u001b[1;36m445\u001b[0m\u001b[1;33m,\u001b[0m\u001b[1;36m6\u001b[0m\u001b[1;33m]\u001b[0m\u001b[1;33m\u001b[0m\u001b[1;33m\u001b[0m\u001b[0m\n\u001b[1;32m----> 3\u001b[1;33m \u001b[0mnext\u001b[0m\u001b[1;33m(\u001b[0m\u001b[0mli\u001b[0m\u001b[1;33m)\u001b[0m\u001b[1;33m\u001b[0m\u001b[1;33m\u001b[0m\u001b[0m\n\u001b[0m",
      "\u001b[1;31mTypeError\u001b[0m: 'list' object is not an iterator"
     ]
    }
   ],
   "source": [
    "# if object is holding value with help of index and able to access with index one by one then it is iterable. means sequential access posssible\n",
    "li =[12,445,6]\n",
    "next(li)"
   ]
  },
  {
   "cell_type": "markdown",
   "id": "8cbf8d85",
   "metadata": {},
   "source": [
    "### convert interable to interator with iter()"
   ]
  },
  {
   "cell_type": "code",
   "execution_count": 151,
   "id": "1f0c6abe",
   "metadata": {},
   "outputs": [
    {
     "data": {
      "text/plain": [
       "<str_iterator at 0x2d020f190a0>"
      ]
     },
     "execution_count": 151,
     "metadata": {},
     "output_type": "execute_result"
    }
   ],
   "source": [
    "s =\"kmr\"\n",
    "b = iter(s)\n",
    "b"
   ]
  },
  {
   "cell_type": "code",
   "execution_count": 154,
   "id": "e35e3850",
   "metadata": {
    "scrolled": true
   },
   "outputs": [
    {
     "data": {
      "text/plain": [
       "'k'"
      ]
     },
     "execution_count": 154,
     "metadata": {},
     "output_type": "execute_result"
    }
   ],
   "source": [
    "next(b)"
   ]
  },
  {
   "cell_type": "code",
   "execution_count": 155,
   "id": "2a187646",
   "metadata": {},
   "outputs": [
    {
     "data": {
      "text/plain": [
       "'m'"
      ]
     },
     "execution_count": 155,
     "metadata": {},
     "output_type": "execute_result"
    }
   ],
   "source": [
    "next(b)"
   ]
  },
  {
   "cell_type": "code",
   "execution_count": 156,
   "id": "5deb6759",
   "metadata": {
    "scrolled": true
   },
   "outputs": [
    {
     "data": {
      "text/plain": [
       "'r'"
      ]
     },
     "execution_count": 156,
     "metadata": {},
     "output_type": "execute_result"
    }
   ],
   "source": [
    "next(b)"
   ]
  },
  {
   "cell_type": "markdown",
   "id": "9380eb97",
   "metadata": {},
   "source": [
    "### for loop actualy converts input to iterator form first."
   ]
  },
  {
   "cell_type": "code",
   "execution_count": 158,
   "id": "dec94b90",
   "metadata": {},
   "outputs": [
    {
     "name": "stdout",
     "output_type": "stream",
     "text": [
      "k\n",
      "m\n",
      "r\n"
     ]
    }
   ],
   "source": [
    "s= 'kmr'\n",
    "for i in s:\n",
    "    print(i)"
   ]
  },
  {
   "cell_type": "code",
   "execution_count": 159,
   "id": "f0a142f3",
   "metadata": {},
   "outputs": [
    {
     "data": {
      "text/plain": [
       "'k'"
      ]
     },
     "execution_count": 159,
     "metadata": {},
     "output_type": "execute_result"
    }
   ],
   "source": [
    "s =\"kmr\"\n",
    "s =iter(s)\n",
    "next(s)"
   ]
  },
  {
   "cell_type": "code",
   "execution_count": 160,
   "id": "fa6b7a33",
   "metadata": {
    "scrolled": true
   },
   "outputs": [
    {
     "data": {
      "text/plain": [
       "'m'"
      ]
     },
     "execution_count": 160,
     "metadata": {},
     "output_type": "execute_result"
    }
   ],
   "source": [
    "next(s)"
   ]
  },
  {
   "cell_type": "code",
   "execution_count": 161,
   "id": "c5651580",
   "metadata": {
    "scrolled": false
   },
   "outputs": [
    {
     "data": {
      "text/plain": [
       "'r'"
      ]
     },
     "execution_count": 161,
     "metadata": {},
     "output_type": "execute_result"
    }
   ],
   "source": [
    "next(s)"
   ]
  },
  {
   "cell_type": "code",
   "execution_count": 162,
   "id": "afa17a21",
   "metadata": {
    "scrolled": true
   },
   "outputs": [
    {
     "ename": "StopIteration",
     "evalue": "",
     "output_type": "error",
     "traceback": [
      "\u001b[1;31m---------------------------------------------------------------------------\u001b[0m",
      "\u001b[1;31mStopIteration\u001b[0m                             Traceback (most recent call last)",
      "\u001b[1;32m<ipython-input-162-61c30b5fe1d5>\u001b[0m in \u001b[0;36m<module>\u001b[1;34m\u001b[0m\n\u001b[1;32m----> 1\u001b[1;33m \u001b[0mnext\u001b[0m\u001b[1;33m(\u001b[0m\u001b[0ms\u001b[0m\u001b[1;33m)\u001b[0m\u001b[1;33m\u001b[0m\u001b[1;33m\u001b[0m\u001b[0m\n\u001b[0m",
      "\u001b[1;31mStopIteration\u001b[0m: "
     ]
    }
   ],
   "source": [
    "next(s)"
   ]
  },
  {
   "cell_type": "code",
   "execution_count": 163,
   "id": "52ae3865",
   "metadata": {
    "scrolled": true
   },
   "outputs": [
    {
     "ename": "TypeError",
     "evalue": "'list' object is not an iterator",
     "output_type": "error",
     "traceback": [
      "\u001b[1;31m---------------------------------------------------------------------------\u001b[0m",
      "\u001b[1;31mTypeError\u001b[0m                                 Traceback (most recent call last)",
      "\u001b[1;32m<ipython-input-163-0c88a091fb47>\u001b[0m in \u001b[0;36m<module>\u001b[1;34m\u001b[0m\n\u001b[0;32m      1\u001b[0m \u001b[0ml\u001b[0m \u001b[1;33m=\u001b[0m\u001b[1;33m[\u001b[0m\u001b[1;36m6\u001b[0m\u001b[1;33m,\u001b[0m\u001b[1;36m7\u001b[0m\u001b[1;33m,\u001b[0m\u001b[1;36m8\u001b[0m\u001b[1;33m]\u001b[0m\u001b[1;33m\u001b[0m\u001b[1;33m\u001b[0m\u001b[0m\n\u001b[1;32m----> 2\u001b[1;33m \u001b[0mnext\u001b[0m\u001b[1;33m(\u001b[0m\u001b[0ml\u001b[0m\u001b[1;33m)\u001b[0m\u001b[1;33m\u001b[0m\u001b[1;33m\u001b[0m\u001b[0m\n\u001b[0m",
      "\u001b[1;31mTypeError\u001b[0m: 'list' object is not an iterator"
     ]
    }
   ],
   "source": [
    "l =[6,7,8]\n",
    "next(l)"
   ]
  },
  {
   "cell_type": "code",
   "execution_count": 164,
   "id": "eccc8422",
   "metadata": {
    "scrolled": true
   },
   "outputs": [
    {
     "ename": "TypeError",
     "evalue": "'int' object is not iterable",
     "output_type": "error",
     "traceback": [
      "\u001b[1;31m---------------------------------------------------------------------------\u001b[0m",
      "\u001b[1;31mTypeError\u001b[0m                                 Traceback (most recent call last)",
      "\u001b[1;32m<ipython-input-164-4b5b43fc7064>\u001b[0m in \u001b[0;36m<module>\u001b[1;34m\u001b[0m\n\u001b[0;32m      1\u001b[0m \u001b[1;31m# convert iterable to iterator\u001b[0m\u001b[1;33m\u001b[0m\u001b[1;33m\u001b[0m\u001b[1;33m\u001b[0m\u001b[0m\n\u001b[1;32m----> 2\u001b[1;33m \u001b[0miter\u001b[0m\u001b[1;33m(\u001b[0m\u001b[1;36m45\u001b[0m\u001b[1;33m)\u001b[0m\u001b[1;33m\u001b[0m\u001b[1;33m\u001b[0m\u001b[0m\n\u001b[0m",
      "\u001b[1;31mTypeError\u001b[0m: 'int' object is not iterable"
     ]
    }
   ],
   "source": [
    "# convert iterable to iterator\n",
    "iter(45)  not possible because 45 is not iterable so caanot convert as iterarator"
   ]
  },
  {
   "cell_type": "code",
   "execution_count": 167,
   "id": "93421d0b",
   "metadata": {
    "scrolled": true
   },
   "outputs": [
    {
     "data": {
      "text/plain": [
       "6"
      ]
     },
     "execution_count": 167,
     "metadata": {},
     "output_type": "execute_result"
    }
   ],
   "source": [
    "l =[6,7]\n",
    "l= iter(l)\n",
    "next(l)"
   ]
  },
  {
   "cell_type": "code",
   "execution_count": 168,
   "id": "4ab2a11d",
   "metadata": {},
   "outputs": [
    {
     "data": {
      "text/plain": [
       "7"
      ]
     },
     "execution_count": 168,
     "metadata": {},
     "output_type": "execute_result"
    }
   ],
   "source": [
    "next(l)"
   ]
  },
  {
   "cell_type": "code",
   "execution_count": 169,
   "id": "d8f67b94",
   "metadata": {},
   "outputs": [
    {
     "ename": "StopIteration",
     "evalue": "",
     "output_type": "error",
     "traceback": [
      "\u001b[1;31m---------------------------------------------------------------------------\u001b[0m",
      "\u001b[1;31mStopIteration\u001b[0m                             Traceback (most recent call last)",
      "\u001b[1;32m<ipython-input-169-cdc8a39da60d>\u001b[0m in \u001b[0;36m<module>\u001b[1;34m\u001b[0m\n\u001b[1;32m----> 1\u001b[1;33m \u001b[0mnext\u001b[0m\u001b[1;33m(\u001b[0m\u001b[0ml\u001b[0m\u001b[1;33m)\u001b[0m\u001b[1;33m\u001b[0m\u001b[1;33m\u001b[0m\u001b[0m\n\u001b[0m",
      "\u001b[1;31mStopIteration\u001b[0m: "
     ]
    }
   ],
   "source": [
    "next(l)"
   ]
  },
  {
   "cell_type": "markdown",
   "id": "70dabf49",
   "metadata": {},
   "source": [
    "## iteration means automatically pointer goes to next next positions by own."
   ]
  },
  {
   "cell_type": "markdown",
   "id": "9c3673c6",
   "metadata": {},
   "source": [
    "### string slicing operation"
   ]
  },
  {
   "cell_type": "code",
   "execution_count": 170,
   "id": "f58f71e7",
   "metadata": {
    "scrolled": true
   },
   "outputs": [
    {
     "data": {
      "text/plain": [
       "'o'"
      ]
     },
     "execution_count": 170,
     "metadata": {},
     "output_type": "execute_result"
    }
   ],
   "source": [
    "n =\"kmr rao\"\n",
    "n[-1]"
   ]
  },
  {
   "cell_type": "code",
   "execution_count": 171,
   "id": "7b166383",
   "metadata": {},
   "outputs": [
    {
     "data": {
      "text/plain": [
       "'kmr'"
      ]
     },
     "execution_count": 171,
     "metadata": {},
     "output_type": "execute_result"
    }
   ],
   "source": [
    "n[0:3]"
   ]
  },
  {
   "cell_type": "code",
   "execution_count": 172,
   "id": "3992b074",
   "metadata": {
    "scrolled": true
   },
   "outputs": [
    {
     "data": {
      "text/plain": [
       "'kmr rao'"
      ]
     },
     "execution_count": 172,
     "metadata": {},
     "output_type": "execute_result"
    }
   ],
   "source": [
    "n[0:100]"
   ]
  },
  {
   "cell_type": "code",
   "execution_count": 173,
   "id": "9a9c0fc3",
   "metadata": {},
   "outputs": [
    {
     "ename": "IndexError",
     "evalue": "string index out of range",
     "output_type": "error",
     "traceback": [
      "\u001b[1;31m---------------------------------------------------------------------------\u001b[0m",
      "\u001b[1;31mIndexError\u001b[0m                                Traceback (most recent call last)",
      "\u001b[1;32m<ipython-input-173-e3eb2e250ae6>\u001b[0m in \u001b[0;36m<module>\u001b[1;34m\u001b[0m\n\u001b[1;32m----> 1\u001b[1;33m \u001b[0mn\u001b[0m\u001b[1;33m[\u001b[0m\u001b[1;36m100\u001b[0m\u001b[1;33m]\u001b[0m\u001b[1;33m\u001b[0m\u001b[1;33m\u001b[0m\u001b[0m\n\u001b[0m",
      "\u001b[1;31mIndexError\u001b[0m: string index out of range"
     ]
    }
   ],
   "source": [
    "n[100]"
   ]
  },
  {
   "cell_type": "code",
   "execution_count": 174,
   "id": "74c152aa",
   "metadata": {
    "scrolled": true
   },
   "outputs": [
    {
     "data": {
      "text/plain": [
       "'r'"
      ]
     },
     "execution_count": 174,
     "metadata": {},
     "output_type": "execute_result"
    }
   ],
   "source": [
    "    n[4]"
   ]
  },
  {
   "cell_type": "code",
   "execution_count": 175,
   "id": "e320da15",
   "metadata": {
    "scrolled": true
   },
   "outputs": [
    {
     "data": {
      "text/plain": [
       "'krr'"
      ]
     },
     "execution_count": 175,
     "metadata": {},
     "output_type": "execute_result"
    }
   ],
   "source": [
    "n[0:5:2]"
   ]
  },
  {
   "cell_type": "code",
   "execution_count": 176,
   "id": "82ca99ec",
   "metadata": {},
   "outputs": [
    {
     "data": {
      "text/plain": [
       "''"
      ]
     },
     "execution_count": 176,
     "metadata": {},
     "output_type": "execute_result"
    }
   ],
   "source": [
    "n[-1 :-4]"
   ]
  },
  {
   "cell_type": "code",
   "execution_count": 179,
   "id": "e64aac44",
   "metadata": {
    "scrolled": true
   },
   "outputs": [
    {
     "data": {
      "text/plain": [
       "'kmr rao'"
      ]
     },
     "execution_count": 179,
     "metadata": {},
     "output_type": "execute_result"
    }
   ],
   "source": [
    "n[::]"
   ]
  },
  {
   "cell_type": "code",
   "execution_count": 180,
   "id": "f29c3094",
   "metadata": {},
   "outputs": [
    {
     "data": {
      "text/plain": [
       "'a'"
      ]
     },
     "execution_count": 180,
     "metadata": {},
     "output_type": "execute_result"
    }
   ],
   "source": [
    "n[-2]"
   ]
  },
  {
   "cell_type": "code",
   "execution_count": 181,
   "id": "0f71745b",
   "metadata": {
    "scrolled": true
   },
   "outputs": [
    {
     "data": {
      "text/plain": [
       "'a'"
      ]
     },
     "execution_count": 181,
     "metadata": {},
     "output_type": "execute_result"
    }
   ],
   "source": [
    "n[-2:-1]"
   ]
  },
  {
   "cell_type": "code",
   "execution_count": 182,
   "id": "5ec78d37",
   "metadata": {
    "scrolled": true
   },
   "outputs": [
    {
     "data": {
      "text/plain": [
       "'oar rmk'"
      ]
     },
     "execution_count": 182,
     "metadata": {},
     "output_type": "execute_result"
    }
   ],
   "source": [
    "n[::-1]"
   ]
  },
  {
   "cell_type": "code",
   "execution_count": 184,
   "id": "08f8cee5",
   "metadata": {},
   "outputs": [
    {
     "data": {
      "text/plain": [
       "'oar rmk'"
      ]
     },
     "execution_count": 184,
     "metadata": {},
     "output_type": "execute_result"
    }
   ],
   "source": [
    "n[-1::-1]"
   ]
  },
  {
   "cell_type": "code",
   "execution_count": 185,
   "id": "9ca8fdb0",
   "metadata": {},
   "outputs": [
    {
     "data": {
      "text/plain": [
       "'kmr rao'"
      ]
     },
     "execution_count": 185,
     "metadata": {},
     "output_type": "execute_result"
    }
   ],
   "source": [
    "n[::]"
   ]
  },
  {
   "cell_type": "code",
   "execution_count": 188,
   "id": "e6b7a28e",
   "metadata": {},
   "outputs": [],
   "source": [
    "m =\"i am with neuron\""
   ]
  },
  {
   "cell_type": "code",
   "execution_count": 189,
   "id": "5a3c1802",
   "metadata": {},
   "outputs": [
    {
     "data": {
      "text/plain": [
       "''"
      ]
     },
     "execution_count": 189,
     "metadata": {},
     "output_type": "execute_result"
    }
   ],
   "source": [
    "m[-5:5]"
   ]
  },
  {
   "cell_type": "code",
   "execution_count": 190,
   "id": "57831637",
   "metadata": {
    "scrolled": true
   },
   "outputs": [
    {
     "data": {
      "text/plain": [
       "'en hti'"
      ]
     },
     "execution_count": 190,
     "metadata": {},
     "output_type": "execute_result"
    }
   ],
   "source": [
    "m[-5:5:-1]"
   ]
  },
  {
   "cell_type": "code",
   "execution_count": 191,
   "id": "ee800567",
   "metadata": {
    "scrolled": true
   },
   "outputs": [
    {
     "data": {
      "text/plain": [
       "''"
      ]
     },
     "execution_count": 191,
     "metadata": {},
     "output_type": "execute_result"
    }
   ],
   "source": [
    "m[-5:-7]"
   ]
  },
  {
   "cell_type": "code",
   "execution_count": 192,
   "id": "854e1b07",
   "metadata": {},
   "outputs": [
    {
     "data": {
      "text/plain": [
       "'en'"
      ]
     },
     "execution_count": 192,
     "metadata": {},
     "output_type": "execute_result"
    }
   ],
   "source": [
    "m[-5:-7:-1]"
   ]
  },
  {
   "cell_type": "code",
   "execution_count": 193,
   "id": "686f6af3",
   "metadata": {},
   "outputs": [
    {
     "data": {
      "text/plain": [
       "'kmrkmrkmr'"
      ]
     },
     "execution_count": 193,
     "metadata": {},
     "output_type": "execute_result"
    }
   ],
   "source": [
    "\"kmr\"*3"
   ]
  },
  {
   "cell_type": "code",
   "execution_count": 194,
   "id": "40c72003",
   "metadata": {},
   "outputs": [
    {
     "data": {
      "text/plain": [
       "'kmrrao'"
      ]
     },
     "execution_count": 194,
     "metadata": {},
     "output_type": "execute_result"
    }
   ],
   "source": [
    "\"kmr\"+\"rao\""
   ]
  },
  {
   "cell_type": "code",
   "execution_count": 195,
   "id": "3225d461",
   "metadata": {
    "scrolled": true
   },
   "outputs": [
    {
     "ename": "TypeError",
     "evalue": "can't multiply sequence by non-int of type 'str'",
     "output_type": "error",
     "traceback": [
      "\u001b[1;31m---------------------------------------------------------------------------\u001b[0m",
      "\u001b[1;31mTypeError\u001b[0m                                 Traceback (most recent call last)",
      "\u001b[1;32m<ipython-input-195-79b25820cf92>\u001b[0m in \u001b[0;36m<module>\u001b[1;34m\u001b[0m\n\u001b[1;32m----> 1\u001b[1;33m \u001b[1;34m\"kmr\"\u001b[0m\u001b[1;33m*\u001b[0m\u001b[1;34m\"kmr\"\u001b[0m\u001b[1;33m\u001b[0m\u001b[1;33m\u001b[0m\u001b[0m\n\u001b[0m",
      "\u001b[1;31mTypeError\u001b[0m: can't multiply sequence by non-int of type 'str'"
     ]
    }
   ],
   "source": [
    "\"kmr\"*\"kmr\""
   ]
  },
  {
   "cell_type": "markdown",
   "id": "33333268",
   "metadata": {},
   "source": [
    "### find()"
   ]
  },
  {
   "cell_type": "code",
   "execution_count": 197,
   "id": "8f922ebb",
   "metadata": {
    "scrolled": true
   },
   "outputs": [
    {
     "data": {
      "text/plain": [
       "2"
      ]
     },
     "execution_count": 197,
     "metadata": {},
     "output_type": "execute_result"
    }
   ],
   "source": [
    "a = \"I am full stack student\"\n",
    "a.find('a')"
   ]
  },
  {
   "cell_type": "code",
   "execution_count": 198,
   "id": "dd08e2d3",
   "metadata": {},
   "outputs": [
    {
     "data": {
      "text/plain": [
       "-1"
      ]
     },
     "execution_count": 198,
     "metadata": {},
     "output_type": "execute_result"
    }
   ],
   "source": [
    "a.find('S')"
   ]
  },
  {
   "cell_type": "code",
   "execution_count": 199,
   "id": "d6186be9",
   "metadata": {},
   "outputs": [
    {
     "data": {
      "text/plain": [
       "10"
      ]
     },
     "execution_count": 199,
     "metadata": {},
     "output_type": "execute_result"
    }
   ],
   "source": [
    "a.find('s')"
   ]
  },
  {
   "cell_type": "code",
   "execution_count": 201,
   "id": "e76a1806",
   "metadata": {
    "scrolled": true
   },
   "outputs": [
    {
     "data": {
      "text/plain": [
       "5"
      ]
     },
     "execution_count": 201,
     "metadata": {},
     "output_type": "execute_result"
    }
   ],
   "source": [
    "a.find('fu')"
   ]
  },
  {
   "cell_type": "markdown",
   "id": "5957be75",
   "metadata": {},
   "source": [
    "### count()"
   ]
  },
  {
   "cell_type": "code",
   "execution_count": 202,
   "id": "37816c32",
   "metadata": {
    "scrolled": true
   },
   "outputs": [
    {
     "data": {
      "text/plain": [
       "0"
      ]
     },
     "execution_count": 202,
     "metadata": {},
     "output_type": "execute_result"
    }
   ],
   "source": [
    "a.count(\"i\")"
   ]
  },
  {
   "cell_type": "code",
   "execution_count": 204,
   "id": "64e9b930",
   "metadata": {
    "scrolled": true
   },
   "outputs": [
    {
     "data": {
      "text/plain": [
       "2"
      ]
     },
     "execution_count": 204,
     "metadata": {},
     "output_type": "execute_result"
    }
   ],
   "source": [
    "a.count('s')"
   ]
  },
  {
   "cell_type": "markdown",
   "id": "f65089ef",
   "metadata": {},
   "source": [
    "### split()"
   ]
  },
  {
   "cell_type": "code",
   "execution_count": 205,
   "id": "46d8dba9",
   "metadata": {},
   "outputs": [
    {
     "data": {
      "text/plain": [
       "['I', 'am', 'full', 'stack', 'student']"
      ]
     },
     "execution_count": 205,
     "metadata": {},
     "output_type": "execute_result"
    }
   ],
   "source": [
    "a.split()"
   ]
  },
  {
   "cell_type": "code",
   "execution_count": 207,
   "id": "b7e5be7a",
   "metadata": {
    "scrolled": true
   },
   "outputs": [
    {
     "data": {
      "text/plain": [
       "['I am ', 'ull stack student']"
      ]
     },
     "execution_count": 207,
     "metadata": {},
     "output_type": "execute_result"
    }
   ],
   "source": [
    "a.split('f')"
   ]
  },
  {
   "cell_type": "code",
   "execution_count": 208,
   "id": "411a5a85",
   "metadata": {
    "scrolled": true
   },
   "outputs": [
    {
     "ename": "TypeError",
     "evalue": "'str' object cannot be interpreted as an integer",
     "output_type": "error",
     "traceback": [
      "\u001b[1;31m---------------------------------------------------------------------------\u001b[0m",
      "\u001b[1;31mTypeError\u001b[0m                                 Traceback (most recent call last)",
      "\u001b[1;32m<ipython-input-208-afb3f0fe3abf>\u001b[0m in \u001b[0;36m<module>\u001b[1;34m\u001b[0m\n\u001b[1;32m----> 1\u001b[1;33m \u001b[0ma\u001b[0m\u001b[1;33m.\u001b[0m\u001b[0msplit\u001b[0m\u001b[1;33m(\u001b[0m\u001b[1;34m'f'\u001b[0m\u001b[1;33m,\u001b[0m\u001b[1;34m's'\u001b[0m\u001b[1;33m)\u001b[0m\u001b[1;33m\u001b[0m\u001b[1;33m\u001b[0m\u001b[0m\n\u001b[0m",
      "\u001b[1;31mTypeError\u001b[0m: 'str' object cannot be interpreted as an integer"
     ]
    }
   ],
   "source": [
    "a.split('f','s')"
   ]
  },
  {
   "cell_type": "code",
   "execution_count": 209,
   "id": "3a4439b8",
   "metadata": {},
   "outputs": [
    {
     "data": {
      "text/plain": [
       "'I AM FULL STACK STUDENT'"
      ]
     },
     "execution_count": 209,
     "metadata": {},
     "output_type": "execute_result"
    }
   ],
   "source": [
    "a.upper()"
   ]
  },
  {
   "cell_type": "code",
   "execution_count": 210,
   "id": "d1d0cfe1",
   "metadata": {},
   "outputs": [
    {
     "data": {
      "text/plain": [
       "'i am full stack student'"
      ]
     },
     "execution_count": 210,
     "metadata": {},
     "output_type": "execute_result"
    }
   ],
   "source": [
    "a.lower()"
   ]
  },
  {
   "cell_type": "code",
   "execution_count": 211,
   "id": "fbaf119c",
   "metadata": {
    "scrolled": true
   },
   "outputs": [
    {
     "data": {
      "text/plain": [
       "'kMR'"
      ]
     },
     "execution_count": 211,
     "metadata": {},
     "output_type": "execute_result"
    }
   ],
   "source": [
    "b =\"Kmr\"\n",
    "b.swapcase()"
   ]
  },
  {
   "cell_type": "code",
   "execution_count": 212,
   "id": "7a7ea27a",
   "metadata": {},
   "outputs": [
    {
     "data": {
      "text/plain": [
       "'Bhagath'"
      ]
     },
     "execution_count": 212,
     "metadata": {},
     "output_type": "execute_result"
    }
   ],
   "source": [
    "c =\"bHagaTh\"\n",
    "c.title()"
   ]
  },
  {
   "cell_type": "code",
   "execution_count": 213,
   "id": "0292ef2f",
   "metadata": {
    "scrolled": true
   },
   "outputs": [
    {
     "data": {
      "text/plain": [
       "'Bhagath'"
      ]
     },
     "execution_count": 213,
     "metadata": {},
     "output_type": "execute_result"
    }
   ],
   "source": [
    "c.capitalize()"
   ]
  },
  {
   "cell_type": "markdown",
   "id": "60a00fc7",
   "metadata": {},
   "source": [
    "### join()"
   ]
  },
  {
   "cell_type": "code",
   "execution_count": 214,
   "id": "b49676c1",
   "metadata": {},
   "outputs": [
    {
     "data": {
      "text/plain": [
       "'k m r'"
      ]
     },
     "execution_count": 214,
     "metadata": {},
     "output_type": "execute_result"
    }
   ],
   "source": [
    "\" \".join(\"kmr\")"
   ]
  },
  {
   "cell_type": "code",
   "execution_count": 215,
   "id": "9fd73d8c",
   "metadata": {},
   "outputs": [
    {
     "data": {
      "text/plain": [
       "'kraomraor'"
      ]
     },
     "execution_count": 215,
     "metadata": {},
     "output_type": "execute_result"
    }
   ],
   "source": [
    "\"rao\".join(\"kmr\")\n"
   ]
  },
  {
   "cell_type": "code",
   "execution_count": 218,
   "id": "69d781f3",
   "metadata": {},
   "outputs": [
    {
     "data": {
      "text/plain": [
       "<reversed at 0x2d0213569d0>"
      ]
     },
     "execution_count": 218,
     "metadata": {},
     "output_type": "execute_result"
    }
   ],
   "source": [
    "reversed(\"kmr\")"
   ]
  },
  {
   "cell_type": "code",
   "execution_count": 219,
   "id": "b8f1d9b1",
   "metadata": {
    "scrolled": true
   },
   "outputs": [
    {
     "name": "stdout",
     "output_type": "stream",
     "text": [
      "r\n",
      "m\n",
      "k\n"
     ]
    }
   ],
   "source": [
    "for i in reversed(\"kmr\"):\n",
    "    print(i)"
   ]
  },
  {
   "cell_type": "code",
   "execution_count": 220,
   "id": "2234b490",
   "metadata": {
    "scrolled": true
   },
   "outputs": [
    {
     "data": {
      "text/plain": [
       "'   kmr'"
      ]
     },
     "execution_count": 220,
     "metadata": {},
     "output_type": "execute_result"
    }
   ],
   "source": [
    "\"   kmr   \".rstrip()\n"
   ]
  },
  {
   "cell_type": "code",
   "execution_count": 221,
   "id": "4ab27a93",
   "metadata": {},
   "outputs": [
    {
     "data": {
      "text/plain": [
       "'kmr   '"
      ]
     },
     "execution_count": 221,
     "metadata": {},
     "output_type": "execute_result"
    }
   ],
   "source": [
    "\"   kmr   \".lstrip()"
   ]
  },
  {
   "cell_type": "code",
   "execution_count": 222,
   "id": "a9a9513a",
   "metadata": {},
   "outputs": [
    {
     "data": {
      "text/plain": [
       "'kmr'"
      ]
     },
     "execution_count": 222,
     "metadata": {},
     "output_type": "execute_result"
    }
   ],
   "source": [
    "\"   kmr   \".strip()"
   ]
  },
  {
   "cell_type": "code",
   "execution_count": 223,
   "id": "efbc7f87",
   "metadata": {},
   "outputs": [
    {
     "data": {
      "text/plain": [
       "'xmr xrao'"
      ]
     },
     "execution_count": 223,
     "metadata": {},
     "output_type": "execute_result"
    }
   ],
   "source": [
    "s=\"kmr krao\"\n",
    "s.replace(\"k\", \"x\")"
   ]
  }
 ],
 "metadata": {
  "kernelspec": {
   "display_name": "Python 3",
   "language": "python",
   "name": "python3"
  },
  "language_info": {
   "codemirror_mode": {
    "name": "ipython",
    "version": 3
   },
   "file_extension": ".py",
   "mimetype": "text/x-python",
   "name": "python",
   "nbconvert_exporter": "python",
   "pygments_lexer": "ipython3",
   "version": "3.8.10"
  }
 },
 "nbformat": 4,
 "nbformat_minor": 5
}
